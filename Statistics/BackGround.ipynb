{
 "cells": [
  {
   "cell_type": "code",
   "execution_count": 172,
   "metadata": {},
   "outputs": [],
   "source": [
    "import alpaca_trade_api as alpaca\n",
    "from datetime import datetime\n",
    "from local_settings import alpaca_paper\n",
    "import matplotlib.pyplot as plt\n",
    "from datetime import datetime, timedelta\n",
    "import json\n",
    "import numpy as np\n",
    "import plotly.graph_objects as go\n",
    "from plotly.subplots import make_subplots\n",
    "import os\n",
    "from mpl_toolkits.axes_grid1.axes_divider import make_axes_locatable\n",
    "\n",
    "\n",
    "ALPACA_API_KEY = alpaca_paper['api_key']\n",
    "ALPACA_SECRET_KEY = alpaca_paper['api_secret']\n",
    "END_POINT = alpaca_paper['url']\n",
    "ALPACA_PAPER = True\n",
    "\n",
    "api = alpaca.REST(ALPACA_API_KEY, ALPACA_SECRET_KEY, END_POINT)"
   ]
  },
  {
   "cell_type": "code",
   "execution_count": 173,
   "metadata": {},
   "outputs": [],
   "source": [
    "import matplotlib.pylab as pylab\n",
    "params = {'legend.fontsize': 'x-large',\n",
    "          'figure.figsize': (15, 5),\n",
    "         'axes.labelsize': 'x-large',\n",
    "         'axes.titlesize':'x-large',\n",
    "         'xtick.labelsize':'x-large',\n",
    "         'ytick.labelsize':'x-large'}\n",
    "pylab.rcParams.update(params)"
   ]
  },
  {
   "cell_type": "code",
   "execution_count": 174,
   "metadata": {},
   "outputs": [],
   "source": [
    "def get_data(stock_symbol, data_source):\n",
    "    if data_source == 'local':\n",
    "        folder = '1000day_US/'\n",
    "        if os.path.exists(folder+stock_symbol+'.json'):\n",
    "            with open(folder+stock_symbol+'.json', encoding ='utf8') as json_file:\n",
    "                stock_barset=json.load(json_file)\n",
    "                stock_barset=stock_barset[stock_symbol]\n",
    "        else:\n",
    "            raise Exception(\"File does not exist\")\n",
    "    elif data_source == 'online':\n",
    "        barset = api.get_barset(stock_symbol, 'day', limit = 1000)\n",
    "        stock_barset = barset._raw[stock_symbol]\n",
    "    else:\n",
    "        raise Exception(\"data source unknown\")\n",
    "    return stock_barset"
   ]
  },
  {
   "cell_type": "code",
   "execution_count": 175,
   "metadata": {
    "scrolled": true
   },
   "outputs": [],
   "source": [
    "def get_volatility(stock_symbol, data_source, time_list):\n",
    "    stock_barset = get_data(stock_symbol,data_source)\n",
    "    \n",
    "    # some parameters for the test\n",
    "    gaps = time_list\n",
    "    price_choice = 'c'\n",
    "    \n",
    "    # construct time sequence\n",
    "    log_prices = [np.log(stock_barset[j][price_choice]) for j in range(len(stock_barset))]\n",
    "    \n",
    "    # initialization of the variance\n",
    "    variance = [0] * len(gaps)\n",
    "    for i, gap in enumerate(gaps):\n",
    "        variance[i] = np.mean((np.array(log_prices[:-gap]) - np.array(log_prices[gap-1:-1]))**2)\n",
    "    plt.plot(gaps, variance)\n",
    "    return variance\n"
   ]
  },
  {
   "cell_type": "code",
   "execution_count": 176,
   "metadata": {},
   "outputs": [],
   "source": [
    "def expectedROI(stock_symbol, data_source, time_limit, variance, direction, stop_loss_option):\n",
    "    stock_barset = get_data(stock_symbol, data_source)\n",
    "    \n",
    "    if direction == 'short':\n",
    "        for i in range(len(stock_barset)):\n",
    "            stock_barset[i]['o'] = 1 / stock_barset[i]['o']\n",
    "            stock_barset[i]['c'] = 1 / stock_barset[i]['c']\n",
    "            tmp = stock_barset[i]['l']\n",
    "            stock_barset[i]['l'] = 1 / stock_barset[i]['h']\n",
    "            stock_barset[i]['h'] = 1 / tmp \n",
    "    \n",
    "    stop_loss_pool = np.linspace(0.1, 5, 50)\n",
    "    \n",
    "    if stop_loss_option == 1:\n",
    "        ROI = [[0]*50 for i in range(100)]\n",
    "        take_profit_pool = np.linspace(0.05, 5, 100)\n",
    "    \n",
    "    # if trailing stop loss was used, turn off take_profit\n",
    "    if stop_loss_option == 2:\n",
    "        ROI = [0]*50\n",
    "        take_profit_pool = [1]\n",
    "    \n",
    "    for i, tp in enumerate(take_profit_pool):\n",
    "        for j, sl in enumerate(stop_loss_pool):\n",
    "            take_profit = np.exp(tp * np.sqrt(variance))\n",
    "            stop_loss = np.exp(-sl * np.sqrt(variance))\n",
    "            \n",
    "            # initialize gain and days\n",
    "            gain = 1\n",
    "            days = 0\n",
    "            for k in range(len(stock_barset) - time_limit):\n",
    "                buy_price = stock_barset[k]['c']\n",
    "                highest_price = buy_price\n",
    "                for time_gap in range(time_limit + 1):\n",
    "                    if time_gap == time_limit:\n",
    "                        gain = gain * (stock_barset[k + time_limit]['c'] / buy_price)\n",
    "                        days = days + time_limit\n",
    "                        break\n",
    "                        highest_price = max(highest_price, stock_barset[k + time_gap + 1]['h'])\n",
    "                    if stop_loss_option == 1:\n",
    "                        # normal stop loss\n",
    "                        if stock_barset[k + time_gap + 1]['l'] < stop_loss * buy_price:\n",
    "                            gain = gain * stop_loss\n",
    "                            days = days + time_gap + 1\n",
    "                            break\n",
    "                        if stock_barset[k + time_gap + 1]['h'] > take_profit * buy_price:\n",
    "                            gain = gain * take_profit\n",
    "                            days = days + time_gap + 1\n",
    "                            break\n",
    "                    if stop_loss_option == 2:\n",
    "                        # trailing stop loss\n",
    "                        if stock_barset[k + time_gap + 1]['l'] < stop_loss * highest_price:\n",
    "                            gain = gain * highest_price / buy_price * stop_loss\n",
    "                            days = days + time_gap + 1\n",
    "                            break\n",
    "            if stop_loss_option == 1:\n",
    "                ROI[i][j] = gain**(1.0/days) - 1\n",
    "            if stop_loss_option == 2:\n",
    "                ROI[j] = gain**(1.0/days) - 1\n",
    "    \n",
    "    return ROI"
   ]
  },
  {
   "cell_type": "code",
   "execution_count": 188,
   "metadata": {},
   "outputs": [],
   "source": [
    "def packed_search(stock_symbol, data_source, time_list, direction):\n",
    "    variance = get_volatility(stock_symbol,data_source, time_list)\n",
    "    plt.plot(time_list, variance)\n",
    "    max_ROI = -100\n",
    "    min_ROI = 100\n",
    "    for i, gap in enumerate(time_list):\n",
    "        ROI1 = expectedROI(stock_symbol, data_source, gap, variance[i], direction, 1)\n",
    "        max_ROI = max(max_ROI, max(max(ROI1)))\n",
    "        min_ROI = min(min_ROI, min(min(ROI1)))\n",
    "        \n",
    "        X, Y = np.meshgrid(np.linspace(0.1,5,50), np.linspace(0.05,5,100))\n",
    "        plt.figure(figsize = (10,10))\n",
    "        im = plt.pcolormesh(X,Y,ROI1,cmap='RdYlBu_r')\n",
    "        plt.clim(vmin = -0.002, vmax = 0.002)\n",
    "        ax = plt.gca()\n",
    "        ax.set_aspect(1)\n",
    "        ax.set_xticks([0,1,2,3,4,5])\n",
    "        ax.set_xticklabels([r'0',r'1',r'2',r'3',r'4',r'5'])\n",
    "        ax.set_yticks([0,1,2,3,4,5])\n",
    "        ax.set_yticklabels([r'0',r'1',r'2',r'3',r'4',r'5'])\n",
    "        plt.xlabel(r'$l/\\sigma$')\n",
    "        plt.ylabel(r'$p/\\sigma$')\n",
    "        plt.title(f'(Max, Min) = ({max(max(ROI1)):.5f}, {min(min(ROI1)):.5f})')\n",
    "        divider = make_axes_locatable(ax)\n",
    "        cax = divider.append_axes(\"right\", size=\"5%\", pad=0.1)\n",
    "        plt.colorbar(im, cax=cax)\n",
    "        plt.show\n",
    "        plt.savefig(stock_symbol + '_' + str(gap) + 'd_' + direction + '_1.jpg')\n",
    "        plt.close()\n",
    "        \n",
    "        ROI2 = expectedROI(stock_symbol, data_source, gap, variance[i], direction, 2)\n",
    "        max_ROI = max(max_ROI, max(ROI2))\n",
    "        min_ROI = min(min_ROI, min(ROI2))\n",
    "        plt.figure(figsize = (10,10))\n",
    "        plt.plot(np.linspace(0.1, 5, 50), ROI2)\n",
    "        ax = plt.gca()\n",
    "        #ax.set_aspect(1)\n",
    "        plt.xlabel(r'$l/\\sigma$')\n",
    "        plt.show\n",
    "        plt.savefig(stock_symbol + '_' + str(gap) + 'd_' + direction + '_2.jpg')\n",
    "        plt.close()\n",
    "    return max_ROI, min_ROI"
   ]
  },
  {
   "cell_type": "markdown",
   "metadata": {},
   "source": [
    "packed_search('SPY', 'local', [1,2,5,10,22], 'long')"
   ]
  },
  {
   "cell_type": "code",
   "execution_count": 192,
   "metadata": {},
   "outputs": [
    {
     "data": {
      "text/plain": [
       "(0.0018512706218309916, -0.0022127246221734787)"
      ]
     },
     "execution_count": 192,
     "metadata": {},
     "output_type": "execute_result"
    },
    {
     "data": {
      "image/png": "[encoded data removed]",
      "text/plain": [
       "<Figure size 1080x360 with 1 Axes>"
      ]
     },
     "metadata": {
      "needs_background": "light"
     },
     "output_type": "display_data"
    }
   ],
   "source": [
    "packed_search('SPY', 'local', [1,2,5,10,22], 'short')"
   ]
  },
  {
   "cell_type": "code",
   "execution_count": null,
   "metadata": {},
   "outputs": [],
   "source": []
  }
 ],
 "metadata": {
  "kernelspec": {
   "display_name": "Python 3",
   "language": "python",
   "name": "python3"
  },
  "language_info": {
   "codemirror_mode": {
    "name": "ipython",
    "version": 3
   },
   "file_extension": ".py",
   "mimetype": "text/x-python",
   "name": "python",
   "nbconvert_exporter": "python",
   "pygments_lexer": "ipython3",
   "version": "3.7.5"
  }
 },
 "nbformat": 4,
 "nbformat_minor": 2
}
