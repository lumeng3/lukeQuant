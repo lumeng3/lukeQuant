{
 "cells": [
  {
   "cell_type": "code",
   "execution_count": 2,
   "metadata": {},
   "outputs": [],
   "source": [
    "import alpaca_trade_api as alpaca\n",
    "from datetime import datetime\n",
    "from local_settings import alpaca_paper\n",
    "import matplotlib.pyplot as plt\n",
    "from datetime import datetime, timedelta\n",
    "import json\n",
    "\n",
    "ALPACA_API_KEY = alpaca_paper['api_key']\n",
    "ALPACA_SECRET_KEY = alpaca_paper['api_secret']\n",
    "END_POINT = alpaca_paper['url']\n",
    "ALPACA_PAPER = True\n",
    "\n",
    "api = alpaca.REST(ALPACA_API_KEY, ALPACA_SECRET_KEY, END_POINT)\n",
    "\n",
    "active_assets = api.list_assets(status='active')\n",
    "\n"
   ]
  },
  {
   "cell_type": "code",
   "execution_count": 8,
   "metadata": {},
   "outputs": [
    {
     "name": "stdout",
     "output_type": "stream",
     "text": [
      "Reading \"AAC\"\n",
      "Reading \"AAQC.U\"\n",
      "Reading \"AAU\"\n",
      "Reading \"TLSA\"\n",
      "Reading \"ABC\"\n",
      "Reading \"ABCB\"\n",
      "Reading \"ABCL\"\n",
      "Reading \"ABIO\"\n",
      "Reading \"ABM\"\n",
      "Reading \"ABMD\"\n",
      "Reading \"ABUS\"\n",
      "Reading \"ACA\"\n",
      "Reading \"ACAD\"\n",
      "Reading \"ACAHU\"\n",
      "Reading \"ACBI\"\n",
      "Reading \"ACCD\"\n",
      "Reading \"ACGL\"\n",
      "Reading \"ACI\"\n",
      "Reading \"ACIC.U\"\n",
      "Reading \"ACII.U\"\n",
      "Reading \"ACIW\"\n",
      "Reading \"ACKIU\"\n",
      "Reading \"ACMR\"\n",
      "Reading \"ACNB\"\n",
      "Reading \"ACST\"\n",
      "Reading \"ACTCU\"\n",
      "Reading \"ACV\"\n",
      "Reading \"ACVA\"\n",
      "Reading \"ACVF\"\n",
      "Reading \"ACWF\"\n",
      "Reading \"ACWI\"\n",
      "Reading \"ACY\"\n",
      "Reading \"ADAP\"\n",
      "Reading \"ADERU\"\n",
      "Reading \"ADEX\"\n",
      "Reading \"ADFI\"\n",
      "Reading \"ADMA\"\n",
      "Reading \"ADNT\"\n",
      "Reading \"ADOCR\"\n",
      "Reading \"ADP\"\n",
      "Reading \"ADPT\"\n",
      "Reading \"ADRE\"\n",
      "Reading \"ADSK\"\n",
      "Reading \"ADTN\"\n",
      "Reading \"ADUS\"\n",
      "Reading \"ADVM\"\n",
      "Reading \"ADXN\"\n",
      "Reading \"ADXS\"\n",
      "Reading \"AE\"\n",
      "Reading \"AEAC\"\n",
      "Reading \"AEACU\"\n",
      "Reading \"AEB\"\n",
      "Reading \"AEE\"\n",
      "Reading \"AEF\"\n",
      "Reading \"AEHL\"\n",
      "Reading \"AEIS\"\n",
      "Reading \"AEL\"\n",
      "Reading \"AEMD\"\n",
      "Reading \"AEO\"\n",
      "Reading \"AEPPZ\"\n",
      "Reading \"AER\"\n",
      "Reading \"AES\"\n",
      "Reading \"AESC\"\n",
      "Reading \"AESE\"\n",
      "Reading \"AESR\"\n",
      "Reading \"AEVA\"\n",
      "Reading \"AFAQU\"\n",
      "Reading \"AFB\"\n",
      "Reading \"AFBI\"\n",
      "Reading \"AFCG\"\n",
      "Reading \"AFG\"\n",
      "Reading \"AFGB\"\n",
      "Reading \"AFGC\"\n",
      "Reading \"AFGD\"\n",
      "Reading \"AFIF\"\n",
      "Reading \"AFIN\"\n",
      "Reading \"AFINO\"\n",
      "Reading \"AFINP\"\n",
      "Reading \"AFK\"\n",
      "Reading \"AFLG\"\n",
      "Reading \"AFMC\"\n",
      "Reading \"AFRM\"\n",
      "Reading \"AFSM\"\n",
      "Reading \"AFTY\"\n",
      "Reading \"AFYA\"\n",
      "Reading \"AGAC\"\n",
      "Reading \"AGAC.U\"\n",
      "Reading \"AGBA\"\n",
      "Reading \"AGBAR\"\n",
      "Reading \"AGC\"\n",
      "Reading \"AGCB\"\n",
      "Reading \"AGCO\"\n",
      "Reading \"AGCUU\"\n",
      "Reading \"AGD\"\n",
      "Reading \"AGFS\"\n",
      "Reading \"AGFY\"\n",
      "Reading \"AGG\"\n",
      "Reading \"AGGRU\"\n",
      "Reading \"AGI\"\n",
      "Reading \"AGIO\"\n",
      "Reading \"AGL\"\n",
      "Reading \"AGLE\"\n",
      "Reading \"AGM\"\n",
      "Reading \"AGMH\"\n",
      "Reading \"AGNCM\"\n",
      "Reading \"AGNCO\"\n",
      "Reading \"AGNCP\"\n",
      "Reading \"AGNG\"\n",
      "Reading \"AGQ\"\n",
      "Reading \"AGR\"\n",
      "Reading \"AGRX\"\n",
      "Reading \"AGS\"\n",
      "Reading \"AGT\"\n",
      "Reading \"AGZ\"\n",
      "Reading \"AHAC\"\n",
      "Reading \"AHACU\"\n",
      "Reading \"AHC\"\n",
      "Reading \"AHCO\"\n",
      "Reading \"AHPI\"\n",
      "Reading \"AHT\"\n",
      "Reading \"AIC\"\n",
      "Reading \"AIF\"\n",
      "Reading \"AIH\"\n",
      "Reading \"AIHS\"\n",
      "Reading \"AIIQ\"\n",
      "Reading \"AIKI\"\n",
      "Reading \"AIM\"\n",
      "Reading \"AIMC\"\n",
      "Reading \"AIN\"\n",
      "Reading \"AINC\"\n",
      "Reading \"BRC\"\n",
      "Reading \"AIO\"\n",
      "Reading \"AIQ\"\n",
      "Reading \"AIRC\"\n",
      "Reading \"AIRG\"\n",
      "Reading \"AIRI\"\n",
      "Reading \"AIRTP\"\n",
      "Reading \"AIT\"\n",
      "Reading \"AIV\"\n",
      "Reading \"AIW\"\n",
      "Reading \"AIZ\"\n",
      "Reading \"AJAX.U\"\n",
      "Reading \"AJRD\"\n",
      "Reading \"AJXA\"\n",
      "Reading \"AKBA\"\n",
      "Reading \"AKIC\"\n",
      "Reading \"AKICU\"\n",
      "Reading \"AKO.A\"\n",
      "Reading \"AKR\"\n",
      "Reading \"AKTS\"\n",
      "Reading \"AKU\"\n",
      "Reading \"AKUS\"\n",
      "Reading \"AKYA\"\n",
      "Reading \"AL\"\n",
      "Reading \"ALAC\"\n",
      "Reading \"ALACR\"\n",
      "Reading \"ALACU\"\n",
      "Reading \"ALB\"\n",
      "Reading \"ALBO\"\n",
      "Reading \"ALC\"\n",
      "Reading \"ALCO\"\n",
      "Reading \"ALDX\"\n",
      "Reading \"ALEC\"\n",
      "Reading \"ALEX\"\n",
      "Reading \"ALF\"\n",
      "Reading \"ALFA\"\n",
      "Reading \"ALG\"\n",
      "Reading \"ALGM\"\n",
      "Reading \"ALGN\"\n",
      "Reading \"ALGT\"\n",
      "Reading \"ALIM\"\n",
      "Reading \"ALJJ\"\n",
      "Reading \"ALK\"\n",
      "Reading \"ALKT\"\n",
      "Reading \"ALLE\"\n",
      "Reading \"ALLK\"\n",
      "Reading \"ALLO\"\n",
      "Reading \"ALLY\"\n",
      "Reading \"ALNA\"\n",
      "Reading \"ALOT\"\n",
      "Reading \"ALPN\"\n",
      "Reading \"ALRM\"\n",
      "Reading \"ALRS\"\n",
      "Reading \"ALSN\"\n",
      "Reading \"ALT\"\n",
      "Reading \"ALTL\"\n",
      "Reading \"ALTO\"\n",
      "Reading \"ALTS\"\n",
      "Reading \"ALTU\"\n",
      "Reading \"ALTUU\"\n",
      "Reading \"ALTY\"\n",
      "Reading \"ALUS\"\n",
      "Reading \"ALVR\"\n",
      "Reading \"ALX\"\n",
      "Reading \"ALXN\"\n",
      "Reading \"ALXO\"\n",
      "Reading \"ALYA\"\n",
      "Reading \"AM\"\n",
      "Reading \"AMAL\"\n",
      "Reading \"AMAOU\"\n",
      "Reading \"AMAT\"\n",
      "Reading \"AMBA\"\n",
      "Reading \"AMBO\"\n",
      "Reading \"AMC\"\n",
      "Reading \"AMCA\"\n",
      "Reading \"AMCR\"\n",
      "Reading \"AMCX\"\n",
      "Reading \"AME\"\n",
      "Reading \"AMED\"\n",
      "Reading \"AMEH\"\n",
      "Reading \"AMER\"\n",
      "Reading \"AMG\"\n",
      "Reading \"AMH\"\n",
      "Reading \"AMHC\"\n",
      "Reading \"AMJ\"\n",
      "Reading \"AMK\"\n",
      "Reading \"AMLP\"\n",
      "Reading \"AMN\"\n",
      "Reading \"AMNB\"\n",
      "Reading \"AMND\"\n",
      "Reading \"AMOT\"\n",
      "Reading \"AMOV\"\n",
      "Reading \"AMPE\"\n",
      "Reading \"AMPG\"\n",
      "Reading \"AMPI\"\n",
      "Reading \"AMR\"\n",
      "Reading \"AMRC\"\n",
      "Reading \"AMRK\"\n",
      "Reading \"AMRX\"\n",
      "Reading \"AMSC\"\n",
      "Reading \"AMSF\"\n",
      "Reading \"AMST\"\n",
      "Reading \"AMT\"\n",
      "Reading \"AMTBB\"\n",
      "Reading \"AMTI\"\n",
      "Reading \"AMTX\"\n",
      "Reading \"AMUB\"\n",
      "Reading \"AMWD\"\n",
      "Reading \"AMWL\"\n",
      "Reading \"AMX\"\n",
      "Reading \"AMYT\"\n",
      "Reading \"AMZN\"\n",
      "Reading \"ANAB\"\n",
      "Reading \"ANAC\"\n",
      "Reading \"ANAC.U\"\n",
      "Reading \"ANAT\"\n",
      "Reading \"ANDA\"\n",
      "Reading \"ANDAU\"\n",
      "Reading \"ANDE\"\n",
      "Reading \"ANEW\"\n",
      "Reading \"ANGL\"\n",
      "Reading \"ANGO\"\n",
      "Reading \"ANIK\"\n",
      "Reading \"ANIP\"\n",
      "Reading \"ANNX\"\n",
      "Reading \"ANPC\"\n",
      "Reading \"ANSS\"\n",
      "Reading \"ANTM\"\n",
      "Reading \"ANVS\"\n",
      "Reading \"ANZU\"\n",
      "Reading \"AOS\"\n",
      "Reading \"AOSL\"\n",
      "Reading \"AP\"\n",
      "Reading \"APAM\"\n",
      "Reading \"APDN\"\n",
      "Reading \"APEI\"\n",
      "Reading \"APEN\"\n",
      "Reading \"APG\"\n",
      "Reading \"APGB\"\n",
      "Reading \"APGB.U\"\n",
      "Reading \"APH\"\n",
      "Reading \"API\"\n",
      "Reading \"APLE\"\n",
      "Reading \"APLS\"\n",
      "Reading \"APLT\"\n",
      "Reading \"APO\"\n",
      "Reading \"APOP\"\n",
      "Reading \"APPH\"\n",
      "Reading \"APPN\"\n"
     ]
    },
    {
     "name": "stderr",
     "output_type": "stream",
     "text": [
      "sleep 3 seconds and retrying https://data.alpaca.markets/v1/bars/day 3 more time(s)...\n"
     ]
    },
    {
     "name": "stdout",
     "output_type": "stream",
     "text": [
      "Reading \"APPS\"\n",
      "Reading \"APR\"\n",
      "Reading \"APRE\"\n",
      "Reading \"APRZ\"\n",
      "Reading \"APSG.U\"\n",
      "Reading \"APTO\"\n",
      "Reading \"APTS\"\n",
      "Reading \"APTV\"\n",
      "Reading \"APTX\"\n",
      "Reading \"APVO\"\n",
      "Reading \"APWC\"\n",
      "Reading \"APXT\"\n",
      "Reading \"APXTU\"\n",
      "Reading \"APYX\"\n",
      "Reading \"AQB\"\n",
      "Reading \"AQN\"\n",
      "Reading \"AQNA\"\n"
     ]
    },
    {
     "name": "stderr",
     "output_type": "stream",
     "text": [
      "sleep 3 seconds and retrying https://data.alpaca.markets/v1/bars/day 3 more time(s)...\n"
     ]
    },
    {
     "name": "stdout",
     "output_type": "stream",
     "text": [
      "Reading \"AQNB\"\n",
      "Reading \"AQST\"\n",
      "Reading \"AQUA\"\n",
      "Reading \"AQWA\"\n",
      "Reading \"AR\"\n",
      "Reading \"ARAV\"\n",
      "Reading \"ARB\"\n",
      "Reading \"ARBG\"\n",
      "Reading \"ARBGU\"\n",
      "Reading \"ARCC\"\n",
      "Reading \"ARCH\"\n"
     ]
    },
    {
     "name": "stderr",
     "output_type": "stream",
     "text": [
      "sleep 3 seconds and retrying https://data.alpaca.markets/v1/bars/day 3 more time(s)...\n"
     ]
    },
    {
     "name": "stdout",
     "output_type": "stream",
     "text": [
      "Reading \"ARCM\"\n",
      "Reading \"ARCO\"\n",
      "Reading \"ARCT\"\n",
      "Reading \"ARD\"\n",
      "Reading \"ARDC\"\n",
      "Reading \"ARDS\"\n",
      "Reading \"ARDX\"\n",
      "Reading \"AREC\"\n",
      "Reading \"ARES\"\n",
      "Reading \"ARGT\"\n",
      "Reading \"ARGX\"\n",
      "Reading \"ARI\"\n",
      "Reading \"ARKF\"\n"
     ]
    },
    {
     "name": "stderr",
     "output_type": "stream",
     "text": [
      "sleep 3 seconds and retrying https://data.alpaca.markets/v1/bars/day 3 more time(s)...\n"
     ]
    },
    {
     "name": "stdout",
     "output_type": "stream",
     "text": [
      "Reading \"ARKG\"\n",
      "Reading \"ARKO\"\n",
      "Reading \"ARKR\"\n",
      "Reading \"ARKX\"\n",
      "Reading \"ARL\"\n",
      "Reading \"ARLO\"\n",
      "Reading \"ARLP\"\n",
      "Reading \"ARMP\"\n",
      "Reading \"ARNA\"\n",
      "Reading \"AROC\"\n",
      "Reading \"ARR\"\n",
      "Reading \"ARRY\"\n",
      "Reading \"ARTL\"\n",
      "Reading \"ARTNA\"\n"
     ]
    },
    {
     "name": "stderr",
     "output_type": "stream",
     "text": [
      "sleep 3 seconds and retrying https://data.alpaca.markets/v1/bars/day 3 more time(s)...\n"
     ]
    },
    {
     "name": "stdout",
     "output_type": "stream",
     "text": [
      "Reading \"ARTW\"\n",
      "Reading \"ARVL\"\n",
      "Reading \"ARVN\"\n",
      "Reading \"ARW\"\n",
      "Reading \"ARWR\"\n",
      "Reading \"ASA\"\n",
      "Reading \"ASAN\"\n",
      "Reading \"ASAQ.U\"\n",
      "Reading \"ASAXU\"\n",
      "Reading \"ASB\"\n",
      "Reading \"ASC\"\n",
      "Reading \"ASEA\"\n",
      "Reading \"ASG\"\n"
     ]
    },
    {
     "name": "stderr",
     "output_type": "stream",
     "text": [
      "sleep 3 seconds and retrying https://data.alpaca.markets/v1/bars/day 3 more time(s)...\n"
     ]
    },
    {
     "name": "stdout",
     "output_type": "stream",
     "text": [
      "Reading \"ASGN\"\n",
      "Reading \"ASH\"\n",
      "Reading \"ASHR\"\n",
      "Reading \"ASHS\"\n",
      "Reading \"ASHX\"\n",
      "Reading \"ASIX\"\n",
      "Reading \"ASLN\"\n",
      "Reading \"ASM\"\n",
      "Reading \"ASML\"\n",
      "Reading \"ASND\"\n",
      "Reading \"ASPL.U\"\n",
      "Reading \"ASPN\"\n",
      "Reading \"ASPS\"\n",
      "Reading \"ASPU\"\n"
     ]
    },
    {
     "name": "stderr",
     "output_type": "stream",
     "text": [
      "sleep 3 seconds and retrying https://data.alpaca.markets/v1/bars/day 3 more time(s)...\n"
     ]
    },
    {
     "name": "stdout",
     "output_type": "stream",
     "text": [
      "Reading \"ASPY\"\n",
      "Reading \"ASR\"\n",
      "Reading \"ASRT\"\n",
      "Reading \"ASRV\"\n",
      "Reading \"ASRVP\"\n",
      "Reading \"ASTC\"\n",
      "Reading \"ASTE\"\n",
      "Reading \"ASTS\"\n",
      "Reading \"ASUR\"\n",
      "Reading \"ASXC\"\n",
      "Reading \"ASYS\"\n",
      "Reading \"ASZ\"\n",
      "Reading \"AT\"\n"
     ]
    },
    {
     "name": "stderr",
     "output_type": "stream",
     "text": [
      "sleep 3 seconds and retrying https://data.alpaca.markets/v1/bars/day 3 more time(s)...\n"
     ]
    },
    {
     "name": "stdout",
     "output_type": "stream",
     "text": [
      "Reading \"ATA.U\"\n",
      "Reading \"ATAC\"\n",
      "Reading \"ATAC.U\"\n",
      "Reading \"ATAQ\"\n",
      "Reading \"ATAQ.U\"\n",
      "Reading \"ATAX\"\n",
      "Reading \"ATCO\"\n",
      "Reading \"ATCX\"\n",
      "Reading \"ATEC\"\n",
      "Reading \"ATEN\"\n",
      "Reading \"ATER\"\n",
      "Reading \"ATEX\"\n"
     ]
    },
    {
     "name": "stderr",
     "output_type": "stream",
     "text": [
      "sleep 3 seconds and retrying https://data.alpaca.markets/v1/bars/day 3 more time(s)...\n"
     ]
    },
    {
     "name": "stdout",
     "output_type": "stream",
     "text": [
      "Reading \"ATGE\"\n",
      "Reading \"ATH\"\n",
      "Reading \"ATHE\"\n",
      "Reading \"ARMK\"\n",
      "Reading \"ATIF\"\n",
      "Reading \"ATLC\"\n",
      "Reading \"ATMR\"\n",
      "Reading \"ATO\"\n",
      "Reading \"ATOM\"\n",
      "Reading \"ATOS\"\n",
      "Reading \"ATRC\"\n"
     ]
    },
    {
     "name": "stderr",
     "output_type": "stream",
     "text": [
      "sleep 3 seconds and retrying https://data.alpaca.markets/v1/bars/day 3 more time(s)...\n"
     ]
    },
    {
     "name": "stdout",
     "output_type": "stream",
     "text": [
      "Reading \"ATRS\"\n",
      "Reading \"ATSPT\"\n",
      "Reading \"ATSPU\"\n",
      "Reading \"ATVCU\"\n",
      "Reading \"AU\"\n",
      "Reading \"AUBAP\"\n",
      "Reading \"AUD\"\n",
      "Reading \"AUS\"\n",
      "Reading \"AUTL\"\n",
      "Reading \"AUUD\"\n",
      "Reading \"AUVI\"\n",
      "Reading \"AVAL\"\n",
      "Reading \"AVAV\"\n"
     ]
    },
    {
     "name": "stderr",
     "output_type": "stream",
     "text": [
      "sleep 3 seconds and retrying https://data.alpaca.markets/v1/bars/day 3 more time(s)...\n"
     ]
    },
    {
     "name": "stdout",
     "output_type": "stream",
     "text": [
      "Reading \"AVD\"\n",
      "Reading \"AVDL\"\n",
      "Reading \"AVEM\"\n",
      "Reading \"AVEO\"\n",
      "Reading \"AVID\"\n",
      "Reading \"AVIR\"\n",
      "Reading \"AVMU\"\n",
      "Reading \"AVNT\"\n",
      "Reading \"AVSF\"\n",
      "Reading \"AVT\"\n",
      "Reading \"AVY\"\n",
      "Reading \"AWX\"\n",
      "Reading \"AXAS\"\n",
      "Reading \"AXP\"\n",
      "Reading \"AXS\"\n"
     ]
    },
    {
     "name": "stderr",
     "output_type": "stream",
     "text": [
      "sleep 3 seconds and retrying https://data.alpaca.markets/v1/bars/day 3 more time(s)...\n"
     ]
    },
    {
     "name": "stdout",
     "output_type": "stream",
     "text": [
      "Reading \"AXTI\"\n",
      "Reading \"AY\"\n",
      "Reading \"AZAJ\"\n",
      "Reading \"AZBJ\"\n",
      "Reading \"AZBO\"\n",
      "Reading \"AZO\"\n",
      "Reading \"AZRE\"\n",
      "Reading \"BA\"\n",
      "Reading \"BABA\"\n",
      "Reading \"BAH\"\n",
      "Reading \"BAL\"\n",
      "Reading \"BAM\"\n",
      "Reading \"BAMI\"\n",
      "Reading \"BANFP\"\n",
      "Reading \"BANX\"\n"
     ]
    },
    {
     "name": "stderr",
     "output_type": "stream",
     "text": [
      "sleep 3 seconds and retrying https://data.alpaca.markets/v1/bars/day 3 more time(s)...\n"
     ]
    },
    {
     "name": "stdout",
     "output_type": "stream",
     "text": [
      "Reading \"BAOS\"\n",
      "Reading \"BAR\"\n",
      "Reading \"BATRA\"\n",
      "Reading \"BATRK\"\n",
      "Reading \"BATT\"\n",
      "Reading \"BAX\"\n",
      "Reading \"BBAX\"\n",
      "Reading \"BBC\"\n",
      "Reading \"BBCA\"\n",
      "Reading \"BBD\"\n",
      "Reading \"BBDC\"\n",
      "Reading \"BBDO\"\n",
      "Reading \"BBEU\"\n",
      "Reading \"BBGI\"\n",
      "Reading \"BBH\"\n",
      "Reading \"BBIO\"\n",
      "Reading \"BBL\"\n",
      "Reading \"BBN\"\n"
     ]
    },
    {
     "name": "stderr",
     "output_type": "stream",
     "text": [
      "sleep 3 seconds and retrying https://data.alpaca.markets/v1/bars/day 3 more time(s)...\n"
     ]
    },
    {
     "name": "stdout",
     "output_type": "stream",
     "text": [
      "Reading \"BBSC\"\n",
      "Reading \"BBSI\"\n",
      "Reading \"BBVA\"\n",
      "Reading \"BC\"\n",
      "Reading \"BCACU\"\n",
      "Reading \"BCAT\"\n",
      "Reading \"BCD\"\n",
      "Reading \"BCEL\"\n",
      "Reading \"BCH\"\n",
      "Reading \"BCM\"\n",
      "Reading \"BCML\"\n",
      "Reading \"BCOR\"\n",
      "Reading \"BCPC\"\n",
      "Reading \"BCS\"\n",
      "Reading \"BCSF\"\n",
      "Reading \"BCTX\"\n",
      "Reading \"BCV\"\n"
     ]
    },
    {
     "name": "stderr",
     "output_type": "stream",
     "text": [
      "sleep 3 seconds and retrying https://data.alpaca.markets/v1/bars/day 3 more time(s)...\n"
     ]
    },
    {
     "name": "stdout",
     "output_type": "stream",
     "text": [
      "Reading \"BCYP\"\n",
      "Reading \"BCYPU\"\n",
      "Reading \"BDC\"\n",
      "Reading \"BDCZ\"\n",
      "Reading \"BDJ\"\n",
      "Reading \"BDL\"\n",
      "Reading \"BDN\"\n",
      "Reading \"BDRY\"\n",
      "Reading \"BDSI\"\n",
      "Reading \"BDTX\"\n",
      "Reading \"BDX\"\n",
      "Reading \"BDXB\"\n",
      "Reading \"BEAM\"\n",
      "Reading \"BECN\"\n",
      "Reading \"BEEM\"\n",
      "Reading \"BEKE\"\n",
      "Reading \"BELFA\"\n",
      "Reading \"BEN\"\n",
      "Reading \"BENE\"\n",
      "Reading \"BENEU\"\n",
      "Reading \"BEP\"\n"
     ]
    },
    {
     "name": "stderr",
     "output_type": "stream",
     "text": [
      "sleep 3 seconds and retrying https://data.alpaca.markets/v1/bars/day 3 more time(s)...\n"
     ]
    },
    {
     "name": "stdout",
     "output_type": "stream",
     "text": [
      "Reading \"BEPC\"\n",
      "Reading \"BERY\"\n",
      "Reading \"BEST\"\n",
      "Reading \"BF.A\"\n",
      "Reading \"BFAM\"\n",
      "Reading \"BFEB\"\n",
      "Reading \"BFI\"\n",
      "Reading \"BFIT\"\n",
      "Reading \"BFK\"\n",
      "Reading \"BFLY\"\n",
      "Reading \"BFS\"\n",
      "Reading \"BFST\"\n",
      "Reading \"BFZ\"\n",
      "Reading \"BG\"\n",
      "Reading \"BGB\"\n",
      "Reading \"BGFV\"\n",
      "Reading \"BGH\"\n",
      "Reading \"BGIO\"\n"
     ]
    },
    {
     "name": "stderr",
     "output_type": "stream",
     "text": [
      "sleep 3 seconds and retrying https://data.alpaca.markets/v1/bars/day 3 more time(s)...\n"
     ]
    },
    {
     "name": "stdout",
     "output_type": "stream",
     "text": [
      "Reading \"BGLD\"\n",
      "Reading \"BGNE\"\n",
      "Reading \"BGRN\"\n",
      "Reading \"BGS\"\n",
      "Reading \"BGSX.U\"\n",
      "Reading \"BGT\"\n",
      "Reading \"BGX\"\n",
      "Reading \"BH\"\n",
      "Reading \"BH.A\"\n",
      "Reading \"BHAT\"\n",
      "Reading \"BHC\"\n",
      "Reading \"BHE\"\n",
      "Reading \"BHF\"\n",
      "Reading \"BHFAL\"\n",
      "Reading \"BHFAO\"\n",
      "Reading \"BHFAP\"\n",
      "Reading \"BHLB\"\n",
      "Reading \"BHP\"\n",
      "Reading \"BHR\"\n",
      "Reading \"BHSE\"\n",
      "Reading \"BHTG\"\n",
      "Reading \"BHV\"\n",
      "Reading \"BIB\"\n",
      "Reading \"BIBL\"\n",
      "Reading \"BICK\"\n",
      "Reading \"BIDU\"\n",
      "Reading \"BIF\"\n",
      "Reading \"BIIB\"\n",
      "Reading \"BIL\"\n",
      "Reading \"BILI\"\n",
      "Reading \"BILS\"\n",
      "Reading \"BIOC\"\n"
     ]
    },
    {
     "name": "stderr",
     "output_type": "stream",
     "text": [
      "sleep 3 seconds and retrying https://data.alpaca.markets/v1/bars/day 3 more time(s)...\n"
     ]
    },
    {
     "name": "stdout",
     "output_type": "stream",
     "text": [
      "Reading \"BIOL\"\n",
      "Reading \"BIOT\"\n",
      "Reading \"BIOTU\"\n",
      "Reading \"BIOX\"\n",
      "Reading \"BIP\"\n",
      "Reading \"BIPC\"\n",
      "Reading \"BIS\"\n",
      "Reading \"BIT\"\n",
      "Reading \"BITE\"\n",
      "Reading \"BITE.U\"\n",
      "Reading \"BIV\"\n",
      "Reading \"BIVI\"\n",
      "Reading \"BIZD\"\n",
      "Reading \"BJK\"\n"
     ]
    },
    {
     "name": "stderr",
     "output_type": "stream",
     "text": [
      "sleep 3 seconds and retrying https://data.alpaca.markets/v1/bars/day 3 more time(s)...\n"
     ]
    },
    {
     "name": "stdout",
     "output_type": "stream",
     "text": [
      "Reading \"BJRI\"\n",
      "Reading \"BJUL\"\n",
      "Reading \"BJUN\"\n",
      "Reading \"BK\"\n",
      "Reading \"BKAG\"\n",
      "Reading \"BKCC\"\n",
      "Reading \"BKD\"\n",
      "Reading \"BKE\"\n",
      "Reading \"BKEM\"\n",
      "Reading \"BKEP\"\n",
      "Reading \"BKEPP\"\n",
      "Reading \"BKF\"\n",
      "Reading \"BKH\"\n",
      "Reading \"BKI\"\n"
     ]
    },
    {
     "name": "stderr",
     "output_type": "stream",
     "text": [
      "sleep 3 seconds and retrying https://data.alpaca.markets/v1/bars/day 3 more time(s)...\n"
     ]
    },
    {
     "name": "stdout",
     "output_type": "stream",
     "text": [
      "Reading \"BKIE\"\n",
      "Reading \"BKLN\"\n",
      "Reading \"BKMC\"\n",
      "Reading \"BKN\"\n",
      "Reading \"BKNG\"\n",
      "Reading \"BKSC\"\n",
      "Reading \"BCE\"\n",
      "Reading \"BKSE\"\n",
      "Reading \"BKT\"\n",
      "Reading \"BKYI\"\n",
      "Reading \"BLCM\"\n",
      "Reading \"BLCN\"\n",
      "Reading \"BLCT\"\n",
      "Reading \"BLDG\"\n",
      "Reading \"BLE\"\n",
      "Reading \"BLES\"\n"
     ]
    },
    {
     "name": "stderr",
     "output_type": "stream",
     "text": [
      "sleep 3 seconds and retrying https://data.alpaca.markets/v1/bars/day 3 more time(s)...\n"
     ]
    },
    {
     "name": "stdout",
     "output_type": "stream",
     "text": [
      "Reading \"BLFS\"\n",
      "Reading \"BLI\"\n",
      "Reading \"BLK\"\n",
      "Reading \"BLL\"\n",
      "Reading \"BLMN\"\n",
      "Reading \"BLNK\"\n",
      "Reading \"BLPH\"\n",
      "Reading \"BLTSU\"\n",
      "Reading \"BLU\"\n",
      "Reading \"BLUE\"\n",
      "Reading \"BLV\"\n",
      "Reading \"BMAY\"\n"
     ]
    },
    {
     "name": "stderr",
     "output_type": "stream",
     "text": [
      "sleep 3 seconds and retrying https://data.alpaca.markets/v1/bars/day 3 more time(s)...\n"
     ]
    },
    {
     "name": "stdout",
     "output_type": "stream",
     "text": [
      "Reading \"BMEA\"\n",
      "Reading \"BMRA\"\n",
      "Reading \"BMTC\"\n",
      "Reading \"BNDC\"\n",
      "Reading \"BNED\"\n",
      "Reading \"BNFT\"\n",
      "Reading \"BNOV\"\n",
      "Reading \"BNR\"\n",
      "Reading \"BOAC\"\n",
      "Reading \"BOAC.U\"\n",
      "Reading \"BOCH\"\n",
      "Reading \"BOCT\"\n",
      "Reading \"BOE\"\n",
      "Reading \"BOH\"\n",
      "Reading \"BOIL\"\n",
      "Reading \"BOLT\"\n",
      "Reading \"BOMN\"\n",
      "Reading \"BOND\"\n",
      "Reading \"BORR\"\n",
      "Reading \"BOSC\"\n",
      "Reading \"BOSS\"\n",
      "Reading \"BOTJ\"\n",
      "Reading \"BOWX\"\n",
      "Reading \"BOWXU\"\n",
      "Reading \"BOX\"\n",
      "Reading \"BOXL\"\n",
      "Reading \"BPFH\"\n",
      "Reading \"BPOP\"\n",
      "Reading \"BPOPM\"\n",
      "Reading \"BPOPN\"\n",
      "Reading \"BPRN\"\n",
      "Reading \"BPT\"\n"
     ]
    },
    {
     "name": "stderr",
     "output_type": "stream",
     "text": [
      "sleep 3 seconds and retrying https://data.alpaca.markets/v1/bars/day 3 more time(s)...\n"
     ]
    },
    {
     "name": "stdout",
     "output_type": "stream",
     "text": [
      "Reading \"BPY\"\n",
      "Reading \"BPYPN\"\n",
      "Reading \"BPYPO\"\n",
      "Reading \"BPYU\"\n",
      "Reading \"BPYUP\"\n",
      "Reading \"BQ\"\n",
      "Reading \"BRBR\"\n",
      "Reading \"BRBS\"\n",
      "Reading \"BREZ\"\n",
      "Reading \"BREZR\"\n",
      "Reading \"BRF\"\n",
      "Reading \"BRG\"\n",
      "Reading \"BRID\"\n",
      "Reading \"BRK.A\"\n",
      "Reading \"BRK.B\"\n"
     ]
    },
    {
     "name": "stderr",
     "output_type": "stream",
     "text": [
      "sleep 3 seconds and retrying https://data.alpaca.markets/v1/bars/day 3 more time(s)...\n"
     ]
    },
    {
     "name": "stdout",
     "output_type": "stream",
     "text": [
      "Reading \"BRKL\"\n",
      "Reading \"BRKR\"\n",
      "Reading \"BRKS\"\n",
      "Reading \"BRLI\"\n",
      "Reading \"BRLIR\"\n",
      "Reading \"BRLIU\"\n",
      "Reading \"BRMK\"\n",
      "Reading \"BRN\"\n",
      "Reading \"BRO\"\n",
      "Reading \"BROG\"\n",
      "Reading \"BRP\"\n",
      "Reading \"BRPA\"\n"
     ]
    },
    {
     "name": "stderr",
     "output_type": "stream",
     "text": [
      "sleep 3 seconds and retrying https://data.alpaca.markets/v1/bars/day 3 more time(s)...\n"
     ]
    },
    {
     "name": "stdout",
     "output_type": "stream",
     "text": [
      "Reading \"BRPAR\"\n",
      "Reading \"BRPAU\"\n",
      "Reading \"BRPMU\"\n",
      "Reading \"BRQS\"\n",
      "Reading \"BRX\"\n",
      "Reading \"BRY\"\n",
      "Reading \"BRZU\"\n",
      "Reading \"BSA\"\n",
      "Reading \"BSAC\"\n",
      "Reading \"BSAE\"\n",
      "Reading \"BSBE\"\n",
      "Reading \"BSBK\"\n",
      "Reading \"BSBR\"\n",
      "Reading \"BSCE\"\n",
      "Reading \"BSCL\"\n",
      "Reading \"BSCM\"\n",
      "Reading \"BSCN\"\n",
      "Reading \"BSCO\"\n",
      "Reading \"BSCP\"\n",
      "Reading \"BSCQ\"\n",
      "Reading \"BSCR\"\n",
      "Reading \"BSCS\"\n",
      "Reading \"BSCT\"\n",
      "Reading \"BSCU\"\n",
      "Reading \"BSDE\"\n",
      "Reading \"BSEP\"\n",
      "Reading \"BSET\"\n",
      "Reading \"BSGM\"\n",
      "Reading \"BSIG\"\n",
      "Reading \"BSJL\"\n",
      "Reading \"BSJM\"\n",
      "Reading \"BSJN\"\n",
      "Reading \"BSJO\"\n",
      "Reading \"BSJP\"\n",
      "Reading \"BSJQ\"\n",
      "Reading \"BSJR\"\n"
     ]
    },
    {
     "name": "stderr",
     "output_type": "stream",
     "text": [
      "sleep 3 seconds and retrying https://data.alpaca.markets/v1/bars/day 3 more time(s)...\n"
     ]
    },
    {
     "name": "stdout",
     "output_type": "stream",
     "text": [
      "Reading \"BSJS\"\n",
      "Reading \"BSKYU\"\n",
      "Reading \"BSL\"\n",
      "Reading \"BSM\"\n",
      "Reading \"BSML\"\n",
      "Reading \"BSMM\"\n",
      "Reading \"BSMN\"\n",
      "Reading \"BSMO\"\n",
      "Reading \"BSMP\"\n",
      "Reading \"BSMQ\"\n",
      "Reading \"BSMR\"\n",
      "Reading \"BSMS\"\n"
     ]
    },
    {
     "name": "stderr",
     "output_type": "stream",
     "text": [
      "sleep 3 seconds and retrying https://data.alpaca.markets/v1/bars/day 3 more time(s)...\n"
     ]
    },
    {
     "name": "stdout",
     "output_type": "stream",
     "text": [
      "Reading \"BSMT\"\n",
      "Reading \"BSMU\"\n",
      "Reading \"BSMX\"\n",
      "Reading \"BSN.U\"\n",
      "Reading \"BSPE\"\n",
      "Reading \"BSQR\"\n",
      "Reading \"BSRR\"\n",
      "Reading \"BST\"\n",
      "Reading \"BSTZ\"\n",
      "Reading \"BSV\"\n",
      "Reading \"BSY\"\n",
      "Reading \"BTA\"\n",
      "Reading \"BTAI\"\n",
      "Reading \"BTAL\"\n"
     ]
    },
    {
     "name": "stderr",
     "output_type": "stream",
     "text": [
      "sleep 3 seconds and retrying https://data.alpaca.markets/v1/bars/day 3 more time(s)...\n"
     ]
    },
    {
     "name": "stdout",
     "output_type": "stream",
     "text": [
      "Reading \"BTAQ\"\n",
      "Reading \"BTAQU\"\n",
      "Reading \"BTBT\"\n",
      "Reading \"BTCM\"\n",
      "Reading \"BTEK\"\n",
      "Reading \"BTI\"\n",
      "Reading \"BTN\"\n",
      "Reading \"BTNB\"\n",
      "Reading \"BTO\"\n",
      "Reading \"PIFI\"\n",
      "Reading \"BTRS\"\n",
      "Reading \"BTT\"\n"
     ]
    },
    {
     "name": "stderr",
     "output_type": "stream",
     "text": [
      "sleep 3 seconds and retrying https://data.alpaca.markets/v1/bars/day 3 more time(s)...\n"
     ]
    },
    {
     "name": "stdout",
     "output_type": "stream",
     "text": [
      "Reading \"BTU\"\n",
      "Reading \"BTWN\"\n",
      "Reading \"BTWNU\"\n",
      "Reading \"BTX\"\n",
      "Reading \"BTZ\"\n",
      "Reading \"BUD\"\n",
      "Reading \"BUFD\"\n",
      "Reading \"BUFF\"\n",
      "Reading \"BUFR\"\n",
      "Reading \"BUG\"\n",
      "Reading \"BUI\"\n"
     ]
    },
    {
     "name": "stderr",
     "output_type": "stream",
     "text": [
      "sleep 3 seconds and retrying https://data.alpaca.markets/v1/bars/day 3 more time(s)...\n"
     ]
    },
    {
     "name": "stdout",
     "output_type": "stream",
     "text": [
      "Reading \"BUL\"\n",
      "Reading \"BUR\"\n",
      "Reading \"BURL\"\n",
      "Reading \"BUSE\"\n",
      "Reading \"BUYZ\"\n",
      "Reading \"BUZZ\"\n",
      "Reading \"BV\"\n",
      "Reading \"BVH\"\n",
      "Reading \"BVN\"\n",
      "Reading \"BVS\"\n",
      "Reading \"BW\"\n",
      "Reading \"BWA\"\n",
      "Reading \"BWAC\"\n",
      "Reading \"BWACU\"\n",
      "Reading \"BWAY\"\n"
     ]
    },
    {
     "name": "stderr",
     "output_type": "stream",
     "text": [
      "sleep 3 seconds and retrying https://data.alpaca.markets/v1/bars/day 3 more time(s)...\n"
     ]
    },
    {
     "name": "stdout",
     "output_type": "stream",
     "text": [
      "Reading \"BWB\"\n",
      "Reading \"BWEN\"\n",
      "Reading \"BWFG\"\n",
      "Reading \"BWG\"\n",
      "Reading \"BWL.A\"\n",
      "Reading \"BWMX\"\n",
      "Reading \"BWSN\"\n",
      "Reading \"BWX\"\n",
      "Reading \"BWXT\"\n",
      "Reading \"BWZ\"\n",
      "Reading \"BX\"\n",
      "Reading \"BXC\"\n",
      "Reading \"BXMT\"\n"
     ]
    },
    {
     "name": "stderr",
     "output_type": "stream",
     "text": [
      "sleep 3 seconds and retrying https://data.alpaca.markets/v1/bars/day 3 more time(s)...\n"
     ]
    },
    {
     "name": "stdout",
     "output_type": "stream",
     "text": [
      "Reading \"BXMX\"\n",
      "Reading \"BXP\"\n",
      "Reading \"BXRX\"\n",
      "Reading \"BXS\"\n",
      "Reading \"BY\"\n",
      "Reading \"BYD\"\n",
      "Reading \"BYFC\"\n",
      "Reading \"BYLD\"\n",
      "Reading \"BYM\"\n",
      "Reading \"BYRN\"\n",
      "Reading \"BYSI\"\n",
      "Reading \"BYTSU\"\n",
      "Reading \"BZH\"\n",
      "Reading \"BZQ\"\n",
      "Reading \"C\"\n"
     ]
    },
    {
     "name": "stderr",
     "output_type": "stream",
     "text": [
      "sleep 3 seconds and retrying https://data.alpaca.markets/v1/bars/day 3 more time(s)...\n"
     ]
    },
    {
     "name": "stdout",
     "output_type": "stream",
     "text": [
      "Reading \"CAAP\"\n",
      "Reading \"CABO\"\n",
      "Reading \"CAC\"\n",
      "Reading \"CACC\"\n",
      "Reading \"CACG\"\n",
      "Reading \"CACI\"\n",
      "Reading \"CADE\"\n",
      "Reading \"CAF\"\n",
      "Reading \"CAG\"\n",
      "Reading \"CAH\"\n",
      "Reading \"CAHC\"\n",
      "Reading \"CAHCU\"\n",
      "Reading \"CAI\"\n",
      "Reading \"CAKE\"\n",
      "Reading \"CAL\"\n",
      "Reading \"CALA\"\n",
      "Reading \"CALB\"\n",
      "Reading \"CALF\"\n",
      "Reading \"CALM\"\n",
      "Reading \"CALT\"\n",
      "Reading \"CALX\"\n",
      "Reading \"CAMP\"\n",
      "Reading \"CAMT\"\n",
      "Reading \"CAN\"\n",
      "Reading \"CANF\"\n",
      "Reading \"CANG\"\n"
     ]
    },
    {
     "name": "stderr",
     "output_type": "stream",
     "text": [
      "sleep 3 seconds and retrying https://data.alpaca.markets/v1/bars/day 3 more time(s)...\n"
     ]
    },
    {
     "name": "stdout",
     "output_type": "stream",
     "text": [
      "Reading \"CAP\"\n",
      "Reading \"CAP.U\"\n",
      "Reading \"CAPA\"\n",
      "Reading \"CAPAU\"\n",
      "Reading \"CAPL\"\n",
      "Reading \"CAPR\"\n",
      "Reading \"CAR\"\n",
      "Reading \"CARA\"\n",
      "Reading \"CARE\"\n",
      "Reading \"CARG\"\n",
      "Reading \"CARS\"\n",
      "Reading \"CARV\"\n",
      "Reading \"CARZ\"\n",
      "Reading \"CAS\"\n",
      "Reading \"CAS.U\"\n",
      "Reading \"CASA\"\n",
      "Reading \"CASI\"\n",
      "Reading \"CASS\"\n",
      "Reading \"CASY\"\n",
      "Reading \"CATB\"\n",
      "Reading \"CATC\"\n",
      "Reading \"CATM\"\n",
      "Reading \"CATY\"\n",
      "Reading \"CB\"\n",
      "Reading \"CBAH\"\n",
      "Reading \"CBAN\"\n",
      "Reading \"CBAT\"\n",
      "Reading \"CBAY\"\n",
      "Reading \"CBB\"\n",
      "Reading \"CBD\"\n",
      "Reading \"CBFV\"\n",
      "Reading \"CBLI\"\n",
      "Reading \"CBLS\"\n",
      "Reading \"CBMB\"\n",
      "Reading \"CBNK\"\n",
      "Reading \"CBOE\"\n",
      "Reading \"CBRL\"\n",
      "Reading \"CBSE\"\n",
      "Reading \"CBSH\"\n",
      "Reading \"CBT\"\n",
      "Reading \"CBTG\"\n",
      "Reading \"CBU\"\n",
      "Reading \"CC\"\n",
      "Reading \"CCAC\"\n",
      "Reading \"CCAC.U\"\n",
      "Reading \"CCAP\"\n",
      "Reading \"CCB\"\n",
      "Reading \"CCBG\"\n",
      "Reading \"CCCC\"\n",
      "Reading \"CCD\"\n",
      "Reading \"CCF\"\n",
      "Reading \"CCI\"\n",
      "Reading \"CCIV\"\n",
      "Reading \"CCIV.U\"\n"
     ]
    },
    {
     "name": "stderr",
     "output_type": "stream",
     "text": [
      "sleep 3 seconds and retrying https://data.alpaca.markets/v1/bars/day 3 more time(s)...\n"
     ]
    },
    {
     "name": "stdout",
     "output_type": "stream",
     "text": [
      "Reading \"CCJ\"\n",
      "Reading \"CCK\"\n",
      "Reading \"CCLP\"\n",
      "Reading \"CCM\"\n",
      "Reading \"CCMP\"\n",
      "Reading \"BRT\"\n",
      "Reading \"CCNE\"\n",
      "Reading \"CCNEP\"\n",
      "Reading \"CCO\"\n",
      "Reading \"CCOI\"\n",
      "Reading \"CCON\"\n",
      "Reading \"CCRC\"\n",
      "Reading \"CCRN\"\n",
      "Reading \"CCRV\"\n"
     ]
    },
    {
     "name": "stderr",
     "output_type": "stream",
     "text": [
      "sleep 3 seconds and retrying https://data.alpaca.markets/v1/bars/day 3 more time(s)...\n"
     ]
    },
    {
     "name": "stdout",
     "output_type": "stream",
     "text": [
      "Reading \"CCS\"\n",
      "Reading \"CCU\"\n",
      "Reading \"CCV\"\n",
      "Reading \"CCV.U\"\n",
      "Reading \"CCVI\"\n",
      "Reading \"CCVI.U\"\n",
      "Reading \"CCX\"\n",
      "Reading \"CCX.U\"\n",
      "Reading \"CCXI\"\n",
      "Reading \"CCZ\"\n",
      "Reading \"CD\"\n",
      "Reading \"CDAK\"\n",
      "Reading \"CDAY\"\n"
     ]
    },
    {
     "name": "stderr",
     "output_type": "stream",
     "text": [
      "sleep 3 seconds and retrying https://data.alpaca.markets/v1/bars/day 3 more time(s)...\n"
     ]
    },
    {
     "name": "stdout",
     "output_type": "stream",
     "text": [
      "Reading \"CDC\"\n",
      "Reading \"CDE\"\n",
      "Reading \"CDEV\"\n",
      "Reading \"CDK\"\n",
      "Reading \"CDL\"\n",
      "Reading \"CDLX\"\n",
      "Reading \"CDMO\"\n",
      "Reading \"CDNS\"\n",
      "Reading \"CDOR\"\n",
      "Reading \"CDR\"\n",
      "Reading \"CDTX\"\n",
      "Reading \"CDW\"\n",
      "Reading \"CDXC\"\n",
      "Reading \"CDXS\"\n",
      "Reading \"CDZI\"\n",
      "Reading \"CE\"\n",
      "Reading \"CEA\"\n",
      "Reading \"CECE\"\n",
      "Reading \"CEE\"\n"
     ]
    },
    {
     "name": "stderr",
     "output_type": "stream",
     "text": [
      "sleep 3 seconds and retrying https://data.alpaca.markets/v1/bars/day 3 more time(s)...\n"
     ]
    },
    {
     "name": "stdout",
     "output_type": "stream",
     "text": [
      "Reading \"CEF\"\n",
      "Reading \"CEFA\"\n",
      "Reading \"CEFD\"\n",
      "Reading \"CEFS\"\n",
      "Reading \"CEI\"\n",
      "Reading \"CEIX\"\n",
      "Reading \"CELC\"\n",
      "Reading \"CELG.RT\"\n",
      "Reading \"CELH\"\n",
      "Reading \"CEM\"\n",
      "Reading \"CEMB\"\n",
      "Reading \"CEMI\"\n",
      "Reading \"CEN\"\n",
      "Reading \"CENH\"\n",
      "Reading \"CENHU\"\n",
      "Reading \"CENT\"\n"
     ]
    },
    {
     "name": "stderr",
     "output_type": "stream",
     "text": [
      "sleep 3 seconds and retrying https://data.alpaca.markets/v1/bars/day 3 more time(s)...\n"
     ]
    },
    {
     "name": "stdout",
     "output_type": "stream",
     "text": [
      "Reading \"CENTA\"\n",
      "Reading \"CENX\"\n",
      "Reading \"CEPU\"\n",
      "Reading \"CEQP\"\n",
      "Reading \"CERC\"\n",
      "Reading \"CERE\"\n",
      "Reading \"CERN\"\n",
      "Reading \"CERS\"\n",
      "Reading \"CERT\"\n",
      "Reading \"CET\"\n",
      "Reading \"CETX\"\n",
      "Reading \"CETXP\"\n",
      "Reading \"CEV\"\n",
      "Reading \"CEVA\"\n"
     ]
    },
    {
     "name": "stderr",
     "output_type": "stream",
     "text": [
      "sleep 3 seconds and retrying https://data.alpaca.markets/v1/bars/day 3 more time(s)...\n"
     ]
    },
    {
     "name": "stdout",
     "output_type": "stream",
     "text": [
      "Reading \"CEW\"\n",
      "Reading \"CEY\"\n",
      "Reading \"CF\"\n",
      "Reading \"CFA\"\n",
      "Reading \"CFAC\"\n",
      "Reading \"CFACU\"\n",
      "Reading \"CFB\"\n",
      "Reading \"CFBK\"\n",
      "Reading \"CFCV\"\n",
      "Reading \"CFFE\"\n",
      "Reading \"CFFEU\"\n",
      "Reading \"CFFI\"\n",
      "Reading \"CFFN\"\n"
     ]
    },
    {
     "name": "stderr",
     "output_type": "stream",
     "text": [
      "sleep 3 seconds and retrying https://data.alpaca.markets/v1/bars/day 3 more time(s)...\n"
     ]
    },
    {
     "name": "stdout",
     "output_type": "stream",
     "text": [
      "Reading \"CFFVU\"\n",
      "Reading \"CFG\"\n",
      "Reading \"CFIV\"\n",
      "Reading \"CFIVU\"\n",
      "Reading \"CFMS\"\n",
      "Reading \"CFO\"\n",
      "Reading \"CFR\"\n",
      "Reading \"CFRX\"\n",
      "Reading \"CFV\"\n",
      "Reading \"CFVIU\"\n",
      "Reading \"CFX\"\n",
      "Reading \"CFXA\"\n",
      "Reading \"CG\"\n",
      "Reading \"CGA\"\n",
      "Reading \"CGAU\"\n",
      "Reading \"CGBD\"\n",
      "Reading \"CGC\"\n",
      "Reading \"CGEM\"\n",
      "Reading \"CGEN\"\n",
      "Reading \"CGNT\"\n",
      "Reading \"CGNX\"\n",
      "Reading \"CGO\"\n"
     ]
    },
    {
     "name": "stderr",
     "output_type": "stream",
     "text": [
      "sleep 3 seconds and retrying https://data.alpaca.markets/v1/bars/day 3 more time(s)...\n"
     ]
    },
    {
     "name": "stdout",
     "output_type": "stream",
     "text": [
      "Reading \"CGRN\"\n",
      "Reading \"CGW\"\n",
      "Reading \"CHAA\"\n",
      "Reading \"CHAA.U\"\n",
      "Reading \"CHAD\"\n",
      "Reading \"CHAQ\"\n",
      "Reading \"CHAQ.U\"\n",
      "Reading \"CHAU\"\n",
      "Reading \"CHB\"\n",
      "Reading \"CHCI\"\n",
      "Reading \"CHCO\"\n",
      "Reading \"CHCT\"\n",
      "Reading \"CHD\"\n",
      "Reading \"CHDN\"\n",
      "Reading \"CHE\"\n",
      "Reading \"CHEF\"\n",
      "Reading \"CHFW\"\n",
      "Reading \"CHFW.U\"\n",
      "Reading \"CHGG\"\n",
      "Reading \"CHGX\"\n",
      "Reading \"CHH\"\n"
     ]
    },
    {
     "name": "stderr",
     "output_type": "stream",
     "text": [
      "sleep 3 seconds and retrying https://data.alpaca.markets/v1/bars/day 3 more time(s)...\n"
     ]
    },
    {
     "name": "stdout",
     "output_type": "stream",
     "text": [
      "Reading \"CHI\"\n",
      "Reading \"CHIC\"\n",
      "Reading \"CHIE\"\n",
      "Reading \"CHIH\"\n",
      "Reading \"CHII\"\n",
      "Reading \"CHIK\"\n",
      "Reading \"CHIL\"\n",
      "Reading \"CHIM\"\n",
      "Reading \"CHIQ\"\n",
      "Reading \"CHIR\"\n",
      "Reading \"CHIU\"\n",
      "Reading \"CHIX\"\n",
      "Reading \"CHK\"\n",
      "Reading \"CHKP\"\n",
      "Reading \"CCOR\"\n",
      "Reading \"CHMA\"\n",
      "Reading \"CHMG\"\n",
      "Reading \"CHMI\"\n",
      "Reading \"CHN\"\n"
     ]
    },
    {
     "name": "stderr",
     "output_type": "stream",
     "text": [
      "sleep 3 seconds and retrying https://data.alpaca.markets/v1/bars/day 3 more time(s)...\n"
     ]
    },
    {
     "name": "stdout",
     "output_type": "stream",
     "text": [
      "Reading \"CHNA\"\n",
      "Reading \"CHNG\"\n",
      "Reading \"CHNGU\"\n",
      "Reading \"CHNR\"\n",
      "Reading \"CHPM\"\n",
      "Reading \"CHPMU\"\n",
      "Reading \"CHRS\"\n",
      "Reading \"CHRW\"\n",
      "Reading \"CHS\"\n",
      "Reading \"CHSCL\"\n",
      "Reading \"CHSCM\"\n",
      "Reading \"CHSCN\"\n",
      "Reading \"CHSCO\"\n",
      "Reading \"CHSCP\"\n",
      "Reading \"CHT\"\n",
      "Reading \"CHTR\"\n",
      "Reading \"CHUY\"\n",
      "Reading \"CHW\"\n"
     ]
    },
    {
     "name": "stderr",
     "output_type": "stream",
     "text": [
      "sleep 3 seconds and retrying https://data.alpaca.markets/v1/bars/day 3 more time(s)...\n"
     ]
    },
    {
     "name": "stdout",
     "output_type": "stream",
     "text": [
      "Reading \"CHWY\"\n",
      "Reading \"CHX\"\n",
      "Reading \"CHY\"\n",
      "Reading \"CI\"\n",
      "Reading \"CIA\"\n",
      "Reading \"CIB\"\n",
      "Reading \"CIBR\"\n",
      "Reading \"CID\"\n",
      "Reading \"CIDM\"\n",
      "Reading \"CIEN\"\n",
      "Reading \"CIF\"\n",
      "Reading \"CIG\"\n",
      "Reading \"CIG.C\"\n",
      "Reading \"CIGI\"\n",
      "Reading \"CIH\"\n",
      "Reading \"CII\"\n",
      "Reading \"CIK\"\n",
      "Reading \"CIL\"\n",
      "Reading \"CIM\"\n",
      "Reading \"CINF\"\n",
      "Reading \"CINR\"\n",
      "Reading \"CIO\"\n",
      "Reading \"CIR\"\n",
      "Reading \"CIT\"\n",
      "Reading \"CIVB\"\n",
      "Reading \"CIX\"\n",
      "Reading \"CIXX\"\n",
      "Reading \"CIZ\"\n",
      "Reading \"CJJD\"\n",
      "Reading \"CKX\"\n"
     ]
    },
    {
     "name": "stderr",
     "output_type": "stream",
     "text": [
      "sleep 3 seconds and retrying https://data.alpaca.markets/v1/bars/day 3 more time(s)...\n"
     ]
    },
    {
     "name": "stdout",
     "output_type": "stream",
     "text": [
      "Reading \"CL\"\n",
      "Reading \"CLAA.U\"\n",
      "Reading \"CLAR\"\n",
      "Reading \"CLAS\"\n",
      "Reading \"CLBK\"\n",
      "Reading \"CLBS\"\n",
      "Reading \"CLDB\"\n",
      "Reading \"CLDL\"\n",
      "Reading \"CLDS\"\n",
      "Reading \"CLDX\"\n",
      "Reading \"CLF\"\n",
      "Reading \"CLFD\"\n",
      "Reading \"CLGN\"\n",
      "Reading \"CLH\"\n",
      "Reading \"CLI\"\n",
      "Reading \"CLII\"\n",
      "Reading \"CCL\"\n",
      "Reading \"CLII.U\"\n",
      "Reading \"CLIM\"\n",
      "Reading \"CLIR\"\n",
      "Reading \"CLIX\"\n"
     ]
    },
    {
     "name": "stderr",
     "output_type": "stream",
     "text": [
      "sleep 3 seconds and retrying https://data.alpaca.markets/v1/bars/day 3 more time(s)...\n"
     ]
    },
    {
     "name": "stdout",
     "output_type": "stream",
     "text": [
      "Reading \"CLLS\"\n",
      "Reading \"CLM\"\n",
      "Reading \"CLMT\"\n",
      "Reading \"CLNE\"\n",
      "Reading \"CLNN\"\n",
      "Reading \"CLNY\"\n",
      "Reading \"CLOU\"\n",
      "Reading \"CLOV\"\n",
      "Reading \"CLPR\"\n",
      "Reading \"CLPS\"\n",
      "Reading \"CLPT\"\n",
      "Reading \"CLR\"\n",
      "Reading \"CLRB\"\n",
      "Reading \"CLRG\"\n"
     ]
    },
    {
     "name": "stderr",
     "output_type": "stream",
     "text": [
      "sleep 3 seconds and retrying https://data.alpaca.markets/v1/bars/day 3 more time(s)...\n"
     ]
    },
    {
     "name": "stdout",
     "output_type": "stream",
     "text": [
      "Reading \"CLRM\"\n",
      "Reading \"CLRMU\"\n",
      "Reading \"CLRO\"\n",
      "Reading \"CLS\"\n",
      "Reading \"CLSK\"\n",
      "Reading \"CLSN\"\n",
      "Reading \"CLTL\"\n",
      "Reading \"CLVR\"\n",
      "Reading \"CLVS\"\n",
      "Reading \"CLVT\"\n",
      "Reading \"CLW\"\n",
      "Reading \"CLWT\"\n",
      "Reading \"CLX\"\n",
      "Reading \"CLXT\"\n",
      "Reading \"CM\"\n",
      "Reading \"CMA\"\n",
      "Reading \"CMBM\"\n",
      "Reading \"CMBS\"\n",
      "Reading \"CMC\"\n"
     ]
    },
    {
     "name": "stderr",
     "output_type": "stream",
     "text": [
      "sleep 3 seconds and retrying https://data.alpaca.markets/v1/bars/day 3 more time(s)...\n"
     ]
    },
    {
     "name": "stdout",
     "output_type": "stream",
     "text": [
      "Reading \"CMCL\"\n",
      "Reading \"CMCM\"\n",
      "Reading \"CMCO\"\n",
      "Reading \"CMCSA\"\n",
      "Reading \"CMCT\"\n",
      "Reading \"CMCTP\"\n",
      "Reading \"CMD\"\n",
      "Reading \"CMDY\"\n",
      "Reading \"CME\"\n",
      "Reading \"CMF\"\n",
      "Reading \"CMG\"\n"
     ]
    },
    {
     "name": "stderr",
     "output_type": "stream",
     "text": [
      "sleep 3 seconds and retrying https://data.alpaca.markets/v1/bars/day 3 more time(s)...\n"
     ]
    },
    {
     "name": "stdout",
     "output_type": "stream",
     "text": [
      "Reading \"CMI\"\n",
      "Reading \"CMII\"\n",
      "Reading \"CMIIU\"\n",
      "Reading \"CMLF\"\n",
      "Reading \"CMLFU\"\n",
      "Reading \"CMLS\"\n",
      "Reading \"CMLTU\"\n",
      "Reading \"CMMB\"\n",
      "Reading \"CMO\"\n",
      "Reading \"CMP\"\n",
      "Reading \"CMPI\"\n",
      "Reading \"CMPR\"\n",
      "Reading \"CMPS\"\n",
      "Reading \"CMRE\"\n",
      "Reading \"CMRX\"\n",
      "Reading \"CMS\"\n"
     ]
    },
    {
     "name": "stderr",
     "output_type": "stream",
     "text": [
      "sleep 3 seconds and retrying https://data.alpaca.markets/v1/bars/day 3 more time(s)...\n"
     ]
    },
    {
     "name": "stdout",
     "output_type": "stream",
     "text": [
      "Reading \"CMSA\"\n",
      "Reading \"CMSC\"\n",
      "Reading \"CMSD\"\n",
      "Reading \"CMT\"\n",
      "Reading \"CMTL\"\n",
      "Reading \"CMU\"\n",
      "Reading \"CN\"\n",
      "Reading \"CNA\"\n",
      "Reading \"CNBKA\"\n",
      "Reading \"CNBS\"\n",
      "Reading \"CNC\"\n",
      "Reading \"CNCE\"\n",
      "Reading \"CNCR\"\n",
      "Reading \"CND\"\n",
      "Reading \"CND.U\"\n"
     ]
    },
    {
     "name": "stderr",
     "output_type": "stream",
     "text": [
      "sleep 3 seconds and retrying https://data.alpaca.markets/v1/bars/day 3 more time(s)...\n"
     ]
    },
    {
     "name": "stdout",
     "output_type": "stream",
     "text": [
      "Reading \"CNDT\"\n",
      "Reading \"CNET\"\n",
      "Reading \"CNEY\"\n",
      "Reading \"CNF\"\n",
      "Reading \"CNFR\"\n",
      "Reading \"CNFRL\"\n",
      "Reading \"CNHI\"\n",
      "Reading \"CNK\"\n",
      "Reading \"CNMD\"\n",
      "Reading \"CNNB\"\n",
      "Reading \"CNNE\"\n"
     ]
    },
    {
     "name": "stderr",
     "output_type": "stream",
     "text": [
      "sleep 3 seconds and retrying https://data.alpaca.markets/v1/bars/day 3 more time(s)...\n"
     ]
    },
    {
     "name": "stdout",
     "output_type": "stream",
     "text": [
      "Reading \"CNO\"\n",
      "Reading \"CNOB\"\n",
      "Reading \"CNP\"\n",
      "Reading \"CNQ\"\n",
      "Reading \"CNR\"\n",
      "Reading \"CNRG\"\n",
      "Reading \"CNSL\"\n",
      "Reading \"CNSP\"\n",
      "Reading \"CNST\"\n",
      "Reading \"CNTG\"\n",
      "Reading \"CNTY\"\n",
      "Reading \"CNX\"\n",
      "Reading \"CNXC\"\n",
      "Reading \"CNXN\"\n",
      "Reading \"CNXT\"\n",
      "Reading \"CNYA\"\n",
      "Reading \"CO\"\n",
      "Reading \"COCP\"\n",
      "Reading \"CODA\"\n",
      "Reading \"CODI\"\n",
      "Reading \"CODX\"\n",
      "Reading \"COE\"\n",
      "Reading \"COF\"\n",
      "Reading \"COFS\"\n",
      "Reading \"COG\"\n",
      "Reading \"COGT\"\n",
      "Reading \"COHN\"\n",
      "Reading \"COHR\"\n",
      "Reading \"COHU\"\n",
      "Reading \"COIN\"\n",
      "Reading \"COKE\"\n",
      "Reading \"COLB\"\n",
      "Reading \"COLD\"\n",
      "Reading \"COLI\"\n",
      "Reading \"COLIU\"\n",
      "Reading \"COLL\"\n",
      "Reading \"COMB\"\n",
      "Reading \"COMM\"\n"
     ]
    },
    {
     "name": "stderr",
     "output_type": "stream",
     "text": [
      "sleep 3 seconds and retrying https://data.alpaca.markets/v1/bars/day 3 more time(s)...\n"
     ]
    },
    {
     "name": "stdout",
     "output_type": "stream",
     "text": [
      "Reading \"COMP\"\n",
      "Reading \"COMS\"\n",
      "Reading \"COMT\"\n",
      "Reading \"CONE\"\n",
      "Reading \"CONN\"\n",
      "Reading \"CONX\"\n",
      "Reading \"CONXU\"\n",
      "Reading \"COO\"\n",
      "Reading \"COOL\"\n",
      "Reading \"COOLU\"\n",
      "Reading \"COOP\"\n",
      "Reading \"COP\"\n",
      "Reading \"COR\"\n",
      "Reading \"CORE\"\n",
      "Reading \"CORN\"\n"
     ]
    },
    {
     "name": "stderr",
     "output_type": "stream",
     "text": [
      "sleep 3 seconds and retrying https://data.alpaca.markets/v1/bars/day 3 more time(s)...\n"
     ]
    },
    {
     "name": "stdout",
     "output_type": "stream",
     "text": [
      "Reading \"CORP\"\n",
      "Reading \"CORR\"\n",
      "Reading \"CORT\"\n",
      "Reading \"COST\"\n",
      "Reading \"COTY\"\n",
      "Reading \"COUP\"\n",
      "Reading \"COUR\"\n",
      "Reading \"COVA\"\n",
      "Reading \"COVAU\"\n",
      "Reading \"COWN\"\n",
      "Reading \"COWNL\"\n",
      "Reading \"COWZ\"\n",
      "Reading \"CP\"\n",
      "Reading \"CPA\"\n"
     ]
    },
    {
     "name": "stderr",
     "output_type": "stream",
     "text": [
      "sleep 3 seconds and retrying https://data.alpaca.markets/v1/bars/day 3 more time(s)...\n"
     ]
    },
    {
     "name": "stdout",
     "output_type": "stream",
     "text": [
      "Reading \"CPAC\"\n",
      "Reading \"CPB\"\n",
      "Reading \"CPE\"\n",
      "Reading \"CPER\"\n",
      "Reading \"CPF\"\n",
      "Reading \"CPG\"\n",
      "Reading \"CPHC\"\n",
      "Reading \"CPHI\"\n",
      "Reading \"CPI\"\n",
      "Reading \"CPIX\"\n",
      "Reading \"CPLG\"\n",
      "Reading \"CPNG\"\n",
      "Reading \"CPRI\"\n",
      "Reading \"CPRX\"\n"
     ]
    },
    {
     "name": "stderr",
     "output_type": "stream",
     "text": [
      "sleep 3 seconds and retrying https://data.alpaca.markets/v1/bars/day 3 more time(s)...\n"
     ]
    },
    {
     "name": "stdout",
     "output_type": "stream",
     "text": [
      "Reading \"CPS\"\n",
      "Reading \"CPSH\"\n",
      "Reading \"CPSI\"\n",
      "Reading \"CPSR.U\"\n",
      "Reading \"CPSS\"\n",
      "Reading \"CPT\"\n",
      "Reading \"CPTA\"\n",
      "Reading \"CPTAG\"\n",
      "Reading \"CPTAL\"\n",
      "Reading \"CPTK\"\n",
      "Reading \"CPTK.U\"\n",
      "Reading \"CPUH\"\n",
      "Reading \"CPUH.U\"\n"
     ]
    },
    {
     "name": "stderr",
     "output_type": "stream",
     "text": [
      "sleep 3 seconds and retrying https://data.alpaca.markets/v1/bars/day 3 more time(s)...\n"
     ]
    },
    {
     "name": "stdout",
     "output_type": "stream",
     "text": [
      "Reading \"CPZ\"\n",
      "Reading \"CQP\"\n",
      "Reading \"CQQQ\"\n",
      "Reading \"CR\"\n",
      "Reading \"CRAI\"\n",
      "Reading \"CRAK\"\n",
      "Reading \"CRBN\"\n",
      "Reading \"CRBP\"\n",
      "Reading \"CRC\"\n",
      "Reading \"CRCT\"\n",
      "Reading \"CRD.B\"\n",
      "Reading \"CRDF\"\n",
      "Reading \"CREE\"\n",
      "Reading \"CRESY\"\n",
      "Reading \"CREX\"\n"
     ]
    },
    {
     "name": "stderr",
     "output_type": "stream",
     "text": [
      "sleep 3 seconds and retrying https://data.alpaca.markets/v1/bars/day 3 more time(s)...\n"
     ]
    },
    {
     "name": "stdout",
     "output_type": "stream",
     "text": [
      "Reading \"CRF\"\n",
      "Reading \"CRHC\"\n",
      "Reading \"CRHC.U\"\n",
      "Reading \"CRIS\"\n",
      "Reading \"CRKN\"\n",
      "Reading \"CRM\"\n",
      "Reading \"CRMD\"\n",
      "Reading \"CRMT\"\n",
      "Reading \"CRNC\"\n",
      "Reading \"CRNT\"\n",
      "Reading \"CROC\"\n",
      "Reading \"CRON\"\n",
      "Reading \"CROX\"\n",
      "Reading \"CRS\"\n",
      "Reading \"CRSA\"\n"
     ]
    },
    {
     "name": "stderr",
     "output_type": "stream",
     "text": [
      "sleep 3 seconds and retrying https://data.alpaca.markets/v1/bars/day 3 more time(s)...\n"
     ]
    },
    {
     "name": "stdout",
     "output_type": "stream",
     "text": [
      "Reading \"CRSP\"\n",
      "Reading \"CRSR\"\n",
      "Reading \"CRT\"\n",
      "Reading \"CRTD\"\n",
      "Reading \"CRTO\"\n",
      "Reading \"CRU\"\n",
      "Reading \"CRU.U\"\n",
      "Reading \"CRUS\"\n",
      "Reading \"CRVL\"\n",
      "Reading \"CRVS\"\n",
      "Reading \"CRWS\"\n"
     ]
    },
    {
     "name": "stderr",
     "output_type": "stream",
     "text": [
      "sleep 3 seconds and retrying https://data.alpaca.markets/v1/bars/day 3 more time(s)...\n"
     ]
    },
    {
     "name": "stdout",
     "output_type": "stream",
     "text": [
      "Reading \"CRY\"\n",
      "Reading \"CRZNU\"\n",
      "Reading \"CS\"\n",
      "Reading \"CSA\"\n",
      "Reading \"CSB\"\n",
      "Reading \"CSBR\"\n",
      "Reading \"CSCO\"\n",
      "Reading \"CSF\"\n",
      "Reading \"CSGP\"\n",
      "Reading \"CSGS\"\n",
      "Reading \"CSII\"\n",
      "Reading \"CSIQ\"\n"
     ]
    },
    {
     "name": "stderr",
     "output_type": "stream",
     "text": [
      "sleep 3 seconds and retrying https://data.alpaca.markets/v1/bars/day 3 more time(s)...\n"
     ]
    },
    {
     "name": "stdout",
     "output_type": "stream",
     "text": [
      "Reading \"CSL\"\n",
      "Reading \"CSLT\"\n",
      "Reading \"CSM\"\n",
      "Reading \"CSML\"\n",
      "Reading \"CSOD\"\n",
      "Reading \"CSPI\"\n",
      "Reading \"CSPR\"\n",
      "Reading \"CSQ\"\n",
      "Reading \"CSR\"\n",
      "Reading \"CSSE\"\n",
      "Reading \"CSSEN\"\n",
      "Reading \"CSSEP\"\n",
      "Reading \"CSTA\"\n",
      "Reading \"CSTA.U\"\n",
      "Reading \"CSTE\"\n",
      "Reading \"CSTL\"\n",
      "Reading \"CSTM\"\n"
     ]
    },
    {
     "name": "stderr",
     "output_type": "stream",
     "text": [
      "sleep 3 seconds and retrying https://data.alpaca.markets/v1/bars/day 3 more time(s)...\n"
     ]
    },
    {
     "name": "stdout",
     "output_type": "stream",
     "text": [
      "Reading \"CSTR\"\n",
      "Reading \"CSU\"\n",
      "Reading \"CSV\"\n",
      "Reading \"CSWC\"\n",
      "Reading \"CSWI\"\n",
      "Reading \"CSX\"\n",
      "Reading \"CTAC\"\n",
      "Reading \"CTAC.U\"\n",
      "Reading \"CTAQU\"\n",
      "Reading \"CTAS\"\n",
      "Reading \"CTB\"\n",
      "Reading \"CTBB\"\n",
      "Reading \"CTBI\"\n",
      "Reading \"CTDD\"\n",
      "Reading \"CTEC\"\n",
      "Reading \"CTEK\"\n",
      "Reading \"CTG\"\n",
      "Reading \"CTHR\"\n",
      "Reading \"CTIB\"\n",
      "Reading \"CTIC\"\n",
      "Reading \"CTK\"\n",
      "Reading \"CTLP\"\n",
      "Reading \"CTLT\"\n",
      "Reading \"CTMX\"\n",
      "Reading \"CTO\"\n",
      "Reading \"CTOS\"\n",
      "Reading \"CTR\"\n",
      "Reading \"CTRE\"\n",
      "Reading \"CTRN\"\n",
      "Reading \"CTSH\"\n",
      "Reading \"CTSO\"\n",
      "Reading \"CTT\"\n",
      "Reading \"CTVA\"\n",
      "Reading \"CTXR\"\n",
      "Reading \"CTXS\"\n",
      "Reading \"CUB\"\n",
      "Reading \"CUBA\"\n",
      "Reading \"CUBB\"\n",
      "Reading \"CUBE\"\n",
      "Reading \"CUBI\"\n",
      "Reading \"CUE\"\n",
      "Reading \"CUEN\"\n",
      "Reading \"CUK\"\n",
      "Reading \"CULP\"\n",
      "Reading \"CURE\"\n",
      "Reading \"CURI\"\n",
      "Reading \"CURO\"\n",
      "Reading \"CUT\"\n",
      "Reading \"CUTR\"\n",
      "Reading \"CUZ\"\n",
      "Reading \"CVA\"\n",
      "Reading \"CVAC\"\n",
      "Reading \"CVBF\"\n",
      "Reading \"CVCO\"\n",
      "Reading \"CVCY\"\n",
      "Reading \"CVE\"\n",
      "Reading \"CVEO\"\n",
      "Reading \"CVET\"\n",
      "Reading \"CVGI\"\n",
      "Reading \"CVGW\"\n"
     ]
    },
    {
     "name": "stderr",
     "output_type": "stream",
     "text": [
      "sleep 3 seconds and retrying https://data.alpaca.markets/v1/bars/day 3 more time(s)...\n"
     ]
    },
    {
     "name": "stdout",
     "output_type": "stream",
     "text": [
      "Reading \"CVI\"\n",
      "Reading \"CVII\"\n",
      "Reading \"CVII.U\"\n",
      "Reading \"CVLG\"\n",
      "Reading \"CVLT\"\n",
      "Reading \"CVLY\"\n",
      "Reading \"CVM\"\n",
      "Reading \"CVNA\"\n",
      "Reading \"CVR\"\n",
      "Reading \"CVS\"\n",
      "Reading \"CVU\"\n",
      "Reading \"CVV\"\n"
     ]
    },
    {
     "name": "stderr",
     "output_type": "stream",
     "text": [
      "sleep 3 seconds and retrying https://data.alpaca.markets/v1/bars/day 3 more time(s)...\n"
     ]
    },
    {
     "name": "stdout",
     "output_type": "stream",
     "text": [
      "Reading \"CVX\"\n",
      "Reading \"CVY\"\n",
      "Reading \"CW\"\n",
      "Reading \"CWB\"\n",
      "Reading \"CWBC\"\n",
      "Reading \"CWBR\"\n",
      "Reading \"CWCO\"\n",
      "Reading \"CWEB\"\n",
      "Reading \"CWEN\"\n",
      "Reading \"CWEN.A\"\n",
      "Reading \"CWH\"\n",
      "Reading \"CWI\"\n",
      "Reading \"CWK\"\n",
      "Reading \"CWS\"\n",
      "Reading \"CWST\"\n",
      "Reading \"CWT\"\n"
     ]
    },
    {
     "name": "stderr",
     "output_type": "stream",
     "text": [
      "sleep 3 seconds and retrying https://data.alpaca.markets/v1/bars/day 3 more time(s)...\n"
     ]
    },
    {
     "name": "stdout",
     "output_type": "stream",
     "text": [
      "Reading \"CX\"\n",
      "Reading \"CXDC\"\n",
      "Reading \"CXDO\"\n",
      "Reading \"CXE\"\n",
      "Reading \"CXH\"\n",
      "Reading \"CXP\"\n",
      "Reading \"CXSE\"\n",
      "Reading \"CXW\"\n",
      "Reading \"CYAD\"\n",
      "Reading \"CYAN\"\n",
      "Reading \"CYB\"\n",
      "Reading \"CYBE\"\n",
      "Reading \"CYBR\"\n",
      "Reading \"CYCCP\"\n",
      "Reading \"CYCN\"\n",
      "Reading \"CYD\"\n"
     ]
    },
    {
     "name": "stderr",
     "output_type": "stream",
     "text": [
      "sleep 3 seconds and retrying https://data.alpaca.markets/v1/bars/day 3 more time(s)...\n"
     ]
    },
    {
     "name": "stdout",
     "output_type": "stream",
     "text": [
      "Reading \"CYH\"\n",
      "Reading \"CYRN\"\n",
      "Reading \"CYRX\"\n",
      "Reading \"CYTH\"\n",
      "Reading \"CYTK\"\n",
      "Reading \"CZA\"\n",
      "Reading \"CZNC\"\n",
      "Reading \"CZR\"\n",
      "Reading \"CZWI\"\n",
      "Reading \"D\"\n",
      "Reading \"DAC\"\n",
      "Reading \"DAKT\"\n",
      "Reading \"DAL\"\n",
      "Reading \"DALI\"\n",
      "Reading \"DALT\"\n",
      "Reading \"DAN\"\n"
     ]
    },
    {
     "name": "stderr",
     "output_type": "stream",
     "text": [
      "sleep 3 seconds and retrying https://data.alpaca.markets/v1/bars/day 3 more time(s)...\n"
     ]
    },
    {
     "name": "stdout",
     "output_type": "stream",
     "text": [
      "Reading \"DAO\"\n",
      "Reading \"DAPP\"\n",
      "Reading \"DAPR\"\n",
      "Reading \"DAR\"\n",
      "Reading \"DARE\"\n",
      "Reading \"DASH\"\n",
      "Reading \"DAUG\"\n",
      "Reading \"DAVA\"\n",
      "Reading \"DAX\"\n",
      "Reading \"DB\"\n",
      "Reading \"DBA\"\n",
      "Reading \"DBAW\"\n",
      "Reading \"DBB\"\n",
      "Reading \"DBC\"\n",
      "Reading \"DBD\"\n",
      "Reading \"DBDR\"\n",
      "Reading \"DBDRU\"\n",
      "Reading \"DBE\"\n"
     ]
    },
    {
     "name": "stderr",
     "output_type": "stream",
     "text": [
      "sleep 3 seconds and retrying https://data.alpaca.markets/v1/bars/day 3 more time(s)...\n"
     ]
    },
    {
     "name": "stdout",
     "output_type": "stream",
     "text": [
      "Reading \"DBEF\"\n",
      "Reading \"DBEH\"\n",
      "Reading \"DBEM\"\n",
      "Reading \"DBEU\"\n",
      "Reading \"DBEZ\"\n",
      "Reading \"DBGR\"\n",
      "Reading \"DBI\"\n",
      "Reading \"DBJA\"\n",
      "Reading \"DBJP\"\n",
      "Reading \"DBL\"\n",
      "Reading \"DBMF\"\n",
      "Reading \"DBOC\"\n",
      "Reading \"DBP\"\n",
      "Reading \"DBS\"\n",
      "Reading \"DBTX\"\n",
      "Reading \"DBV\"\n",
      "Reading \"DBVT\"\n",
      "Reading \"DBX\"\n",
      "Reading \"DCBO\"\n",
      "Reading \"DCF\"\n",
      "Reading \"DCI\"\n",
      "Reading \"DCOM\"\n",
      "Reading \"DCOMP\"\n",
      "Reading \"DCPH\"\n",
      "Reading \"DCRB\"\n",
      "Reading \"DCRBU\"\n",
      "Reading \"DCRN\"\n",
      "Reading \"DCRNU\"\n",
      "Reading \"DCT\"\n",
      "Reading \"DCTH\"\n",
      "Reading \"DDD\"\n",
      "Reading \"DDEC\"\n",
      "Reading \"DDF\"\n",
      "Reading \"DDG\"\n",
      "Reading \"DDM\"\n",
      "Reading \"DDMX\"\n",
      "Reading \"DDMXU\"\n",
      "Reading \"DDOG\"\n",
      "Reading \"DDS\"\n",
      "Reading \"DDT\"\n",
      "Reading \"DDWM\"\n",
      "Reading \"DE\"\n",
      "Reading \"DEA\"\n",
      "Reading \"DECK\"\n"
     ]
    },
    {
     "name": "stderr",
     "output_type": "stream",
     "text": [
      "sleep 3 seconds and retrying https://data.alpaca.markets/v1/bars/day 3 more time(s)...\n"
     ]
    },
    {
     "name": "stdout",
     "output_type": "stream",
     "text": [
      "Reading \"DECZ\"\n",
      "Reading \"DEED\"\n",
      "Reading \"DEEF\"\n",
      "Reading \"DEEP\"\n",
      "Reading \"DEF\"\n",
      "Reading \"DEFA\"\n",
      "Reading \"DEFN\"\n",
      "Reading \"DEH\"\n",
      "Reading \"DEH.U\"\n",
      "Reading \"DEI\"\n",
      "Reading \"DELL\"\n",
      "Reading \"DEM\"\n",
      "Reading \"DEMZ\"\n",
      "Reading \"DEN\"\n",
      "Reading \"DENN\"\n"
     ]
    },
    {
     "name": "stderr",
     "output_type": "stream",
     "text": [
      "sleep 3 seconds and retrying https://data.alpaca.markets/v1/bars/day 3 more time(s)...\n"
     ]
    },
    {
     "name": "stdout",
     "output_type": "stream",
     "text": [
      "Reading \"DES\"\n",
      "Reading \"DESP\"\n",
      "Reading \"DEUS\"\n",
      "Reading \"DEW\"\n",
      "Reading \"DEX\"\n",
      "Reading \"DFAI\"\n",
      "Reading \"DFAU\"\n",
      "Reading \"DFE\"\n",
      "Reading \"DFEB\"\n",
      "Reading \"DFEN\"\n"
     ]
    },
    {
     "name": "stderr",
     "output_type": "stream",
     "text": [
      "sleep 3 seconds and retrying https://data.alpaca.markets/v1/bars/day 3 more time(s)...\n"
     ]
    },
    {
     "name": "stdout",
     "output_type": "stream",
     "text": [
      "Reading \"DFH\"\n",
      "Reading \"DFHT\"\n",
      "Reading \"DFHTU\"\n",
      "Reading \"DFHY\"\n",
      "Reading \"DFIN\"\n",
      "Reading \"DFJ\"\n",
      "Reading \"DFND\"\n",
      "Reading \"DFNL\"\n",
      "Reading \"DFNS\"\n",
      "Reading \"DFNS.U\"\n",
      "Reading \"DFNV\"\n",
      "Reading \"DFP\"\n",
      "Reading \"DFPH\"\n",
      "Reading \"DFPHU\"\n",
      "Reading \"DFS\"\n",
      "Reading \"DFVL\"\n",
      "Reading \"DFVS\"\n"
     ]
    },
    {
     "name": "stderr",
     "output_type": "stream",
     "text": [
      "sleep 3 seconds and retrying https://data.alpaca.markets/v1/bars/day 3 more time(s)...\n"
     ]
    },
    {
     "name": "stdout",
     "output_type": "stream",
     "text": [
      "Reading \"DG\"\n",
      "Reading \"DGICA\"\n",
      "Reading \"DGICB\"\n",
      "Reading \"DGII\"\n",
      "Reading \"DGL\"\n",
      "Reading \"DGLY\"\n",
      "Reading \"DGNR\"\n",
      "Reading \"DGNR.U\"\n",
      "Reading \"DGNS\"\n",
      "Reading \"DGNU\"\n",
      "Reading \"DGP\"\n",
      "Reading \"DGRE\"\n",
      "Reading \"DGRO\"\n",
      "Reading \"DGRS\"\n",
      "Reading \"DGRW\"\n",
      "Reading \"DGS\"\n",
      "Reading \"DGT\"\n"
     ]
    },
    {
     "name": "stderr",
     "output_type": "stream",
     "text": [
      "sleep 3 seconds and retrying https://data.alpaca.markets/v1/bars/day 3 more time(s)...\n"
     ]
    },
    {
     "name": "stdout",
     "output_type": "stream",
     "text": [
      "Reading \"DGX\"\n",
      "Reading \"DGZ\"\n",
      "Reading \"DHBC\"\n",
      "Reading \"DHBCU\"\n",
      "Reading \"DHC\"\n",
      "Reading \"DHCA\"\n",
      "Reading \"DHCAU\"\n",
      "Reading \"DHCNI\"\n",
      "Reading \"DHCNL\"\n",
      "Reading \"DHF\"\n",
      "Reading \"DHHC\"\n",
      "Reading \"DHHCU\"\n",
      "Reading \"DHIL\"\n"
     ]
    },
    {
     "name": "stderr",
     "output_type": "stream",
     "text": [
      "sleep 3 seconds and retrying https://data.alpaca.markets/v1/bars/day 3 more time(s)...\n"
     ]
    },
    {
     "name": "stdout",
     "output_type": "stream",
     "text": [
      "Reading \"DHR\"\n",
      "Reading \"DHS\"\n",
      "Reading \"DHT\"\n",
      "Reading \"DHX\"\n",
      "Reading \"DHY\"\n",
      "Reading \"DIA\"\n",
      "Reading \"DIAL\"\n",
      "Reading \"DIAX\"\n",
      "Reading \"DIG\"\n",
      "Reading \"DIM\"\n",
      "Reading \"DIN\"\n",
      "Reading \"DINT\"\n",
      "Reading \"DIOD\"\n",
      "Reading \"DIS\"\n",
      "Reading \"DISAU\"\n",
      "Reading \"DISCA\"\n",
      "Reading \"DISCB\"\n",
      "Reading \"DISCK\"\n",
      "Reading \"DISH\"\n",
      "Reading \"DIT\"\n",
      "Reading \"DIV\"\n",
      "Reading \"DIVA\"\n",
      "Reading \"DIVB\"\n",
      "Reading \"DIVO\"\n",
      "Reading \"DIVS\"\n",
      "Reading \"DIVZ\"\n",
      "Reading \"DJAN\"\n",
      "Reading \"DJCB\"\n",
      "Reading \"DJCO\"\n",
      "Reading \"DJD\"\n",
      "Reading \"DJP\"\n"
     ]
    },
    {
     "name": "stderr",
     "output_type": "stream",
     "text": [
      "sleep 3 seconds and retrying https://data.alpaca.markets/v1/bars/day 3 more time(s)...\n"
     ]
    },
    {
     "name": "stdout",
     "output_type": "stream",
     "text": [
      "Reading \"DJUL\"\n",
      "Reading \"DJUN\"\n",
      "Reading \"DK\"\n",
      "Reading \"DKDCU\"\n",
      "Reading \"DKL\"\n",
      "Reading \"DKS\"\n",
      "Reading \"DLA\"\n",
      "Reading \"DLB\"\n",
      "Reading \"DLCA\"\n",
      "Reading \"DLCAU\"\n",
      "Reading \"DLHC\"\n",
      "Reading \"DLN\"\n",
      "Reading \"DLNG\"\n",
      "Reading \"DLPN\"\n",
      "Reading \"DLR\"\n",
      "Reading \"DLS\"\n",
      "Reading \"DLTH\"\n",
      "Reading \"DLTR\"\n",
      "Reading \"DLY\"\n",
      "Reading \"DM\"\n",
      "Reading \"DMAC\"\n",
      "Reading \"DMAR\"\n",
      "Reading \"DMAY\"\n",
      "Reading \"DMB\"\n"
     ]
    },
    {
     "name": "stderr",
     "output_type": "stream",
     "text": [
      "sleep 3 seconds and retrying https://data.alpaca.markets/v1/bars/day 3 more time(s)...\n"
     ]
    },
    {
     "name": "stdout",
     "output_type": "stream",
     "text": [
      "Reading \"DMCY\"\n",
      "Reading \"DMDV\"\n",
      "Reading \"DMF\"\n",
      "Reading \"DMLP\"\n",
      "Reading \"DMO\"\n",
      "Reading \"DMRC\"\n",
      "Reading \"DMRE\"\n",
      "Reading \"DMRI\"\n",
      "Reading \"DMRL\"\n",
      "Reading \"DMRM\"\n",
      "Reading \"DMRS\"\n",
      "Reading \"DMS\"\n",
      "Reading \"DMTK\"\n",
      "Reading \"DMXF\"\n",
      "Reading \"DMYI\"\n",
      "Reading \"DMYI.U\"\n",
      "Reading \"DMYQ\"\n"
     ]
    },
    {
     "name": "stderr",
     "output_type": "stream",
     "text": [
      "sleep 3 seconds and retrying https://data.alpaca.markets/v1/bars/day 3 more time(s)...\n"
     ]
    },
    {
     "name": "stdout",
     "output_type": "stream",
     "text": [
      "Reading \"DMYQ.U\"\n",
      "Reading \"DNB\"\n",
      "Reading \"DNL\"\n",
      "Reading \"DNLI\"\n",
      "Reading \"DNN\"\n",
      "Reading \"DNOW\"\n",
      "Reading \"DNP\"\n",
      "Reading \"DNZ\"\n",
      "Reading \"DNZ.U\"\n",
      "Reading \"DOC\"\n",
      "Reading \"DOCN\"\n",
      "Reading \"DOCT\"\n",
      "Reading \"DOCU\"\n",
      "Reading \"DOG\"\n",
      "Reading \"DOGZ\"\n"
     ]
    },
    {
     "name": "stderr",
     "output_type": "stream",
     "text": [
      "sleep 3 seconds and retrying https://data.alpaca.markets/v1/bars/day 3 more time(s)...\n"
     ]
    },
    {
     "name": "stdout",
     "output_type": "stream",
     "text": [
      "Reading \"DOL\"\n",
      "Reading \"DOMO\"\n",
      "Reading \"DON\"\n",
      "Reading \"DOO\"\n",
      "Reading \"DOOO\"\n",
      "Reading \"DOOR\"\n",
      "Reading \"DORM\"\n",
      "Reading \"DOV\"\n",
      "Reading \"DOX\"\n",
      "Reading \"DOYU\"\n",
      "Reading \"DPG\"\n",
      "Reading \"DPST\"\n",
      "Reading \"DQ\"\n",
      "Reading \"DRE\"\n",
      "Reading \"DRH\"\n",
      "Reading \"DRI\"\n",
      "Reading \"DRIO\"\n",
      "Reading \"DRIP\"\n",
      "Reading \"DRIV\"\n",
      "Reading \"DRN\"\n",
      "Reading \"DRNA\"\n",
      "Reading \"DRQ\"\n",
      "Reading \"DRRX\"\n",
      "Reading \"DRSK\"\n"
     ]
    },
    {
     "name": "stderr",
     "output_type": "stream",
     "text": [
      "sleep 3 seconds and retrying https://data.alpaca.markets/v1/bars/day 3 more time(s)...\n"
     ]
    },
    {
     "name": "stdout",
     "output_type": "stream",
     "text": [
      "Reading \"DRTT\"\n",
      "Reading \"DRUA\"\n",
      "Reading \"DRVN\"\n",
      "Reading \"DRW\"\n",
      "Reading \"DSAC\"\n",
      "Reading \"DSACU\"\n",
      "Reading \"DSE\"\n",
      "Reading \"DSGN\"\n",
      "Reading \"DSGX\"\n",
      "Reading \"DSI\"\n",
      "Reading \"DSJA\"\n",
      "Reading \"DSKE\"\n",
      "Reading \"DSM\"\n",
      "Reading \"DSOC\"\n",
      "Reading \"DSP\"\n",
      "Reading \"DSPG\"\n",
      "Reading \"DSSI\"\n"
     ]
    },
    {
     "name": "stderr",
     "output_type": "stream",
     "text": [
      "sleep 3 seconds and retrying https://data.alpaca.markets/v1/bars/day 3 more time(s)...\n"
     ]
    },
    {
     "name": "stdout",
     "output_type": "stream",
     "text": [
      "Reading \"DSTL\"\n",
      "Reading \"DSTX\"\n",
      "Reading \"DSU\"\n",
      "Reading \"DSWL\"\n",
      "Reading \"DT\"\n",
      "Reading \"DTB\"\n",
      "Reading \"DTD\"\n",
      "Reading \"DTE\"\n",
      "Reading \"DTEA\"\n",
      "Reading \"DTH\"\n",
      "Reading \"DTIL\"\n",
      "Reading \"DTJ\"\n",
      "Reading \"DTN\"\n",
      "Reading \"DTP\"\n",
      "Reading \"DTSS\"\n",
      "Reading \"DTW\"\n",
      "Reading \"DTY\"\n",
      "Reading \"DUK\"\n",
      "Reading \"DUKB\"\n",
      "Reading \"DUKH\"\n",
      "Reading \"DUNE\"\n",
      "Reading \"DUNEU\"\n"
     ]
    },
    {
     "name": "stderr",
     "output_type": "stream",
     "text": [
      "sleep 3 seconds and retrying https://data.alpaca.markets/v1/bars/day 3 more time(s)...\n"
     ]
    },
    {
     "name": "stdout",
     "output_type": "stream",
     "text": [
      "Reading \"DUOT\"\n",
      "Reading \"DURA\"\n",
      "Reading \"DUSA\"\n",
      "Reading \"DUSL\"\n",
      "Reading \"DUST\"\n",
      "Reading \"DV\"\n",
      "Reading \"DVA\"\n",
      "Reading \"DVAX\"\n",
      "Reading \"DVLU\"\n",
      "Reading \"DVN\"\n",
      "Reading \"DVOL\"\n",
      "Reading \"DVY\"\n",
      "Reading \"DVYA\"\n"
     ]
    },
    {
     "name": "stderr",
     "output_type": "stream",
     "text": [
      "sleep 3 seconds and retrying https://data.alpaca.markets/v1/bars/day 3 more time(s)...\n"
     ]
    },
    {
     "name": "stdout",
     "output_type": "stream",
     "text": [
      "Reading \"DVYE\"\n",
      "Reading \"DWAS\"\n",
      "Reading \"DWAT\"\n",
      "Reading \"DWAW\"\n",
      "Reading \"DWCR\"\n",
      "Reading \"DWEQ\"\n",
      "Reading \"DWIN\"\n",
      "Reading \"DWIN.U\"\n",
      "Reading \"DWLD\"\n",
      "Reading \"DWM\"\n",
      "Reading \"DWMC\"\n",
      "Reading \"DWMF\"\n",
      "Reading \"DWPP\"\n",
      "Reading \"DWSH\"\n"
     ]
    },
    {
     "name": "stderr",
     "output_type": "stream",
     "text": [
      "sleep 3 seconds and retrying https://data.alpaca.markets/v1/bars/day 3 more time(s)...\n"
     ]
    },
    {
     "name": "stdout",
     "output_type": "stream",
     "text": [
      "Reading \"DWSN\"\n",
      "Reading \"DWUS\"\n",
      "Reading \"DWX\"\n",
      "Reading \"DX\"\n",
      "Reading \"DXCM\"\n",
      "Reading \"DXD\"\n",
      "Reading \"DXF\"\n",
      "Reading \"DXGE\"\n",
      "Reading \"DXJS\"\n",
      "Reading \"DTF\"\n",
      "Reading \"DXJ\"\n",
      "Reading \"DXPE\"\n"
     ]
    },
    {
     "name": "stderr",
     "output_type": "stream",
     "text": [
      "sleep 3 seconds and retrying https://data.alpaca.markets/v1/bars/day 3 more time(s)...\n"
     ]
    },
    {
     "name": "stdout",
     "output_type": "stream",
     "text": [
      "Reading \"DY\"\n",
      "Reading \"DYAI\"\n",
      "Reading \"DYFN\"\n",
      "Reading \"DYHG\"\n",
      "Reading \"DYN\"\n",
      "Reading \"DYNF\"\n",
      "Reading \"DYNT\"\n",
      "Reading \"DZSI\"\n",
      "Reading \"DZZ\"\n",
      "Reading \"E\"\n",
      "Reading \"EA\"\n",
      "Reading \"EAC\"\n",
      "Reading \"EACPU\"\n",
      "Reading \"EAD\"\n"
     ]
    },
    {
     "name": "stderr",
     "output_type": "stream",
     "text": [
      "sleep 3 seconds and retrying https://data.alpaca.markets/v1/bars/day 3 more time(s)...\n"
     ]
    },
    {
     "name": "stdout",
     "output_type": "stream",
     "text": [
      "Reading \"EAF\"\n",
      "Reading \"EAGG\"\n",
      "Reading \"EAI\"\n",
      "Reading \"EAOA\"\n",
      "Reading \"EAOK\"\n",
      "Reading \"EAOM\"\n",
      "Reading \"EAOR\"\n",
      "Reading \"EAPR\"\n",
      "Reading \"EAR\"\n",
      "Reading \"EARN\"\n",
      "Reading \"EARS\"\n",
      "Reading \"EASG\"\n",
      "Reading \"EAST\"\n",
      "Reading \"EAT\"\n"
     ]
    },
    {
     "name": "stderr",
     "output_type": "stream",
     "text": [
      "sleep 3 seconds and retrying https://data.alpaca.markets/v1/bars/day 3 more time(s)...\n"
     ]
    },
    {
     "name": "stdout",
     "output_type": "stream",
     "text": [
      "Reading \"EATZ\"\n",
      "Reading \"EBACU\"\n",
      "Reading \"EBC\"\n",
      "Reading \"EBET\"\n",
      "Reading \"EBIX\"\n",
      "Reading \"EBIZ\"\n",
      "Reading \"EBLU\"\n",
      "Reading \"EBMT\"\n",
      "Reading \"EBND\"\n",
      "Reading \"EBON\"\n",
      "Reading \"EBR\"\n",
      "Reading \"EBR.B\"\n"
     ]
    },
    {
     "name": "stderr",
     "output_type": "stream",
     "text": [
      "sleep 3 seconds and retrying https://data.alpaca.markets/v1/bars/day 3 more time(s)...\n"
     ]
    },
    {
     "name": "stdout",
     "output_type": "stream",
     "text": [
      "Reading \"EBSB\"\n",
      "Reading \"EBTC\"\n",
      "Reading \"EC\"\n",
      "Reading \"ECC\"\n",
      "Reading \"ECCB\"\n",
      "Reading \"ECCW\"\n",
      "Reading \"ECCX\"\n",
      "Reading \"ECCY\"\n",
      "Reading \"ECF\"\n",
      "Reading \"ECH\"\n",
      "Reading \"ECHO\"\n",
      "Reading \"ECL\"\n",
      "Reading \"ECLN\"\n",
      "Reading \"ECNS\"\n",
      "Reading \"ECOL\"\n"
     ]
    },
    {
     "name": "stderr",
     "output_type": "stream",
     "text": [
      "sleep 3 seconds and retrying https://data.alpaca.markets/v1/bars/day 3 more time(s)...\n"
     ]
    },
    {
     "name": "stdout",
     "output_type": "stream",
     "text": [
      "Reading \"ECOM\"\n",
      "Reading \"ECON\"\n",
      "Reading \"ECOR\"\n",
      "Reading \"ECOW\"\n",
      "Reading \"ECOZ\"\n",
      "Reading \"ECPG\"\n",
      "Reading \"ED\"\n",
      "Reading \"EDAP\"\n",
      "Reading \"EDC\"\n",
      "Reading \"EDEN\"\n",
      "Reading \"EDF\"\n",
      "Reading \"EDI\"\n",
      "Reading \"EDIT\"\n",
      "Reading \"EDIV\"\n",
      "Reading \"EDN\"\n",
      "Reading \"EDOC\"\n",
      "Reading \"EDOG\"\n"
     ]
    },
    {
     "name": "stderr",
     "output_type": "stream",
     "text": [
      "sleep 3 seconds and retrying https://data.alpaca.markets/v1/bars/day 3 more time(s)...\n"
     ]
    },
    {
     "name": "stdout",
     "output_type": "stream",
     "text": [
      "Reading \"EDOW\"\n",
      "Reading \"EDR\"\n",
      "Reading \"EDSA\"\n",
      "Reading \"EDTK\"\n",
      "Reading \"EBAY\"\n",
      "Reading \"EDTX\"\n",
      "Reading \"EDTXU\"\n",
      "Reading \"EDU\"\n",
      "Reading \"EDUC\"\n",
      "Reading \"EDUT\"\n",
      "Reading \"EDV\"\n",
      "Reading \"EDZ\"\n",
      "Reading \"EEA\"\n"
     ]
    },
    {
     "name": "stderr",
     "output_type": "stream",
     "text": [
      "sleep 3 seconds and retrying https://data.alpaca.markets/v1/bars/day 3 more time(s)...\n"
     ]
    },
    {
     "name": "stdout",
     "output_type": "stream",
     "text": [
      "Reading \"EEFT\"\n",
      "Reading \"EEH\"\n",
      "Reading \"EEIQ\"\n",
      "Reading \"EELV\"\n",
      "Reading \"EEMD\"\n",
      "Reading \"EEMO\"\n",
      "Reading \"EEMS\"\n",
      "Reading \"EEMV\"\n",
      "Reading \"EEMX\"\n",
      "Reading \"EET\"\n",
      "Reading \"EEV\"\n",
      "Reading \"EEX\"\n",
      "Reading \"EFA\"\n",
      "Reading \"EFAS\"\n",
      "Reading \"EFAV\"\n",
      "Reading \"EFAX\"\n"
     ]
    },
    {
     "name": "stderr",
     "output_type": "stream",
     "text": [
      "sleep 3 seconds and retrying https://data.alpaca.markets/v1/bars/day 3 more time(s)...\n"
     ]
    },
    {
     "name": "stdout",
     "output_type": "stream",
     "text": [
      "Reading \"EFC\"\n",
      "Reading \"EFF\"\n",
      "Reading \"EFIV\"\n",
      "Reading \"EFIX\"\n",
      "Reading \"EFL\"\n",
      "Reading \"EFNL\"\n",
      "Reading \"EFR\"\n",
      "Reading \"EFSC\"\n",
      "Reading \"EFT\"\n",
      "Reading \"EFU\"\n",
      "Reading \"EFV\"\n"
     ]
    },
    {
     "name": "stderr",
     "output_type": "stream",
     "text": [
      "sleep 3 seconds and retrying https://data.alpaca.markets/v1/bars/day 3 more time(s)...\n"
     ]
    },
    {
     "name": "stdout",
     "output_type": "stream",
     "text": [
      "Reading \"EFZ\"\n",
      "Reading \"EGAN\"\n",
      "Reading \"EGBN\"\n",
      "Reading \"EGF\"\n",
      "Reading \"EGHT\"\n",
      "Reading \"EGLE\"\n",
      "Reading \"EGLX\"\n",
      "Reading \"EGO\"\n",
      "Reading \"EGP\"\n",
      "Reading \"EGPT\"\n",
      "Reading \"EGRX\"\n",
      "Reading \"EGY\"\n",
      "Reading \"EH\"\n",
      "Reading \"EHC\"\n",
      "Reading \"EHI\"\n"
     ]
    },
    {
     "name": "stderr",
     "output_type": "stream",
     "text": [
      "sleep 3 seconds and retrying https://data.alpaca.markets/v1/bars/day 3 more time(s)...\n"
     ]
    },
    {
     "name": "stdout",
     "output_type": "stream",
     "text": [
      "Reading \"EHT\"\n",
      "Reading \"EHTH\"\n",
      "Reading \"EIC\"\n",
      "Reading \"EIDO\"\n",
      "Reading \"EIG\"\n",
      "Reading \"EIGR\"\n",
      "Reading \"EIM\"\n",
      "Reading \"EINC\"\n",
      "Reading \"EIRL\"\n",
      "Reading \"EIS\"\n",
      "Reading \"EIX\"\n",
      "Reading \"EJAN\"\n",
      "Reading \"EJFA\"\n",
      "Reading \"EJUL\"\n",
      "Reading \"EKAR\"\n"
     ]
    },
    {
     "name": "stderr",
     "output_type": "stream",
     "text": [
      "sleep 3 seconds and retrying https://data.alpaca.markets/v1/bars/day 3 more time(s)...\n"
     ]
    },
    {
     "name": "stdout",
     "output_type": "stream",
     "text": [
      "Reading \"EKSO\"\n",
      "Reading \"EL\"\n",
      "Reading \"ELA\"\n",
      "Reading \"ELAN\"\n",
      "Reading \"ELAT\"\n",
      "Reading \"ELC\"\n",
      "Reading \"ELD\"\n",
      "Reading \"ELDN\"\n",
      "Reading \"ELF\"\n",
      "Reading \"ELLO\"\n",
      "Reading \"ELMD\"\n",
      "Reading \"ELOX\"\n",
      "Reading \"ELP\"\n",
      "Reading \"ELS\"\n",
      "Reading \"ELSE\"\n"
     ]
    },
    {
     "name": "stderr",
     "output_type": "stream",
     "text": [
      "sleep 3 seconds and retrying https://data.alpaca.markets/v1/bars/day 3 more time(s)...\n"
     ]
    },
    {
     "name": "stdout",
     "output_type": "stream",
     "text": [
      "Reading \"ELTK\"\n",
      "Reading \"ELVT\"\n",
      "Reading \"ELY\"\n",
      "Reading \"ELYS\"\n",
      "Reading \"EM\"\n",
      "Reading \"EMAG\"\n",
      "Reading \"EMAN\"\n",
      "Reading \"EMB\"\n",
      "Reading \"EMBD\"\n",
      "Reading \"EMBH\"\n",
      "Reading \"EMCB\"\n",
      "Reading \"EMCF\"\n",
      "Reading \"EMD\"\n",
      "Reading \"EMDV\"\n",
      "Reading \"EME\"\n",
      "Reading \"EMFM\"\n",
      "Reading \"EMGF\"\n",
      "Reading \"EMHC\"\n",
      "Reading \"EMHY\"\n",
      "Reading \"EMIF\"\n",
      "Reading \"EMKR\"\n",
      "Reading \"EML\"\n",
      "Reading \"EMLC\"\n",
      "Reading \"EMMF\"\n",
      "Reading \"EMNT\"\n",
      "Reading \"EMO\"\n",
      "Reading \"EMP\"\n",
      "Reading \"EMPW\"\n",
      "Reading \"EMPW.U\"\n",
      "Reading \"EMQQ\"\n",
      "Reading \"EMR\"\n",
      "Reading \"EMSG\"\n",
      "Reading \"EMSH\"\n",
      "Reading \"EMTL\"\n",
      "Reading \"EMTY\"\n",
      "Reading \"EMX\"\n",
      "Reading \"EMXC\"\n",
      "Reading \"EMXF\"\n",
      "Reading \"ENB\"\n",
      "Reading \"ENBA\"\n",
      "Reading \"ENBL\"\n",
      "Reading \"ENDP\"\n",
      "Reading \"ENFA\"\n",
      "Reading \"ENFAU\"\n",
      "Reading \"ENFR\"\n",
      "Reading \"ENG\"\n",
      "Reading \"ENIA\"\n",
      "Reading \"ENIC\"\n",
      "Reading \"ENJ\"\n",
      "Reading \"ENLC\"\n",
      "Reading \"ENLV\"\n",
      "Reading \"ENNV\"\n",
      "Reading \"ENNVU\"\n",
      "Reading \"ENO\"\n",
      "Reading \"ENOB\"\n",
      "Reading \"ENOR\"\n",
      "Reading \"ENPC\"\n",
      "Reading \"ENPC.U\"\n",
      "Reading \"ENR\"\n",
      "Reading \"ENS\"\n",
      "Reading \"ENSG\"\n",
      "Reading \"ENSV\"\n",
      "Reading \"ENTA\"\n",
      "Reading \"ENTG\"\n",
      "Reading \"ENTR\"\n",
      "Reading \"ENTX\"\n",
      "Reading \"ENV\"\n"
     ]
    },
    {
     "name": "stderr",
     "output_type": "stream",
     "text": [
      "sleep 3 seconds and retrying https://data.alpaca.markets/v1/bars/day 3 more time(s)...\n"
     ]
    },
    {
     "name": "stdout",
     "output_type": "stream",
     "text": [
      "Reading \"ENVA\"\n",
      "Reading \"ENVB\"\n",
      "Reading \"ENVI\"\n",
      "Reading \"ENVIU\"\n",
      "Reading \"ENX\"\n",
      "Reading \"ENZ\"\n",
      "Reading \"ENZL\"\n",
      "Reading \"EOD\"\n",
      "Reading \"EOG\"\n",
      "Reading \"EOI\"\n",
      "Reading \"EOLS\"\n",
      "Reading \"EOS\"\n",
      "Reading \"EOSE\"\n",
      "Reading \"EOT\"\n",
      "Reading \"EPAC\"\n",
      "Reading \"EPAM\"\n",
      "Reading \"EPAY\"\n",
      "Reading \"EPC\"\n",
      "Reading \"EPD\"\n"
     ]
    },
    {
     "name": "stderr",
     "output_type": "stream",
     "text": [
      "sleep 3 seconds and retrying https://data.alpaca.markets/v1/bars/day 3 more time(s)...\n"
     ]
    },
    {
     "name": "stdout",
     "output_type": "stream",
     "text": [
      "Reading \"EPHE\"\n",
      "Reading \"EPHY\"\n",
      "Reading \"EPHYU\"\n",
      "Reading \"EPI\"\n",
      "Reading \"EPIX\"\n",
      "Reading \"EPM\"\n",
      "Reading \"EPOL\"\n",
      "Reading \"EPP\"\n",
      "Reading \"EPR\"\n",
      "Reading \"EPRF\"\n",
      "Reading \"EPRT\"\n",
      "Reading \"EPS\"\n",
      "Reading \"EPU\"\n",
      "Reading \"EPV\"\n",
      "Reading \"EPWR\"\n",
      "Reading \"EPWR.U\"\n",
      "Reading \"EPZM\"\n",
      "Reading \"EQ\"\n",
      "Reading \"EQAL\"\n",
      "Reading \"EQBK\"\n",
      "Reading \"EQD\"\n"
     ]
    },
    {
     "name": "stderr",
     "output_type": "stream",
     "text": [
      "sleep 3 seconds and retrying https://data.alpaca.markets/v1/bars/day 3 more time(s)...\n"
     ]
    },
    {
     "name": "stdout",
     "output_type": "stream",
     "text": [
      "Reading \"EQD.U\"\n",
      "Reading \"EQH\"\n",
      "Reading \"EQHA\"\n",
      "Reading \"EQHA.U\"\n",
      "Reading \"EQNR\"\n",
      "Reading \"EQOP\"\n",
      "Reading \"EQOS\"\n",
      "Reading \"EQR\"\n",
      "Reading \"EQT\"\n",
      "Reading \"EQWL\"\n",
      "Reading \"EQX\"\n",
      "Reading \"EFG\"\n",
      "Reading \"EQL\"\n"
     ]
    },
    {
     "name": "stderr",
     "output_type": "stream",
     "text": [
      "sleep 3 seconds and retrying https://data.alpaca.markets/v1/bars/day 3 more time(s)...\n"
     ]
    },
    {
     "name": "stdout",
     "output_type": "stream",
     "text": [
      "Reading \"ERC\"\n",
      "Reading \"ERES\"\n",
      "Reading \"ERESU\"\n",
      "Reading \"ERF\"\n",
      "Reading \"ERH\"\n",
      "Reading \"ERIC\"\n",
      "Reading \"ERIE\"\n",
      "Reading \"ERII\"\n",
      "Reading \"ERJ\"\n",
      "Reading \"ERM\"\n",
      "Reading \"ERSX\"\n",
      "Reading \"ERTH\"\n",
      "Reading \"ERUS\"\n"
     ]
    },
    {
     "name": "stderr",
     "output_type": "stream",
     "text": [
      "sleep 3 seconds and retrying https://data.alpaca.markets/v1/bars/day 3 more time(s)...\n"
     ]
    },
    {
     "name": "stdout",
     "output_type": "stream",
     "text": [
      "Reading \"ERX\"\n",
      "Reading \"ERY\"\n",
      "Reading \"ERYP\"\n",
      "Reading \"ES\"\n",
      "Reading \"ESBA\"\n",
      "Reading \"ESBK\"\n",
      "Reading \"ESCA\"\n",
      "Reading \"ESCR\"\n",
      "Reading \"ESEA\"\n",
      "Reading \"ESEB\"\n",
      "Reading \"ESG\"\n",
      "Reading \"ESGA\"\n",
      "Reading \"ESGC\"\n",
      "Reading \"ESGD\"\n",
      "Reading \"ESGE\"\n",
      "Reading \"ESGG\"\n",
      "Reading \"ESGN\"\n"
     ]
    },
    {
     "name": "stderr",
     "output_type": "stream",
     "text": [
      "sleep 3 seconds and retrying https://data.alpaca.markets/v1/bars/day 3 more time(s)...\n"
     ]
    },
    {
     "name": "stdout",
     "output_type": "stream",
     "text": [
      "Reading \"ESGR\"\n",
      "Reading \"ESGRO\"\n",
      "Reading \"ESGRP\"\n",
      "Reading \"ESGS\"\n",
      "Reading \"ESGU\"\n",
      "Reading \"ESGV\"\n",
      "Reading \"ESHY\"\n",
      "Reading \"ESI\"\n",
      "Reading \"ESLT\"\n",
      "Reading \"ESM\"\n",
      "Reading \"ESM.U\"\n",
      "Reading \"ESML\"\n",
      "Reading \"ESNG\"\n",
      "Reading \"ESP\"\n"
     ]
    },
    {
     "name": "stderr",
     "output_type": "stream",
     "text": [
      "sleep 3 seconds and retrying https://data.alpaca.markets/v1/bars/day 3 more time(s)...\n"
     ]
    },
    {
     "name": "stdout",
     "output_type": "stream",
     "text": [
      "Reading \"ESPO\"\n",
      "Reading \"ESPR\"\n",
      "Reading \"ESQ\"\n",
      "Reading \"ESRT\"\n",
      "Reading \"ESS\"\n",
      "Reading \"ESSA\"\n",
      "Reading \"ESSC\"\n",
      "Reading \"ESSCR\"\n",
      "Reading \"ESSCU\"\n",
      "Reading \"ESTA\"\n",
      "Reading \"ESTC\"\n",
      "Reading \"ESTE\"\n"
     ]
    },
    {
     "name": "stderr",
     "output_type": "stream",
     "text": [
      "sleep 3 seconds and retrying https://data.alpaca.markets/v1/bars/day 3 more time(s)...\n"
     ]
    },
    {
     "name": "stdout",
     "output_type": "stream",
     "text": [
      "Reading \"ESXB\"\n",
      "Reading \"ET\"\n",
      "Reading \"ETAC\"\n",
      "Reading \"ETACU\"\n",
      "Reading \"ETB\"\n",
      "Reading \"ETG\"\n",
      "Reading \"ETH\"\n",
      "Reading \"ETHO\"\n",
      "Reading \"ETJ\"\n",
      "Reading \"ETN\"\n",
      "Reading \"ETNB\"\n",
      "Reading \"ETO\"\n",
      "Reading \"ETON\"\n",
      "Reading \"ETR\"\n"
     ]
    },
    {
     "name": "stderr",
     "output_type": "stream",
     "text": [
      "sleep 3 seconds and retrying https://data.alpaca.markets/v1/bars/day 3 more time(s)...\n"
     ]
    },
    {
     "name": "stdout",
     "output_type": "stream",
     "text": [
      "Reading \"ETRN\"\n",
      "Reading \"ETSY\"\n",
      "Reading \"ETTX\"\n",
      "Reading \"ETV\"\n",
      "Reading \"EMN\"\n",
      "Reading \"ETW\"\n",
      "Reading \"ETWO\"\n",
      "Reading \"ETX\"\n",
      "Reading \"ETY\"\n",
      "Reading \"EUCG\"\n",
      "Reading \"EUCR\"\n",
      "Reading \"EUCRU\"\n",
      "Reading \"EUDG\"\n"
     ]
    },
    {
     "name": "stderr",
     "output_type": "stream",
     "text": [
      "sleep 3 seconds and retrying https://data.alpaca.markets/v1/bars/day 3 more time(s)...\n"
     ]
    },
    {
     "name": "stdout",
     "output_type": "stream",
     "text": [
      "Reading \"EUDV\"\n",
      "Reading \"EUFN\"\n",
      "Reading \"EUFX\"\n",
      "Reading \"EUM\"\n",
      "Reading \"EUO\"\n",
      "Reading \"EURN\"\n",
      "Reading \"EURZ\"\n",
      "Reading \"EUSA\"\n",
      "Reading \"EUSB\"\n",
      "Reading \"EUSC\"\n",
      "Reading \"EUSG\"\n",
      "Reading \"EUSGU\"\n",
      "Reading \"EVA\"\n",
      "Reading \"EVBG\"\n"
     ]
    },
    {
     "name": "stderr",
     "output_type": "stream",
     "text": [
      "sleep 3 seconds and retrying https://data.alpaca.markets/v1/bars/day 3 more time(s)...\n"
     ]
    },
    {
     "name": "stdout",
     "output_type": "stream",
     "text": [
      "Reading \"EVBN\"\n",
      "Reading \"EVC\"\n",
      "Reading \"EVER\"\n",
      "Reading \"EVF\"\n",
      "Reading \"EVFM\"\n",
      "Reading \"EVG\"\n",
      "Reading \"EVGN\"\n",
      "Reading \"EVH\"\n",
      "Reading \"EVI\"\n",
      "Reading \"EVK\"\n",
      "Reading \"EVLO\"\n",
      "Reading \"EVM\"\n",
      "Reading \"EVN\"\n",
      "Reading \"EVOJ\"\n",
      "Reading \"EVOJU\"\n",
      "Reading \"EVOK\"\n",
      "Reading \"EVOL\"\n",
      "Reading \"EVOP\"\n",
      "Reading \"EVRI\"\n",
      "Reading \"EVTC\"\n",
      "Reading \"EVV\"\n",
      "Reading \"EVX\"\n"
     ]
    },
    {
     "name": "stderr",
     "output_type": "stream",
     "text": [
      "sleep 3 seconds and retrying https://data.alpaca.markets/v1/bars/day 3 more time(s)...\n"
     ]
    },
    {
     "name": "stdout",
     "output_type": "stream",
     "text": [
      "Reading \"EVY\"\n",
      "Reading \"EW\"\n",
      "Reading \"EWA\"\n",
      "Reading \"EWBC\"\n",
      "Reading \"EWC\"\n",
      "Reading \"EWCO\"\n",
      "Reading \"EWD\"\n",
      "Reading \"EWEB\"\n",
      "Reading \"EWG\"\n",
      "Reading \"EWGS\"\n",
      "Reading \"EWH\"\n",
      "Reading \"EWI\"\n",
      "Reading \"EWJ\"\n",
      "Reading \"EWJE\"\n",
      "Reading \"EWJV\"\n",
      "Reading \"EWK\"\n",
      "Reading \"EWL\"\n",
      "Reading \"EWM\"\n",
      "Reading \"EWMC\"\n",
      "Reading \"EWN\"\n",
      "Reading \"EWO\"\n",
      "Reading \"EWP\"\n",
      "Reading \"EWQ\"\n",
      "Reading \"EWRE\"\n",
      "Reading \"EWS\"\n",
      "Reading \"EWSC\"\n",
      "Reading \"EWT\"\n",
      "Reading \"EWU\"\n",
      "Reading \"EWUS\"\n",
      "Reading \"EWV\"\n",
      "Reading \"EWW\"\n",
      "Reading \"EWX\"\n",
      "Reading \"EWY\"\n",
      "Reading \"EWZ\"\n",
      "Reading \"EWZS\"\n",
      "Reading \"EXAS\"\n",
      "Reading \"EXC\"\n",
      "Reading \"EXD\"\n",
      "Reading \"EXEL\"\n",
      "Reading \"EXG\"\n",
      "Reading \"EXI\"\n",
      "Reading \"EXK\"\n",
      "Reading \"EXLS\"\n"
     ]
    },
    {
     "name": "stderr",
     "output_type": "stream",
     "text": [
      "sleep 3 seconds and retrying https://data.alpaca.markets/v1/bars/day 3 more time(s)...\n"
     ]
    },
    {
     "name": "stdout",
     "output_type": "stream",
     "text": [
      "Reading \"EXN\"\n",
      "Reading \"EXP\"\n",
      "Reading \"EXPD\"\n",
      "Reading \"EXPE\"\n",
      "Reading \"EXPI\"\n",
      "Reading \"EXPO\"\n",
      "Reading \"EXPR\"\n",
      "Reading \"EXR\"\n",
      "Reading \"EXTN\"\n",
      "Reading \"EXTR\"\n",
      "Reading \"EYE\"\n",
      "Reading \"EYEG\"\n",
      "Reading \"EYEN\"\n",
      "Reading \"EYES\"\n",
      "Reading \"EYLD\"\n",
      "Reading \"EYPT\"\n",
      "Reading \"EZA\"\n",
      "Reading \"EZGO\"\n",
      "Reading \"EZJ\"\n",
      "Reading \"EZM\"\n",
      "Reading \"EZPW\"\n",
      "Reading \"EZU\"\n",
      "Reading \"FAAR\"\n"
     ]
    },
    {
     "name": "stderr",
     "output_type": "stream",
     "text": [
      "sleep 3 seconds and retrying https://data.alpaca.markets/v1/bars/day 3 more time(s)...\n"
     ]
    },
    {
     "name": "stdout",
     "output_type": "stream",
     "text": [
      "Reading \"FAB\"\n",
      "Reading \"FACA\"\n",
      "Reading \"FACA.U\"\n",
      "Reading \"FACT\"\n",
      "Reading \"FACT.U\"\n",
      "Reading \"FAD\"\n",
      "Reading \"FAF\"\n",
      "Reading \"FAII\"\n",
      "Reading \"FAII.U\"\n",
      "Reading \"FAIL\"\n",
      "Reading \"FALN\"\n",
      "Reading \"FAM\"\n",
      "Reading \"FAMI\"\n",
      "Reading \"FAN\"\n",
      "Reading \"FANH\"\n",
      "Reading \"FAPR\"\n",
      "Reading \"FARM\"\n",
      "Reading \"FARO\"\n",
      "Reading \"FAS\"\n",
      "Reading \"FAST\"\n",
      "Reading \"FAT\"\n"
     ]
    },
    {
     "name": "stderr",
     "output_type": "stream",
     "text": [
      "sleep 3 seconds and retrying https://data.alpaca.markets/v1/bars/day 3 more time(s)...\n"
     ]
    },
    {
     "name": "stdout",
     "output_type": "stream",
     "text": [
      "Reading \"FATBP\"\n",
      "Reading \"FATE\"\n",
      "Reading \"FAUG\"\n",
      "Reading \"FAX\"\n",
      "Reading \"FAZ\"\n",
      "Reading \"FB\"\n",
      "Reading \"FBC\"\n",
      "Reading \"FBCG\"\n",
      "Reading \"FBCV\"\n",
      "Reading \"FBGX\"\n",
      "Reading \"FBHS\"\n",
      "Reading \"FBIO\"\n",
      "Reading \"FBIOP\"\n",
      "Reading \"FBIZ\"\n",
      "Reading \"FBK\"\n",
      "Reading \"FBMS\"\n",
      "Reading \"FBNC\"\n",
      "Reading \"FBND\"\n",
      "Reading \"FBP\"\n",
      "Reading \"FBT\"\n",
      "Reading \"FBZ\"\n",
      "Reading \"FC\"\n"
     ]
    },
    {
     "name": "stderr",
     "output_type": "stream",
     "text": [
      "sleep 3 seconds and retrying https://data.alpaca.markets/v1/bars/day 3 more time(s)...\n"
     ]
    },
    {
     "name": "stdout",
     "output_type": "stream",
     "text": [
      "Reading \"FCA\"\n",
      "Reading \"FCAC\"\n",
      "Reading \"FCACU\"\n",
      "Reading \"FCAL\"\n",
      "Reading \"FCAP\"\n",
      "Reading \"FCAX\"\n",
      "Reading \"FCAX.U\"\n",
      "Reading \"FCBC\"\n",
      "Reading \"FCBP\"\n",
      "Reading \"FCCO\"\n",
      "Reading \"FCCY\"\n",
      "Reading \"FCEF\"\n",
      "Reading \"FCEL\"\n",
      "Reading \"FCF\"\n"
     ]
    },
    {
     "name": "stderr",
     "output_type": "stream",
     "text": [
      "sleep 3 seconds and retrying https://data.alpaca.markets/v1/bars/day 3 more time(s)...\n"
     ]
    },
    {
     "name": "stdout",
     "output_type": "stream",
     "text": [
      "Reading \"FCFS\"\n",
      "Reading \"FCG\"\n",
      "Reading \"FCNCA\"\n",
      "Reading \"FCNCP\"\n",
      "Reading \"FCO\"\n",
      "Reading \"FCOM\"\n",
      "Reading \"FCOR\"\n",
      "Reading \"FCPI\"\n",
      "Reading \"FCPT\"\n",
      "Reading \"FCRD\"\n",
      "Reading \"FCRW\"\n",
      "Reading \"FCRZ\"\n",
      "Reading \"FCT\"\n",
      "Reading \"FCTR\"\n",
      "Reading \"FCVT\"\n",
      "Reading \"FDBC\"\n",
      "Reading \"FDD\"\n"
     ]
    },
    {
     "name": "stderr",
     "output_type": "stream",
     "text": [
      "sleep 3 seconds and retrying https://data.alpaca.markets/v1/bars/day 3 more time(s)...\n"
     ]
    },
    {
     "name": "stdout",
     "output_type": "stream",
     "text": [
      "Reading \"FDEC\"\n",
      "Reading \"FDEM\"\n",
      "Reading \"FDEU\"\n",
      "Reading \"FDEV\"\n",
      "Reading \"FDG\"\n",
      "Reading \"FDHY\"\n",
      "Reading \"FDIS\"\n",
      "Reading \"FDIV\"\n",
      "Reading \"FDL\"\n",
      "Reading \"FDLO\"\n",
      "Reading \"FDM\"\n",
      "Reading \"FDMO\"\n",
      "Reading \"FDMT\"\n"
     ]
    },
    {
     "name": "stderr",
     "output_type": "stream",
     "text": [
      "sleep 3 seconds and retrying https://data.alpaca.markets/v1/bars/day 3 more time(s)...\n"
     ]
    },
    {
     "name": "stdout",
     "output_type": "stream",
     "text": [
      "Reading \"FDN\"\n",
      "Reading \"FDNI\"\n",
      "Reading \"FDP\"\n",
      "Reading \"FDRR\"\n",
      "Reading \"FDS\"\n",
      "Reading \"FDT\"\n",
      "Reading \"FDTS\"\n",
      "Reading \"FDUS\"\n",
      "Reading \"FDUSG\"\n",
      "Reading \"FDUSZ\"\n",
      "Reading \"FDVV\"\n",
      "Reading \"FE\"\n",
      "Reading \"FEBZ\"\n",
      "Reading \"FEDU\"\n",
      "Reading \"FEDX\"\n",
      "Reading \"FEI\"\n",
      "Reading \"FEIM\"\n",
      "Reading \"FELE\"\n",
      "Reading \"FEM\"\n",
      "Reading \"FEMB\"\n",
      "Reading \"FEMS\"\n",
      "Reading \"FEN\"\n"
     ]
    },
    {
     "name": "stderr",
     "output_type": "stream",
     "text": [
      "sleep 3 seconds and retrying https://data.alpaca.markets/v1/bars/day 3 more time(s)...\n"
     ]
    },
    {
     "name": "stdout",
     "output_type": "stream",
     "text": [
      "Reading \"FENC\"\n",
      "Reading \"FENG\"\n",
      "Reading \"FENY\"\n",
      "Reading \"FEO\"\n",
      "Reading \"FEP\"\n",
      "Reading \"FERG\"\n",
      "Reading \"FET\"\n",
      "Reading \"FEUL\"\n",
      "Reading \"FEUZ\"\n",
      "Reading \"FEVR\"\n",
      "Reading \"FEYE\"\n",
      "Reading \"FEZ\"\n",
      "Reading \"FF\"\n",
      "Reading \"FFA\"\n",
      "Reading \"FFBC\"\n",
      "Reading \"FFBW\"\n",
      "Reading \"FFC\"\n"
     ]
    },
    {
     "name": "stderr",
     "output_type": "stream",
     "text": [
      "sleep 3 seconds and retrying https://data.alpaca.markets/v1/bars/day 3 more time(s)...\n"
     ]
    },
    {
     "name": "stdout",
     "output_type": "stream",
     "text": [
      "Reading \"FFEB\"\n",
      "Reading \"FFG\"\n",
      "Reading \"FFHG\"\n",
      "Reading \"FFHL\"\n",
      "Reading \"FFIC\"\n",
      "Reading \"FFIN\"\n",
      "Reading \"FFIU\"\n",
      "Reading \"FFNW\"\n",
      "Reading \"FFR\"\n",
      "Reading \"FFSG\"\n",
      "Reading \"FFTG\"\n",
      "Reading \"FFTI\"\n",
      "Reading \"FFTY\"\n",
      "Reading \"FFWM\"\n",
      "Reading \"FGB\"\n",
      "Reading \"FGBIP\"\n",
      "Reading \"FGD\"\n",
      "Reading \"FGEN\"\n"
     ]
    },
    {
     "name": "stderr",
     "output_type": "stream",
     "text": [
      "sleep 3 seconds and retrying https://data.alpaca.markets/v1/bars/day 3 more time(s)...\n"
     ]
    },
    {
     "name": "stdout",
     "output_type": "stream",
     "text": [
      "Reading \"FGF\"\n",
      "Reading \"FGFPP\"\n",
      "Reading \"FGM\"\n",
      "Reading \"FGNA\"\n",
      "Reading \"FGNA.U\"\n",
      "Reading \"FGRO\"\n",
      "Reading \"FHB\"\n",
      "Reading \"FHI\"\n",
      "Reading \"FHLC\"\n",
      "Reading \"FHS\"\n",
      "Reading \"FHTX\"\n",
      "Reading \"FI\"\n"
     ]
    },
    {
     "name": "stderr",
     "output_type": "stream",
     "text": [
      "sleep 3 seconds and retrying https://data.alpaca.markets/v1/bars/day 3 more time(s)...\n"
     ]
    },
    {
     "name": "stdout",
     "output_type": "stream",
     "text": [
      "Reading \"FIBK\"\n",
      "Reading \"FIBR\"\n",
      "Reading \"FICO\"\n",
      "Reading \"FICS\"\n",
      "Reading \"FID\"\n",
      "Reading \"FIDI\"\n",
      "Reading \"FIDU\"\n",
      "Reading \"FIEE\"\n",
      "Reading \"FIF\"\n",
      "Reading \"FIGB\"\n",
      "Reading \"FIHD\"\n",
      "Reading \"FIII\"\n",
      "Reading \"FIIIU\"\n",
      "Reading \"FILL\"\n"
     ]
    },
    {
     "name": "stderr",
     "output_type": "stream",
     "text": [
      "sleep 3 seconds and retrying https://data.alpaca.markets/v1/bars/day 3 more time(s)...\n"
     ]
    },
    {
     "name": "stdout",
     "output_type": "stream",
     "text": [
      "Reading \"FINM\"\n",
      "Reading \"FINMU\"\n",
      "Reading \"FINS\"\n",
      "Reading \"FINV\"\n",
      "Reading \"FINX\"\n",
      "Reading \"FIS\"\n",
      "Reading \"FISI\"\n",
      "Reading \"FISK\"\n",
      "Reading \"FISR\"\n",
      "Reading \"FISV\"\n",
      "Reading \"FITB\"\n",
      "Reading \"FITBI\"\n"
     ]
    },
    {
     "name": "stderr",
     "output_type": "stream",
     "text": [
      "sleep 3 seconds and retrying https://data.alpaca.markets/v1/bars/day 3 more time(s)...\n"
     ]
    },
    {
     "name": "stdout",
     "output_type": "stream",
     "text": [
      "Reading \"FITBO\"\n",
      "Reading \"FITBP\"\n",
      "Reading \"FITE\"\n",
      "Reading \"FIV\"\n",
      "Reading \"FIVA\"\n",
      "Reading \"FIVE\"\n",
      "Reading \"FIVG\"\n",
      "Reading \"FIVN\"\n",
      "Reading \"FIW\"\n",
      "Reading \"FIX\"\n",
      "Reading \"FIXD\"\n",
      "Reading \"FIXX\"\n",
      "Reading \"FIZZ\"\n",
      "Reading \"FJAN\"\n",
      "Reading \"FJNK\"\n"
     ]
    },
    {
     "name": "stderr",
     "output_type": "stream",
     "text": [
      "sleep 3 seconds and retrying https://data.alpaca.markets/v1/bars/day 3 more time(s)...\n"
     ]
    },
    {
     "name": "stdout",
     "output_type": "stream",
     "text": [
      "Reading \"FJP\"\n",
      "Reading \"FJUL\"\n",
      "Reading \"FJUN\"\n",
      "Reading \"FKU\"\n",
      "Reading \"FKWL\"\n",
      "Reading \"FL\"\n",
      "Reading \"FLAC\"\n",
      "Reading \"FLACU\"\n",
      "Reading \"FLAU\"\n",
      "Reading \"FLAX\"\n",
      "Reading \"FLBL\"\n",
      "Reading \"FLBR\"\n",
      "Reading \"FLC\"\n"
     ]
    },
    {
     "name": "stderr",
     "output_type": "stream",
     "text": [
      "sleep 3 seconds and retrying https://data.alpaca.markets/v1/bars/day 3 more time(s)...\n"
     ]
    },
    {
     "name": "stdout",
     "output_type": "stream",
     "text": [
      "Reading \"FLCA\"\n",
      "Reading \"FLCB\"\n",
      "Reading \"FLCH\"\n",
      "Reading \"FLCO\"\n",
      "Reading \"FLDM\"\n",
      "Reading \"FLDR\"\n",
      "Reading \"FLEE\"\n",
      "Reading \"FLEH\"\n",
      "Reading \"FLEX\"\n",
      "Reading \"FLFR\"\n",
      "Reading \"FLGB\"\n",
      "Reading \"FLGE\"\n"
     ]
    },
    {
     "name": "stderr",
     "output_type": "stream",
     "text": [
      "sleep 3 seconds and retrying https://data.alpaca.markets/v1/bars/day 3 more time(s)...\n"
     ]
    },
    {
     "name": "stdout",
     "output_type": "stream",
     "text": [
      "Reading \"FLGR\"\n",
      "Reading \"FLGV\"\n",
      "Reading \"FLHK\"\n",
      "Reading \"FLHY\"\n",
      "Reading \"FLIA\"\n",
      "Reading \"FLIC\"\n",
      "Reading \"FLIN\"\n",
      "Reading \"FLIR\"\n",
      "Reading \"FLIY\"\n",
      "Reading \"FLJH\"\n",
      "Reading \"FLJP\"\n",
      "Reading \"FLKR\"\n",
      "Reading \"FLL\"\n",
      "Reading \"FLLA\"\n",
      "Reading \"FLM\"\n"
     ]
    },
    {
     "name": "stderr",
     "output_type": "stream",
     "text": [
      "sleep 3 seconds and retrying https://data.alpaca.markets/v1/bars/day 3 more time(s)...\n"
     ]
    },
    {
     "name": "stdout",
     "output_type": "stream",
     "text": [
      "Reading \"FLMB\"\n",
      "Reading \"FLME.U\"\n",
      "Reading \"FLMI\"\n",
      "Reading \"FLMN\"\n",
      "Reading \"FLMX\"\n",
      "Reading \"FLN\"\n",
      "Reading \"FLNG\"\n",
      "Reading \"FLNT\"\n",
      "Reading \"FLO\"\n",
      "Reading \"FLOT\"\n",
      "Reading \"FLOW\"\n",
      "Reading \"FLQD\"\n",
      "Reading \"FLQE\"\n",
      "Reading \"FLQG\"\n",
      "Reading \"FLQH\"\n"
     ]
    },
    {
     "name": "stderr",
     "output_type": "stream",
     "text": [
      "sleep 3 seconds and retrying https://data.alpaca.markets/v1/bars/day 3 more time(s)...\n"
     ]
    },
    {
     "name": "stdout",
     "output_type": "stream",
     "text": [
      "Reading \"FLQL\"\n",
      "Reading \"FLQM\"\n",
      "Reading \"FLQS\"\n",
      "Reading \"FLR\"\n",
      "Reading \"FLRG\"\n",
      "Reading \"FLRN\"\n",
      "Reading \"FLRT\"\n",
      "Reading \"FLS\"\n",
      "Reading \"FLSP\"\n",
      "Reading \"FLSW\"\n",
      "Reading \"FLT\"\n",
      "Reading \"FLTB\"\n",
      "Reading \"FLTR\"\n"
     ]
    },
    {
     "name": "stderr",
     "output_type": "stream",
     "text": [
      "sleep 3 seconds and retrying https://data.alpaca.markets/v1/bars/day 3 more time(s)...\n"
     ]
    },
    {
     "name": "stdout",
     "output_type": "stream",
     "text": [
      "Reading \"FLTW\"\n",
      "Reading \"FLUD\"\n",
      "Reading \"FLUX\"\n",
      "Reading \"FLSA\"\n",
      "Reading \"FLV\"\n",
      "Reading \"FLWS\"\n",
      "Reading \"FLXN\"\n",
      "Reading \"FLXS\"\n",
      "Reading \"FLY\"\n",
      "Reading \"FLYT\"\n",
      "Reading \"FLZA\"\n"
     ]
    },
    {
     "name": "stderr",
     "output_type": "stream",
     "text": [
      "sleep 3 seconds and retrying https://data.alpaca.markets/v1/bars/day 3 more time(s)...\n"
     ]
    },
    {
     "name": "stdout",
     "output_type": "stream",
     "text": [
      "Reading \"FM\"\n",
      "Reading \"FMAC\"\n",
      "Reading \"FMAC.U\"\n",
      "Reading \"FMAG\"\n",
      "Reading \"FMAO\"\n",
      "Reading \"FMAR\"\n",
      "Reading \"FMAT\"\n",
      "Reading \"FMAY\"\n",
      "Reading \"FMB\"\n",
      "Reading \"FMBI\"\n",
      "Reading \"FMBIO\"\n",
      "Reading \"FMBIP\"\n",
      "Reading \"FMC\"\n",
      "Reading \"FMF\"\n",
      "Reading \"FMHI\"\n"
     ]
    },
    {
     "name": "stderr",
     "output_type": "stream",
     "text": [
      "sleep 3 seconds and retrying https://data.alpaca.markets/v1/bars/day 3 more time(s)...\n"
     ]
    },
    {
     "name": "stdout",
     "output_type": "stream",
     "text": [
      "Reading \"FMIVU\"\n",
      "Reading \"FMN\"\n",
      "Reading \"FMNB\"\n",
      "Reading \"FMO\"\n",
      "Reading \"FMS\"\n",
      "Reading \"FMTX\"\n",
      "Reading \"FMX\"\n",
      "Reading \"FMY\"\n",
      "Reading \"FN\"\n",
      "Reading \"FNB\"\n",
      "Reading \"FNCB\"\n",
      "Reading \"FNCH\"\n",
      "Reading \"FNCL\"\n"
     ]
    },
    {
     "name": "stderr",
     "output_type": "stream",
     "text": [
      "sleep 3 seconds and retrying https://data.alpaca.markets/v1/bars/day 3 more time(s)...\n"
     ]
    },
    {
     "name": "stdout",
     "output_type": "stream",
     "text": [
      "Reading \"FND\"\n",
      "Reading \"FNDA\"\n",
      "Reading \"FNDB\"\n",
      "Reading \"FNDC\"\n",
      "Reading \"FNDE\"\n",
      "Reading \"FNDF\"\n",
      "Reading \"FNDX\"\n",
      "Reading \"FNF\"\n",
      "Reading \"FNGO\"\n",
      "Reading \"FNGU\"\n",
      "Reading \"FNGZ\"\n",
      "Reading \"FNHC\"\n",
      "Reading \"FNI\"\n",
      "Reading \"FNK\"\n",
      "Reading \"FNKO\"\n",
      "Reading \"FNLC\"\n"
     ]
    },
    {
     "name": "stderr",
     "output_type": "stream",
     "text": [
      "sleep 3 seconds and retrying https://data.alpaca.markets/v1/bars/day 3 more time(s)...\n"
     ]
    },
    {
     "name": "stdout",
     "output_type": "stream",
     "text": [
      "Reading \"FNOV\"\n",
      "Reading \"FNWB\"\n",
      "Reading \"FNX\"\n",
      "Reading \"FOCS\"\n",
      "Reading \"FOCT\"\n",
      "Reading \"FOF\"\n",
      "Reading \"FOLD\"\n",
      "Reading \"FONR\"\n",
      "Reading \"FOR\"\n",
      "Reading \"FORA\"\n",
      "Reading \"FORD\"\n"
     ]
    },
    {
     "name": "stderr",
     "output_type": "stream",
     "text": [
      "sleep 3 seconds and retrying https://data.alpaca.markets/v1/bars/day 3 more time(s)...\n"
     ]
    },
    {
     "name": "stdout",
     "output_type": "stream",
     "text": [
      "Reading \"FOREU\"\n",
      "Reading \"FORM\"\n",
      "Reading \"FORR\"\n",
      "Reading \"FORTY\"\n",
      "Reading \"FOSL\"\n",
      "Reading \"FOUR\"\n",
      "Reading \"FOVL\"\n",
      "Reading \"FOX\"\n",
      "Reading \"FOXA\"\n",
      "Reading \"FOXF\"\n",
      "Reading \"FOXW\"\n",
      "Reading \"FOXWU\"\n",
      "Reading \"FPA\"\n",
      "Reading \"FPAC\"\n",
      "Reading \"FPAC.U\"\n",
      "Reading \"FPAY\"\n"
     ]
    },
    {
     "name": "stderr",
     "output_type": "stream",
     "text": [
      "sleep 3 seconds and retrying https://data.alpaca.markets/v1/bars/day 3 more time(s)...\n"
     ]
    },
    {
     "name": "stdout",
     "output_type": "stream",
     "text": [
      "Reading \"FPE\"\n",
      "Reading \"FPEI\"\n",
      "Reading \"FPF\"\n",
      "Reading \"FPH\"\n",
      "Reading \"FPI\"\n",
      "Reading \"FPL\"\n",
      "Reading \"FPRO\"\n",
      "Reading \"FPX\"\n",
      "Reading \"FPXE\"\n",
      "Reading \"FPXI\"\n",
      "Reading \"FQAL\"\n",
      "Reading \"FR\"\n",
      "Reading \"FRA\"\n"
     ]
    },
    {
     "name": "stderr",
     "output_type": "stream",
     "text": [
      "sleep 3 seconds and retrying https://data.alpaca.markets/v1/bars/day 3 more time(s)...\n"
     ]
    },
    {
     "name": "stdout",
     "output_type": "stream",
     "text": [
      "Reading \"FRAF\"\n",
      "Reading \"FRAK\"\n",
      "Reading \"FRBA\"\n",
      "Reading \"FRBK\"\n",
      "Reading \"FRC\"\n",
      "Reading \"FRD\"\n",
      "Reading \"FRDM\"\n",
      "Reading \"FREE\"\n",
      "Reading \"FREL\"\n",
      "Reading \"FREQ\"\n",
      "Reading \"FRG\"\n",
      "Reading \"FRGAP\"\n",
      "Reading \"FRGI\"\n"
     ]
    },
    {
     "name": "stderr",
     "output_type": "stream",
     "text": [
      "sleep 3 seconds and retrying https://data.alpaca.markets/v1/bars/day 3 more time(s)...\n"
     ]
    },
    {
     "name": "stdout",
     "output_type": "stream",
     "text": [
      "Reading \"FRHC\"\n",
      "Reading \"FRLG\"\n",
      "Reading \"FRLN\"\n",
      "Reading \"FRME\"\n",
      "Reading \"FRO\"\n",
      "Reading \"FROG\"\n",
      "Reading \"FRONU\"\n",
      "Reading \"FRPH\"\n",
      "Reading \"FRPT\"\n",
      "Reading \"FRSG\"\n",
      "Reading \"FRSGU\"\n",
      "Reading \"FRST\"\n",
      "Reading \"FRSX\"\n",
      "Reading \"FRT\"\n",
      "Reading \"FRI\"\n"
     ]
    },
    {
     "name": "stderr",
     "output_type": "stream",
     "text": [
      "sleep 3 seconds and retrying https://data.alpaca.markets/v1/bars/day 3 more time(s)...\n"
     ]
    },
    {
     "name": "stdout",
     "output_type": "stream",
     "text": [
      "Reading \"FRTA\"\n",
      "Reading \"FRTY\"\n",
      "Reading \"FRWAU\"\n",
      "Reading \"FRX\"\n",
      "Reading \"FRX.U\"\n",
      "Reading \"FRXB.U\"\n",
      "Reading \"FSBC\"\n",
      "Reading \"FSBW\"\n",
      "Reading \"FSD\"\n",
      "Reading \"FSEA\"\n",
      "Reading \"FSEC\"\n",
      "Reading \"FSEP\"\n",
      "Reading \"FSFG\"\n",
      "Reading \"FSI\"\n",
      "Reading \"FSII\"\n"
     ]
    },
    {
     "name": "stderr",
     "output_type": "stream",
     "text": [
      "sleep 3 seconds and retrying https://data.alpaca.markets/v1/bars/day 3 more time(s)...\n"
     ]
    },
    {
     "name": "stdout",
     "output_type": "stream",
     "text": [
      "Reading \"FSK\"\n",
      "Reading \"FSKR\"\n",
      "Reading \"FSLF\"\n",
      "Reading \"FSLY\"\n",
      "Reading \"FSM\"\n",
      "Reading \"FSMB\"\n",
      "Reading \"FSMO\"\n",
      "Reading \"FSNB\"\n",
      "Reading \"FSNB.U\"\n",
      "Reading \"FSP\"\n",
      "Reading \"FSR\"\n",
      "Reading \"FSRV\"\n",
      "Reading \"FSRVU\"\n",
      "Reading \"FSRXU\"\n",
      "Reading \"FSS\"\n"
     ]
    },
    {
     "name": "stderr",
     "output_type": "stream",
     "text": [
      "sleep 3 seconds and retrying https://data.alpaca.markets/v1/bars/day 3 more time(s)...\n"
     ]
    },
    {
     "name": "stdout",
     "output_type": "stream",
     "text": [
      "Reading \"FSSI\"\n",
      "Reading \"FSSIU\"\n",
      "Reading \"FST\"\n",
      "Reading \"FST.U\"\n",
      "Reading \"FSTA\"\n",
      "Reading \"FSTR\"\n",
      "Reading \"FSTX\"\n",
      "Reading \"FSV\"\n",
      "Reading \"FSZ\"\n",
      "Reading \"FT\"\n",
      "Reading \"FTA\"\n",
      "Reading \"FTAAU\"\n",
      "Reading \"FTAI\"\n",
      "Reading \"FTC\"\n",
      "Reading \"FTCH\"\n",
      "Reading \"FTCI\"\n",
      "Reading \"FTCS\"\n",
      "Reading \"FTCV\"\n",
      "Reading \"FTCVU\"\n",
      "Reading \"FTDR\"\n",
      "Reading \"FTEC\"\n",
      "Reading \"FTEK\"\n",
      "Reading \"FTEV\"\n",
      "Reading \"FTF\"\n",
      "Reading \"FTFT\"\n"
     ]
    },
    {
     "name": "stderr",
     "output_type": "stream",
     "text": [
      "sleep 3 seconds and retrying https://data.alpaca.markets/v1/bars/day 3 more time(s)...\n"
     ]
    },
    {
     "name": "stdout",
     "output_type": "stream",
     "text": [
      "Reading \"FTGC\"\n",
      "Reading \"FTHI\"\n",
      "Reading \"FTHM\"\n",
      "Reading \"FTHY\"\n",
      "Reading \"FTI\"\n",
      "Reading \"FTIV\"\n",
      "Reading \"FTIVU\"\n",
      "Reading \"FTK\"\n",
      "Reading \"FTLB\"\n",
      "Reading \"FTLS\"\n",
      "Reading \"FTNT\"\n",
      "Reading \"FTOC\"\n",
      "Reading \"FTOCU\"\n",
      "Reading \"FTPAU\"\n",
      "Reading \"FTRI\"\n"
     ]
    },
    {
     "name": "stderr",
     "output_type": "stream",
     "text": [
      "sleep 3 seconds and retrying https://data.alpaca.markets/v1/bars/day 3 more time(s)...\n"
     ]
    },
    {
     "name": "stdout",
     "output_type": "stream",
     "text": [
      "Reading \"FTS\"\n",
      "Reading \"FTSD\"\n",
      "Reading \"FTSI\"\n",
      "Reading \"FTSL\"\n",
      "Reading \"FTV\"\n",
      "Reading \"FTXD\"\n",
      "Reading \"FTXG\"\n",
      "Reading \"FTXH\"\n",
      "Reading \"FTXL\"\n",
      "Reading \"FTXN\"\n",
      "Reading \"FTXO\"\n",
      "Reading \"FTXR\"\n",
      "Reading \"FUBO\"\n",
      "Reading \"FUE\"\n",
      "Reading \"FUL\"\n",
      "Reading \"FULT\"\n",
      "Reading \"FULTP\"\n"
     ]
    },
    {
     "name": "stderr",
     "output_type": "stream",
     "text": [
      "sleep 3 seconds and retrying https://data.alpaca.markets/v1/bars/day 3 more time(s)...\n"
     ]
    },
    {
     "name": "stdout",
     "output_type": "stream",
     "text": [
      "Reading \"FUMB\"\n",
      "Reading \"FUN\"\n",
      "Reading \"FUNC\"\n",
      "Reading \"FUND\"\n",
      "Reading \"FUNL\"\n",
      "Reading \"FURY\"\n",
      "Reading \"FUSB\"\n",
      "Reading \"FUSE\"\n",
      "Reading \"FUSE.U\"\n",
      "Reading \"FUT\"\n",
      "Reading \"FUTU\"\n",
      "Reading \"FUTY\"\n",
      "Reading \"FUV\"\n",
      "Reading \"FV\"\n",
      "Reading \"FVAL\"\n",
      "Reading \"FVAM\"\n",
      "Reading \"FVC\"\n",
      "Reading \"FVCB\"\n",
      "Reading \"FVD\"\n"
     ]
    },
    {
     "name": "stderr",
     "output_type": "stream",
     "text": [
      "sleep 3 seconds and retrying https://data.alpaca.markets/v1/bars/day 3 more time(s)...\n"
     ]
    },
    {
     "name": "stdout",
     "output_type": "stream",
     "text": [
      "Reading \"FVE\"\n",
      "Reading \"FVIV.U\"\n",
      "Reading \"FVRR\"\n",
      "Reading \"FVT.U\"\n",
      "Reading \"FWAA\"\n",
      "Reading \"FWDB\"\n",
      "Reading \"FWONA\"\n",
      "Reading \"FWONK\"\n",
      "Reading \"FWP\"\n",
      "Reading \"FXA\"\n",
      "Reading \"FXB\"\n",
      "Reading \"FXC\"\n",
      "Reading \"FXE\"\n",
      "Reading \"FXF\"\n",
      "Reading \"FXG\"\n",
      "Reading \"FXH\"\n",
      "Reading \"FXI\"\n",
      "Reading \"FXL\"\n",
      "Reading \"FXN\"\n",
      "Reading \"FXNC\"\n",
      "Reading \"FXO\"\n"
     ]
    },
    {
     "name": "stderr",
     "output_type": "stream",
     "text": [
      "sleep 3 seconds and retrying https://data.alpaca.markets/v1/bars/day 3 more time(s)...\n"
     ]
    },
    {
     "name": "stdout",
     "output_type": "stream",
     "text": [
      "Reading \"FXP\"\n",
      "Reading \"FXR\"\n",
      "Reading \"FXU\"\n",
      "Reading \"FXY\"\n",
      "Reading \"FXZ\"\n",
      "Reading \"FYC\"\n",
      "Reading \"FYLD\"\n",
      "Reading \"FYT\"\n",
      "Reading \"FYX\"\n",
      "Reading \"FZT\"\n",
      "Reading \"FZT.U\"\n",
      "Reading \"GAA\"\n",
      "Reading \"GAB\"\n",
      "Reading \"GABC\"\n",
      "Reading \"GAIA\"\n",
      "Reading \"GAIN\"\n",
      "Reading \"GAINL\"\n",
      "Reading \"GAINN\"\n",
      "Reading \"GAL\"\n",
      "Reading \"GALT\"\n",
      "Reading \"GAM\"\n",
      "Reading \"GAMC\"\n",
      "Reading \"GAMCU\"\n",
      "Reading \"GAMR\"\n",
      "Reading \"GAN\"\n"
     ]
    },
    {
     "name": "stderr",
     "output_type": "stream",
     "text": [
      "sleep 3 seconds and retrying https://data.alpaca.markets/v1/bars/day 3 more time(s)...\n"
     ]
    },
    {
     "name": "stdout",
     "output_type": "stream",
     "text": [
      "Reading \"GANX\"\n",
      "Reading \"GAPA\"\n",
      "Reading \"GAPA.U\"\n",
      "Reading \"GASS\"\n",
      "Reading \"GATO\"\n",
      "Reading \"GAU\"\n",
      "Reading \"GAZ\"\n",
      "Reading \"GB\"\n",
      "Reading \"GBAB\"\n",
      "Reading \"GBCI\"\n",
      "Reading \"GBDC\"\n",
      "Reading \"GBDV\"\n",
      "Reading \"GBF\"\n",
      "Reading \"GBGR\"\n",
      "Reading \"GBIL\"\n"
     ]
    },
    {
     "name": "stderr",
     "output_type": "stream",
     "text": [
      "sleep 3 seconds and retrying https://data.alpaca.markets/v1/bars/day 3 more time(s)...\n"
     ]
    },
    {
     "name": "stdout",
     "output_type": "stream",
     "text": [
      "Reading \"GBIO\"\n",
      "Reading \"GBL\"\n",
      "Reading \"GBLD\"\n",
      "Reading \"GBLI\"\n",
      "Reading \"GBLIL\"\n",
      "Reading \"GBLO\"\n",
      "Reading \"GBNH\"\n",
      "Reading \"GBOX\"\n",
      "Reading \"GBR\"\n",
      "Reading \"GBRG\"\n",
      "Reading \"GBRGR\"\n",
      "Reading \"GBRGU\"\n",
      "Reading \"GBT\"\n"
     ]
    },
    {
     "name": "stderr",
     "output_type": "stream",
     "text": [
      "sleep 3 seconds and retrying https://data.alpaca.markets/v1/bars/day 3 more time(s)...\n"
     ]
    },
    {
     "name": "stdout",
     "output_type": "stream",
     "text": [
      "Reading \"GBUG\"\n",
      "Reading \"GBX\"\n",
      "Reading \"GCAC\"\n",
      "Reading \"GCACU\"\n",
      "Reading \"GCC\"\n",
      "Reading \"GCI\"\n",
      "Reading \"GCMG\"\n",
      "Reading \"GCO\"\n",
      "Reading \"GCOW\"\n",
      "Reading \"GCP\"\n",
      "Reading \"GCV\"\n",
      "Reading \"GD\"\n",
      "Reading \"GDDY\"\n",
      "Reading \"GDMA\"\n"
     ]
    },
    {
     "name": "stderr",
     "output_type": "stream",
     "text": [
      "sleep 3 seconds and retrying https://data.alpaca.markets/v1/bars/day 3 more time(s)...\n"
     ]
    },
    {
     "name": "stdout",
     "output_type": "stream",
     "text": [
      "Reading \"GDO\"\n",
      "Reading \"GDOT\"\n",
      "Reading \"GDP\"\n",
      "Reading \"GDS\"\n",
      "Reading \"GDV\"\n",
      "Reading \"GDX\"\n",
      "Reading \"GDXD\"\n",
      "Reading \"GDXJ\"\n",
      "Reading \"GDYN\"\n",
      "Reading \"GE\"\n",
      "Reading \"GECC\"\n",
      "Reading \"GECCL\"\n",
      "Reading \"GECCM\"\n",
      "Reading \"GEF\"\n"
     ]
    },
    {
     "name": "stderr",
     "output_type": "stream",
     "text": [
      "sleep 3 seconds and retrying https://data.alpaca.markets/v1/bars/day 3 more time(s)...\n"
     ]
    },
    {
     "name": "stdout",
     "output_type": "stream",
     "text": [
      "Reading \"GEF.B\"\n",
      "Reading \"GEG\"\n",
      "Reading \"GEL\"\n",
      "Reading \"GEM\"\n",
      "Reading \"GENE\"\n",
      "Reading \"GENI\"\n",
      "Reading \"GENY\"\n",
      "Reading \"GEO\"\n",
      "Reading \"GER\"\n",
      "Reading \"GERM\"\n",
      "Reading \"GES\"\n",
      "Reading \"GEVO\"\n",
      "Reading \"GF\"\n",
      "Reading \"GFED\"\n"
     ]
    },
    {
     "name": "stderr",
     "output_type": "stream",
     "text": [
      "sleep 3 seconds and retrying https://data.alpaca.markets/v1/bars/day 3 more time(s)...\n"
     ]
    },
    {
     "name": "stdout",
     "output_type": "stream",
     "text": [
      "Reading \"GFI\"\n",
      "Reading \"GFL\"\n",
      "Reading \"GFLU\"\n",
      "Reading \"GFN\"\n",
      "Reading \"GFNCP\"\n",
      "Reading \"GFNSZ\"\n",
      "Reading \"GFX\"\n",
      "Reading \"GFX.U\"\n",
      "Reading \"GGAL\"\n",
      "Reading \"GGB\"\n",
      "Reading \"GGG\"\n",
      "Reading \"GGM\"\n",
      "Reading \"GGMCU\"\n",
      "Reading \"GGN\"\n"
     ]
    },
    {
     "name": "stderr",
     "output_type": "stream",
     "text": [
      "sleep 3 seconds and retrying https://data.alpaca.markets/v1/bars/day 3 more time(s)...\n"
     ]
    },
    {
     "name": "stdout",
     "output_type": "stream",
     "text": [
      "Reading \"GGO\"\n",
      "Reading \"GGPIU\"\n",
      "Reading \"GGRW\"\n",
      "Reading \"GGT\"\n",
      "Reading \"GH\"\n",
      "Reading \"GHAC\"\n",
      "Reading \"GHACU\"\n",
      "Reading \"GHC\"\n",
      "Reading \"GHG\"\n",
      "Reading \"GHL\"\n"
     ]
    },
    {
     "name": "stderr",
     "output_type": "stream",
     "text": [
      "sleep 3 seconds and retrying https://data.alpaca.markets/v1/bars/day 3 more time(s)...\n"
     ]
    },
    {
     "name": "stdout",
     "output_type": "stream",
     "text": [
      "Reading \"GHLD\"\n",
      "Reading \"GHM\"\n",
      "Reading \"GHSI\"\n",
      "Reading \"GHVI\"\n",
      "Reading \"GHVIU\"\n",
      "Reading \"GHY\"\n",
      "Reading \"GHYB\"\n",
      "Reading \"GHYG\"\n",
      "Reading \"GIB\"\n",
      "Reading \"GIG\"\n",
      "Reading \"GIGB\"\n",
      "Reading \"GIGE\"\n",
      "Reading \"GIGGU\"\n",
      "Reading \"GIGM\"\n",
      "Reading \"GII\"\n",
      "Reading \"GIII\"\n"
     ]
    },
    {
     "name": "stderr",
     "output_type": "stream",
     "text": [
      "sleep 3 seconds and retrying https://data.alpaca.markets/v1/bars/day 3 more time(s)...\n"
     ]
    },
    {
     "name": "stdout",
     "output_type": "stream",
     "text": [
      "Reading \"GIIX\"\n",
      "Reading \"GIIXU\"\n",
      "Reading \"GIL\"\n",
      "Reading \"GILD\"\n",
      "Reading \"GILT\"\n",
      "Reading \"GIM\"\n",
      "Reading \"GINN\"\n",
      "Reading \"GIS\"\n",
      "Reading \"GIX\"\n",
      "Reading \"GIX.RT\"\n",
      "Reading \"GIX.U\"\n",
      "Reading \"GJH\"\n"
     ]
    },
    {
     "name": "stderr",
     "output_type": "stream",
     "text": [
      "sleep 3 seconds and retrying https://data.alpaca.markets/v1/bars/day 3 more time(s)...\n"
     ]
    },
    {
     "name": "stdout",
     "output_type": "stream",
     "text": [
      "Reading \"GJO\"\n",
      "Reading \"GJP\"\n",
      "Reading \"GJR\"\n",
      "Reading \"GJS\"\n",
      "Reading \"GJT\"\n",
      "Reading \"GKOS\"\n",
      "Reading \"GL\"\n",
      "Reading \"GLAD\"\n",
      "Reading \"GLADL\"\n",
      "Reading \"GLAQ\"\n",
      "Reading \"GLAQU\"\n",
      "Reading \"GLBL\"\n",
      "Reading \"GLBLU\"\n",
      "Reading \"GLBS\"\n",
      "Reading \"GLBZ\"\n"
     ]
    },
    {
     "name": "stderr",
     "output_type": "stream",
     "text": [
      "sleep 3 seconds and retrying https://data.alpaca.markets/v1/bars/day 3 more time(s)...\n"
     ]
    },
    {
     "name": "stdout",
     "output_type": "stream",
     "text": [
      "Reading \"GLCN\"\n",
      "Reading \"GLD\"\n",
      "Reading \"GLDD\"\n",
      "Reading \"GLDI\"\n",
      "Reading \"GLDM\"\n",
      "Reading \"GLEO\"\n",
      "Reading \"GLEO.U\"\n",
      "Reading \"GLG\"\n",
      "Reading \"GLHAU\"\n",
      "Reading \"GLIN\"\n",
      "Reading \"GLL\"\n"
     ]
    },
    {
     "name": "stderr",
     "output_type": "stream",
     "text": [
      "sleep 3 seconds and retrying https://data.alpaca.markets/v1/bars/day 3 more time(s)...\n"
     ]
    },
    {
     "name": "stdout",
     "output_type": "stream",
     "text": [
      "Reading \"GLMD\"\n",
      "Reading \"GLNG\"\n",
      "Reading \"GLO\"\n",
      "Reading \"GLOG\"\n",
      "Reading \"GLOP\"\n",
      "Reading \"GLP\"\n",
      "Reading \"GLPG\"\n",
      "Reading \"GLPI\"\n",
      "Reading \"GLQ\"\n",
      "Reading \"GLRE\"\n",
      "Reading \"GLRY\"\n",
      "Reading \"GLSI\"\n",
      "Reading \"GLSPU\"\n",
      "Reading \"GLT\"\n"
     ]
    },
    {
     "name": "stderr",
     "output_type": "stream",
     "text": [
      "sleep 3 seconds and retrying https://data.alpaca.markets/v1/bars/day 3 more time(s)...\n"
     ]
    },
    {
     "name": "stdout",
     "output_type": "stream",
     "text": [
      "Reading \"GLTO\"\n",
      "Reading \"GLTR\"\n",
      "Reading \"GLU\"\n",
      "Reading \"GLV\"\n",
      "Reading \"GLW\"\n",
      "Reading \"GLYC\"\n",
      "Reading \"GM\"\n",
      "Reading \"GMBL\"\n",
      "Reading \"GMBT\"\n",
      "Reading \"GMBTU\"\n",
      "Reading \"GMDA\"\n",
      "Reading \"GME\"\n",
      "Reading \"GMF\"\n",
      "Reading \"GMII\"\n",
      "Reading \"GMIIU\"\n",
      "Reading \"GMLPP\"\n"
     ]
    },
    {
     "name": "stderr",
     "output_type": "stream",
     "text": [
      "sleep 3 seconds and retrying https://data.alpaca.markets/v1/bars/day 3 more time(s)...\n"
     ]
    },
    {
     "name": "stdout",
     "output_type": "stream",
     "text": [
      "Reading \"GMOM\"\n",
      "Reading \"GMRE\"\n",
      "Reading \"GMS\"\n",
      "Reading \"GMTA\"\n",
      "Reading \"GNACU\"\n",
      "Reading \"GNAF\"\n",
      "Reading \"GNCA\"\n",
      "Reading \"GNE\"\n",
      "Reading \"GNL\"\n",
      "Reading \"GNLN\"\n",
      "Reading \"GNMA\"\n",
      "Reading \"GNOG\"\n",
      "Reading \"GNPK.U\"\n",
      "Reading \"GNPX\"\n",
      "Reading \"GNR\"\n"
     ]
    },
    {
     "name": "stderr",
     "output_type": "stream",
     "text": [
      "sleep 3 seconds and retrying https://data.alpaca.markets/v1/bars/day 3 more time(s)...\n"
     ]
    },
    {
     "name": "stdout",
     "output_type": "stream",
     "text": [
      "Reading \"GNSS\"\n",
      "Reading \"GNT\"\n",
      "Reading \"GNTX\"\n",
      "Reading \"GNTY\"\n",
      "Reading \"GO\"\n",
      "Reading \"GOAC\"\n",
      "Reading \"GOAT\"\n",
      "Reading \"GOAU\"\n",
      "Reading \"GOED\"\n",
      "Reading \"GOEV\"\n",
      "Reading \"GOEX\"\n",
      "Reading \"GOF\"\n"
     ]
    },
    {
     "name": "stderr",
     "output_type": "stream",
     "text": [
      "sleep 3 seconds and retrying https://data.alpaca.markets/v1/bars/day 3 more time(s)...\n"
     ]
    },
    {
     "name": "stdout",
     "output_type": "stream",
     "text": [
      "Reading \"GOGL\"\n",
      "Reading \"GOGO\"\n",
      "Reading \"GOL\"\n",
      "Reading \"GOLD\"\n",
      "Reading \"GOLF\"\n",
      "Reading \"GOOD\"\n",
      "Reading \"GOODM\"\n",
      "Reading \"GOODN\"\n",
      "Reading \"GOOG\"\n",
      "Reading \"GOOGL\"\n",
      "Reading \"GOOS\"\n",
      "Reading \"GORO\"\n",
      "Reading \"GOSS\"\n",
      "Reading \"GOTU\"\n",
      "Reading \"GOVT\"\n",
      "Reading \"GOVX\"\n",
      "Reading \"GOVZ\"\n",
      "Reading \"GP\"\n",
      "Reading \"GPAC\"\n",
      "Reading \"GPACU\"\n",
      "Reading \"GPI\"\n",
      "Reading \"GPJA\"\n",
      "Reading \"GPK\"\n",
      "Reading \"GPL\"\n",
      "Reading \"GPM\"\n"
     ]
    },
    {
     "name": "stderr",
     "output_type": "stream",
     "text": [
      "sleep 3 seconds and retrying https://data.alpaca.markets/v1/bars/day 3 more time(s)...\n"
     ]
    },
    {
     "name": "stdout",
     "output_type": "stream",
     "text": [
      "Reading \"GPMT\"\n",
      "Reading \"GPN\"\n",
      "Reading \"GPP\"\n",
      "Reading \"GPRE\"\n",
      "Reading \"GPRO\"\n",
      "Reading \"GPS\"\n",
      "Reading \"GPX\"\n",
      "Reading \"GQRE\"\n",
      "Reading \"GRA\"\n",
      "Reading \"GRAY\"\n",
      "Reading \"GRBK\"\n",
      "Reading \"GRC\"\n",
      "Reading \"GRCL\"\n",
      "Reading \"GRCY\"\n",
      "Reading \"GRCYU\"\n",
      "Reading \"GREK\"\n",
      "Reading \"GRES\"\n",
      "Reading \"GRF\"\n",
      "Reading \"GRFS\"\n",
      "Reading \"GRID\"\n"
     ]
    },
    {
     "name": "stderr",
     "output_type": "stream",
     "text": [
      "sleep 3 seconds and retrying https://data.alpaca.markets/v1/bars/day 3 more time(s)...\n"
     ]
    },
    {
     "name": "stdout",
     "output_type": "stream",
     "text": [
      "Reading \"GRIL\"\n",
      "Reading \"GRIN\"\n",
      "Reading \"GRMN\"\n",
      "Reading \"GRN\"\n",
      "Reading \"GRNB\"\n",
      "Reading \"GRNQ\"\n",
      "Reading \"GRNVU\"\n",
      "Reading \"GROW\"\n",
      "Reading \"GROY\"\n",
      "Reading \"GRP.U\"\n",
      "Reading \"GRPN\"\n",
      "Reading \"GRSV\"\n",
      "Reading \"GRSVU\"\n",
      "Reading \"GRTX\"\n",
      "Reading \"GRU\"\n"
     ]
    },
    {
     "name": "stderr",
     "output_type": "stream",
     "text": [
      "sleep 3 seconds and retrying https://data.alpaca.markets/v1/bars/day 3 more time(s)...\n"
     ]
    },
    {
     "name": "stdout",
     "output_type": "stream",
     "text": [
      "Reading \"GRVY\"\n",
      "Reading \"GRWG\"\n",
      "Reading \"GS\"\n",
      "Reading \"GSAH\"\n",
      "Reading \"GSAH.U\"\n",
      "Reading \"GSAQ\"\n",
      "Reading \"GSBD\"\n",
      "Reading \"GSEE\"\n",
      "Reading \"GSEU\"\n",
      "Reading \"GSEV\"\n",
      "Reading \"GSEW\"\n"
     ]
    },
    {
     "name": "stderr",
     "output_type": "stream",
     "text": [
      "sleep 3 seconds and retrying https://data.alpaca.markets/v1/bars/day 3 more time(s)...\n"
     ]
    },
    {
     "name": "stdout",
     "output_type": "stream",
     "text": [
      "Reading \"GSG\"\n",
      "Reading \"GSHD\"\n",
      "Reading \"GSID\"\n",
      "Reading \"GSIE\"\n",
      "Reading \"GSIG\"\n",
      "Reading \"GSIT\"\n",
      "Reading \"GSJY\"\n",
      "Reading \"GSK\"\n",
      "Reading \"GSKY\"\n",
      "Reading \"GSL\"\n",
      "Reading \"GSLC\"\n",
      "Reading \"GSLD\"\n",
      "Reading \"GSM\"\n",
      "Reading \"GSMG\"\n",
      "Reading \"GSP\"\n",
      "Reading \"GSPY\"\n"
     ]
    },
    {
     "name": "stderr",
     "output_type": "stream",
     "text": [
      "sleep 3 seconds and retrying https://data.alpaca.markets/v1/bars/day 3 more time(s)...\n"
     ]
    },
    {
     "name": "stdout",
     "output_type": "stream",
     "text": [
      "Reading \"GSQD\"\n",
      "Reading \"GSQD.U\"\n",
      "Reading \"GSS\"\n",
      "Reading \"GSSC\"\n",
      "Reading \"GSST\"\n",
      "Reading \"GSUS\"\n",
      "Reading \"GSV\"\n",
      "Reading \"GSY\"\n",
      "Reading \"GT\"\n",
      "Reading \"GTBP\"\n",
      "Reading \"GTEC\"\n",
      "Reading \"GTES\"\n"
     ]
    },
    {
     "name": "stderr",
     "output_type": "stream",
     "text": [
      "sleep 3 seconds and retrying https://data.alpaca.markets/v1/bars/day 3 more time(s)...\n"
     ]
    },
    {
     "name": "stdout",
     "output_type": "stream",
     "text": [
      "Reading \"GTH\"\n",
      "Reading \"GTHX\"\n",
      "Reading \"GTIM\"\n",
      "Reading \"GTIP\"\n",
      "Reading \"GTLS\"\n",
      "Reading \"GTN\"\n",
      "Reading \"GTN.A\"\n",
      "Reading \"GTO\"\n",
      "Reading \"GTPAU\"\n",
      "Reading \"GTPB\"\n",
      "Reading \"GTPBU\"\n",
      "Reading \"GTS\"\n",
      "Reading \"GTT\"\n",
      "Reading \"GTY\"\n",
      "Reading \"GTYH\"\n"
     ]
    },
    {
     "name": "stderr",
     "output_type": "stream",
     "text": [
      "sleep 3 seconds and retrying https://data.alpaca.markets/v1/bars/day 3 more time(s)...\n"
     ]
    },
    {
     "name": "stdout",
     "output_type": "stream",
     "text": [
      "Reading \"GUNR\"\n",
      "Reading \"GURE\"\n",
      "Reading \"GURU\"\n",
      "Reading \"GUSH\"\n",
      "Reading \"GUT\"\n",
      "Reading \"GVA\"\n",
      "Reading \"GVAL\"\n",
      "Reading \"GVI\"\n",
      "Reading \"GVIP\"\n",
      "Reading \"GVP\"\n",
      "Reading \"GWAC\"\n",
      "Reading \"GWGH\"\n",
      "Reading \"GWRE\"\n",
      "Reading \"GWRS\"\n",
      "Reading \"GWW\"\n",
      "Reading \"GWX\"\n"
     ]
    },
    {
     "name": "stderr",
     "output_type": "stream",
     "text": [
      "sleep 3 seconds and retrying https://data.alpaca.markets/v1/bars/day 3 more time(s)...\n"
     ]
    },
    {
     "name": "stdout",
     "output_type": "stream",
     "text": [
      "Reading \"GXC\"\n",
      "Reading \"GXF\"\n",
      "Reading \"GXG\"\n",
      "Reading \"GXGX\"\n",
      "Reading \"GXGXU\"\n",
      "Reading \"GXIIU\"\n",
      "Reading \"GXTG\"\n",
      "Reading \"GYLD\"\n",
      "Reading \"GYRO\"\n",
      "Reading \"H\"\n",
      "Reading \"HA\"\n",
      "Reading \"HAAC\"\n",
      "Reading \"HAACU\"\n",
      "Reading \"HACK\"\n",
      "Reading \"HAE\"\n",
      "Reading \"HAFC\"\n",
      "Reading \"HAIL\"\n",
      "Reading \"HAIN\"\n",
      "Reading \"HALO\"\n",
      "Reading \"HAP\"\n"
     ]
    },
    {
     "name": "stderr",
     "output_type": "stream",
     "text": [
      "sleep 3 seconds and retrying https://data.alpaca.markets/v1/bars/day 3 more time(s)...\n"
     ]
    },
    {
     "name": "stdout",
     "output_type": "stream",
     "text": [
      "Reading \"HAPP\"\n",
      "Reading \"HARP\"\n",
      "Reading \"HART\"\n",
      "Reading \"HAS\"\n",
      "Reading \"HASI\"\n",
      "Reading \"HAUZ\"\n",
      "Reading \"HAWX\"\n",
      "Reading \"HAYN\"\n",
      "Reading \"HAYW\"\n",
      "Reading \"HBAN\"\n",
      "Reading \"GTE\"\n",
      "Reading \"HBANN\"\n",
      "Reading \"HBANO\"\n",
      "Reading \"HBANP\"\n",
      "Reading \"HBB\"\n"
     ]
    },
    {
     "name": "stderr",
     "output_type": "stream",
     "text": [
      "sleep 3 seconds and retrying https://data.alpaca.markets/v1/bars/day 3 more time(s)...\n"
     ]
    },
    {
     "name": "stdout",
     "output_type": "stream",
     "text": [
      "Reading \"HBCP\"\n",
      "Reading \"HBI\"\n",
      "Reading \"HBIO\"\n",
      "Reading \"HBM\"\n",
      "Reading \"HBMD\"\n",
      "Reading \"HBNC\"\n",
      "Reading \"HBP\"\n",
      "Reading \"HBT\"\n",
      "Reading \"HCA\"\n",
      "Reading \"HCAP\"\n",
      "Reading \"HCAPZ\"\n",
      "Reading \"HCAQ\"\n",
      "Reading \"HCAR\"\n",
      "Reading \"HCARU\"\n",
      "Reading \"HCAT\"\n",
      "Reading \"HCC\"\n",
      "Reading \"HCCC\"\n",
      "Reading \"HCCCU\"\n",
      "Reading \"HCCI\"\n"
     ]
    },
    {
     "name": "stderr",
     "output_type": "stream",
     "text": [
      "sleep 3 seconds and retrying https://data.alpaca.markets/v1/bars/day 3 more time(s)...\n"
     ]
    },
    {
     "name": "stdout",
     "output_type": "stream",
     "text": [
      "Reading \"HCDI\"\n",
      "Reading \"HCHC\"\n",
      "Reading \"HCIC\"\n",
      "Reading \"HCICU\"\n",
      "Reading \"HCII\"\n",
      "Reading \"HCIIU\"\n",
      "Reading \"HCKT\"\n",
      "Reading \"HCM\"\n",
      "Reading \"HCRB\"\n",
      "Reading \"HCSG\"\n",
      "Reading \"HCXY\"\n",
      "Reading \"HCXZ\"\n",
      "Reading \"HD\"\n",
      "Reading \"HDAW\"\n",
      "Reading \"HDB\"\n"
     ]
    },
    {
     "name": "stderr",
     "output_type": "stream",
     "text": [
      "sleep 3 seconds and retrying https://data.alpaca.markets/v1/bars/day 3 more time(s)...\n"
     ]
    },
    {
     "name": "stdout",
     "output_type": "stream",
     "text": [
      "Reading \"HDEF\"\n",
      "Reading \"HDG\"\n",
      "Reading \"HAL\"\n",
      "Reading \"HDGE\"\n",
      "Reading \"HDIV\"\n",
      "Reading \"HDLB\"\n",
      "Reading \"HDMV\"\n",
      "Reading \"HDRO\"\n",
      "Reading \"HDSN\"\n",
      "Reading \"HDV\"\n",
      "Reading \"HE\"\n",
      "Reading \"HEAR\"\n",
      "Reading \"HEC\"\n",
      "Reading \"HECCU\"\n",
      "Reading \"HEDJ\"\n",
      "Reading \"HEEM\"\n",
      "Reading \"HEES\"\n",
      "Reading \"HEGD\"\n"
     ]
    },
    {
     "name": "stderr",
     "output_type": "stream",
     "text": [
      "sleep 3 seconds and retrying https://data.alpaca.markets/v1/bars/day 3 more time(s)...\n"
     ]
    },
    {
     "name": "stdout",
     "output_type": "stream",
     "text": [
      "Reading \"HEI.A\"\n",
      "Reading \"HELE\"\n",
      "Reading \"HELX\"\n",
      "Reading \"HEP\"\n",
      "Reading \"HEPA\"\n",
      "Reading \"HEQ\"\n",
      "Reading \"HERA\"\n",
      "Reading \"HERAU\"\n",
      "Reading \"HERD\"\n",
      "Reading \"HERO\"\n",
      "Reading \"HES\"\n",
      "Reading \"HESM\"\n",
      "Reading \"HEWC\"\n",
      "Reading \"HEWG\"\n",
      "Reading \"HEWJ\"\n",
      "Reading \"HEWU\"\n"
     ]
    },
    {
     "name": "stderr",
     "output_type": "stream",
     "text": [
      "sleep 3 seconds and retrying https://data.alpaca.markets/v1/bars/day 3 more time(s)...\n"
     ]
    },
    {
     "name": "stdout",
     "output_type": "stream",
     "text": [
      "Reading \"HEWW\"\n",
      "Reading \"HEXO\"\n",
      "Reading \"HEZU\"\n",
      "Reading \"HFBL\"\n",
      "Reading \"HFC\"\n",
      "Reading \"HFFG\"\n",
      "Reading \"HFWA\"\n",
      "Reading \"HFXI\"\n",
      "Reading \"HGBL\"\n",
      "Reading \"HGEN\"\n",
      "Reading \"HGH\"\n",
      "Reading \"HGLB\"\n",
      "Reading \"HGSH\"\n",
      "Reading \"HGV\"\n",
      "Reading \"HHC\"\n",
      "Reading \"HHLA\"\n",
      "Reading \"HHLA.U\"\n",
      "Reading \"HHR\"\n",
      "Reading \"HI\"\n",
      "Reading \"HIBB\"\n",
      "Reading \"HIBL\"\n",
      "Reading \"HIBS\"\n",
      "Reading \"HIE\"\n",
      "Reading \"HIFS\"\n",
      "Reading \"HIG\"\n",
      "Reading \"HIGA\"\n",
      "Reading \"HIGA.U\"\n",
      "Reading \"HIHO\"\n",
      "Reading \"HII\"\n",
      "Reading \"HIII\"\n",
      "Reading \"HIIIU\"\n",
      "Reading \"HIL\"\n",
      "Reading \"HIMS\"\n",
      "Reading \"HIMX\"\n",
      "Reading \"HIO\"\n",
      "Reading \"HIPS\"\n",
      "Reading \"HIW\"\n"
     ]
    },
    {
     "name": "stderr",
     "output_type": "stream",
     "text": [
      "sleep 3 seconds and retrying https://data.alpaca.markets/v1/bars/day 3 more time(s)...\n"
     ]
    },
    {
     "name": "stdout",
     "output_type": "stream",
     "text": [
      "Reading \"HIX\"\n",
      "Reading \"HJLI\"\n",
      "Reading \"HJPX\"\n",
      "Reading \"HKIB\"\n",
      "Reading \"HKND\"\n",
      "Reading \"HLAH\"\n",
      "Reading \"HLAHU\"\n",
      "Reading \"HLF\"\n",
      "Reading \"HLG\"\n",
      "Reading \"HLI\"\n",
      "Reading \"HLIT\"\n",
      "Reading \"HLNE\"\n",
      "Reading \"HLT\"\n"
     ]
    },
    {
     "name": "stderr",
     "output_type": "stream",
     "text": [
      "sleep 3 seconds and retrying https://data.alpaca.markets/v1/bars/day 3 more time(s)...\n"
     ]
    },
    {
     "name": "stdout",
     "output_type": "stream",
     "text": [
      "Reading \"HLX\"\n",
      "Reading \"HLXA\"\n",
      "Reading \"HMC\"\n",
      "Reading \"HMCO\"\n",
      "Reading \"HMCOU\"\n",
      "Reading \"HMG\"\n",
      "Reading \"HMHC\"\n",
      "Reading \"HMLP\"\n",
      "Reading \"HMN\"\n",
      "Reading \"HMNF\"\n",
      "Reading \"HMOP\"\n",
      "Reading \"HMPT\"\n",
      "Reading \"HMST\"\n"
     ]
    },
    {
     "name": "stderr",
     "output_type": "stream",
     "text": [
      "sleep 3 seconds and retrying https://data.alpaca.markets/v1/bars/day 3 more time(s)...\n"
     ]
    },
    {
     "name": "stdout",
     "output_type": "stream",
     "text": [
      "Reading \"HMTV\"\n",
      "Reading \"HMY\"\n",
      "Reading \"HNDL\"\n",
      "Reading \"HNGR\"\n",
      "Reading \"HNI\"\n",
      "Reading \"HNNA\"\n",
      "Reading \"HNP\"\n",
      "Reading \"HNRG\"\n",
      "Reading \"HNST\"\n",
      "Reading \"HNW\"\n",
      "Reading \"HOFT\"\n",
      "Reading \"HOFV\"\n",
      "Reading \"HOG\"\n"
     ]
    },
    {
     "name": "stderr",
     "output_type": "stream",
     "text": [
      "sleep 3 seconds and retrying https://data.alpaca.markets/v1/bars/day 3 more time(s)...\n"
     ]
    },
    {
     "name": "stdout",
     "output_type": "stream",
     "text": [
      "Reading \"HOL\"\n",
      "Reading \"HOLD\"\n",
      "Reading \"HOLI\"\n",
      "Reading \"HOLUU\"\n",
      "Reading \"HOLX\"\n",
      "Reading \"HOMB\"\n",
      "Reading \"HOME\"\n",
      "Reading \"HOMZ\"\n",
      "Reading \"HONE\"\n",
      "Reading \"HOOK\"\n",
      "Reading \"HOPE\"\n",
      "Reading \"HOTH\"\n",
      "Reading \"HOV\"\n"
     ]
    },
    {
     "name": "stderr",
     "output_type": "stream",
     "text": [
      "sleep 3 seconds and retrying https://data.alpaca.markets/v1/bars/day 3 more time(s)...\n"
     ]
    },
    {
     "name": "stdout",
     "output_type": "stream",
     "text": [
      "Reading \"HOVNP\"\n",
      "Reading \"HOWL\"\n",
      "Reading \"HP\"\n",
      "Reading \"HPE\"\n",
      "Reading \"HPF\"\n",
      "Reading \"HPI\"\n",
      "Reading \"HPK\"\n",
      "Reading \"HPP\"\n",
      "Reading \"HPS\"\n",
      "Reading \"HPX\"\n",
      "Reading \"HPX.U\"\n",
      "Reading \"HQH\"\n"
     ]
    },
    {
     "name": "stderr",
     "output_type": "stream",
     "text": [
      "sleep 3 seconds and retrying https://data.alpaca.markets/v1/bars/day 3 more time(s)...\n"
     ]
    },
    {
     "name": "stdout",
     "output_type": "stream",
     "text": [
      "Reading \"HQI\"\n",
      "Reading \"HQL\"\n",
      "Reading \"HQY\"\n",
      "Reading \"HR\"\n",
      "Reading \"HRB\"\n",
      "Reading \"HRI\"\n",
      "Reading \"HRL\"\n",
      "Reading \"HRMY\"\n",
      "Reading \"HROW\"\n",
      "Reading \"HROWL\"\n",
      "Reading \"HRTG\"\n",
      "Reading \"HRTX\"\n",
      "Reading \"HRZN\"\n"
     ]
    },
    {
     "name": "stderr",
     "output_type": "stream",
     "text": [
      "sleep 3 seconds and retrying https://data.alpaca.markets/v1/bars/day 3 more time(s)...\n"
     ]
    },
    {
     "name": "stdout",
     "output_type": "stream",
     "text": [
      "Reading \"HSAQ\"\n",
      "Reading \"HSBC\"\n",
      "Reading \"HSC\"\n",
      "Reading \"HSCZ\"\n",
      "Reading \"HSDT\"\n",
      "Reading \"HSIC\"\n",
      "Reading \"HSII\"\n",
      "Reading \"HSKA\"\n",
      "Reading \"HSMV\"\n",
      "Reading \"HSON\"\n",
      "Reading \"HSRT\"\n",
      "Reading \"HST\"\n",
      "Reading \"HSTM\"\n",
      "Reading \"HSTO\"\n"
     ]
    },
    {
     "name": "stderr",
     "output_type": "stream",
     "text": [
      "sleep 3 seconds and retrying https://data.alpaca.markets/v1/bars/day 3 more time(s)...\n"
     ]
    },
    {
     "name": "stdout",
     "output_type": "stream",
     "text": [
      "Reading \"HSY\"\n",
      "Reading \"HT\"\n",
      "Reading \"HTA\"\n",
      "Reading \"HTAB\"\n",
      "Reading \"HTBI\"\n",
      "Reading \"HTBK\"\n",
      "Reading \"HTBX\"\n",
      "Reading \"HTD\"\n",
      "Reading \"HTEC\"\n",
      "Reading \"HTFB\"\n",
      "Reading \"HTGC\"\n"
     ]
    },
    {
     "name": "stderr",
     "output_type": "stream",
     "text": [
      "sleep 3 seconds and retrying https://data.alpaca.markets/v1/bars/day 3 more time(s)...\n"
     ]
    },
    {
     "name": "stdout",
     "output_type": "stream",
     "text": [
      "Reading \"HTGM\"\n",
      "Reading \"HTH\"\n",
      "Reading \"HTHT\"\n",
      "Reading \"HTIA\"\n",
      "Reading \"HTLD\"\n",
      "Reading \"HTLF\"\n",
      "Reading \"HTLFP\"\n",
      "Reading \"HTOO\"\n",
      "Reading \"HTPA\"\n",
      "Reading \"HTPA.U\"\n",
      "Reading \"HTRB\"\n",
      "Reading \"HTY\"\n",
      "Reading \"HUBG\"\n",
      "Reading \"HUBS\"\n",
      "Reading \"HUDI\"\n",
      "Reading \"HUGE\"\n",
      "Reading \"HUGS\"\n",
      "Reading \"HUGS.U\"\n",
      "Reading \"HUIZ\"\n",
      "Reading \"HUM\"\n",
      "Reading \"HUN\"\n",
      "Reading \"HURC\"\n",
      "Reading \"HURN\"\n",
      "Reading \"HUSA\"\n",
      "Reading \"HUSN\"\n",
      "Reading \"HUSV\"\n",
      "Reading \"HUYA\"\n",
      "Reading \"HVBC\"\n",
      "Reading \"HVT\"\n",
      "Reading \"HVT.A\"\n",
      "Reading \"HUBB\"\n",
      "Reading \"HWBK\"\n",
      "Reading \"HWC\"\n",
      "Reading \"HWCC\"\n",
      "Reading \"HWCPL\"\n",
      "Reading \"HWCPZ\"\n",
      "Reading \"HWKN\"\n",
      "Reading \"HWM\"\n",
      "Reading \"HX\"\n",
      "Reading \"HXL\"\n",
      "Reading \"HY\"\n",
      "Reading \"HYAC\"\n",
      "Reading \"HYACU\"\n",
      "Reading \"HYB\"\n",
      "Reading \"HYBB\"\n",
      "Reading \"HYD\"\n",
      "Reading \"HYDB\"\n",
      "Reading \"HYDW\"\n",
      "Reading \"HYEM\"\n",
      "Reading \"HYFM\"\n",
      "Reading \"HYG\"\n",
      "Reading \"HYGH\"\n",
      "Reading \"HYGV\"\n",
      "Reading \"HYHG\"\n",
      "Reading \"HYI\"\n",
      "Reading \"HYIN\"\n",
      "Reading \"HYLD\"\n",
      "Reading \"HYLN\"\n",
      "Reading \"HYLS\"\n",
      "Reading \"HYLV\"\n",
      "Reading \"HYMB\"\n",
      "Reading \"HYMC\"\n",
      "Reading \"HYMU\"\n",
      "Reading \"HYRE\"\n",
      "Reading \"HYS\"\n",
      "Reading \"HYT\"\n",
      "Reading \"HYTR\"\n",
      "Reading \"HYUP\"\n",
      "Reading \"HYW\"\n",
      "Reading \"HYXF\"\n",
      "Reading \"HYXU\"\n",
      "Reading \"HYZD\"\n"
     ]
    },
    {
     "name": "stderr",
     "output_type": "stream",
     "text": [
      "sleep 3 seconds and retrying https://data.alpaca.markets/v1/bars/day 3 more time(s)...\n"
     ]
    },
    {
     "name": "stdout",
     "output_type": "stream",
     "text": [
      "Reading \"HZAC\"\n",
      "Reading \"HZAC.U\"\n",
      "Reading \"HZN\"\n",
      "Reading \"HZNP\"\n",
      "Reading \"HZO\"\n",
      "Reading \"HZON\"\n",
      "Reading \"HZON.U\"\n",
      "Reading \"IAA\"\n",
      "Reading \"IAC\"\n",
      "Reading \"IACA\"\n",
      "Reading \"IACA.U\"\n",
      "Reading \"IACB.U\"\n",
      "Reading \"IAE\"\n"
     ]
    },
    {
     "name": "stderr",
     "output_type": "stream",
     "text": [
      "sleep 3 seconds and retrying https://data.alpaca.markets/v1/bars/day 3 more time(s)...\n"
     ]
    },
    {
     "name": "stdout",
     "output_type": "stream",
     "text": [
      "Reading \"IAF\"\n",
      "Reading \"IAG\"\n",
      "Reading \"IAGG\"\n",
      "Reading \"IAI\"\n",
      "Reading \"IAK\"\n",
      "Reading \"IAPR\"\n",
      "Reading \"IART\"\n",
      "Reading \"IAT\"\n",
      "Reading \"IAU\"\n",
      "Reading \"IBA\"\n",
      "Reading \"IBB\"\n",
      "Reading \"IBBJ\"\n",
      "Reading \"IBCE\"\n"
     ]
    },
    {
     "name": "stderr",
     "output_type": "stream",
     "text": [
      "sleep 3 seconds and retrying https://data.alpaca.markets/v1/bars/day 3 more time(s)...\n"
     ]
    },
    {
     "name": "stdout",
     "output_type": "stream",
     "text": [
      "Reading \"IBCP\"\n",
      "Reading \"IBD\"\n",
      "Reading \"IBDD\"\n",
      "Reading \"IBDM\"\n",
      "Reading \"IBDN\"\n",
      "Reading \"IBDO\"\n",
      "Reading \"IBDP\"\n",
      "Reading \"IBDQ\"\n",
      "Reading \"IBDR\"\n",
      "Reading \"IBDS\"\n",
      "Reading \"IBDT\"\n",
      "Reading \"IBDU\"\n",
      "Reading \"IBDV\"\n",
      "Reading \"IBER\"\n",
      "Reading \"IBER.U\"\n",
      "Reading \"IAUF\"\n"
     ]
    },
    {
     "name": "stderr",
     "output_type": "stream",
     "text": [
      "sleep 3 seconds and retrying https://data.alpaca.markets/v1/bars/day 3 more time(s)...\n"
     ]
    },
    {
     "name": "stdout",
     "output_type": "stream",
     "text": [
      "Reading \"IBEX\"\n",
      "Reading \"IBHA\"\n",
      "Reading \"IBHB\"\n",
      "Reading \"IBHC\"\n",
      "Reading \"IBHD\"\n",
      "Reading \"IBHE\"\n",
      "Reading \"IBHF\"\n",
      "Reading \"IBIO\"\n",
      "Reading \"IBKR\"\n",
      "Reading \"IBM\"\n",
      "Reading \"IBMJ\"\n",
      "Reading \"IBMK\"\n"
     ]
    },
    {
     "name": "stderr",
     "output_type": "stream",
     "text": [
      "sleep 3 seconds and retrying https://data.alpaca.markets/v1/bars/day 3 more time(s)...\n"
     ]
    },
    {
     "name": "stdout",
     "output_type": "stream",
     "text": [
      "Reading \"IBML\"\n",
      "Reading \"IBMM\"\n",
      "Reading \"IBMN\"\n",
      "Reading \"IBMO\"\n",
      "Reading \"IBMP\"\n",
      "Reading \"IBMQ\"\n",
      "Reading \"IBN\"\n",
      "Reading \"IBND\"\n",
      "Reading \"IBOC\"\n",
      "Reading \"IBP\"\n"
     ]
    },
    {
     "name": "stderr",
     "output_type": "stream",
     "text": [
      "sleep 3 seconds and retrying https://data.alpaca.markets/v1/bars/day 3 more time(s)...\n"
     ]
    },
    {
     "name": "stdout",
     "output_type": "stream",
     "text": [
      "Reading \"IBRX\"\n",
      "Reading \"IBTB\"\n",
      "Reading \"IBTD\"\n",
      "Reading \"IBTE\"\n",
      "Reading \"IBTF\"\n",
      "Reading \"IBTG\"\n",
      "Reading \"IBTH\"\n",
      "Reading \"IBTI\"\n",
      "Reading \"IBTJ\"\n",
      "Reading \"IBTK\"\n",
      "Reading \"IBTX\"\n",
      "Reading \"IBUY\"\n",
      "Reading \"ICAD\"\n",
      "Reading \"ICD\"\n",
      "Reading \"ICE\"\n",
      "Reading \"ICF\"\n",
      "Reading \"ICFI\"\n",
      "Reading \"ICHR\"\n",
      "Reading \"ICL\"\n",
      "Reading \"HPQ\"\n"
     ]
    },
    {
     "name": "stderr",
     "output_type": "stream",
     "text": [
      "sleep 3 seconds and retrying https://data.alpaca.markets/v1/bars/day 3 more time(s)...\n"
     ]
    },
    {
     "name": "stdout",
     "output_type": "stream",
     "text": [
      "Reading \"ICLK\"\n",
      "Reading \"ICLN\"\n",
      "Reading \"ICMB\"\n",
      "Reading \"ICOL\"\n",
      "Reading \"ICON\"\n",
      "Reading \"ICPT\"\n",
      "Reading \"ICSH\"\n",
      "Reading \"ICUI\"\n",
      "Reading \"ICVT\"\n",
      "Reading \"ID\"\n",
      "Reading \"IDBA\"\n",
      "Reading \"IDCC\"\n",
      "Reading \"IDE\"\n",
      "Reading \"IDEV\"\n",
      "Reading \"IDEX\"\n",
      "Reading \"IDHQ\"\n"
     ]
    },
    {
     "name": "stderr",
     "output_type": "stream",
     "text": [
      "sleep 3 seconds and retrying https://data.alpaca.markets/v1/bars/day 3 more time(s)...\n"
     ]
    },
    {
     "name": "stdout",
     "output_type": "stream",
     "text": [
      "Reading \"IDIV\"\n",
      "Reading \"IDLB\"\n",
      "Reading \"IDLV\"\n",
      "Reading \"IDMO\"\n",
      "Reading \"IDNA\"\n",
      "Reading \"IDOG\"\n",
      "Reading \"IDRA\"\n",
      "Reading \"IDRV\"\n",
      "Reading \"IDT\"\n",
      "Reading \"IDV\"\n"
     ]
    },
    {
     "name": "stderr",
     "output_type": "stream",
     "text": [
      "sleep 3 seconds and retrying https://data.alpaca.markets/v1/bars/day 3 more time(s)...\n"
     ]
    },
    {
     "name": "stdout",
     "output_type": "stream",
     "text": [
      "Reading \"IDX\"\n",
      "Reading \"IDXX\"\n",
      "Reading \"IDYA\"\n",
      "Reading \"IEC\"\n",
      "Reading \"IECS\"\n",
      "Reading \"IEDI\"\n",
      "Reading \"IEF\"\n",
      "Reading \"IEFA\"\n",
      "Reading \"IEHS\"\n",
      "Reading \"IEI\"\n",
      "Reading \"IEIH\"\n",
      "Reading \"IEME\"\n",
      "Reading \"IEMG\"\n",
      "Reading \"IEP\"\n",
      "Reading \"IESC\"\n",
      "Reading \"IETC\"\n",
      "Reading \"IEUS\"\n",
      "Reading \"IEV\"\n",
      "Reading \"IEX\"\n"
     ]
    },
    {
     "name": "stderr",
     "output_type": "stream",
     "text": [
      "sleep 3 seconds and retrying https://data.alpaca.markets/v1/bars/day 3 more time(s)...\n"
     ]
    },
    {
     "name": "stdout",
     "output_type": "stream",
     "text": [
      "Reading \"IEZ\"\n",
      "Reading \"IFBD\"\n",
      "Reading \"IFF\"\n",
      "Reading \"IFFT\"\n",
      "Reading \"IFGL\"\n",
      "Reading \"IFMK\"\n",
      "Reading \"IFN\"\n",
      "Reading \"IFRA\"\n",
      "Reading \"IFRX\"\n",
      "Reading \"IFS\"\n",
      "Reading \"IFV\"\n",
      "Reading \"IG\"\n",
      "Reading \"IGA\"\n",
      "Reading \"IGAC\"\n",
      "Reading \"IGACU\"\n",
      "Reading \"IGBH\"\n",
      "Reading \"IGC\"\n",
      "Reading \"IGD\"\n",
      "Reading \"IGE\"\n",
      "Reading \"IGEB\"\n",
      "Reading \"IGF\"\n",
      "Reading \"IGI\"\n",
      "Reading \"IGIB\"\n",
      "Reading \"IGIC\"\n",
      "Reading \"IGLB\"\n",
      "Reading \"IGLD\"\n",
      "Reading \"IGM\"\n",
      "Reading \"IGMS\"\n",
      "Reading \"IGN\"\n"
     ]
    },
    {
     "name": "stderr",
     "output_type": "stream",
     "text": [
      "sleep 3 seconds and retrying https://data.alpaca.markets/v1/bars/day 3 more time(s)...\n"
     ]
    },
    {
     "name": "stdout",
     "output_type": "stream",
     "text": [
      "Reading \"IGNY\"\n",
      "Reading \"IGNYU\"\n",
      "Reading \"IGOV\"\n",
      "Reading \"IGR\"\n",
      "Reading \"IGRO\"\n",
      "Reading \"IGSB\"\n",
      "Reading \"IGT\"\n",
      "Reading \"IGV\"\n",
      "Reading \"IH\"\n",
      "Reading \"IGHG\"\n",
      "Reading \"IHAK\"\n",
      "Reading \"IHC\"\n",
      "Reading \"IHD\"\n",
      "Reading \"IHDG\"\n",
      "Reading \"IHE\"\n",
      "Reading \"IHF\"\n",
      "Reading \"IHG\"\n",
      "Reading \"IHI\"\n",
      "Reading \"IHIT\"\n",
      "Reading \"IHRT\"\n",
      "Reading \"IHTA\"\n",
      "Reading \"IHY\"\n",
      "Reading \"IHYF\"\n",
      "Reading \"IIAC\"\n",
      "Reading \"IIAC.U\"\n",
      "Reading \"IIF\"\n",
      "Reading \"IIGD\"\n"
     ]
    },
    {
     "name": "stderr",
     "output_type": "stream",
     "text": [
      "sleep 3 seconds and retrying https://data.alpaca.markets/v1/bars/day 3 more time(s)...\n"
     ]
    },
    {
     "name": "stdout",
     "output_type": "stream",
     "text": [
      "Reading \"IIGV\"\n",
      "Reading \"III\"\n",
      "Reading \"IIIIU\"\n",
      "Reading \"IIIN\"\n",
      "Reading \"IIIV\"\n",
      "Reading \"IIM\"\n",
      "Reading \"IIPR\"\n",
      "Reading \"IIVIP\"\n",
      "Reading \"IJAN\"\n",
      "Reading \"IJH\"\n",
      "Reading \"IJJ\"\n",
      "Reading \"IJK\"\n",
      "Reading \"IJR\"\n",
      "Reading \"IJS\"\n",
      "Reading \"IJT\"\n",
      "Reading \"IJUL\"\n",
      "Reading \"IKNA\"\n",
      "Reading \"IKNX\"\n",
      "Reading \"IKT\"\n",
      "Reading \"ILCB\"\n",
      "Reading \"IIVI\"\n",
      "Reading \"ILCG\"\n",
      "Reading \"ILCV\"\n",
      "Reading \"ILF\"\n",
      "Reading \"ILMN\"\n",
      "Reading \"ILPT\"\n",
      "Reading \"IMAB\"\n",
      "Reading \"IMAX\"\n"
     ]
    },
    {
     "name": "stderr",
     "output_type": "stream",
     "text": [
      "sleep 3 seconds and retrying https://data.alpaca.markets/v1/bars/day 3 more time(s)...\n"
     ]
    },
    {
     "name": "stdout",
     "output_type": "stream",
     "text": [
      "Reading \"IMBI\"\n",
      "Reading \"IMCB\"\n",
      "Reading \"IMCC\"\n",
      "Reading \"IMCG\"\n",
      "Reading \"IMCR\"\n",
      "Reading \"IMCV\"\n",
      "Reading \"IMFL\"\n",
      "Reading \"IMGN\"\n",
      "Reading \"IMH\"\n",
      "Reading \"IMKTA\"\n",
      "Reading \"IMMP\"\n",
      "Reading \"IMMR\"\n",
      "Reading \"IMNM\"\n",
      "Reading \"IMOM\"\n"
     ]
    },
    {
     "name": "stderr",
     "output_type": "stream",
     "text": [
      "sleep 3 seconds and retrying https://data.alpaca.markets/v1/bars/day 3 more time(s)...\n"
     ]
    },
    {
     "name": "stdout",
     "output_type": "stream",
     "text": [
      "Reading \"IMOS\"\n",
      "Reading \"IMPL\"\n",
      "Reading \"IMPX\"\n",
      "Reading \"IMPX.U\"\n",
      "Reading \"IMRN\"\n",
      "Reading \"IMTB\"\n",
      "Reading \"IMTM\"\n",
      "Reading \"IMTX\"\n",
      "Reading \"IMUX\"\n",
      "Reading \"IMV\"\n",
      "Reading \"IMVT\"\n",
      "Reading \"IMXI\"\n",
      "Reading \"INBK\"\n",
      "Reading \"INBKL\"\n",
      "Reading \"INBKZ\"\n",
      "Reading \"INBX\"\n",
      "Reading \"INCO\"\n"
     ]
    },
    {
     "name": "stderr",
     "output_type": "stream",
     "text": [
      "sleep 3 seconds and retrying https://data.alpaca.markets/v1/bars/day 3 more time(s)...\n"
     ]
    },
    {
     "name": "stdout",
     "output_type": "stream",
     "text": [
      "Reading \"IIN\"\n",
      "Reading \"INCY\"\n",
      "Reading \"INDA\"\n",
      "Reading \"INDB\"\n",
      "Reading \"INDF\"\n",
      "Reading \"INDL\"\n",
      "Reading \"INDO\"\n",
      "Reading \"INDS\"\n",
      "Reading \"INDT\"\n",
      "Reading \"INDY\"\n",
      "Reading \"INFI\"\n"
     ]
    },
    {
     "name": "stderr",
     "output_type": "stream",
     "text": [
      "sleep 3 seconds and retrying https://data.alpaca.markets/v1/bars/day 3 more time(s)...\n"
     ]
    },
    {
     "name": "stdout",
     "output_type": "stream",
     "text": [
      "Reading \"INFL\"\n",
      "Reading \"INFN\"\n",
      "Reading \"INFO\"\n",
      "Reading \"INFR\"\n",
      "Reading \"INFU\"\n",
      "Reading \"INFY\"\n",
      "Reading \"ING\"\n",
      "Reading \"INGN\"\n",
      "Reading \"INGR\"\n",
      "Reading \"INKA\"\n",
      "Reading \"INKAU\"\n",
      "Reading \"INKM\"\n",
      "Reading \"INM\"\n",
      "Reading \"INMB\"\n",
      "Reading \"INMD\"\n",
      "Reading \"INMU\"\n",
      "Reading \"INN\"\n"
     ]
    },
    {
     "name": "stderr",
     "output_type": "stream",
     "text": [
      "sleep 3 seconds and retrying https://data.alpaca.markets/v1/bars/day 3 more time(s)...\n"
     ]
    },
    {
     "name": "stdout",
     "output_type": "stream",
     "text": [
      "Reading \"INNV\"\n",
      "Reading \"INO\"\n",
      "Reading \"INOD\"\n",
      "Reading \"INOV\"\n",
      "Reading \"INPX\"\n",
      "Reading \"INS\"\n",
      "Reading \"INSE\"\n",
      "Reading \"INSG\"\n",
      "Reading \"INSI\"\n",
      "Reading \"INSM\"\n",
      "Reading \"INSP\"\n",
      "Reading \"INSW\"\n",
      "Reading \"INT\"\n",
      "Reading \"INTF\"\n"
     ]
    },
    {
     "name": "stderr",
     "output_type": "stream",
     "text": [
      "sleep 3 seconds and retrying https://data.alpaca.markets/v1/bars/day 3 more time(s)...\n"
     ]
    },
    {
     "name": "stdout",
     "output_type": "stream",
     "text": [
      "Reading \"INTG\"\n",
      "Reading \"INTT\"\n",
      "Reading \"INTU\"\n",
      "Reading \"INTZ\"\n",
      "Reading \"INUV\"\n",
      "Reading \"INVA\"\n",
      "Reading \"INVE\"\n",
      "Reading \"INVH\"\n",
      "Reading \"INVO\"\n",
      "Reading \"INZY\"\n",
      "Reading \"IO\"\n",
      "Reading \"IONS\"\n",
      "Reading \"IOO\"\n",
      "Reading \"IOSP\"\n",
      "Reading \"IOVA\"\n",
      "Reading \"IP\"\n",
      "Reading \"IPA\"\n",
      "Reading \"IPAC\"\n",
      "Reading \"IPAR\"\n",
      "Reading \"IPAY\"\n",
      "Reading \"IPB\"\n",
      "Reading \"IPDN\"\n",
      "Reading \"IPFF\"\n",
      "Reading \"IPG\"\n",
      "Reading \"IPGP\"\n",
      "Reading \"IPHA\"\n",
      "Reading \"IPI\"\n",
      "Reading \"IPLDP\"\n",
      "Reading \"IPO\"\n"
     ]
    },
    {
     "name": "stderr",
     "output_type": "stream",
     "text": [
      "sleep 3 seconds and retrying https://data.alpaca.markets/v1/bars/day 3 more time(s)...\n"
     ]
    },
    {
     "name": "stdout",
     "output_type": "stream",
     "text": [
      "Reading \"IPOD\"\n",
      "Reading \"IPOD.U\"\n",
      "Reading \"IPOE.U\"\n",
      "Reading \"IPOF\"\n",
      "Reading \"IPOF.U\"\n",
      "Reading \"IPOS\"\n",
      "Reading \"IPVA\"\n",
      "Reading \"IPVA.U\"\n",
      "Reading \"IPVF\"\n",
      "Reading \"IPVF.U\"\n",
      "Reading \"IPVIU\"\n",
      "Reading \"IPWR\"\n",
      "Reading \"IQ\"\n",
      "Reading \"IQDE\"\n",
      "Reading \"IQDF\"\n",
      "Reading \"IQDG\"\n"
     ]
    },
    {
     "name": "stderr",
     "output_type": "stream",
     "text": [
      "sleep 3 seconds and retrying https://data.alpaca.markets/v1/bars/day 3 more time(s)...\n"
     ]
    },
    {
     "name": "stdout",
     "output_type": "stream",
     "text": [
      "Reading \"IQDY\"\n",
      "Reading \"IQI\"\n",
      "Reading \"IQIN\"\n",
      "Reading \"IQLT\"\n",
      "Reading \"IQSI\"\n",
      "Reading \"IQSU\"\n",
      "Reading \"IQV\"\n",
      "Reading \"IR\"\n",
      "Reading \"IRBO\"\n",
      "Reading \"IRBT\"\n"
     ]
    },
    {
     "name": "stderr",
     "output_type": "stream",
     "text": [
      "sleep 3 seconds and retrying https://data.alpaca.markets/v1/bars/day 3 more time(s)...\n"
     ]
    },
    {
     "name": "stdout",
     "output_type": "stream",
     "text": [
      "Reading \"IRCP\"\n",
      "Reading \"IRDM\"\n",
      "Reading \"IRIX\"\n",
      "Reading \"IRL\"\n",
      "Reading \"IRM\"\n",
      "Reading \"IRMD\"\n",
      "Reading \"IROQ\"\n",
      "Reading \"IRR\"\n",
      "Reading \"IRS\"\n",
      "Reading \"IRT\"\n",
      "Reading \"IRTC\"\n",
      "Reading \"IRWD\"\n",
      "Reading \"ISBC\"\n",
      "Reading \"ISCB\"\n"
     ]
    },
    {
     "name": "stderr",
     "output_type": "stream",
     "text": [
      "sleep 3 seconds and retrying https://data.alpaca.markets/v1/bars/day 3 more time(s)...\n"
     ]
    },
    {
     "name": "stdout",
     "output_type": "stream",
     "text": [
      "Reading \"ISCF\"\n",
      "Reading \"ISCG\"\n",
      "Reading \"ISCV\"\n",
      "Reading \"ISD\"\n",
      "Reading \"ISDR\"\n",
      "Reading \"ISDX\"\n",
      "Reading \"ISEE\"\n",
      "Reading \"ISEM\"\n",
      "Reading \"ISHG\"\n",
      "Reading \"ISIG\"\n",
      "Reading \"ISLE\"\n",
      "Reading \"ISMD\"\n",
      "Reading \"ISOS.U\"\n",
      "Reading \"ISR\"\n",
      "Reading \"ISRA\"\n",
      "Reading \"ISRG\"\n",
      "Reading \"ISSC\"\n"
     ]
    },
    {
     "name": "stderr",
     "output_type": "stream",
     "text": [
      "sleep 3 seconds and retrying https://data.alpaca.markets/v1/bars/day 3 more time(s)...\n"
     ]
    },
    {
     "name": "stdout",
     "output_type": "stream",
     "text": [
      "Reading \"ISTB\"\n",
      "Reading \"ISTR\"\n",
      "Reading \"ISUN\"\n",
      "Reading \"ISVL\"\n",
      "Reading \"ISWN\"\n",
      "Reading \"ISZE\"\n",
      "Reading \"IT\"\n",
      "Reading \"ITA\"\n",
      "Reading \"ITAC\"\n",
      "Reading \"ITACU\"\n",
      "Reading \"ITB\"\n",
      "Reading \"ITCB\"\n",
      "Reading \"ITCI\"\n",
      "Reading \"ITEQ\"\n",
      "Reading \"ITGR\"\n"
     ]
    },
    {
     "name": "stderr",
     "output_type": "stream",
     "text": [
      "sleep 3 seconds and retrying https://data.alpaca.markets/v1/bars/day 3 more time(s)...\n"
     ]
    },
    {
     "name": "stdout",
     "output_type": "stream",
     "text": [
      "Reading \"ITHX\"\n",
      "Reading \"ITHXU\"\n",
      "Reading \"ITI\"\n",
      "Reading \"ITIC\"\n",
      "Reading \"ITM\"\n",
      "Reading \"ITMR\"\n",
      "Reading \"ITOS\"\n",
      "Reading \"ITOT\"\n",
      "Reading \"ITP\"\n",
      "Reading \"ITQ\"\n",
      "Reading \"ITQRU\"\n",
      "Reading \"ITRG\"\n",
      "Reading \"ITRI\"\n"
     ]
    },
    {
     "name": "stderr",
     "output_type": "stream",
     "text": [
      "sleep 3 seconds and retrying https://data.alpaca.markets/v1/bars/day 3 more time(s)...\n"
     ]
    },
    {
     "name": "stdout",
     "output_type": "stream",
     "text": [
      "Reading \"ITRM\"\n",
      "Reading \"ITRN\"\n",
      "Reading \"ITUB\"\n",
      "Reading \"ITW\"\n",
      "Reading \"IUS\"\n",
      "Reading \"IUSB\"\n",
      "Reading \"IUSG\"\n",
      "Reading \"IUSS\"\n",
      "Reading \"IUSV\"\n",
      "Reading \"IVA\"\n",
      "Reading \"IVAC\"\n"
     ]
    },
    {
     "name": "stderr",
     "output_type": "stream",
     "text": [
      "sleep 3 seconds and retrying https://data.alpaca.markets/v1/bars/day 3 more time(s)...\n"
     ]
    },
    {
     "name": "stdout",
     "output_type": "stream",
     "text": [
      "Reading \"IVAL\"\n",
      "Reading \"IVAN\"\n",
      "Reading \"IVAN.U\"\n",
      "Reading \"IVC\"\n",
      "Reading \"IVDG\"\n",
      "Reading \"IVE\"\n",
      "Reading \"IVES\"\n",
      "Reading \"IVH\"\n",
      "Reading \"IVLC\"\n",
      "Reading \"IVLU\"\n",
      "Reading \"IVOG\"\n",
      "Reading \"IVOL\"\n",
      "Reading \"IVOO\"\n",
      "Reading \"IVOV\"\n",
      "Reading \"IVR\"\n"
     ]
    },
    {
     "name": "stderr",
     "output_type": "stream",
     "text": [
      "sleep 3 seconds and retrying https://data.alpaca.markets/v1/bars/day 3 more time(s)...\n"
     ]
    },
    {
     "name": "stdout",
     "output_type": "stream",
     "text": [
      "Reading \"IVRA\"\n",
      "Reading \"IVSG\"\n",
      "Reading \"IVV\"\n",
      "Reading \"IVW\"\n",
      "Reading \"IWC\"\n",
      "Reading \"IWD\"\n",
      "Reading \"IWDL\"\n",
      "Reading \"IWF\"\n",
      "Reading \"IWFH\"\n",
      "Reading \"IWFL\"\n",
      "Reading \"IWL\"\n",
      "Reading \"IWML\"\n",
      "Reading \"IWO\"\n"
     ]
    },
    {
     "name": "stderr",
     "output_type": "stream",
     "text": [
      "sleep 3 seconds and retrying https://data.alpaca.markets/v1/bars/day 3 more time(s)...\n"
     ]
    },
    {
     "name": "stdout",
     "output_type": "stream",
     "text": [
      "Reading \"IWP\"\n",
      "Reading \"IWR\"\n",
      "Reading \"IWS\"\n",
      "Reading \"IWV\"\n",
      "Reading \"IWX\"\n",
      "Reading \"IWY\"\n",
      "Reading \"IX\"\n",
      "Reading \"IXC\"\n",
      "Reading \"IXG\"\n",
      "Reading \"IXJ\"\n",
      "Reading \"IXN\"\n",
      "Reading \"IXP\"\n",
      "Reading \"IXSE\"\n",
      "Reading \"IXUS\"\n",
      "Reading \"IYC\"\n"
     ]
    },
    {
     "name": "stderr",
     "output_type": "stream",
     "text": [
      "sleep 3 seconds and retrying https://data.alpaca.markets/v1/bars/day 3 more time(s)...\n"
     ]
    },
    {
     "name": "stdout",
     "output_type": "stream",
     "text": [
      "Reading \"IYE\"\n",
      "Reading \"IYF\"\n",
      "Reading \"IYG\"\n",
      "Reading \"IYH\"\n",
      "Reading \"IYJ\"\n",
      "Reading \"IYK\"\n",
      "Reading \"IYLD\"\n",
      "Reading \"IYM\"\n",
      "Reading \"IYT\"\n",
      "Reading \"IYW\"\n",
      "Reading \"IYY\"\n",
      "Reading \"IYZ\"\n",
      "Reading \"IZEA\"\n"
     ]
    },
    {
     "name": "stderr",
     "output_type": "stream",
     "text": [
      "sleep 3 seconds and retrying https://data.alpaca.markets/v1/bars/day 3 more time(s)...\n"
     ]
    },
    {
     "name": "stdout",
     "output_type": "stream",
     "text": [
      "Reading \"IZRL\"\n",
      "Reading \"J\"\n",
      "Reading \"JAAA\"\n",
      "Reading \"JACK\"\n",
      "Reading \"JAGG\"\n",
      "Reading \"JAGX\"\n",
      "Reading \"JAKK\"\n",
      "Reading \"JAMF\"\n",
      "Reading \"JAN\"\n",
      "Reading \"JANZ\"\n",
      "Reading \"JAX\"\n",
      "Reading \"JBGS\"\n",
      "Reading \"JBHT\"\n",
      "Reading \"JBK\"\n",
      "Reading \"JBL\"\n",
      "Reading \"JBLU\"\n",
      "Reading \"JBT\"\n",
      "Reading \"JCE\"\n"
     ]
    },
    {
     "name": "stderr",
     "output_type": "stream",
     "text": [
      "sleep 3 seconds and retrying https://data.alpaca.markets/v1/bars/day 3 more time(s)...\n"
     ]
    },
    {
     "name": "stdout",
     "output_type": "stream",
     "text": [
      "Reading \"JCI\"\n",
      "Reading \"JCIC\"\n",
      "Reading \"JCICU\"\n",
      "Reading \"JCOM\"\n",
      "Reading \"JCPB\"\n",
      "Reading \"JCTCF\"\n",
      "Reading \"JCTR\"\n",
      "Reading \"JDD\"\n",
      "Reading \"JDST\"\n",
      "Reading \"JEF\"\n",
      "Reading \"JELD\"\n",
      "Reading \"JEMD\"\n"
     ]
    },
    {
     "name": "stderr",
     "output_type": "stream",
     "text": [
      "sleep 3 seconds and retrying https://data.alpaca.markets/v1/bars/day 3 more time(s)...\n"
     ]
    },
    {
     "name": "stdout",
     "output_type": "stream",
     "text": [
      "Reading \"JEQ\"\n",
      "Reading \"JETS\"\n",
      "Reading \"JFIN\"\n",
      "Reading \"JFR\"\n",
      "Reading \"JFU\"\n",
      "Reading \"JG\"\n",
      "Reading \"JGH\"\n",
      "Reading \"JGLD\"\n",
      "Reading \"JHAA\"\n",
      "Reading \"JHB\"\n",
      "Reading \"JHCB\"\n",
      "Reading \"JHCS\"\n",
      "Reading \"JHEM\"\n",
      "Reading \"JHG\"\n"
     ]
    },
    {
     "name": "stderr",
     "output_type": "stream",
     "text": [
      "sleep 3 seconds and retrying https://data.alpaca.markets/v1/bars/day 3 more time(s)...\n"
     ]
    },
    {
     "name": "stdout",
     "output_type": "stream",
     "text": [
      "Reading \"JHI\"\n",
      "Reading \"JHMA\"\n",
      "Reading \"JHMC\"\n",
      "Reading \"JHMD\"\n",
      "Reading \"JHME\"\n",
      "Reading \"JHMF\"\n",
      "Reading \"JHMH\"\n",
      "Reading \"JHMI\"\n",
      "Reading \"JHML\"\n",
      "Reading \"JHMM\"\n",
      "Reading \"JHMS\"\n",
      "Reading \"JHMT\"\n",
      "Reading \"JHMU\"\n",
      "Reading \"JHS\"\n",
      "Reading \"JHSC\"\n",
      "Reading \"JHX\"\n"
     ]
    },
    {
     "name": "stderr",
     "output_type": "stream",
     "text": [
      "sleep 3 seconds and retrying https://data.alpaca.markets/v1/bars/day 3 more time(s)...\n"
     ]
    },
    {
     "name": "stdout",
     "output_type": "stream",
     "text": [
      "Reading \"JIG\"\n",
      "Reading \"JIH\"\n",
      "Reading \"JIH.U\"\n",
      "Reading \"JILL\"\n",
      "Reading \"JJA\"\n",
      "Reading \"JJC\"\n",
      "Reading \"JJG\"\n",
      "Reading \"JJM\"\n",
      "Reading \"JJN\"\n",
      "Reading \"JJP\"\n",
      "Reading \"JJS\"\n",
      "Reading \"JJT\"\n",
      "Reading \"JJU\"\n",
      "Reading \"JKHY\"\n"
     ]
    },
    {
     "name": "stderr",
     "output_type": "stream",
     "text": [
      "sleep 3 seconds and retrying https://data.alpaca.markets/v1/bars/day 3 more time(s)...\n"
     ]
    },
    {
     "name": "stdout",
     "output_type": "stream",
     "text": [
      "Reading \"JKS\"\n",
      "Reading \"JLL\"\n",
      "Reading \"JMBS\"\n",
      "Reading \"JMIA\"\n",
      "Reading \"JMIN\"\n",
      "Reading \"JMM\"\n",
      "Reading \"JMOM\"\n",
      "Reading \"JMPNL\"\n",
      "Reading \"JMPNZ\"\n",
      "Reading \"JMST\"\n",
      "Reading \"JMUB\"\n",
      "Reading \"JNCE\"\n"
     ]
    },
    {
     "name": "stderr",
     "output_type": "stream",
     "text": [
      "sleep 3 seconds and retrying https://data.alpaca.markets/v1/bars/day 3 more time(s)...\n"
     ]
    },
    {
     "name": "stdout",
     "output_type": "stream",
     "text": [
      "Reading \"JNPR\"\n",
      "Reading \"JNUG\"\n",
      "Reading \"JO\"\n",
      "Reading \"JOAN\"\n",
      "Reading \"JOB\"\n",
      "Reading \"JOE\"\n",
      "Reading \"JOET\"\n",
      "Reading \"JOF\"\n",
      "Reading \"JOFF\"\n",
      "Reading \"JOUT\"\n",
      "Reading \"JOYY\"\n",
      "Reading \"JP\"\n",
      "Reading \"JPC\"\n",
      "Reading \"JPEM\"\n",
      "Reading \"JPI\"\n",
      "Reading \"JPIB\"\n"
     ]
    },
    {
     "name": "stderr",
     "output_type": "stream",
     "text": [
      "sleep 3 seconds and retrying https://data.alpaca.markets/v1/bars/day 3 more time(s)...\n"
     ]
    },
    {
     "name": "stdout",
     "output_type": "stream",
     "text": [
      "Reading \"JPIN\"\n",
      "Reading \"JPMB\"\n",
      "Reading \"JPME\"\n",
      "Reading \"JPN\"\n",
      "Reading \"JPS\"\n",
      "Reading \"JPSE\"\n",
      "Reading \"JPST\"\n",
      "Reading \"JPT\"\n",
      "Reading \"JPUS\"\n",
      "Reading \"JPXN\"\n",
      "Reading \"JQC\"\n",
      "Reading \"JQUA\"\n",
      "Reading \"JRI\"\n"
     ]
    },
    {
     "name": "stderr",
     "output_type": "stream",
     "text": [
      "sleep 3 seconds and retrying https://data.alpaca.markets/v1/bars/day 3 more time(s)...\n"
     ]
    },
    {
     "name": "stdout",
     "output_type": "stream",
     "text": [
      "Reading \"JRJC\"\n",
      "Reading \"JRO\"\n",
      "Reading \"JRS\"\n",
      "Reading \"JRSH\"\n",
      "Reading \"JRVR\"\n",
      "Reading \"JSCP\"\n",
      "Reading \"JSD\"\n",
      "Reading \"JSM\"\n",
      "Reading \"JSMD\"\n",
      "Reading \"JSML\"\n",
      "Reading \"JSTC\"\n",
      "Reading \"JT\"\n",
      "Reading \"JTA\"\n"
     ]
    },
    {
     "name": "stderr",
     "output_type": "stream",
     "text": [
      "sleep 3 seconds and retrying https://data.alpaca.markets/v1/bars/day 3 more time(s)...\n"
     ]
    },
    {
     "name": "stdout",
     "output_type": "stream",
     "text": [
      "Reading \"JTD\"\n",
      "Reading \"JULZ\"\n",
      "Reading \"JUPW\"\n",
      "Reading \"JUST\"\n",
      "Reading \"JVA\"\n",
      "Reading \"JW.A\"\n",
      "Reading \"JW.B\"\n",
      "Reading \"JWEL\"\n",
      "Reading \"JWN\"\n",
      "Reading \"JWS\"\n",
      "Reading \"JWS.U\"\n",
      "Reading \"JWSM.U\"\n",
      "Reading \"JXI\"\n",
      "Reading \"JYAC\"\n",
      "Reading \"JYNT\"\n",
      "Reading \"K\"\n"
     ]
    },
    {
     "name": "stderr",
     "output_type": "stream",
     "text": [
      "sleep 3 seconds and retrying https://data.alpaca.markets/v1/bars/day 3 more time(s)...\n"
     ]
    },
    {
     "name": "stdout",
     "output_type": "stream",
     "text": [
      "Reading \"KAHC\"\n",
      "Reading \"KAHC.U\"\n",
      "Reading \"KAI\"\n",
      "Reading \"KAII\"\n",
      "Reading \"KAIIU\"\n",
      "Reading \"JVAL\"\n",
      "Reading \"KAIR\"\n",
      "Reading \"KAIRU\"\n",
      "Reading \"KALA\"\n",
      "Reading \"KALL\"\n",
      "Reading \"KALU\"\n",
      "Reading \"KALV\"\n",
      "Reading \"KAMN\"\n"
     ]
    },
    {
     "name": "stderr",
     "output_type": "stream",
     "text": [
      "sleep 3 seconds and retrying https://data.alpaca.markets/v1/bars/day 3 more time(s)...\n"
     ]
    },
    {
     "name": "stdout",
     "output_type": "stream",
     "text": [
      "Reading \"KAPR\"\n",
      "Reading \"KAR\"\n",
      "Reading \"KARO\"\n",
      "Reading \"KARS\"\n",
      "Reading \"KBA\"\n",
      "Reading \"KBAL\"\n",
      "Reading \"KBE\"\n",
      "Reading \"KBH\"\n",
      "Reading \"KBR\"\n",
      "Reading \"KBSF\"\n",
      "Reading \"KBUY\"\n",
      "Reading \"KBWB\"\n",
      "Reading \"KBWD\"\n"
     ]
    },
    {
     "name": "stderr",
     "output_type": "stream",
     "text": [
      "sleep 3 seconds and retrying https://data.alpaca.markets/v1/bars/day 3 more time(s)...\n"
     ]
    },
    {
     "name": "stdout",
     "output_type": "stream",
     "text": [
      "Reading \"KBWP\"\n",
      "Reading \"KBWR\"\n",
      "Reading \"KBWY\"\n",
      "Reading \"KC\"\n",
      "Reading \"KCAC\"\n",
      "Reading \"KCAC.U\"\n",
      "Reading \"KCCB\"\n",
      "Reading \"KCE\"\n",
      "Reading \"KCNY\"\n",
      "Reading \"KDFI\"\n",
      "Reading \"KDNY\"\n",
      "Reading \"KDP\"\n",
      "Reading \"KE\"\n",
      "Reading \"KEJI\"\n",
      "Reading \"KELYA\"\n",
      "Reading \"KELYB\"\n",
      "Reading \"KEMQ\"\n"
     ]
    },
    {
     "name": "stderr",
     "output_type": "stream",
     "text": [
      "sleep 3 seconds and retrying https://data.alpaca.markets/v1/bars/day 3 more time(s)...\n"
     ]
    },
    {
     "name": "stdout",
     "output_type": "stream",
     "text": [
      "Reading \"KEMX\"\n",
      "Reading \"KEN\"\n",
      "Reading \"KEP\"\n",
      "Reading \"KEQU\"\n",
      "Reading \"KERN\"\n",
      "Reading \"KESG\"\n",
      "Reading \"KEX\"\n",
      "Reading \"KEY\"\n",
      "Reading \"KEYS\"\n",
      "Reading \"KF\"\n",
      "Reading \"KFFB\"\n",
      "Reading \"KFRC\"\n",
      "Reading \"KFS\"\n",
      "Reading \"KFVG\"\n",
      "Reading \"KFY\"\n",
      "Reading \"KFYP\"\n",
      "Reading \"KGC\"\n",
      "Reading \"KGRN\"\n",
      "Reading \"KHC\"\n",
      "Reading \"KIDS\"\n",
      "Reading \"KIE\"\n",
      "Reading \"KIII\"\n",
      "Reading \"KIIIU\"\n",
      "Reading \"KIM\"\n",
      "Reading \"KIN\"\n",
      "Reading \"KINS\"\n",
      "Reading \"KINZ\"\n",
      "Reading \"KINZU\"\n",
      "Reading \"KIO\"\n",
      "Reading \"KIQ\"\n",
      "Reading \"KIRK\"\n",
      "Reading \"KJAN\"\n",
      "Reading \"KKR\"\n",
      "Reading \"KKRS\"\n",
      "Reading \"KL\"\n",
      "Reading \"KLAC\"\n"
     ]
    },
    {
     "name": "stderr",
     "output_type": "stream",
     "text": [
      "sleep 3 seconds and retrying https://data.alpaca.markets/v1/bars/day 3 more time(s)...\n"
     ]
    },
    {
     "name": "stdout",
     "output_type": "stream",
     "text": [
      "Reading \"KLAQ\"\n",
      "Reading \"KLAQU\"\n",
      "Reading \"KLCD\"\n",
      "Reading \"KLDO\"\n",
      "Reading \"KLDW\"\n",
      "Reading \"KLIC\"\n",
      "Reading \"KLR\"\n",
      "Reading \"KLXE\"\n",
      "Reading \"KMB\"\n",
      "Reading \"KMDA\"\n",
      "Reading \"KMF\"\n",
      "Reading \"KMI\"\n",
      "Reading \"KMLM\"\n",
      "Reading \"KMPH\"\n"
     ]
    },
    {
     "name": "stderr",
     "output_type": "stream",
     "text": [
      "sleep 3 seconds and retrying https://data.alpaca.markets/v1/bars/day 3 more time(s)...\n"
     ]
    },
    {
     "name": "stdout",
     "output_type": "stream",
     "text": [
      "Reading \"KMPR\"\n",
      "Reading \"KMT\"\n",
      "Reading \"KMX\"\n",
      "Reading \"KN\"\n",
      "Reading \"KNBE\"\n",
      "Reading \"KNDI\"\n",
      "Reading \"KNG\"\n",
      "Reading \"KNGS\"\n",
      "Reading \"KNL\"\n",
      "Reading \"KNOP\"\n",
      "Reading \"KNSA\"\n",
      "Reading \"KNSL\"\n",
      "Reading \"KNTE\"\n",
      "Reading \"KNX\"\n",
      "Reading \"KO\"\n",
      "Reading \"KOCT\"\n",
      "Reading \"KODK\"\n"
     ]
    },
    {
     "name": "stderr",
     "output_type": "stream",
     "text": [
      "sleep 3 seconds and retrying https://data.alpaca.markets/v1/bars/day 3 more time(s)...\n"
     ]
    },
    {
     "name": "stdout",
     "output_type": "stream",
     "text": [
      "Reading \"KOF\"\n",
      "Reading \"KOIN\"\n",
      "Reading \"KOKU\"\n",
      "Reading \"KOLD\"\n",
      "Reading \"KOMP\"\n",
      "Reading \"KOP\"\n",
      "Reading \"KOPN\"\n",
      "Reading \"KOR\"\n",
      "Reading \"KORP\"\n",
      "Reading \"KORU\"\n",
      "Reading \"KOS\"\n",
      "Reading \"KOSS\"\n",
      "Reading \"KPTI\"\n",
      "Reading \"KR\"\n",
      "Reading \"KRA\"\n",
      "Reading \"KRBN\"\n"
     ]
    },
    {
     "name": "stderr",
     "output_type": "stream",
     "text": [
      "sleep 3 seconds and retrying https://data.alpaca.markets/v1/bars/day 3 more time(s)...\n"
     ]
    },
    {
     "name": "stdout",
     "output_type": "stream",
     "text": [
      "Reading \"KRBP\"\n",
      "Reading \"KRC\"\n",
      "Reading \"KRE\"\n",
      "Reading \"KRG\"\n",
      "Reading \"KRKR\"\n",
      "Reading \"KRMA\"\n",
      "Reading \"KRMD\"\n",
      "Reading \"KRNL\"\n",
      "Reading \"KRNLU\"\n",
      "Reading \"KRNT\"\n",
      "Reading \"KRNY\"\n",
      "Reading \"KRO\"\n",
      "Reading \"KRON\"\n"
     ]
    },
    {
     "name": "stderr",
     "output_type": "stream",
     "text": [
      "sleep 3 seconds and retrying https://data.alpaca.markets/v1/bars/day 3 more time(s)...\n"
     ]
    },
    {
     "name": "stdout",
     "output_type": "stream",
     "text": [
      "Reading \"KROS\"\n",
      "Reading \"KRP\"\n",
      "Reading \"KRT\"\n",
      "Reading \"KRTX\"\n",
      "Reading \"KRUS\"\n",
      "Reading \"KRYS\"\n",
      "Reading \"KSA\"\n",
      "Reading \"KSCD\"\n"
     ]
    },
    {
     "name": "stderr",
     "output_type": "stream",
     "text": [
      "sleep 3 seconds and retrying https://data.alpaca.markets/v1/bars/day 3 more time(s)...\n"
     ]
    },
    {
     "name": "stdout",
     "output_type": "stream",
     "text": [
      "Reading \"KSICU\"\n",
      "Reading \"KSM\"\n",
      "Reading \"KSMT\"\n",
      "Reading \"KSMTU\"\n",
      "Reading \"KSPN\"\n",
      "Reading \"KSS\"\n",
      "Reading \"KSTR\"\n",
      "Reading \"KSU\"\n",
      "Reading \"KTB\"\n",
      "Reading \"KTCC\"\n",
      "Reading \"KTF\"\n",
      "Reading \"KTH\"\n",
      "Reading \"KTN\"\n",
      "Reading \"KTOS\"\n",
      "Reading \"KTRA\"\n",
      "Reading \"KUKE\"\n",
      "Reading \"KURA\"\n",
      "Reading \"KURE\"\n"
     ]
    },
    {
     "name": "stderr",
     "output_type": "stream",
     "text": [
      "sleep 3 seconds and retrying https://data.alpaca.markets/v1/bars/day 3 more time(s)...\n"
     ]
    },
    {
     "name": "stdout",
     "output_type": "stream",
     "text": [
      "Reading \"KURI\"\n",
      "Reading \"KURIU\"\n",
      "Reading \"KVHI\"\n",
      "Reading \"KVLE\"\n",
      "Reading \"KVSA\"\n",
      "Reading \"KOD\"\n",
      "Reading \"KVSB\"\n",
      "Reading \"KVSC\"\n",
      "Reading \"KW\"\n",
      "Reading \"KWAC\"\n",
      "Reading \"KWAC.U\"\n",
      "Reading \"KWEB\"\n",
      "Reading \"KWR\"\n",
      "Reading \"KWT\"\n",
      "Reading \"KXI\"\n",
      "Reading \"KXIN\"\n",
      "Reading \"KYMR\"\n",
      "Reading \"KYN\"\n",
      "Reading \"KZIA\"\n",
      "Reading \"L\"\n",
      "Reading \"LABD\"\n",
      "Reading \"LABP\"\n",
      "Reading \"LABU\"\n",
      "Reading \"LAC\"\n",
      "Reading \"LACQ\"\n",
      "Reading \"LACQU\"\n",
      "Reading \"LADR\"\n",
      "Reading \"LAIX\"\n",
      "Reading \"LAKE\"\n",
      "Reading \"LAMR\"\n",
      "Reading \"LANC\"\n",
      "Reading \"LAND\"\n",
      "Reading \"LANDM\"\n",
      "Reading \"LANDO\"\n",
      "Reading \"LARK\"\n",
      "Reading \"LASR\"\n"
     ]
    },
    {
     "name": "stderr",
     "output_type": "stream",
     "text": [
      "sleep 3 seconds and retrying https://data.alpaca.markets/v1/bars/day 3 more time(s)...\n"
     ]
    },
    {
     "name": "stdout",
     "output_type": "stream",
     "text": [
      "Reading \"LATNU\"\n",
      "Reading \"LAUR\"\n",
      "Reading \"LAWS\"\n",
      "Reading \"LAZ\"\n",
      "Reading \"LAZR\"\n",
      "Reading \"LAZY\"\n",
      "Reading \"LBAI\"\n",
      "Reading \"LBAY\"\n",
      "Reading \"LBC\"\n"
     ]
    },
    {
     "name": "stderr",
     "output_type": "stream",
     "text": [
      "sleep 3 seconds and retrying https://data.alpaca.markets/v1/bars/day 3 more time(s)...\n"
     ]
    },
    {
     "name": "stdout",
     "output_type": "stream",
     "text": [
      "Reading \"LBJ\"\n",
      "Reading \"JWSM\"\n",
      "Reading \"LBPH\"\n",
      "Reading \"LBPS\"\n",
      "Reading \"LBRDA\"\n",
      "Reading \"LBRDK\"\n",
      "Reading \"LBRDP\"\n",
      "Reading \"LBRT\"\n",
      "Reading \"LBTYK\"\n",
      "Reading \"LC\"\n",
      "Reading \"LCAAU\"\n",
      "Reading \"LCAHU\"\n",
      "Reading \"LCAP\"\n",
      "Reading \"LCAPU\"\n",
      "Reading \"LCG\"\n",
      "Reading \"LCII\"\n",
      "Reading \"LCR\"\n"
     ]
    },
    {
     "name": "stderr",
     "output_type": "stream",
     "text": [
      "sleep 3 seconds and retrying https://data.alpaca.markets/v1/bars/day 3 more time(s)...\n"
     ]
    },
    {
     "name": "stdout",
     "output_type": "stream",
     "text": [
      "Reading \"LCTD\"\n",
      "Reading \"LCTU\"\n",
      "Reading \"LCTX\"\n",
      "Reading \"LD\"\n",
      "Reading \"LDEM\"\n",
      "Reading \"LDHAU\"\n",
      "Reading \"LDL\"\n",
      "Reading \"LDOS\"\n",
      "Reading \"LDP\"\n",
      "Reading \"LDSF\"\n",
      "Reading \"LDUR\"\n",
      "Reading \"LE\"\n"
     ]
    },
    {
     "name": "stderr",
     "output_type": "stream",
     "text": [
      "sleep 3 seconds and retrying https://data.alpaca.markets/v1/bars/day 3 more time(s)...\n"
     ]
    },
    {
     "name": "stdout",
     "output_type": "stream",
     "text": [
      "Reading \"LEA\"\n",
      "Reading \"LEAD\"\n",
      "Reading \"LEAP\"\n",
      "Reading \"LEAP.U\"\n",
      "Reading \"LECO\"\n",
      "Reading \"LEDS\"\n",
      "Reading \"LEE\"\n",
      "Reading \"LEGAU\"\n",
      "Reading \"LEGN\"\n",
      "Reading \"LEGO\"\n",
      "Reading \"LEGOU\"\n",
      "Reading \"LEGR\"\n",
      "Reading \"LEN\"\n",
      "Reading \"LAD\"\n"
     ]
    },
    {
     "name": "stderr",
     "output_type": "stream",
     "text": [
      "sleep 3 seconds and retrying https://data.alpaca.markets/v1/bars/day 3 more time(s)...\n"
     ]
    },
    {
     "name": "stdout",
     "output_type": "stream",
     "text": [
      "Reading \"LCY\"\n",
      "Reading \"LCYAU\"\n",
      "Reading \"LEND\"\n",
      "Reading \"LEO\"\n",
      "Reading \"LESL\"\n",
      "Reading \"LEU\"\n",
      "Reading \"LEV\"\n",
      "Reading \"LEVI\"\n",
      "Reading \"LEVL\"\n",
      "Reading \"LEVLP\"\n"
     ]
    },
    {
     "name": "stderr",
     "output_type": "stream",
     "text": [
      "sleep 3 seconds and retrying https://data.alpaca.markets/v1/bars/day 3 more time(s)...\n"
     ]
    },
    {
     "name": "stdout",
     "output_type": "stream",
     "text": [
      "Reading \"LEXX\"\n",
      "Reading \"LFC\"\n",
      "Reading \"LFMD\"\n",
      "Reading \"LFTR\"\n",
      "Reading \"LFVN\"\n",
      "Reading \"LGAC\"\n",
      "Reading \"LGACU\"\n",
      "Reading \"LGF.A\"\n",
      "Reading \"LGF.B\"\n",
      "Reading \"LGH\"\n",
      "Reading \"LGHL\"\n",
      "Reading \"LGI\"\n",
      "Reading \"LGLV\"\n",
      "Reading \"LGND\"\n",
      "Reading \"LGO\"\n"
     ]
    },
    {
     "name": "stderr",
     "output_type": "stream",
     "text": [
      "sleep 3 seconds and retrying https://data.alpaca.markets/v1/bars/day 3 more time(s)...\n"
     ]
    },
    {
     "name": "stdout",
     "output_type": "stream",
     "text": [
      "Reading \"LGOV\"\n",
      "Reading \"LGV.U\"\n",
      "Reading \"LGVN\"\n",
      "Reading \"LH\"\n",
      "Reading \"LHAA\"\n",
      "Reading \"LHC\"\n",
      "Reading \"LHC.U\"\n",
      "Reading \"LHCG\"\n",
      "Reading \"LHDX\"\n",
      "Reading \"LHX\"\n",
      "Reading \"LGL\"\n",
      "Reading \"LI\"\n",
      "Reading \"LIFE\"\n",
      "Reading \"LII\"\n",
      "Reading \"LIII\"\n"
     ]
    },
    {
     "name": "stderr",
     "output_type": "stream",
     "text": [
      "sleep 3 seconds and retrying https://data.alpaca.markets/v1/bars/day 3 more time(s)...\n"
     ]
    },
    {
     "name": "stdout",
     "output_type": "stream",
     "text": [
      "Reading \"LIII.U\"\n",
      "Reading \"LILA\"\n",
      "Reading \"LILAK\"\n",
      "Reading \"LIN\"\n",
      "Reading \"LINC\"\n",
      "Reading \"LIND\"\n",
      "Reading \"LINK\"\n",
      "Reading \"LINX\"\n",
      "Reading \"LIQT\"\n",
      "Reading \"LIT\"\n",
      "Reading \"LITB\"\n",
      "Reading \"LITE\"\n",
      "Reading \"LIV\"\n"
     ]
    },
    {
     "name": "stderr",
     "output_type": "stream",
     "text": [
      "sleep 3 seconds and retrying https://data.alpaca.markets/v1/bars/day 3 more time(s)...\n"
     ]
    },
    {
     "name": "stdout",
     "output_type": "stream",
     "text": [
      "Reading \"LIVK\"\n",
      "Reading \"LIVKU\"\n",
      "Reading \"LIVN\"\n",
      "Reading \"LIVX\"\n",
      "Reading \"LIZI\"\n",
      "Reading \"LJAQ\"\n",
      "Reading \"LJAQU\"\n",
      "Reading \"LJPC\"\n",
      "Reading \"LKCO\"\n",
      "Reading \"LL\"\n",
      "Reading \"LLIT\"\n",
      "Reading \"LLNW\"\n",
      "Reading \"LLY\"\n"
     ]
    },
    {
     "name": "stderr",
     "output_type": "stream",
     "text": [
      "sleep 3 seconds and retrying https://data.alpaca.markets/v1/bars/day 3 more time(s)...\n"
     ]
    },
    {
     "name": "stdout",
     "output_type": "stream",
     "text": [
      "Reading \"LMACA\"\n",
      "Reading \"LMACU\"\n",
      "Reading \"LMAO\"\n",
      "Reading \"LMAOU\"\n",
      "Reading \"LMAT\"\n",
      "Reading \"LMB\"\n",
      "Reading \"LMBS\"\n",
      "Reading \"LMFA\"\n",
      "Reading \"LMND\"\n",
      "Reading \"LIXT\"\n",
      "Reading \"LMNL\"\n",
      "Reading \"LMNR\"\n",
      "Reading \"LMNX\"\n"
     ]
    },
    {
     "name": "stderr",
     "output_type": "stream",
     "text": [
      "sleep 3 seconds and retrying https://data.alpaca.markets/v1/bars/day 3 more time(s)...\n"
     ]
    },
    {
     "name": "stdout",
     "output_type": "stream",
     "text": [
      "Reading \"LMPX\"\n",
      "Reading \"LMRK\"\n",
      "Reading \"LMRKN\"\n",
      "Reading \"LMRKO\"\n",
      "Reading \"LMRKP\"\n",
      "Reading \"LMST\"\n",
      "Reading \"LMT\"\n",
      "Reading \"LND\"\n",
      "Reading \"LNDC\"\n",
      "Reading \"LNFA\"\n",
      "Reading \"LNFA.U\"\n"
     ]
    },
    {
     "name": "stderr",
     "output_type": "stream",
     "text": [
      "sleep 3 seconds and retrying https://data.alpaca.markets/v1/bars/day 3 more time(s)...\n"
     ]
    },
    {
     "name": "stdout",
     "output_type": "stream",
     "text": [
      "Reading \"LNN\"\n",
      "Reading \"LNSR\"\n",
      "Reading \"LNT\"\n",
      "Reading \"LNTH\"\n",
      "Reading \"LOB\"\n",
      "Reading \"LOCO\"\n",
      "Reading \"LODE\"\n",
      "Reading \"LOGC\"\n",
      "Reading \"LOKB\"\n",
      "Reading \"LOKB.U\"\n",
      "Reading \"LOKM\"\n",
      "Reading \"LOKM.U\"\n",
      "Reading \"LOMA\"\n",
      "Reading \"LOOP\"\n",
      "Reading \"LOPE\"\n",
      "Reading \"LOPP\"\n",
      "Reading \"LORL\"\n",
      "Reading \"LOTZ\"\n",
      "Reading \"LOUP\"\n",
      "Reading \"LOV\"\n",
      "Reading \"LOVE\"\n",
      "Reading \"LOWC\"\n"
     ]
    },
    {
     "name": "stderr",
     "output_type": "stream",
     "text": [
      "sleep 3 seconds and retrying https://data.alpaca.markets/v1/bars/day 3 more time(s)...\n"
     ]
    },
    {
     "name": "stdout",
     "output_type": "stream",
     "text": [
      "Reading \"LPCN\"\n",
      "Reading \"LPG\"\n",
      "Reading \"LPI\"\n",
      "Reading \"LPL\"\n",
      "Reading \"LPLA\"\n",
      "Reading \"LPRO\"\n",
      "Reading \"LPSN\"\n",
      "Reading \"LPTH\"\n",
      "Reading \"LPTX\"\n",
      "Reading \"LPX\"\n",
      "Reading \"LQD\"\n",
      "Reading \"LQDA\"\n",
      "Reading \"LQDH\"\n",
      "Reading \"LQDI\"\n",
      "Reading \"LQDT\"\n",
      "Reading \"LRCX\"\n",
      "Reading \"LRGE\"\n",
      "Reading \"LRGF\"\n",
      "Reading \"LRMR\"\n",
      "Reading \"LRN\"\n",
      "Reading \"LRNZ\"\n",
      "Reading \"LSAF\"\n",
      "Reading \"LSAQ\"\n",
      "Reading \"LSAT\"\n",
      "Reading \"LSBK\"\n",
      "Reading \"LSCC\"\n",
      "Reading \"LSEA\"\n",
      "Reading \"LSF\"\n",
      "Reading \"LSI\"\n"
     ]
    },
    {
     "name": "stderr",
     "output_type": "stream",
     "text": [
      "sleep 3 seconds and retrying https://data.alpaca.markets/v1/bars/day 3 more time(s)...\n"
     ]
    },
    {
     "name": "stdout",
     "output_type": "stream",
     "text": [
      "Reading \"LSLT\"\n",
      "Reading \"LSPD\"\n",
      "Reading \"LSST\"\n",
      "Reading \"LSTR\"\n",
      "Reading \"LSXMA\"\n",
      "Reading \"LSXMB\"\n",
      "Reading \"LSXMK\"\n",
      "Reading \"LTBR\"\n",
      "Reading \"LTC\"\n",
      "Reading \"LTHM\"\n",
      "Reading \"LTL\"\n",
      "Reading \"LTRN\"\n",
      "Reading \"LTRPB\"\n",
      "Reading \"LTRX\"\n",
      "Reading \"LU\"\n",
      "Reading \"LUB\"\n",
      "Reading \"LULU\"\n",
      "Reading \"LUMN\"\n",
      "Reading \"LUMO\"\n",
      "Reading \"LUNA\"\n",
      "Reading \"LUNG\"\n"
     ]
    },
    {
     "name": "stderr",
     "output_type": "stream",
     "text": [
      "sleep 3 seconds and retrying https://data.alpaca.markets/v1/bars/day 3 more time(s)...\n"
     ]
    },
    {
     "name": "stdout",
     "output_type": "stream",
     "text": [
      "Reading \"LUV\"\n",
      "Reading \"LUXA\"\n",
      "Reading \"LUXAU\"\n",
      "Reading \"LUXE\"\n",
      "Reading \"LVHD\"\n",
      "Reading \"LVHI\"\n",
      "Reading \"LVOL\"\n",
      "Reading \"LVRAU\"\n",
      "Reading \"LVS\"\n",
      "Reading \"LVTX\"\n",
      "Reading \"LWAC\"\n",
      "Reading \"LWACU\"\n",
      "Reading \"LWAY\"\n",
      "Reading \"LX\"\n",
      "Reading \"LXFR\"\n"
     ]
    },
    {
     "name": "stderr",
     "output_type": "stream",
     "text": [
      "sleep 3 seconds and retrying https://data.alpaca.markets/v1/bars/day 3 more time(s)...\n"
     ]
    },
    {
     "name": "stdout",
     "output_type": "stream",
     "text": [
      "Reading \"LXP\"\n",
      "Reading \"LXRX\"\n",
      "Reading \"LXU\"\n",
      "Reading \"LYB\"\n",
      "Reading \"LYFE\"\n",
      "Reading \"LYFT\"\n",
      "Reading \"LYG\"\n",
      "Reading \"LYL\"\n",
      "Reading \"LYRA\"\n",
      "Reading \"LYTS\"\n",
      "Reading \"LYV\"\n",
      "Reading \"MA\"\n",
      "Reading \"MAA\"\n",
      "Reading \"MAAC\"\n",
      "Reading \"MAACU\"\n"
     ]
    },
    {
     "name": "stderr",
     "output_type": "stream",
     "text": [
      "sleep 3 seconds and retrying https://data.alpaca.markets/v1/bars/day 3 more time(s)...\n"
     ]
    },
    {
     "name": "stdout",
     "output_type": "stream",
     "text": [
      "Reading \"MAAX\"\n",
      "Reading \"MAC\"\n",
      "Reading \"MACA\"\n",
      "Reading \"MACAU\"\n",
      "Reading \"MACC\"\n",
      "Reading \"MACC.U\"\n",
      "Reading \"MACQ\"\n",
      "Reading \"MACQU\"\n",
      "Reading \"MACU\"\n",
      "Reading \"MACUU\"\n",
      "Reading \"MAG\"\n",
      "Reading \"MAGA\"\n",
      "Reading \"MAGS\"\n"
     ]
    },
    {
     "name": "stderr",
     "output_type": "stream",
     "text": [
      "sleep 3 seconds and retrying https://data.alpaca.markets/v1/bars/day 3 more time(s)...\n"
     ]
    },
    {
     "name": "stdout",
     "output_type": "stream",
     "text": [
      "Reading \"MAIN\"\n",
      "Reading \"MAMB\"\n",
      "Reading \"MAN\"\n",
      "Reading \"MANH\"\n",
      "Reading \"MANT\"\n",
      "Reading \"MANU\"\n",
      "Reading \"MAQCU\"\n",
      "Reading \"MAR\"\n",
      "Reading \"MARA\"\n",
      "Reading \"MARB\"\n",
      "Reading \"MARK\"\n",
      "Reading \"MARPS\"\n"
     ]
    },
    {
     "name": "stderr",
     "output_type": "stream",
     "text": [
      "sleep 3 seconds and retrying https://data.alpaca.markets/v1/bars/day 3 more time(s)...\n"
     ]
    },
    {
     "name": "stdout",
     "output_type": "stream",
     "text": [
      "Reading \"MARZ\"\n",
      "Reading \"MAS\"\n",
      "Reading \"MASI\"\n",
      "Reading \"MASS\"\n",
      "Reading \"MAT\"\n",
      "Reading \"MATW\"\n",
      "Reading \"MATX\"\n",
      "Reading \"MAV\"\n",
      "Reading \"MAX\"\n",
      "Reading \"MAXN\"\n",
      "Reading \"MAYS\"\n",
      "Reading \"MBAC.U\"\n",
      "Reading \"MBBB\"\n",
      "Reading \"MBCC\"\n",
      "Reading \"MBCN\"\n",
      "Reading \"MBI\"\n",
      "Reading \"MBII\"\n",
      "Reading \"MBINN\"\n"
     ]
    },
    {
     "name": "stderr",
     "output_type": "stream",
     "text": [
      "sleep 3 seconds and retrying https://data.alpaca.markets/v1/bars/day 3 more time(s)...\n"
     ]
    },
    {
     "name": "stdout",
     "output_type": "stream",
     "text": [
      "Reading \"MBINP\"\n",
      "Reading \"MBND\"\n",
      "Reading \"MBNKP\"\n",
      "Reading \"MBOT\"\n",
      "Reading \"MBRX\"\n",
      "Reading \"MBSD\"\n",
      "Reading \"MBT\"\n",
      "Reading \"MBTCU\"\n",
      "Reading \"MBUU\"\n",
      "Reading \"MC\"\n",
      "Reading \"MCA\"\n",
      "Reading \"MCAD\"\n",
      "Reading \"MCADU\"\n",
      "Reading \"MCB\"\n",
      "Reading \"MCBC\"\n",
      "Reading \"MCBS\"\n",
      "Reading \"MCD\"\n",
      "Reading \"MCEF\"\n",
      "Reading \"MCF\"\n"
     ]
    },
    {
     "name": "stderr",
     "output_type": "stream",
     "text": [
      "sleep 3 seconds and retrying https://data.alpaca.markets/v1/bars/day 3 more time(s)...\n"
     ]
    },
    {
     "name": "stdout",
     "output_type": "stream",
     "text": [
      "Reading \"MCFE\"\n",
      "Reading \"MCFT\"\n",
      "Reading \"MCHI\"\n",
      "Reading \"MCHP\"\n",
      "Reading \"MCHX\"\n",
      "Reading \"MCI\"\n",
      "Reading \"MCN\"\n",
      "Reading \"MCO\"\n",
      "Reading \"MCR\"\n",
      "Reading \"MCRB\"\n",
      "Reading \"MCRI\"\n",
      "Reading \"MCRO\"\n",
      "Reading \"MCS\"\n",
      "Reading \"MCY\"\n",
      "Reading \"MD\"\n",
      "Reading \"MDB\"\n",
      "Reading \"MDC\"\n",
      "Reading \"MDCA\"\n",
      "Reading \"MDGL\"\n",
      "Reading \"MDGS\"\n",
      "Reading \"MDH\"\n",
      "Reading \"MDIV\"\n",
      "Reading \"MDLA\"\n",
      "Reading \"MDLQ\"\n"
     ]
    },
    {
     "name": "stderr",
     "output_type": "stream",
     "text": [
      "sleep 3 seconds and retrying https://data.alpaca.markets/v1/bars/day 3 more time(s)...\n"
     ]
    },
    {
     "name": "stdout",
     "output_type": "stream",
     "text": [
      "Reading \"MDLX\"\n",
      "Reading \"MDLY\"\n",
      "Reading \"MDLZ\"\n",
      "Reading \"MDNA\"\n",
      "Reading \"MDP\"\n",
      "Reading \"MDRR\"\n",
      "Reading \"MDRRP\"\n",
      "Reading \"MDRX\"\n",
      "Reading \"MDU\"\n",
      "Reading \"MDVL\"\n",
      "Reading \"MDWD\"\n",
      "Reading \"LKOR\"\n",
      "Reading \"MDWT\"\n",
      "Reading \"MDXG\"\n",
      "Reading \"MDY\"\n",
      "Reading \"MDYG\"\n",
      "Reading \"MDYV\"\n",
      "Reading \"MEC\"\n",
      "Reading \"MED\"\n",
      "Reading \"MEDP\"\n"
     ]
    },
    {
     "name": "stderr",
     "output_type": "stream",
     "text": [
      "sleep 3 seconds and retrying https://data.alpaca.markets/v1/bars/day 3 more time(s)...\n"
     ]
    },
    {
     "name": "stdout",
     "output_type": "stream",
     "text": [
      "Reading \"MEDS\"\n",
      "Reading \"MEG\"\n",
      "Reading \"MEI\"\n",
      "Reading \"MEIP\"\n",
      "Reading \"MELI\"\n",
      "Reading \"MEOH\"\n",
      "Reading \"MERC\"\n",
      "Reading \"MESA\"\n",
      "Reading \"MESO\"\n",
      "Reading \"MET\"\n",
      "Reading \"METX\"\n",
      "Reading \"MEXX\"\n",
      "Reading \"MFC\"\n",
      "Reading \"MFD\"\n",
      "Reading \"MFDX\"\n",
      "Reading \"MFEM\"\n",
      "Reading \"MFG\"\n",
      "Reading \"MFGP\"\n",
      "Reading \"MFH\"\n",
      "Reading \"MFIN\"\n",
      "Reading \"MFL\"\n",
      "Reading \"MFM\"\n",
      "Reading \"MFMS\"\n",
      "Reading \"MFNC\"\n",
      "Reading \"MFUS\"\n",
      "Reading \"MFV\"\n",
      "Reading \"MG\"\n",
      "Reading \"MGA\"\n",
      "Reading \"MGC\"\n",
      "Reading \"MGEE\"\n",
      "Reading \"MGF\"\n",
      "Reading \"MGI\"\n",
      "Reading \"MGIC\"\n",
      "Reading \"MGK\"\n",
      "Reading \"MGLN\"\n",
      "Reading \"MGM\"\n",
      "Reading \"MGMT\"\n",
      "Reading \"MGNI\"\n",
      "Reading \"MGNX\"\n",
      "Reading \"MGP\"\n",
      "Reading \"MGPI\"\n",
      "Reading \"MGR\"\n",
      "Reading \"MGRB\"\n",
      "Reading \"MGRC\"\n",
      "Reading \"MGTA\"\n",
      "Reading \"MGTX\"\n",
      "Reading \"MGU\"\n",
      "Reading \"MGV\"\n",
      "Reading \"MGY\"\n",
      "Reading \"MGYR\"\n",
      "Reading \"MHD\"\n",
      "Reading \"MHF\"\n",
      "Reading \"MHH\"\n",
      "Reading \"MHI\"\n",
      "Reading \"MHK\"\n",
      "Reading \"MHLA\"\n",
      "Reading \"MHLD\"\n",
      "Reading \"MHN\"\n",
      "Reading \"MHNC\"\n",
      "Reading \"MIC\"\n",
      "Reading \"MID\"\n",
      "Reading \"MIDE\"\n"
     ]
    },
    {
     "name": "stderr",
     "output_type": "stream",
     "text": [
      "sleep 3 seconds and retrying https://data.alpaca.markets/v1/bars/day 3 more time(s)...\n"
     ]
    },
    {
     "name": "stdout",
     "output_type": "stream",
     "text": [
      "Reading \"MIDF\"\n",
      "Reading \"MIDU\"\n",
      "Reading \"MIE\"\n",
      "Reading \"MIG\"\n",
      "Reading \"MILE\"\n",
      "Reading \"MILN\"\n",
      "Reading \"MIME\"\n",
      "Reading \"MIN\"\n",
      "Reading \"MINC\"\n",
      "Reading \"MIND\"\n",
      "Reading \"CBIO\"\n",
      "Reading \"MINDP\"\n"
     ]
    },
    {
     "name": "stderr",
     "output_type": "stream",
     "text": [
      "sleep 3 seconds and retrying https://data.alpaca.markets/v1/bars/day 3 more time(s)...\n"
     ]
    },
    {
     "name": "stdout",
     "output_type": "stream",
     "text": [
      "Reading \"MINN\"\n",
      "Reading \"MINT\"\n",
      "Reading \"MIRM\"\n",
      "Reading \"MIST\"\n",
      "Reading \"MIT\"\n",
      "Reading \"MIT.U\"\n",
      "Reading \"MITC\"\n",
      "Reading \"MITK\"\n",
      "Reading \"MITO\"\n",
      "Reading \"MITT\"\n",
      "Reading \"MIY\"\n",
      "Reading \"MJ\"\n",
      "Reading \"MJO\"\n",
      "Reading \"MKC\"\n",
      "Reading \"MKC.V\"\n"
     ]
    },
    {
     "name": "stderr",
     "output_type": "stream",
     "text": [
      "sleep 3 seconds and retrying https://data.alpaca.markets/v1/bars/day 3 more time(s)...\n"
     ]
    },
    {
     "name": "stdout",
     "output_type": "stream",
     "text": [
      "Reading \"MKD\"\n",
      "Reading \"MKGI\"\n",
      "Reading \"MKL\"\n",
      "Reading \"MKSI\"\n",
      "Reading \"MKTX\"\n",
      "Reading \"MKTY\"\n",
      "Reading \"MLAB\"\n",
      "Reading \"MLAC\"\n",
      "Reading \"MLACU\"\n",
      "Reading \"CIZN\"\n",
      "Reading \"IEUR\"\n",
      "Reading \"ITT\"\n"
     ]
    },
    {
     "name": "stderr",
     "output_type": "stream",
     "text": [
      "sleep 3 seconds and retrying https://data.alpaca.markets/v1/bars/day 3 more time(s)...\n"
     ]
    },
    {
     "name": "stdout",
     "output_type": "stream",
     "text": [
      "Reading \"MLCO\"\n",
      "Reading \"MLHR\"\n",
      "Reading \"MLI\"\n",
      "Reading \"MLM\"\n",
      "Reading \"MLN\"\n",
      "Reading \"MLND\"\n",
      "Reading \"MLP\"\n",
      "Reading \"MLPA\"\n",
      "Reading \"MLPB\"\n",
      "Reading \"MLPO\"\n",
      "Reading \"MLPR\"\n",
      "Reading \"MLPY\"\n",
      "Reading \"MLR\"\n",
      "Reading \"MIXT\"\n",
      "Reading \"MLSS\"\n"
     ]
    },
    {
     "name": "stderr",
     "output_type": "stream",
     "text": [
      "sleep 3 seconds and retrying https://data.alpaca.markets/v1/bars/day 3 more time(s)...\n"
     ]
    },
    {
     "name": "stdout",
     "output_type": "stream",
     "text": [
      "Reading \"MLVF\"\n",
      "Reading \"MMAC\"\n",
      "Reading \"MMC\"\n",
      "Reading \"MMD\"\n",
      "Reading \"MMI\"\n",
      "Reading \"MMIN\"\n",
      "Reading \"MMIT\"\n",
      "Reading \"MMLG\"\n",
      "Reading \"MMM\"\n",
      "Reading \"MMP\"\n",
      "Reading \"MMS\"\n",
      "Reading \"MMSI\"\n",
      "Reading \"MMT\"\n",
      "Reading \"MMTM\"\n"
     ]
    },
    {
     "name": "stderr",
     "output_type": "stream",
     "text": [
      "sleep 3 seconds and retrying https://data.alpaca.markets/v1/bars/day 3 more time(s)...\n"
     ]
    },
    {
     "name": "stdout",
     "output_type": "stream",
     "text": [
      "Reading \"MMU\"\n",
      "Reading \"MMX\"\n",
      "Reading \"MMYT\"\n",
      "Reading \"MN\"\n",
      "Reading \"MNA\"\n",
      "Reading \"MNDO\"\n",
      "Reading \"MNKD\"\n",
      "Reading \"MNMD\"\n",
      "Reading \"MNOV\"\n",
      "Reading \"MNP\"\n",
      "Reading \"MNPR\"\n",
      "Reading \"MNR\"\n",
      "Reading \"MNRL\"\n"
     ]
    },
    {
     "name": "stderr",
     "output_type": "stream",
     "text": [
      "sleep 3 seconds and retrying https://data.alpaca.markets/v1/bars/day 3 more time(s)...\n"
     ]
    },
    {
     "name": "stdout",
     "output_type": "stream",
     "text": [
      "Reading \"MNSB\"\n",
      "Reading \"MNSBP\"\n",
      "Reading \"MNSO\"\n",
      "Reading \"MNST\"\n",
      "Reading \"MNTK\"\n",
      "Reading \"MNTX\"\n",
      "Reading \"MOAT\"\n",
      "Reading \"MOD\"\n",
      "Reading \"MODN\"\n",
      "Reading \"MODV\"\n",
      "Reading \"MOFG\"\n",
      "Reading \"MOG.A\"\n",
      "Reading \"MOGO\"\n",
      "Reading \"MOGU\"\n",
      "Reading \"MOH\"\n",
      "Reading \"MOHO\"\n",
      "Reading \"MOMO\"\n",
      "Reading \"MON\"\n"
     ]
    },
    {
     "name": "stderr",
     "output_type": "stream",
     "text": [
      "sleep 3 seconds and retrying https://data.alpaca.markets/v1/bars/day 3 more time(s)...\n"
     ]
    },
    {
     "name": "stdout",
     "output_type": "stream",
     "text": [
      "Reading \"MONCU\"\n",
      "Reading \"MOO\"\n",
      "Reading \"MOON\"\n",
      "Reading \"MORF\"\n",
      "Reading \"MORN\"\n",
      "Reading \"MORT\"\n",
      "Reading \"MOTI\"\n",
      "Reading \"MOTN\"\n",
      "Reading \"MOTO\"\n",
      "Reading \"MOTS\"\n",
      "Reading \"MOTV\"\n",
      "Reading \"MOTV.U\"\n",
      "Reading \"MOV\"\n",
      "Reading \"MOVE\"\n",
      "Reading \"MOXC\"\n",
      "Reading \"MP\"\n"
     ]
    },
    {
     "name": "stderr",
     "output_type": "stream",
     "text": [
      "sleep 3 seconds and retrying https://data.alpaca.markets/v1/bars/day 3 more time(s)...\n"
     ]
    },
    {
     "name": "stdout",
     "output_type": "stream",
     "text": [
      "Reading \"MPA\"\n",
      "Reading \"MPAA\"\n",
      "Reading \"MPACU\"\n",
      "Reading \"MPB\"\n",
      "Reading \"MPC\"\n",
      "Reading \"MPLN\"\n",
      "Reading \"MPLX\"\n",
      "Reading \"MPV\"\n",
      "Reading \"MPW\"\n",
      "Reading \"MPWR\"\n",
      "Reading \"MQT\"\n",
      "Reading \"MQY\"\n"
     ]
    },
    {
     "name": "stderr",
     "output_type": "stream",
     "text": [
      "sleep 3 seconds and retrying https://data.alpaca.markets/v1/bars/day 3 more time(s)...\n"
     ]
    },
    {
     "name": "stdout",
     "output_type": "stream",
     "text": [
      "Reading \"MRAC\"\n",
      "Reading \"MRACU\"\n",
      "Reading \"MRAD\"\n",
      "Reading \"MRAM\"\n",
      "Reading \"MRBK\"\n",
      "Reading \"MRC\"\n",
      "Reading \"MRCC\"\n",
      "Reading \"MRCY\"\n",
      "Reading \"MOTNU\"\n",
      "Reading \"MREO\"\n",
      "Reading \"MRGR\"\n",
      "Reading \"MRK\"\n",
      "Reading \"MRKR\"\n",
      "Reading \"MRLN\"\n",
      "Reading \"MRM\"\n",
      "Reading \"MRNA\"\n",
      "Reading \"MRNS\"\n"
     ]
    },
    {
     "name": "stderr",
     "output_type": "stream",
     "text": [
      "sleep 3 seconds and retrying https://data.alpaca.markets/v1/bars/day 3 more time(s)...\n"
     ]
    },
    {
     "name": "stdout",
     "output_type": "stream",
     "text": [
      "Reading \"MRO\"\n",
      "Reading \"MRSK\"\n",
      "Reading \"MRSN\"\n",
      "Reading \"MRTN\"\n",
      "Reading \"MRTX\"\n",
      "Reading \"MRUS\"\n",
      "Reading \"MRVI\"\n",
      "Reading \"MRVL\"\n",
      "Reading \"MS\"\n",
      "Reading \"MSAC\"\n",
      "Reading \"MSB\"\n",
      "Reading \"MSBI\"\n",
      "Reading \"MSC\"\n"
     ]
    },
    {
     "name": "stderr",
     "output_type": "stream",
     "text": [
      "sleep 3 seconds and retrying https://data.alpaca.markets/v1/bars/day 3 more time(s)...\n"
     ]
    },
    {
     "name": "stdout",
     "output_type": "stream",
     "text": [
      "Reading \"MSCI\"\n",
      "Reading \"MSD\"\n",
      "Reading \"MSDAU\"\n",
      "Reading \"MSEX\"\n",
      "Reading \"MSGE\"\n",
      "Reading \"MSGM\"\n",
      "Reading \"MSGN\"\n",
      "Reading \"MSGS\"\n",
      "Reading \"MSI\"\n",
      "Reading \"MSM\"\n",
      "Reading \"MSN\"\n",
      "Reading \"MSON\"\n"
     ]
    },
    {
     "name": "stderr",
     "output_type": "stream",
     "text": [
      "sleep 3 seconds and retrying https://data.alpaca.markets/v1/bars/day 3 more time(s)...\n"
     ]
    },
    {
     "name": "stdout",
     "output_type": "stream",
     "text": [
      "Reading \"MSOS\"\n",
      "Reading \"MSP\"\n",
      "Reading \"MSTB\"\n",
      "Reading \"MSTR\"\n",
      "Reading \"MSVB\"\n",
      "Reading \"MSVX\"\n",
      "Reading \"MT\"\n",
      "Reading \"MTA\"\n",
      "Reading \"MTAC\"\n",
      "Reading \"MTACU\"\n",
      "Reading \"MTB\"\n",
      "Reading \"MTBC\"\n",
      "Reading \"MTBCP\"\n",
      "Reading \"MTC\"\n",
      "Reading \"MTCH\"\n"
     ]
    },
    {
     "name": "stderr",
     "output_type": "stream",
     "text": [
      "sleep 3 seconds and retrying https://data.alpaca.markets/v1/bars/day 3 more time(s)...\n"
     ]
    },
    {
     "name": "stdout",
     "output_type": "stream",
     "text": [
      "Reading \"MTCN\"\n",
      "Reading \"MTD\"\n",
      "Reading \"MTDR\"\n",
      "Reading \"MTEM\"\n",
      "Reading \"MTEX\"\n",
      "Reading \"MTGP\"\n",
      "Reading \"MTH\"\n",
      "Reading \"MTL\"\n",
      "Reading \"MTLS\"\n",
      "Reading \"MTN\"\n",
      "Reading \"MTNB\"\n",
      "Reading \"MTOR\"\n",
      "Reading \"MTP\"\n"
     ]
    },
    {
     "name": "stderr",
     "output_type": "stream",
     "text": [
      "sleep 3 seconds and retrying https://data.alpaca.markets/v1/bars/day 3 more time(s)...\n"
     ]
    },
    {
     "name": "stdout",
     "output_type": "stream",
     "text": [
      "Reading \"MTR\"\n",
      "Reading \"MTRN\"\n",
      "Reading \"MTRX\"\n",
      "Reading \"MTSI\"\n",
      "Reading \"MTSL\"\n",
      "Reading \"MTUL\"\n",
      "Reading \"MTUM\"\n",
      "Reading \"MTW\"\n",
      "Reading \"MTX\"\n",
      "Reading \"MTZ\"\n",
      "Reading \"MU\"\n",
      "Reading \"MUA\"\n",
      "Reading \"MUB\"\n",
      "Reading \"MUC\"\n",
      "Reading \"MUDS\"\n"
     ]
    },
    {
     "name": "stderr",
     "output_type": "stream",
     "text": [
      "sleep 3 seconds and retrying https://data.alpaca.markets/v1/bars/day 3 more time(s)...\n"
     ]
    },
    {
     "name": "stdout",
     "output_type": "stream",
     "text": [
      "Reading \"MUDSU\"\n",
      "Reading \"MUE\"\n",
      "Reading \"MUFG\"\n",
      "Reading \"MUI\"\n",
      "Reading \"MUJ\"\n",
      "Reading \"MUNI\"\n",
      "Reading \"MTCR\"\n",
      "Reading \"MUR\"\n"
     ]
    },
    {
     "name": "stderr",
     "output_type": "stream",
     "text": [
      "sleep 3 seconds and retrying https://data.alpaca.markets/v1/bars/day 3 more time(s)...\n"
     ]
    },
    {
     "name": "stdout",
     "output_type": "stream",
     "text": [
      "Reading \"MUSA\"\n",
      "Reading \"MUST\"\n",
      "Reading \"MVBF\"\n",
      "Reading \"MVF\"\n",
      "Reading \"MVIS\"\n",
      "Reading \"MVO\"\n",
      "Reading \"MVP\"\n",
      "Reading \"MVRL\"\n",
      "Reading \"MVV\"\n",
      "Reading \"MWA\"\n",
      "Reading \"MX\"\n",
      "Reading \"MXDU\"\n",
      "Reading \"MXE\"\n",
      "Reading \"MXI\"\n",
      "Reading \"MXIM\"\n",
      "Reading \"MXL\"\n",
      "Reading \"MYC\"\n",
      "Reading \"MYD\"\n",
      "Reading \"MYE\"\n"
     ]
    },
    {
     "name": "stderr",
     "output_type": "stream",
     "text": [
      "sleep 3 seconds and retrying https://data.alpaca.markets/v1/bars/day 3 more time(s)...\n"
     ]
    },
    {
     "name": "stdout",
     "output_type": "stream",
     "text": [
      "Reading \"MYFW\"\n",
      "Reading \"MYGN\"\n",
      "Reading \"MYJ\"\n",
      "Reading \"MYMD\"\n",
      "Reading \"MYN\"\n",
      "Reading \"MYO\"\n",
      "Reading \"MYOV\"\n",
      "Reading \"MYRG\"\n",
      "Reading \"MYSZ\"\n",
      "Reading \"MYT\"\n",
      "Reading \"MYTE\"\n",
      "Reading \"MYY\"\n",
      "Reading \"MZZ\"\n"
     ]
    },
    {
     "name": "stderr",
     "output_type": "stream",
     "text": [
      "sleep 3 seconds and retrying https://data.alpaca.markets/v1/bars/day 3 more time(s)...\n"
     ]
    },
    {
     "name": "stdout",
     "output_type": "stream",
     "text": [
      "Reading \"NAAC\"\n",
      "Reading \"NAACU\"\n",
      "Reading \"NAC\"\n",
      "Reading \"NACP\"\n",
      "Reading \"NAD\"\n",
      "Reading \"NAII\"\n",
      "Reading \"NAIL\"\n",
      "Reading \"MUX\"\n",
      "Reading \"MJJ\"\n",
      "Reading \"NAKD\"\n",
      "Reading \"NAN\"\n",
      "Reading \"NANR\"\n",
      "Reading \"NAOV\"\n",
      "Reading \"NAPR\"\n",
      "Reading \"NARI\"\n",
      "Reading \"NAT\"\n"
     ]
    },
    {
     "name": "stderr",
     "output_type": "stream",
     "text": [
      "sleep 3 seconds and retrying https://data.alpaca.markets/v1/bars/day 3 more time(s)...\n"
     ]
    },
    {
     "name": "stdout",
     "output_type": "stream",
     "text": [
      "Reading \"NATH\"\n",
      "Reading \"NATI\"\n",
      "Reading \"NATR\"\n",
      "Reading \"NAV\"\n",
      "Reading \"NAVB\"\n",
      "Reading \"NAVI\"\n",
      "Reading \"NAZ\"\n",
      "Reading \"NBA\"\n",
      "Reading \"NBA.U\"\n",
      "Reading \"NBB\"\n",
      "Reading \"NBEV\"\n",
      "Reading \"NBH\"\n",
      "Reading \"NBIX\"\n",
      "Reading \"NBLX\"\n",
      "Reading \"NBN\"\n",
      "Reading \"NBO\"\n",
      "Reading \"NBR\"\n",
      "Reading \"NBRV\"\n"
     ]
    },
    {
     "name": "stderr",
     "output_type": "stream",
     "text": [
      "sleep 3 seconds and retrying https://data.alpaca.markets/v1/bars/day 3 more time(s)...\n"
     ]
    },
    {
     "name": "stdout",
     "output_type": "stream",
     "text": [
      "Reading \"NBSE\"\n",
      "Reading \"NBST\"\n",
      "Reading \"NBSTU\"\n",
      "Reading \"NBTB\"\n",
      "Reading \"NBTX\"\n",
      "Reading \"NBW\"\n",
      "Reading \"NBY\"\n",
      "Reading \"NC\"\n",
      "Reading \"NCA\"\n",
      "Reading \"NCBS\"\n",
      "Reading \"NCLH\"\n",
      "Reading \"NCMI\"\n"
     ]
    },
    {
     "name": "stderr",
     "output_type": "stream",
     "text": [
      "sleep 3 seconds and retrying https://data.alpaca.markets/v1/bars/day 3 more time(s)...\n"
     ]
    },
    {
     "name": "stdout",
     "output_type": "stream",
     "text": [
      "Reading \"NCNA\"\n",
      "Reading \"NCNO\"\n",
      "Reading \"NCSM\"\n",
      "Reading \"NCTY\"\n",
      "Reading \"NCV\"\n",
      "Reading \"NCZ\"\n",
      "Reading \"NDAC\"\n",
      "Reading \"NDACU\"\n",
      "Reading \"NDAQ\"\n",
      "Reading \"NDLS\"\n",
      "Reading \"NDMO\"\n",
      "Reading \"NDRA\"\n",
      "Reading \"NDSN\"\n",
      "Reading \"NEA\"\n",
      "Reading \"NEAR\"\n"
     ]
    },
    {
     "name": "stderr",
     "output_type": "stream",
     "text": [
      "sleep 3 seconds and retrying https://data.alpaca.markets/v1/bars/day 3 more time(s)...\n"
     ]
    },
    {
     "name": "stdout",
     "output_type": "stream",
     "text": [
      "Reading \"NEBC\"\n",
      "Reading \"NEBCU\"\n",
      "Reading \"NEM\"\n",
      "Reading \"NEN\"\n",
      "Reading \"NEO\"\n",
      "Reading \"NEON\"\n",
      "Reading \"NEP\"\n",
      "Reading \"NEPH\"\n",
      "Reading \"NEPT\"\n",
      "Reading \"NERD\"\n",
      "Reading \"NES\"\n",
      "Reading \"NESR\"\n",
      "Reading \"NET\"\n",
      "Reading \"NETE\"\n",
      "Reading \"NETI\"\n",
      "Reading \"NETL\"\n",
      "Reading \"NEU\"\n",
      "Reading \"NEW\"\n",
      "Reading \"NEWR\"\n",
      "Reading \"NEWT\"\n",
      "Reading \"NEWTL\"\n"
     ]
    },
    {
     "name": "stderr",
     "output_type": "stream",
     "text": [
      "sleep 3 seconds and retrying https://data.alpaca.markets/v1/bars/day 3 more time(s)...\n"
     ]
    },
    {
     "name": "stdout",
     "output_type": "stream",
     "text": [
      "Reading \"NEWTZ\"\n",
      "Reading \"NEX\"\n",
      "Reading \"NEXA\"\n",
      "Reading \"NEXI\"\n",
      "Reading \"NEXT\"\n",
      "Reading \"NFBK\"\n",
      "Reading \"NFE\"\n",
      "Reading \"NFG\"\n",
      "Reading \"NFH\"\n",
      "Reading \"NFJ\"\n",
      "Reading \"NFLT\"\n",
      "Reading \"NFLX\"\n",
      "Reading \"NFRA\"\n",
      "Reading \"NFTY\"\n",
      "Reading \"NG\"\n"
     ]
    },
    {
     "name": "stderr",
     "output_type": "stream",
     "text": [
      "sleep 3 seconds and retrying https://data.alpaca.markets/v1/bars/day 3 more time(s)...\n"
     ]
    },
    {
     "name": "stdout",
     "output_type": "stream",
     "text": [
      "Reading \"NGAB\"\n",
      "Reading \"NGAB.U\"\n",
      "Reading \"NGAC\"\n",
      "Reading \"NGACU\"\n",
      "Reading \"NGC.U\"\n",
      "Reading \"NGCAU\"\n",
      "Reading \"NGE\"\n",
      "Reading \"NGG\"\n",
      "Reading \"NGL\"\n",
      "Reading \"NGM\"\n",
      "Reading \"NGMS\"\n",
      "Reading \"NGS\"\n",
      "Reading \"NISN\"\n",
      "Reading \"NKTR\"\n",
      "Reading \"NLR\"\n",
      "Reading \"NM\"\n",
      "Reading \"NMM\"\n",
      "Reading \"NMRD\"\n",
      "Reading \"NMT\"\n",
      "Reading \"NNDM\"\n",
      "Reading \"NNN\"\n",
      "Reading \"NNY\"\n",
      "Reading \"NOBL\"\n",
      "Reading \"NOK\"\n",
      "Reading \"NOV\"\n",
      "Reading \"NPCE\"\n",
      "Reading \"NPV\"\n",
      "Reading \"NRC\"\n"
     ]
    },
    {
     "name": "stderr",
     "output_type": "stream",
     "text": [
      "sleep 3 seconds and retrying https://data.alpaca.markets/v1/bars/day 3 more time(s)...\n"
     ]
    },
    {
     "name": "stdout",
     "output_type": "stream",
     "text": [
      "Reading \"NREF\"\n",
      "Reading \"NRIX\"\n",
      "Reading \"NSC\"\n",
      "Reading \"NSL\"\n",
      "Reading \"NSTB\"\n",
      "Reading \"NSTC\"\n",
      "Reading \"NSTD\"\n",
      "Reading \"NSTG\"\n",
      "Reading \"NTAP\"\n",
      "Reading \"NTB\"\n",
      "Reading \"NTCO\"\n",
      "Reading \"NTEC\"\n",
      "Reading \"NTG\"\n",
      "Reading \"NTGR\"\n",
      "Reading \"NTIC\"\n",
      "Reading \"NTLA\"\n",
      "Reading \"NTNX\"\n",
      "Reading \"NTP\"\n",
      "Reading \"NTRA\"\n",
      "Reading \"NTRS\"\n"
     ]
    },
    {
     "name": "stderr",
     "output_type": "stream",
     "text": [
      "sleep 3 seconds and retrying https://data.alpaca.markets/v1/bars/day 3 more time(s)...\n"
     ]
    },
    {
     "name": "stdout",
     "output_type": "stream",
     "text": [
      "Reading \"NTST\"\n",
      "Reading \"NTSX\"\n",
      "Reading \"NTUS\"\n",
      "Reading \"NTWK\"\n",
      "Reading \"NTZ\"\n",
      "Reading \"NUAG\"\n",
      "Reading \"NUAN\"\n",
      "Reading \"NUBD\"\n",
      "Reading \"NUDM\"\n",
      "Reading \"NUE\"\n",
      "Reading \"NUEM\"\n",
      "Reading \"NUGT\"\n",
      "Reading \"NUHY\"\n",
      "Reading \"NULC\"\n",
      "Reading \"NULG\"\n",
      "Reading \"NUMG\"\n"
     ]
    },
    {
     "name": "stderr",
     "output_type": "stream",
     "text": [
      "sleep 3 seconds and retrying https://data.alpaca.markets/v1/bars/day 3 more time(s)...\n"
     ]
    },
    {
     "name": "stdout",
     "output_type": "stream",
     "text": [
      "Reading \"NUMV\"\n",
      "Reading \"NUO\"\n",
      "Reading \"NURE\"\n",
      "Reading \"NURO\"\n",
      "Reading \"NUSA\"\n",
      "Reading \"NUSC\"\n",
      "Reading \"NUSI\"\n",
      "Reading \"NUV\"\n",
      "Reading \"NUVA\"\n",
      "Reading \"NUVB\"\n"
     ]
    },
    {
     "name": "stderr",
     "output_type": "stream",
     "text": [
      "sleep 3 seconds and retrying https://data.alpaca.markets/v1/bars/day 3 more time(s)...\n"
     ]
    },
    {
     "name": "stdout",
     "output_type": "stream",
     "text": [
      "Reading \"NUW\"\n",
      "Reading \"NUWE\"\n",
      "Reading \"NUZE\"\n",
      "Reading \"NVAX\"\n",
      "Reading \"NVCN\"\n",
      "Reading \"NVCR\"\n",
      "Reading \"NVDA\"\n",
      "Reading \"NVEC\"\n",
      "Reading \"NVEE\"\n",
      "Reading \"NVFY\"\n",
      "Reading \"NVG\"\n",
      "Reading \"NVGS\"\n",
      "Reading \"NVIV\"\n",
      "Reading \"NVMI\"\n",
      "Reading \"NVMZ\"\n",
      "Reading \"NVO\"\n",
      "Reading \"NVOS\"\n",
      "Reading \"NVQ\"\n",
      "Reading \"NVR\"\n"
     ]
    },
    {
     "name": "stderr",
     "output_type": "stream",
     "text": [
      "sleep 3 seconds and retrying https://data.alpaca.markets/v1/bars/day 3 more time(s)...\n"
     ]
    },
    {
     "name": "stdout",
     "output_type": "stream",
     "text": [
      "Reading \"NVRO\"\n",
      "Reading \"NVS\"\n",
      "Reading \"NVSA\"\n",
      "Reading \"NVSAU\"\n",
      "Reading \"NVST\"\n",
      "Reading \"NVT\"\n",
      "Reading \"NVTA\"\n",
      "Reading \"NVVE\"\n",
      "Reading \"NWBI\"\n",
      "Reading \"NWE\"\n",
      "Reading \"NWFL\"\n",
      "Reading \"NWG\"\n",
      "Reading \"NWHM\"\n",
      "Reading \"NWL\"\n",
      "Reading \"NWLI\"\n",
      "Reading \"NWPX\"\n"
     ]
    },
    {
     "name": "stderr",
     "output_type": "stream",
     "text": [
      "sleep 3 seconds and retrying https://data.alpaca.markets/v1/bars/day 3 more time(s)...\n"
     ]
    },
    {
     "name": "stdout",
     "output_type": "stream",
     "text": [
      "Reading \"NWSA\"\n",
      "Reading \"NXC\"\n",
      "Reading \"NXGN\"\n",
      "Reading \"NXJ\"\n",
      "Reading \"NXN\"\n",
      "Reading \"NXP\"\n",
      "Reading \"NXPI\"\n",
      "Reading \"NXQ\"\n",
      "Reading \"NXR\"\n",
      "Reading \"NXRT\"\n",
      "Reading \"NXST\"\n",
      "Reading \"NXTC\"\n",
      "Reading \"NXTD\"\n",
      "Reading \"NXTG\"\n",
      "Reading \"NXU\"\n",
      "Reading \"NXU.U\"\n",
      "Reading \"NYC\"\n",
      "Reading \"NYF\"\n"
     ]
    },
    {
     "name": "stderr",
     "output_type": "stream",
     "text": [
      "sleep 3 seconds and retrying https://data.alpaca.markets/v1/bars/day 3 more time(s)...\n"
     ]
    },
    {
     "name": "stdout",
     "output_type": "stream",
     "text": [
      "Reading \"NYMT\"\n",
      "Reading \"NYMTM\"\n",
      "Reading \"NYMTN\"\n",
      "Reading \"NYMTO\"\n",
      "Reading \"NYMTP\"\n",
      "Reading \"NYT\"\n",
      "Reading \"NZF\"\n",
      "Reading \"O\"\n",
      "Reading \"OACB\"\n",
      "Reading \"OACB.U\"\n",
      "Reading \"OAS\"\n",
      "Reading \"OBAS\"\n",
      "Reading \"OBCI\"\n",
      "Reading \"OBLG\"\n",
      "Reading \"OBLN\"\n"
     ]
    },
    {
     "name": "stderr",
     "output_type": "stream",
     "text": [
      "sleep 3 seconds and retrying https://data.alpaca.markets/v1/bars/day 3 more time(s)...\n"
     ]
    },
    {
     "name": "stdout",
     "output_type": "stream",
     "text": [
      "Reading \"OBNK\"\n",
      "Reading \"OBOR\"\n",
      "Reading \"OBSV\"\n",
      "Reading \"OCA\"\n",
      "Reading \"OCA.U\"\n",
      "Reading \"OCAX\"\n",
      "Reading \"OCAXU\"\n",
      "Reading \"OCC\"\n",
      "Reading \"OCCIO\"\n",
      "Reading \"OCCIP\"\n",
      "Reading \"OCDX\"\n",
      "Reading \"OCFC\"\n"
     ]
    },
    {
     "name": "stderr",
     "output_type": "stream",
     "text": [
      "sleep 3 seconds and retrying https://data.alpaca.markets/v1/bars/day 3 more time(s)...\n"
     ]
    },
    {
     "name": "stdout",
     "output_type": "stream",
     "text": [
      "Reading \"OCFCP\"\n",
      "Reading \"OCFT\"\n",
      "Reading \"OCG\"\n",
      "Reading \"OCGN\"\n",
      "Reading \"OCIO\"\n",
      "Reading \"OCN\"\n",
      "Reading \"OCSL\"\n",
      "Reading \"OCTZ\"\n",
      "Reading \"OCUL\"\n",
      "Reading \"OCUP\"\n",
      "Reading \"OCX\"\n",
      "Reading \"ODC\"\n",
      "Reading \"ODFL\"\n",
      "Reading \"ODP\"\n",
      "Reading \"ODT\"\n",
      "Reading \"OEC\"\n"
     ]
    },
    {
     "name": "stderr",
     "output_type": "stream",
     "text": [
      "sleep 3 seconds and retrying https://data.alpaca.markets/v1/bars/day 3 more time(s)...\n"
     ]
    },
    {
     "name": "stdout",
     "output_type": "stream",
     "text": [
      "Reading \"OEF\"\n",
      "Reading \"OEG\"\n",
      "Reading \"OEPW\"\n",
      "Reading \"OEPWU\"\n",
      "Reading \"OEUR\"\n",
      "Reading \"NEE\"\n",
      "Reading \"NGVC\"\n",
      "Reading \"OFC\"\n",
      "Reading \"OFED\"\n",
      "Reading \"OFIX\"\n",
      "Reading \"OFLX\"\n",
      "Reading \"OFS\"\n",
      "Reading \"OFSSG\"\n",
      "Reading \"OFSSI\"\n",
      "Reading \"OG\"\n",
      "Reading \"OGCP\"\n"
     ]
    },
    {
     "name": "stderr",
     "output_type": "stream",
     "text": [
      "sleep 3 seconds and retrying https://data.alpaca.markets/v1/bars/day 3 more time(s)...\n"
     ]
    },
    {
     "name": "stdout",
     "output_type": "stream",
     "text": [
      "Reading \"OGE\"\n",
      "Reading \"OGEN\"\n",
      "Reading \"OGI\"\n",
      "Reading \"OGIG\"\n",
      "Reading \"OGS\"\n",
      "Reading \"OHI\"\n",
      "Reading \"OHPA\"\n",
      "Reading \"OHPAU\"\n",
      "Reading \"OI\"\n",
      "Reading \"OIA\"\n",
      "Reading \"OIH\"\n",
      "Reading \"OII\"\n",
      "Reading \"OIIM\"\n",
      "Reading \"OIL\"\n",
      "Reading \"OILK\"\n"
     ]
    },
    {
     "name": "stderr",
     "output_type": "stream",
     "text": [
      "sleep 3 seconds and retrying https://data.alpaca.markets/v1/bars/day 3 more time(s)...\n"
     ]
    },
    {
     "name": "stdout",
     "output_type": "stream",
     "text": [
      "Reading \"OIS\"\n",
      "Reading \"OKE\"\n",
      "Reading \"OKTA\"\n",
      "Reading \"OLB\"\n",
      "Reading \"OLD\"\n",
      "Reading \"OLED\"\n",
      "Reading \"OLLI\"\n",
      "Reading \"OLMA\"\n",
      "Reading \"OLN\"\n",
      "Reading \"OLO\"\n",
      "Reading \"OLP\"\n",
      "Reading \"OM\"\n",
      "Reading \"OMAB\"\n",
      "Reading \"OMC\"\n",
      "Reading \"OMCL\"\n",
      "Reading \"OMEG\"\n",
      "Reading \"OMER\"\n",
      "Reading \"OMEX\"\n",
      "Reading \"OMF\"\n",
      "Reading \"OMI\"\n",
      "Reading \"ONB\"\n",
      "Reading \"ONCS\"\n"
     ]
    },
    {
     "name": "stderr",
     "output_type": "stream",
     "text": [
      "sleep 3 seconds and retrying https://data.alpaca.markets/v1/bars/day 3 more time(s)...\n"
     ]
    },
    {
     "name": "stdout",
     "output_type": "stream",
     "text": [
      "Reading \"ONCY\"\n",
      "Reading \"ONE\"\n",
      "Reading \"ONEM\"\n",
      "Reading \"ONEO\"\n",
      "Reading \"ONEQ\"\n",
      "Reading \"ONEV\"\n",
      "Reading \"ONEW\"\n",
      "Reading \"ONEY\"\n",
      "Reading \"ONLN\"\n",
      "Reading \"ONOF\"\n",
      "Reading \"ONTF\"\n",
      "Reading \"ONTO\"\n",
      "Reading \"ONTX\"\n",
      "Reading \"ONVO\"\n",
      "Reading \"OOMA\"\n",
      "Reading \"OPA.U\"\n",
      "Reading \"OPCH\"\n",
      "Reading \"OPEN\"\n",
      "Reading \"OPER\"\n",
      "Reading \"OPGN\"\n",
      "Reading \"OPHC\"\n"
     ]
    },
    {
     "name": "stderr",
     "output_type": "stream",
     "text": [
      "sleep 3 seconds and retrying https://data.alpaca.markets/v1/bars/day 3 more time(s)...\n"
     ]
    },
    {
     "name": "stdout",
     "output_type": "stream",
     "text": [
      "Reading \"OPI\"\n",
      "Reading \"OPINI\"\n",
      "Reading \"OPOF\"\n",
      "Reading \"OPPX\"\n",
      "Reading \"OPRA\"\n",
      "Reading \"OPRT\"\n",
      "Reading \"OPTN\"\n",
      "Reading \"OPTT\"\n",
      "Reading \"OPY\"\n",
      "Reading \"OR\"\n",
      "Reading \"ORAN\"\n",
      "Reading \"ORBC\"\n",
      "Reading \"ORC\"\n",
      "Reading \"ORCC\"\n",
      "Reading \"ORGO\"\n",
      "Reading \"ORGS\"\n",
      "Reading \"ORI\"\n",
      "Reading \"ORIC\"\n"
     ]
    },
    {
     "name": "stderr",
     "output_type": "stream",
     "text": [
      "sleep 3 seconds and retrying https://data.alpaca.markets/v1/bars/day 3 more time(s)...\n"
     ]
    },
    {
     "name": "stdout",
     "output_type": "stream",
     "text": [
      "Reading \"ORLA\"\n",
      "Reading \"ORN\"\n",
      "Reading \"ORPH\"\n",
      "Reading \"ORRF\"\n",
      "Reading \"ORTX\"\n",
      "Reading \"OSCR\"\n",
      "Reading \"OSCV\"\n",
      "Reading \"OSG\"\n",
      "Reading \"OSH\"\n",
      "Reading \"OSK\"\n",
      "Reading \"OSMT\"\n",
      "Reading \"OSN\"\n",
      "Reading \"OSPN\"\n",
      "Reading \"OSTK\"\n",
      "Reading \"OSTRU\"\n",
      "Reading \"OSUR\"\n"
     ]
    },
    {
     "name": "stderr",
     "output_type": "stream",
     "text": [
      "sleep 3 seconds and retrying https://data.alpaca.markets/v1/bars/day 3 more time(s)...\n"
     ]
    },
    {
     "name": "stdout",
     "output_type": "stream",
     "text": [
      "Reading \"OSW\"\n",
      "Reading \"OTIC\"\n",
      "Reading \"OTIS\"\n",
      "Reading \"OTLK\"\n",
      "Reading \"OTRAU\"\n",
      "Reading \"OTRK\"\n",
      "Reading \"OTRKP\"\n",
      "Reading \"OTTR\"\n",
      "Reading \"OUNZ\"\n",
      "Reading \"OUSA\"\n",
      "Reading \"OUSM\"\n",
      "Reading \"OUST\"\n",
      "Reading \"OVBC\"\n",
      "Reading \"OVF\"\n",
      "Reading \"OVID\"\n",
      "Reading \"OVL\"\n",
      "Reading \"OVLY\"\n",
      "Reading \"OVM\"\n",
      "Reading \"OVS\"\n",
      "Reading \"OVT\"\n",
      "Reading \"OVV\"\n",
      "Reading \"OXLC\"\n",
      "Reading \"OXLCL\"\n",
      "Reading \"OXLCM\"\n",
      "Reading \"OXLCP\"\n",
      "Reading \"OXSQ\"\n",
      "Reading \"OXSQL\"\n",
      "Reading \"OXSQZ\"\n",
      "Reading \"OXY\"\n",
      "Reading \"OZK\"\n",
      "Reading \"OZON\"\n",
      "Reading \"PAAS\"\n",
      "Reading \"PAC\"\n",
      "Reading \"PACE.U\"\n",
      "Reading \"PACK\"\n",
      "Reading \"PACW\"\n",
      "Reading \"PACX\"\n",
      "Reading \"PAE\"\n",
      "Reading \"PAG\"\n"
     ]
    },
    {
     "name": "stderr",
     "output_type": "stream",
     "text": [
      "sleep 3 seconds and retrying https://data.alpaca.markets/v1/bars/day 3 more time(s)...\n"
     ]
    },
    {
     "name": "stdout",
     "output_type": "stream",
     "text": [
      "Reading \"PAGP\"\n",
      "Reading \"PAHC\"\n",
      "Reading \"PAI\"\n",
      "Reading \"PAIC\"\n",
      "Reading \"PAICU\"\n",
      "Reading \"PALI\"\n",
      "Reading \"PAM\"\n",
      "Reading \"PANA\"\n",
      "Reading \"PANL\"\n",
      "Reading \"PANW\"\n",
      "Reading \"PAPR\"\n",
      "Reading \"PAQCU\"\n",
      "Reading \"PAR\"\n",
      "Reading \"PARR\"\n"
     ]
    },
    {
     "name": "stderr",
     "output_type": "stream",
     "text": [
      "sleep 3 seconds and retrying https://data.alpaca.markets/v1/bars/day 3 more time(s)...\n"
     ]
    },
    {
     "name": "stdout",
     "output_type": "stream",
     "text": [
      "Reading \"PASG\"\n",
      "Reading \"PATH\"\n",
      "Reading \"PATI\"\n",
      "Reading \"PAVE\"\n",
      "Reading \"PAWZ\"\n",
      "Reading \"PAX\"\n",
      "Reading \"PAYA\"\n",
      "Reading \"PAYC\"\n",
      "Reading \"PAYS\"\n",
      "Reading \"PAYX\"\n",
      "Reading \"PB\"\n",
      "Reading \"PBA\"\n",
      "Reading \"PBC\"\n",
      "Reading \"PBCT\"\n"
     ]
    },
    {
     "name": "stderr",
     "output_type": "stream",
     "text": [
      "sleep 3 seconds and retrying https://data.alpaca.markets/v1/bars/day 3 more time(s)...\n"
     ]
    },
    {
     "name": "stdout",
     "output_type": "stream",
     "text": [
      "Reading \"PBCTP\"\n",
      "Reading \"PBD\"\n",
      "Reading \"PBDM\"\n",
      "Reading \"PBE\"\n",
      "Reading \"PBEE\"\n",
      "Reading \"PBFS\"\n",
      "Reading \"PBH\"\n",
      "Reading \"PBIP\"\n",
      "Reading \"PBLA\"\n",
      "Reading \"PBND\"\n",
      "Reading \"PBP\"\n",
      "Reading \"PBPB\"\n",
      "Reading \"PBR\"\n",
      "Reading \"PBSM\"\n"
     ]
    },
    {
     "name": "stderr",
     "output_type": "stream",
     "text": [
      "sleep 3 seconds and retrying https://data.alpaca.markets/v1/bars/day 3 more time(s)...\n"
     ]
    },
    {
     "name": "stdout",
     "output_type": "stream",
     "text": [
      "Reading \"PBTP\"\n",
      "Reading \"PBTS\"\n",
      "Reading \"PBY\"\n",
      "Reading \"PBYI\"\n",
      "Reading \"PCAR\"\n",
      "Reading \"PCB\"\n",
      "Reading \"PCF\"\n",
      "Reading \"PCH\"\n",
      "Reading \"PCI\"\n",
      "Reading \"PCM\"\n",
      "Reading \"PCN\"\n",
      "Reading \"PCOM\"\n",
      "Reading \"PCPC\"\n",
      "Reading \"PCPC.U\"\n"
     ]
    },
    {
     "name": "stderr",
     "output_type": "stream",
     "text": [
      "sleep 3 seconds and retrying https://data.alpaca.markets/v1/bars/day 3 more time(s)...\n"
     ]
    },
    {
     "name": "stdout",
     "output_type": "stream",
     "text": [
      "Reading \"PCRX\"\n",
      "Reading \"PCSA\"\n",
      "Reading \"PCT\"\n",
      "Reading \"PCTTU\"\n",
      "Reading \"PCTY\"\n",
      "Reading \"PCY\"\n",
      "Reading \"NGVT\"\n",
      "Reading \"PCYO\"\n"
     ]
    },
    {
     "name": "stderr",
     "output_type": "stream",
     "text": [
      "sleep 3 seconds and retrying https://data.alpaca.markets/v1/bars/day 3 more time(s)...\n"
     ]
    },
    {
     "name": "stdout",
     "output_type": "stream",
     "text": [
      "Reading \"PDAC\"\n",
      "Reading \"PDAC.U\"\n",
      "Reading \"PDBC\"\n",
      "Reading \"PDCO\"\n",
      "Reading \"PDD\"\n",
      "Reading \"PDEC\"\n",
      "Reading \"PDEV\"\n",
      "Reading \"PDI\"\n",
      "Reading \"PDLB\"\n",
      "Reading \"PDM\"\n",
      "Reading \"PDOT\"\n",
      "Reading \"PDOT.U\"\n",
      "Reading \"PDP\"\n",
      "Reading \"PDT\"\n",
      "Reading \"PEAK\"\n",
      "Reading \"PEB\"\n",
      "Reading \"PEGA\"\n",
      "Reading \"PEI\"\n",
      "Reading \"PEJ\"\n",
      "Reading \"PEP\"\n",
      "Reading \"PERI\"\n"
     ]
    },
    {
     "name": "stderr",
     "output_type": "stream",
     "text": [
      "sleep 3 seconds and retrying https://data.alpaca.markets/v1/bars/day 3 more time(s)...\n"
     ]
    },
    {
     "name": "stdout",
     "output_type": "stream",
     "text": [
      "Reading \"PETS\"\n",
      "Reading \"PETZ\"\n",
      "Reading \"PEX\"\n",
      "Reading \"PEZ\"\n",
      "Reading \"PFBC\"\n",
      "Reading \"PFDRU\"\n",
      "Reading \"PFFD\"\n",
      "Reading \"PFFL\"\n",
      "Reading \"PFGC\"\n",
      "Reading \"PFH\"\n",
      "Reading \"PFI\"\n",
      "Reading \"PFIE\"\n",
      "Reading \"PFIG\"\n",
      "Reading \"PFIN\"\n",
      "Reading \"PFL\"\n",
      "Reading \"PFLD\"\n",
      "Reading \"PFLT\"\n",
      "Reading \"PFM\"\n",
      "Reading \"PFN\"\n",
      "Reading \"PFO\"\n"
     ]
    },
    {
     "name": "stderr",
     "output_type": "stream",
     "text": [
      "sleep 3 seconds and retrying https://data.alpaca.markets/v1/bars/day 3 more time(s)...\n"
     ]
    },
    {
     "name": "stdout",
     "output_type": "stream",
     "text": [
      "Reading \"PFPT\"\n",
      "Reading \"PFS\"\n",
      "Reading \"PFSI\"\n",
      "Reading \"PFSW\"\n",
      "Reading \"PFX\"\n",
      "Reading \"PFXF\"\n",
      "Reading \"PFXNL\"\n",
      "Reading \"PGAL\"\n",
      "Reading \"PGC\"\n",
      "Reading \"PGEN\"\n",
      "Reading \"PGF\"\n",
      "Reading \"PGHY\"\n",
      "Reading \"PGJ\"\n"
     ]
    },
    {
     "name": "stderr",
     "output_type": "stream",
     "text": [
      "sleep 3 seconds and retrying https://data.alpaca.markets/v1/bars/day 3 more time(s)...\n"
     ]
    },
    {
     "name": "stdout",
     "output_type": "stream",
     "text": [
      "Reading \"PGM\"\n",
      "Reading \"PGP\"\n",
      "Reading \"PGR\"\n",
      "Reading \"PGRE\"\n",
      "Reading \"PGRWU\"\n",
      "Reading \"PGTI\"\n",
      "Reading \"PGX\"\n",
      "Reading \"PGZ\"\n",
      "Reading \"PH\"\n",
      "Reading \"PHAR\"\n",
      "Reading \"PHAS\"\n",
      "Reading \"PHAT\"\n",
      "Reading \"PHB\"\n"
     ]
    },
    {
     "name": "stderr",
     "output_type": "stream",
     "text": [
      "sleep 3 seconds and retrying https://data.alpaca.markets/v1/bars/day 3 more time(s)...\n"
     ]
    },
    {
     "name": "stdout",
     "output_type": "stream",
     "text": [
      "Reading \"PHCF\"\n",
      "Reading \"PHD\"\n",
      "Reading \"PHDG\"\n",
      "Reading \"PHG\"\n",
      "Reading \"PHGE\"\n",
      "Reading \"PHGE.U\"\n",
      "Reading \"PHI\"\n",
      "Reading \"PHICU\"\n",
      "Reading \"PHIO\"\n",
      "Reading \"PHK\"\n",
      "Reading \"PHM\"\n",
      "Reading \"PHO\"\n",
      "Reading \"PHT\"\n",
      "Reading \"PHUN\"\n"
     ]
    },
    {
     "name": "stderr",
     "output_type": "stream",
     "text": [
      "sleep 3 seconds and retrying https://data.alpaca.markets/v1/bars/day 3 more time(s)...\n"
     ]
    },
    {
     "name": "stdout",
     "output_type": "stream",
     "text": [
      "Reading \"PHVS\"\n",
      "Reading \"PHX\"\n",
      "Reading \"PHYL\"\n",
      "Reading \"PHYS\"\n",
      "Reading \"PI\"\n",
      "Reading \"PIAI\"\n",
      "Reading \"PIAI.U\"\n",
      "Reading \"PICB\"\n",
      "Reading \"PICC\"\n",
      "Reading \"PICC.U\"\n",
      "Reading \"PICK\"\n",
      "Reading \"PID\"\n",
      "Reading \"PIE\"\n"
     ]
    },
    {
     "name": "stderr",
     "output_type": "stream",
     "text": [
      "sleep 3 seconds and retrying https://data.alpaca.markets/v1/bars/day 3 more time(s)...\n"
     ]
    },
    {
     "name": "stdout",
     "output_type": "stream",
     "text": [
      "Reading \"PII\"\n",
      "Reading \"PILL\"\n",
      "Reading \"PIM\"\n",
      "Reading \"PIN\"\n",
      "Reading \"PINC\"\n",
      "Reading \"PINE\"\n",
      "Reading \"PING\"\n",
      "Reading \"PINS\"\n",
      "Reading \"PIO\"\n",
      "Reading \"PIPP\"\n",
      "Reading \"PIPP.U\"\n",
      "Reading \"PIPR\"\n",
      "Reading \"PIRS\"\n",
      "Reading \"PIXY\"\n",
      "Reading \"PIZ\"\n",
      "Reading \"PJAN\"\n",
      "Reading \"PJP\"\n",
      "Reading \"PJT\"\n",
      "Reading \"PJUL\"\n",
      "Reading \"PJUN\"\n",
      "Reading \"PK\"\n",
      "Reading \"PKB\"\n",
      "Reading \"PKBK\"\n",
      "Reading \"PKE\"\n",
      "Reading \"PCG\"\n",
      "Reading \"PKG\"\n",
      "Reading \"PKI\"\n",
      "Reading \"PKO\"\n",
      "Reading \"PKOH\"\n",
      "Reading \"PKW\"\n",
      "Reading \"PLAB\"\n",
      "Reading \"PLAG\"\n",
      "Reading \"PLAN\"\n",
      "Reading \"PLAT\"\n",
      "Reading \"PLAY\"\n"
     ]
    },
    {
     "name": "stderr",
     "output_type": "stream",
     "text": [
      "sleep 3 seconds and retrying https://data.alpaca.markets/v1/bars/day 3 more time(s)...\n"
     ]
    },
    {
     "name": "stdout",
     "output_type": "stream",
     "text": [
      "Reading \"PLBC\"\n",
      "Reading \"PLBY\"\n",
      "Reading \"PLCE\"\n",
      "Reading \"PLD\"\n",
      "Reading \"PLG\"\n",
      "Reading \"PLIN\"\n",
      "Reading \"PLL\"\n",
      "Reading \"PLM\"\n",
      "Reading \"PLMI\"\n",
      "Reading \"PLMIU\"\n",
      "Reading \"PLMR\"\n",
      "Reading \"PLOW\"\n"
     ]
    },
    {
     "name": "stderr",
     "output_type": "stream",
     "text": [
      "sleep 3 seconds and retrying https://data.alpaca.markets/v1/bars/day 3 more time(s)...\n"
     ]
    },
    {
     "name": "stdout",
     "output_type": "stream",
     "text": [
      "Reading \"PLPC\"\n",
      "Reading \"PLRX\"\n",
      "Reading \"PLSE\"\n",
      "Reading \"PLT\"\n",
      "Reading \"PLTK\"\n",
      "Reading \"PLTR\"\n",
      "Reading \"PLUG\"\n",
      "Reading \"PLUS\"\n",
      "Reading \"PLW\"\n",
      "Reading \"PLX\"\n",
      "Reading \"PLXP\"\n",
      "Reading \"PLYA\"\n",
      "Reading \"PLYM\"\n",
      "Reading \"PM\"\n",
      "Reading \"PMAR\"\n"
     ]
    },
    {
     "name": "stderr",
     "output_type": "stream",
     "text": [
      "sleep 3 seconds and retrying https://data.alpaca.markets/v1/bars/day 3 more time(s)...\n"
     ]
    },
    {
     "name": "stdout",
     "output_type": "stream",
     "text": [
      "Reading \"PMBC\"\n",
      "Reading \"PMD\"\n",
      "Reading \"PME\"\n",
      "Reading \"PMF\"\n",
      "Reading \"PMGMU\"\n",
      "Reading \"PML\"\n",
      "Reading \"PMM\"\n",
      "Reading \"PMO\"\n",
      "Reading \"PMVC.U\"\n",
      "Reading \"PMVP\"\n",
      "Reading \"PNBK\"\n",
      "Reading \"PNF\"\n",
      "Reading \"PNFP\"\n",
      "Reading \"PNI\"\n",
      "Reading \"PNNT\"\n",
      "Reading \"PNNTG\"\n",
      "Reading \"PNQI\"\n",
      "Reading \"PNR\"\n",
      "Reading \"PNTG\"\n",
      "Reading \"PNTM\"\n",
      "Reading \"PNW\"\n",
      "Reading \"PODD\"\n",
      "Reading \"POOL\"\n",
      "Reading \"POSH\"\n",
      "Reading \"POWI\"\n",
      "Reading \"POWRU\"\n",
      "Reading \"PPBI\"\n",
      "Reading \"PPC\"\n",
      "Reading \"PPGHU\"\n",
      "Reading \"PPLT\"\n",
      "Reading \"PPSI\"\n"
     ]
    },
    {
     "name": "stderr",
     "output_type": "stream",
     "text": [
      "sleep 3 seconds and retrying https://data.alpaca.markets/v1/bars/day 3 more time(s)...\n"
     ]
    },
    {
     "name": "stdout",
     "output_type": "stream",
     "text": [
      "Reading \"PPTY\"\n",
      "Reading \"PQDI\"\n",
      "Reading \"PQLC\"\n",
      "Reading \"PQSV\"\n",
      "Reading \"PRAH\"\n",
      "Reading \"PRAX\"\n",
      "Reading \"PRCH\"\n",
      "Reading \"PRF\"\n",
      "Reading \"PRFX\"\n",
      "Reading \"PRFZ\"\n",
      "Reading \"PRGS\"\n",
      "Reading \"PRI\"\n",
      "Reading \"PRIM\"\n",
      "Reading \"PRLB\"\n",
      "Reading \"PRMW\"\n",
      "Reading \"PRN\"\n",
      "Reading \"PRNT\"\n",
      "Reading \"PRO\"\n",
      "Reading \"PROF\"\n",
      "Reading \"PROG\"\n",
      "Reading \"PRPB\"\n",
      "Reading \"PRPB.U\"\n",
      "Reading \"PRPC\"\n",
      "Reading \"PRPL\"\n",
      "Reading \"PRQR\"\n",
      "Reading \"PRS\"\n",
      "Reading \"PRSR\"\n",
      "Reading \"PRSRU\"\n",
      "Reading \"PRTA\"\n"
     ]
    },
    {
     "name": "stderr",
     "output_type": "stream",
     "text": [
      "sleep 3 seconds and retrying https://data.alpaca.markets/v1/bars/day 3 more time(s)...\n"
     ]
    },
    {
     "name": "stdout",
     "output_type": "stream",
     "text": [
      "Reading \"PRTC\"\n",
      "Reading \"PRTG\"\n",
      "Reading \"PRTK\"\n",
      "Reading \"PRTS\"\n",
      "Reading \"PRTY\"\n",
      "Reading \"PRVA\"\n",
      "Reading \"PRVB\"\n",
      "Reading \"PSA\"\n",
      "Reading \"NH\"\n",
      "Reading \"PGNY\"\n",
      "Reading \"PSAC\"\n",
      "Reading \"PSAG\"\n"
     ]
    },
    {
     "name": "stderr",
     "output_type": "stream",
     "text": [
      "sleep 3 seconds and retrying https://data.alpaca.markets/v1/bars/day 3 more time(s)...\n"
     ]
    },
    {
     "name": "stdout",
     "output_type": "stream",
     "text": [
      "Reading \"PSAGU\"\n",
      "Reading \"PSB\"\n",
      "Reading \"PSC\"\n",
      "Reading \"PSCC\"\n",
      "Reading \"PSCE\"\n",
      "Reading \"PSCF\"\n",
      "Reading \"PSCH\"\n",
      "Reading \"PSCI\"\n",
      "Reading \"PSCT\"\n",
      "Reading \"PSCU\"\n",
      "Reading \"PSCW\"\n",
      "Reading \"PSCX\"\n",
      "Reading \"PSEP\"\n",
      "Reading \"PSET\"\n",
      "Reading \"PSF\"\n",
      "Reading \"PSFE\"\n",
      "Reading \"PSFF\"\n",
      "Reading \"PSFM\"\n",
      "Reading \"PSHG\"\n",
      "Reading \"PSI\"\n"
     ]
    },
    {
     "name": "stderr",
     "output_type": "stream",
     "text": [
      "sleep 3 seconds and retrying https://data.alpaca.markets/v1/bars/day 3 more time(s)...\n"
     ]
    },
    {
     "name": "stdout",
     "output_type": "stream",
     "text": [
      "Reading \"PSJ\"\n",
      "Reading \"PSK\"\n",
      "Reading \"PSL\"\n",
      "Reading \"PSLV\"\n",
      "Reading \"PSMB\"\n",
      "Reading \"PSMC\"\n",
      "Reading \"NHC\"\n",
      "Reading \"PSMD\"\n",
      "Reading \"PSMG\"\n",
      "Reading \"PSMM\"\n",
      "Reading \"PSMR\"\n",
      "Reading \"PSMT\"\n",
      "Reading \"PSN\"\n",
      "Reading \"PSNL\"\n",
      "Reading \"PSO\"\n",
      "Reading \"PSP\"\n",
      "Reading \"PSQ\"\n",
      "Reading \"PSR\"\n",
      "Reading \"PST\"\n",
      "Reading \"PSTG\"\n",
      "Reading \"PSTH\"\n",
      "Reading \"PSTI\"\n",
      "Reading \"PSTL\"\n",
      "Reading \"PSTV\"\n"
     ]
    },
    {
     "name": "stderr",
     "output_type": "stream",
     "text": [
      "sleep 3 seconds and retrying https://data.alpaca.markets/v1/bars/day 3 more time(s)...\n"
     ]
    },
    {
     "name": "stdout",
     "output_type": "stream",
     "text": [
      "Reading \"PSTX\"\n",
      "Reading \"PSX\"\n",
      "Reading \"PSXP\"\n",
      "Reading \"PT\"\n",
      "Reading \"PTA\"\n",
      "Reading \"PTBD\"\n",
      "Reading \"PTC\"\n",
      "Reading \"PTCT\"\n",
      "Reading \"PTE\"\n",
      "Reading \"PTEN\"\n",
      "Reading \"PTEU\"\n",
      "Reading \"PTF\"\n",
      "Reading \"PTGX\"\n",
      "Reading \"PTH\"\n"
     ]
    },
    {
     "name": "stderr",
     "output_type": "stream",
     "text": [
      "sleep 3 seconds and retrying https://data.alpaca.markets/v1/bars/day 3 more time(s)...\n"
     ]
    },
    {
     "name": "stdout",
     "output_type": "stream",
     "text": [
      "Reading \"PTIC\"\n",
      "Reading \"PTICU\"\n",
      "Reading \"PTIN\"\n",
      "Reading \"PTIX\"\n",
      "Reading \"PTK\"\n",
      "Reading \"PTK.U\"\n",
      "Reading \"PTLC\"\n",
      "Reading \"PTMC\"\n",
      "Reading \"PTMN\"\n",
      "Reading \"PTN\"\n",
      "Reading \"PTNQ\"\n",
      "Reading \"PTNR\"\n"
     ]
    },
    {
     "name": "stderr",
     "output_type": "stream",
     "text": [
      "sleep 3 seconds and retrying https://data.alpaca.markets/v1/bars/day 3 more time(s)...\n"
     ]
    },
    {
     "name": "stdout",
     "output_type": "stream",
     "text": [
      "Reading \"PTOCU\"\n",
      "Reading \"PTON\"\n",
      "Reading \"PTPI\"\n",
      "Reading \"PTR\"\n",
      "Reading \"PTRS\"\n",
      "Reading \"PTSI\"\n",
      "Reading \"PTVCA\"\n",
      "Reading \"PTVCB\"\n",
      "Reading \"PTVE\"\n",
      "Reading \"PTY\"\n",
      "Reading \"PUBM\"\n",
      "Reading \"PUCK\"\n",
      "Reading \"PUCKU\"\n",
      "Reading \"PUI\"\n"
     ]
    },
    {
     "name": "stderr",
     "output_type": "stream",
     "text": [
      "sleep 3 seconds and retrying https://data.alpaca.markets/v1/bars/day 3 more time(s)...\n"
     ]
    },
    {
     "name": "stdout",
     "output_type": "stream",
     "text": [
      "Reading \"PUK\"\n",
      "Reading \"PULM\"\n",
      "Reading \"PUMP\"\n",
      "Reading \"PUTW\"\n",
      "Reading \"PUYI\"\n",
      "Reading \"PV\"\n",
      "Reading \"PVAC\"\n",
      "Reading \"PVBC\"\n",
      "Reading \"PVG\"\n",
      "Reading \"PVH\"\n",
      "Reading \"PVL\"\n"
     ]
    },
    {
     "name": "stderr",
     "output_type": "stream",
     "text": [
      "sleep 3 seconds and retrying https://data.alpaca.markets/v1/bars/day 3 more time(s)...\n"
     ]
    },
    {
     "name": "stdout",
     "output_type": "stream",
     "text": [
      "Reading \"PW\"\n",
      "Reading \"PWB\"\n",
      "Reading \"PWFL\"\n",
      "Reading \"PWOD\"\n",
      "Reading \"PWR\"\n",
      "Reading \"PWS\"\n",
      "Reading \"PWV\"\n",
      "Reading \"PWZ\"\n",
      "Reading \"PXD\"\n",
      "Reading \"PXE\"\n",
      "Reading \"PXH\"\n",
      "Reading \"PXJ\"\n"
     ]
    },
    {
     "name": "stderr",
     "output_type": "stream",
     "text": [
      "sleep 3 seconds and retrying https://data.alpaca.markets/v1/bars/day 3 more time(s)...\n"
     ]
    },
    {
     "name": "stdout",
     "output_type": "stream",
     "text": [
      "Reading \"PXLW\"\n",
      "Reading \"PXQ\"\n",
      "Reading \"PXSAP\"\n",
      "Reading \"PY\"\n",
      "Reading \"PYPD\"\n",
      "Reading \"PYPE\"\n",
      "Reading \"PYPL\"\n",
      "Reading \"PYS\"\n",
      "Reading \"PYZ\"\n",
      "Reading \"PZA\"\n",
      "Reading \"PZN\"\n",
      "Reading \"PZZA\"\n",
      "Reading \"QABA\"\n",
      "Reading \"QADA\"\n",
      "Reading \"QADB\"\n",
      "Reading \"QARP\"\n",
      "Reading \"QAT\"\n",
      "Reading \"QCOM\"\n",
      "Reading \"QCON\"\n",
      "Reading \"QCRH\"\n",
      "Reading \"QD\"\n",
      "Reading \"QDEC\"\n",
      "Reading \"QDEL\"\n",
      "Reading \"QDF\"\n"
     ]
    },
    {
     "name": "stderr",
     "output_type": "stream",
     "text": [
      "sleep 3 seconds and retrying https://data.alpaca.markets/v1/bars/day 3 more time(s)...\n"
     ]
    },
    {
     "name": "stdout",
     "output_type": "stream",
     "text": [
      "Reading \"QDIV\"\n",
      "Reading \"QED\"\n",
      "Reading \"QEFA\"\n",
      "Reading \"QELL\"\n",
      "Reading \"QELLU\"\n",
      "Reading \"QEMM\"\n",
      "Reading \"QFIN\"\n",
      "Reading \"QFTA.U\"\n",
      "Reading \"QGRO\"\n",
      "Reading \"QH\"\n",
      "Reading \"QID\"\n"
     ]
    },
    {
     "name": "stderr",
     "output_type": "stream",
     "text": [
      "sleep 3 seconds and retrying https://data.alpaca.markets/v1/bars/day 3 more time(s)...\n"
     ]
    },
    {
     "name": "stdout",
     "output_type": "stream",
     "text": [
      "Reading \"QINT\"\n",
      "Reading \"QK\"\n",
      "Reading \"QLC\"\n",
      "Reading \"QLD\"\n",
      "Reading \"QLGN\"\n",
      "Reading \"QLI\"\n",
      "Reading \"QLS\"\n",
      "Reading \"QLV\"\n",
      "Reading \"QLVD\"\n",
      "Reading \"QLVE\"\n",
      "Reading \"QLYS\"\n",
      "Reading \"PEN\"\n",
      "Reading \"QMCO\"\n",
      "Reading \"QMN\"\n"
     ]
    },
    {
     "name": "stderr",
     "output_type": "stream",
     "text": [
      "sleep 3 seconds and retrying https://data.alpaca.markets/v1/bars/day 3 more time(s)...\n"
     ]
    },
    {
     "name": "stdout",
     "output_type": "stream",
     "text": [
      "Reading \"QNST\"\n",
      "Reading \"QPT\"\n",
      "Reading \"QPX\"\n",
      "Reading \"QQD\"\n",
      "Reading \"QQH\"\n",
      "Reading \"QQQJ\"\n",
      "Reading \"QQQN\"\n",
      "Reading \"QQQX\"\n",
      "Reading \"QQXT\"\n",
      "Reading \"QRHC\"\n",
      "Reading \"QRTEA\"\n",
      "Reading \"QRTEP\"\n",
      "Reading \"QRVO\"\n",
      "Reading \"QSR\"\n",
      "Reading \"QSY\"\n"
     ]
    },
    {
     "name": "stderr",
     "output_type": "stream",
     "text": [
      "sleep 3 seconds and retrying https://data.alpaca.markets/v1/bars/day 3 more time(s)...\n"
     ]
    },
    {
     "name": "stdout",
     "output_type": "stream",
     "text": [
      "Reading \"QTAP\"\n",
      "Reading \"QTNT\"\n",
      "Reading \"QTRX\"\n",
      "Reading \"QTS\"\n",
      "Reading \"QTT\"\n",
      "Reading \"QTUM\"\n",
      "Reading \"QUIK\"\n",
      "Reading \"QULL\"\n",
      "Reading \"QUMU\"\n",
      "Reading \"QUOT\"\n",
      "Reading \"QUS\"\n",
      "Reading \"QVAL\"\n"
     ]
    },
    {
     "name": "stderr",
     "output_type": "stream",
     "text": [
      "sleep 3 seconds and retrying https://data.alpaca.markets/v1/bars/day 3 more time(s)...\n"
     ]
    },
    {
     "name": "stdout",
     "output_type": "stream",
     "text": [
      "Reading \"QVCC\"\n",
      "Reading \"QVCD\"\n",
      "Reading \"QYLD\"\n",
      "Reading \"R\"\n",
      "Reading \"RA\"\n",
      "Reading \"RAAC\"\n",
      "Reading \"RAACU\"\n",
      "Reading \"RACA\"\n",
      "Reading \"RACB\"\n",
      "Reading \"RACE\"\n",
      "Reading \"RAD\"\n",
      "Reading \"RADI\"\n",
      "Reading \"RAFE\"\n",
      "Reading \"RAIL\"\n",
      "Reading \"RAMP\"\n"
     ]
    },
    {
     "name": "stderr",
     "output_type": "stream",
     "text": [
      "sleep 3 seconds and retrying https://data.alpaca.markets/v1/bars/day 3 more time(s)...\n"
     ]
    },
    {
     "name": "stdout",
     "output_type": "stream",
     "text": [
      "Reading \"RAND\"\n",
      "Reading \"RAPT\"\n",
      "Reading \"RARE\"\n",
      "Reading \"RAVI\"\n",
      "Reading \"RAVN\"\n",
      "Reading \"RAYC\"\n",
      "Reading \"RBA\"\n",
      "Reading \"RBAC.U\"\n",
      "Reading \"RBB\"\n",
      "Reading \"RBBN\"\n",
      "Reading \"RBC\"\n",
      "Reading \"RBCAA\"\n",
      "Reading \"RBCN\"\n",
      "Reading \"RBIN\"\n"
     ]
    },
    {
     "name": "stderr",
     "output_type": "stream",
     "text": [
      "sleep 3 seconds and retrying https://data.alpaca.markets/v1/bars/day 3 more time(s)...\n"
     ]
    },
    {
     "name": "stdout",
     "output_type": "stream",
     "text": [
      "Reading \"RBKB\"\n",
      "Reading \"RBLX\"\n",
      "Reading \"RBNC\"\n",
      "Reading \"RBND\"\n",
      "Reading \"RBUS\"\n",
      "Reading \"RC\"\n",
      "Reading \"RCA\"\n",
      "Reading \"RCAT\"\n",
      "Reading \"RCB\"\n",
      "Reading \"RCC\"\n",
      "Reading \"RCD\"\n"
     ]
    },
    {
     "name": "stderr",
     "output_type": "stream",
     "text": [
      "sleep 3 seconds and retrying https://data.alpaca.markets/v1/bars/day 3 more time(s)...\n"
     ]
    },
    {
     "name": "stdout",
     "output_type": "stream",
     "text": [
      "Reading \"RCEL\"\n",
      "Reading \"RCHG\"\n",
      "Reading \"RCHGU\"\n",
      "Reading \"RCI\"\n",
      "Reading \"RCII\"\n",
      "Reading \"RCKY\"\n",
      "Reading \"RCL\"\n",
      "Reading \"RCLF\"\n",
      "Reading \"RCLFU\"\n",
      "Reading \"RCM\"\n",
      "Reading \"NHF\"\n",
      "Reading \"RCMT\"\n",
      "Reading \"RCON\"\n",
      "Reading \"RCUS\"\n",
      "Reading \"RDCM\"\n",
      "Reading \"RDFI\"\n",
      "Reading \"RDFN\"\n",
      "Reading \"RDHL\"\n",
      "Reading \"RDI\"\n"
     ]
    },
    {
     "name": "stderr",
     "output_type": "stream",
     "text": [
      "sleep 3 seconds and retrying https://data.alpaca.markets/v1/bars/day 3 more time(s)...\n"
     ]
    },
    {
     "name": "stdout",
     "output_type": "stream",
     "text": [
      "Reading \"RDIB\"\n",
      "Reading \"RDIV\"\n",
      "Reading \"RDNT\"\n",
      "Reading \"RDOG\"\n",
      "Reading \"RDS.A\"\n",
      "Reading \"RDUS\"\n",
      "Reading \"RDVT\"\n",
      "Reading \"RDVY\"\n",
      "Reading \"RDWR\"\n",
      "Reading \"RDY\"\n",
      "Reading \"RE\"\n",
      "Reading \"REC\"\n",
      "Reading \"RECS\"\n",
      "Reading \"REDU\"\n",
      "Reading \"REED\"\n"
     ]
    },
    {
     "name": "stderr",
     "output_type": "stream",
     "text": [
      "sleep 3 seconds and retrying https://data.alpaca.markets/v1/bars/day 3 more time(s)...\n"
     ]
    },
    {
     "name": "stdout",
     "output_type": "stream",
     "text": [
      "Reading \"REET\"\n",
      "Reading \"REFR\"\n",
      "Reading \"REG\"\n",
      "Reading \"REGI\"\n",
      "Reading \"REGL\"\n",
      "Reading \"REGN\"\n",
      "Reading \"REI\"\n",
      "Reading \"REIT\"\n",
      "Reading \"REK\"\n",
      "Reading \"REKR\"\n",
      "Reading \"RELI\"\n",
      "Reading \"RELL\"\n",
      "Reading \"RELX\"\n",
      "Reading \"REM\"\n"
     ]
    },
    {
     "name": "stderr",
     "output_type": "stream",
     "text": [
      "sleep 3 seconds and retrying https://data.alpaca.markets/v1/bars/day 3 more time(s)...\n"
     ]
    },
    {
     "name": "stdout",
     "output_type": "stream",
     "text": [
      "Reading \"REML\"\n",
      "Reading \"REMX\"\n",
      "Reading \"RENN\"\n",
      "Reading \"REPH\"\n",
      "Reading \"REPL\"\n",
      "Reading \"REPX\"\n",
      "Reading \"RES\"\n",
      "Reading \"RESD\"\n",
      "Reading \"RESE\"\n",
      "Reading \"RESP\"\n",
      "Reading \"RETA\"\n",
      "Reading \"RETL\"\n"
     ]
    },
    {
     "name": "stderr",
     "output_type": "stream",
     "text": [
      "sleep 3 seconds and retrying https://data.alpaca.markets/v1/bars/day 3 more time(s)...\n"
     ]
    },
    {
     "name": "stdout",
     "output_type": "stream",
     "text": [
      "Reading \"RETO\"\n",
      "Reading \"REV\"\n",
      "Reading \"REVG\"\n",
      "Reading \"REVHU\"\n",
      "Reading \"REVS\"\n",
      "Reading \"REW\"\n",
      "Reading \"REX\"\n",
      "Reading \"REXR\"\n",
      "Reading \"REYN\"\n",
      "Reading \"REZ\"\n",
      "Reading \"REZI\"\n",
      "Reading \"RF\"\n",
      "Reading \"RFAP\"\n",
      "Reading \"RFCI\"\n",
      "Reading \"RFDA\"\n",
      "Reading \"RFEM\"\n",
      "Reading \"RFEU\"\n",
      "Reading \"RFFC\"\n",
      "Reading \"RFG\"\n",
      "Reading \"RFI\"\n",
      "Reading \"RFIL\"\n",
      "Reading \"RFL\"\n",
      "Reading \"RFMZ\"\n",
      "Reading \"RFP\"\n",
      "Reading \"RFUN\"\n",
      "Reading \"RFV\"\n",
      "Reading \"RGA\"\n",
      "Reading \"RGEN\"\n",
      "Reading \"RGI\"\n",
      "Reading \"RGLD\"\n",
      "Reading \"RGLS\"\n",
      "Reading \"NHIC\"\n",
      "Reading \"NIB\"\n",
      "Reading \"RGNX\"\n",
      "Reading \"RGP\"\n",
      "Reading \"RGR\"\n",
      "Reading \"RGT\"\n",
      "Reading \"RH\"\n",
      "Reading \"RHE\"\n",
      "Reading \"RHI\"\n",
      "Reading \"RHP\"\n",
      "Reading \"RIBT\"\n",
      "Reading \"RICE\"\n",
      "Reading \"RICE.U\"\n",
      "Reading \"RICK\"\n",
      "Reading \"RIDE\"\n",
      "Reading \"RIG\"\n",
      "Reading \"RIGL\"\n",
      "Reading \"RIGS\"\n",
      "Reading \"RILY\"\n",
      "Reading \"RILYG\"\n",
      "Reading \"RILYH\"\n",
      "Reading \"RILYI\"\n",
      "Reading \"RILYK\"\n",
      "Reading \"RILYL\"\n",
      "Reading \"RILYM\"\n",
      "Reading \"RILYN\"\n"
     ]
    },
    {
     "name": "stderr",
     "output_type": "stream",
     "text": [
      "sleep 3 seconds and retrying https://data.alpaca.markets/v1/bars/day 3 more time(s)...\n"
     ]
    },
    {
     "name": "stdout",
     "output_type": "stream",
     "text": [
      "Reading \"RILYO\"\n",
      "Reading \"RILYP\"\n",
      "Reading \"RILYT\"\n",
      "Reading \"RINF\"\n",
      "Reading \"RING\"\n",
      "Reading \"RIO\"\n",
      "Reading \"RISN\"\n",
      "Reading \"RIV\"\n",
      "Reading \"RJA\"\n",
      "Reading \"RJF\"\n",
      "Reading \"RJI\"\n",
      "Reading \"NHICU\"\n",
      "Reading \"QGEN\"\n",
      "Reading \"RJN\"\n"
     ]
    },
    {
     "name": "stderr",
     "output_type": "stream",
     "text": [
      "sleep 3 seconds and retrying https://data.alpaca.markets/v1/bars/day 3 more time(s)...\n"
     ]
    },
    {
     "name": "stdout",
     "output_type": "stream",
     "text": [
      "Reading \"RJZ\"\n",
      "Reading \"RKDA\"\n",
      "Reading \"RKT\"\n",
      "Reading \"RKTA.U\"\n",
      "Reading \"RL\"\n",
      "Reading \"RLAY\"\n",
      "Reading \"RLGT\"\n",
      "Reading \"RLGY\"\n",
      "Reading \"RLJ\"\n",
      "Reading \"RLMD\"\n",
      "Reading \"RLX\"\n",
      "Reading \"RLY\"\n",
      "Reading \"RM\"\n"
     ]
    },
    {
     "name": "stderr",
     "output_type": "stream",
     "text": [
      "sleep 3 seconds and retrying https://data.alpaca.markets/v1/bars/day 3 more time(s)...\n"
     ]
    },
    {
     "name": "stdout",
     "output_type": "stream",
     "text": [
      "Reading \"RMAX\"\n",
      "Reading \"RMBI\"\n",
      "Reading \"RMBL\"\n",
      "Reading \"RMBS\"\n",
      "Reading \"RMCF\"\n",
      "Reading \"RMD\"\n",
      "Reading \"RMED\"\n",
      "Reading \"RMGB\"\n",
      "Reading \"RMGC\"\n",
      "Reading \"RMGCU\"\n",
      "Reading \"RMI\"\n",
      "Reading \"RMM\"\n",
      "Reading \"RMNI\"\n",
      "Reading \"RMO\"\n"
     ]
    },
    {
     "name": "stderr",
     "output_type": "stream",
     "text": [
      "sleep 3 seconds and retrying https://data.alpaca.markets/v1/bars/day 3 more time(s)...\n"
     ]
    },
    {
     "name": "stdout",
     "output_type": "stream",
     "text": [
      "Reading \"RMR\"\n",
      "Reading \"RMRM\"\n",
      "Reading \"RMT\"\n",
      "Reading \"RMTI\"\n",
      "Reading \"RNA\"\n",
      "Reading \"RNDB\"\n",
      "Reading \"RNDM\"\n",
      "Reading \"RNDV\"\n",
      "Reading \"QRFT\"\n",
      "Reading \"RNEM\"\n",
      "Reading \"RNG\"\n",
      "Reading \"RNGR\"\n",
      "Reading \"RNLC\"\n",
      "Reading \"RNLX\"\n",
      "Reading \"RNMC\"\n",
      "Reading \"RNP\"\n",
      "Reading \"RNR\"\n",
      "Reading \"RNRG\"\n",
      "Reading \"RNSC\"\n",
      "Reading \"RNST\"\n",
      "Reading \"RNWK\"\n",
      "Reading \"ROAD\"\n",
      "Reading \"ROAM\"\n",
      "Reading \"ROBO\"\n"
     ]
    },
    {
     "name": "stderr",
     "output_type": "stream",
     "text": [
      "sleep 3 seconds and retrying https://data.alpaca.markets/v1/bars/day 3 more time(s)...\n"
     ]
    },
    {
     "name": "stdout",
     "output_type": "stream",
     "text": [
      "Reading \"ROBT\"\n",
      "Reading \"ROCC\"\n",
      "Reading \"ROCCU\"\n",
      "Reading \"ROCK\"\n",
      "Reading \"ROCR\"\n",
      "Reading \"ROCRU\"\n",
      "Reading \"RODE\"\n",
      "Reading \"RODI\"\n",
      "Reading \"RODM\"\n",
      "Reading \"ROG\"\n",
      "Reading \"ROIC\"\n",
      "Reading \"ROK\"\n",
      "Reading \"ROKT\"\n",
      "Reading \"ROKU\"\n",
      "Reading \"ROL\"\n",
      "Reading \"ROLL\"\n",
      "Reading \"ROM\"\n",
      "Reading \"ROOF\"\n"
     ]
    },
    {
     "name": "stderr",
     "output_type": "stream",
     "text": [
      "sleep 3 seconds and retrying https://data.alpaca.markets/v1/bars/day 3 more time(s)...\n"
     ]
    },
    {
     "name": "stdout",
     "output_type": "stream",
     "text": [
      "Reading \"ROOT\"\n",
      "Reading \"ROP\"\n",
      "Reading \"RORO\"\n",
      "Reading \"ROSC\"\n",
      "Reading \"ROSS\"\n",
      "Reading \"ROSS.U\"\n",
      "Reading \"ROT.U\"\n",
      "Reading \"ROUS\"\n",
      "Reading \"RPAI\"\n",
      "Reading \"RPAR\"\n",
      "Reading \"RPAY\"\n",
      "Reading \"RPD\"\n",
      "Reading \"RPG\"\n",
      "Reading \"RPHM\"\n",
      "Reading \"RPM\"\n",
      "Reading \"RPRX\"\n",
      "Reading \"RPT\"\n"
     ]
    },
    {
     "name": "stderr",
     "output_type": "stream",
     "text": [
      "sleep 3 seconds and retrying https://data.alpaca.markets/v1/bars/day 3 more time(s)...\n"
     ]
    },
    {
     "name": "stdout",
     "output_type": "stream",
     "text": [
      "Reading \"RPTX\"\n",
      "Reading \"RPV\"\n",
      "Reading \"RRBI\"\n",
      "Reading \"RRC\"\n",
      "Reading \"RRD\"\n",
      "Reading \"RRGB\"\n",
      "Reading \"RRR\"\n",
      "Reading \"RSF\"\n",
      "Reading \"RSG\"\n",
      "Reading \"RSI\"\n",
      "Reading \"RSP\"\n",
      "Reading \"RSSS\"\n",
      "Reading \"RSVAU\"\n",
      "Reading \"RSXJ\"\n"
     ]
    },
    {
     "name": "stderr",
     "output_type": "stream",
     "text": [
      "sleep 3 seconds and retrying https://data.alpaca.markets/v1/bars/day 3 more time(s)...\n"
     ]
    },
    {
     "name": "stdout",
     "output_type": "stream",
     "text": [
      "Reading \"RTAI\"\n",
      "Reading \"RTH\"\n",
      "Reading \"RTLR\"\n",
      "Reading \"RTP\"\n",
      "Reading \"RTP.U\"\n",
      "Reading \"RTPYU\"\n",
      "Reading \"RTPZ\"\n",
      "Reading \"RTPZ.U\"\n",
      "Reading \"RTX\"\n",
      "Reading \"RUN\"\n",
      "Reading \"RUSHA\"\n",
      "Reading \"RUSL\"\n",
      "Reading \"RUTH\"\n",
      "Reading \"RVLV\"\n",
      "Reading \"RVMD\"\n",
      "Reading \"RVNC\"\n",
      "Reading \"RVNU\"\n",
      "Reading \"RVP\"\n",
      "Reading \"RVPH\"\n",
      "Reading \"RVSB\"\n",
      "Reading \"RVT\"\n",
      "Reading \"RWGV\"\n",
      "Reading \"RWJ\"\n",
      "Reading \"RWK\"\n",
      "Reading \"RWL\"\n",
      "Reading \"RWM\"\n",
      "Reading \"RWO\"\n",
      "Reading \"RWR\"\n",
      "Reading \"RWT\"\n",
      "Reading \"RWVG\"\n",
      "Reading \"RWX\"\n",
      "Reading \"RXDX\"\n",
      "Reading \"RXI\"\n",
      "Reading \"RXL\"\n"
     ]
    },
    {
     "name": "stderr",
     "output_type": "stream",
     "text": [
      "sleep 3 seconds and retrying https://data.alpaca.markets/v1/bars/day 3 more time(s)...\n"
     ]
    },
    {
     "name": "stdout",
     "output_type": "stream",
     "text": [
      "Reading \"RXN\"\n",
      "Reading \"RXRAU\"\n",
      "Reading \"RXRX\"\n",
      "Reading \"RXT\"\n",
      "Reading \"RY\"\n",
      "Reading \"RYAAY\"\n",
      "Reading \"RYAM\"\n",
      "Reading \"RYB\"\n",
      "Reading \"RYE\"\n",
      "Reading \"RYF\"\n",
      "Reading \"RYH\"\n",
      "Reading \"RYI\"\n",
      "Reading \"RYJ\"\n",
      "Reading \"RYLD\"\n",
      "Reading \"RYN\"\n",
      "Reading \"RYT\"\n"
     ]
    },
    {
     "name": "stderr",
     "output_type": "stream",
     "text": [
      "sleep 3 seconds and retrying https://data.alpaca.markets/v1/bars/day 3 more time(s)...\n"
     ]
    },
    {
     "name": "stdout",
     "output_type": "stream",
     "text": [
      "Reading \"RYTM\"\n",
      "Reading \"RYU\"\n",
      "Reading \"RZA\"\n",
      "Reading \"RZG\"\n",
      "Reading \"RZLT\"\n",
      "Reading \"RZV\"\n",
      "Reading \"SA\"\n",
      "Reading \"SAA\"\n",
      "Reading \"SABR\"\n",
      "Reading \"SABRP\"\n",
      "Reading \"SACC\"\n",
      "Reading \"SACH\"\n",
      "Reading \"SAF\"\n",
      "Reading \"SAFE\"\n",
      "Reading \"SAFM\"\n",
      "Reading \"SAGE\"\n",
      "Reading \"SAH\"\n",
      "Reading \"SAIA\"\n",
      "Reading \"SAIC\"\n",
      "Reading \"SAII\"\n",
      "Reading \"SAIIU\"\n",
      "Reading \"SAIL\"\n"
     ]
    },
    {
     "name": "stderr",
     "output_type": "stream",
     "text": [
      "sleep 3 seconds and retrying https://data.alpaca.markets/v1/bars/day 3 more time(s)...\n"
     ]
    },
    {
     "name": "stdout",
     "output_type": "stream",
     "text": [
      "Reading \"SAK\"\n",
      "Reading \"SAL\"\n",
      "Reading \"SALM\"\n",
      "Reading \"SAM\"\n",
      "Reading \"SAMG\"\n",
      "Reading \"SAN\"\n",
      "Reading \"SANA\"\n",
      "Reading \"SAND\"\n",
      "Reading \"SANM\"\n",
      "Reading \"SANW\"\n",
      "Reading \"SAP\"\n",
      "Reading \"SAR\"\n",
      "Reading \"SASR\"\n",
      "Reading \"SATS\"\n",
      "Reading \"SAVA\"\n",
      "Reading \"SAVE\"\n",
      "Reading \"SB\"\n",
      "Reading \"SBAC\"\n",
      "Reading \"SBB\"\n",
      "Reading \"SBBA\"\n",
      "Reading \"SBBP\"\n",
      "Reading \"SBCF\"\n",
      "Reading \"SBEA\"\n"
     ]
    },
    {
     "name": "stderr",
     "output_type": "stream",
     "text": [
      "sleep 3 seconds and retrying https://data.alpaca.markets/v1/bars/day 3 more time(s)...\n"
     ]
    },
    {
     "name": "stdout",
     "output_type": "stream",
     "text": [
      "Reading \"SBEAU\"\n",
      "Reading \"SBFG\"\n",
      "Reading \"SBG\"\n",
      "Reading \"SBG.U\"\n",
      "Reading \"NHS\"\n",
      "Reading \"SBGI\"\n",
      "Reading \"SBH\"\n",
      "Reading \"SBI\"\n",
      "Reading \"SBII.U\"\n",
      "Reading \"SBIO\"\n",
      "Reading \"SBLKZ\"\n",
      "Reading \"SBM\"\n",
      "Reading \"SBNY\"\n"
     ]
    },
    {
     "name": "stderr",
     "output_type": "stream",
     "text": [
      "sleep 3 seconds and retrying https://data.alpaca.markets/v1/bars/day 3 more time(s)...\n"
     ]
    },
    {
     "name": "stdout",
     "output_type": "stream",
     "text": [
      "Reading \"SBNYP\"\n",
      "Reading \"SBOW\"\n",
      "Reading \"SBR\"\n",
      "Reading \"SBRA\"\n",
      "Reading \"SBS\"\n",
      "Reading \"SBSI\"\n",
      "Reading \"SBSW\"\n",
      "Reading \"SBT\"\n",
      "Reading \"SBTX\"\n",
      "Reading \"SBUG\"\n",
      "Reading \"SBUX\"\n",
      "Reading \"SC\"\n"
     ]
    },
    {
     "name": "stderr",
     "output_type": "stream",
     "text": [
      "sleep 3 seconds and retrying https://data.alpaca.markets/v1/bars/day 3 more time(s)...\n"
     ]
    },
    {
     "name": "stdout",
     "output_type": "stream",
     "text": [
      "Reading \"SCAQU\"\n",
      "Reading \"SCC\"\n",
      "Reading \"SCCB\"\n",
      "Reading \"SCCC\"\n",
      "Reading \"SCCO\"\n",
      "Reading \"SCD\"\n",
      "Reading \"SCHA\"\n",
      "Reading \"SCHB\"\n",
      "Reading \"SCHC\"\n",
      "Reading \"SCHD\"\n",
      "Reading \"SCHF\"\n",
      "Reading \"SCHG\"\n",
      "Reading \"SCHH\"\n",
      "Reading \"SCHI\"\n",
      "Reading \"SCHJ\"\n",
      "Reading \"SCHK\"\n",
      "Reading \"SCHL\"\n"
     ]
    },
    {
     "name": "stderr",
     "output_type": "stream",
     "text": [
      "sleep 3 seconds and retrying https://data.alpaca.markets/v1/bars/day 3 more time(s)...\n"
     ]
    },
    {
     "name": "stdout",
     "output_type": "stream",
     "text": [
      "Reading \"SCHM\"\n",
      "Reading \"SCHN\"\n",
      "Reading \"SCHO\"\n",
      "Reading \"SCHP\"\n",
      "Reading \"SCHQ\"\n",
      "Reading \"SCHR\"\n",
      "Reading \"SCHV\"\n",
      "Reading \"SCHW\"\n",
      "Reading \"SCHY\"\n",
      "Reading \"SCHZ\"\n",
      "Reading \"SCI\"\n",
      "Reading \"SCJ\"\n",
      "Reading \"SCKT\"\n"
     ]
    },
    {
     "name": "stderr",
     "output_type": "stream",
     "text": [
      "sleep 3 seconds and retrying https://data.alpaca.markets/v1/bars/day 3 more time(s)...\n"
     ]
    },
    {
     "name": "stdout",
     "output_type": "stream",
     "text": [
      "Reading \"SCLE\"\n",
      "Reading \"SCLEU\"\n",
      "Reading \"SCM\"\n",
      "Reading \"SCO\"\n",
      "Reading \"SCOA\"\n",
      "Reading \"SCOAU\"\n",
      "Reading \"SCOB\"\n",
      "Reading \"SCOBU\"\n",
      "Reading \"SCOR\"\n",
      "Reading \"SCPE\"\n",
      "Reading \"SCPE.U\"\n",
      "Reading \"SCPH\"\n"
     ]
    },
    {
     "name": "stderr",
     "output_type": "stream",
     "text": [
      "sleep 3 seconds and retrying https://data.alpaca.markets/v1/bars/day 3 more time(s)...\n"
     ]
    },
    {
     "name": "stdout",
     "output_type": "stream",
     "text": [
      "Reading \"SCPL\"\n",
      "Reading \"SCPS\"\n",
      "Reading \"SCR\"\n",
      "Reading \"SCS\"\n",
      "Reading \"SCSC\"\n",
      "Reading \"SCU\"\n",
      "Reading \"SCVL\"\n",
      "Reading \"SCVX\"\n",
      "Reading \"SCVX.U\"\n",
      "Reading \"SCWX\"\n",
      "Reading \"SCYX\"\n",
      "Reading \"SCZ\"\n",
      "Reading \"SD\"\n",
      "Reading \"SDACU\"\n",
      "Reading \"SDC\"\n",
      "Reading \"SDCI\"\n",
      "Reading \"SDEM\"\n"
     ]
    },
    {
     "name": "stderr",
     "output_type": "stream",
     "text": [
      "sleep 3 seconds and retrying https://data.alpaca.markets/v1/bars/day 3 more time(s)...\n"
     ]
    },
    {
     "name": "stdout",
     "output_type": "stream",
     "text": [
      "Reading \"SDG\"\n",
      "Reading \"SDGA\"\n",
      "Reading \"SDGR\"\n",
      "Reading \"SDHY\"\n",
      "Reading \"SDIV\"\n",
      "Reading \"SDOG\"\n",
      "Reading \"SDOW\"\n",
      "Reading \"SDP\"\n",
      "Reading \"SDPI\"\n",
      "Reading \"SDS\"\n",
      "Reading \"SDVY\"\n",
      "Reading \"SDY\"\n",
      "Reading \"SE\"\n"
     ]
    },
    {
     "name": "stderr",
     "output_type": "stream",
     "text": [
      "sleep 3 seconds and retrying https://data.alpaca.markets/v1/bars/day 3 more time(s)...\n"
     ]
    },
    {
     "name": "stdout",
     "output_type": "stream",
     "text": [
      "Reading \"SEAC\"\n",
      "Reading \"SEAH\"\n",
      "Reading \"SEAH.U\"\n",
      "Reading \"SEAS\"\n",
      "Reading \"SEB\"\n",
      "Reading \"SECO\"\n",
      "Reading \"SECT\"\n",
      "Reading \"SEDG\"\n",
      "Reading \"SEED\"\n",
      "Reading \"SEEL\"\n",
      "Reading \"SEER\"\n",
      "Reading \"SEF\"\n",
      "Reading \"SEIC\"\n",
      "Reading \"SEIX\"\n",
      "Reading \"SELB\"\n",
      "Reading \"SELF\"\n",
      "Reading \"SEM\"\n",
      "Reading \"SEMR\"\n",
      "Reading \"SENEA\"\n",
      "Reading \"SENEB\"\n",
      "Reading \"SENT\"\n",
      "Reading \"SEPZ\"\n",
      "Reading \"SESN\"\n",
      "Reading \"SF\"\n",
      "Reading \"RSX\"\n",
      "Reading \"SFBC\"\n",
      "Reading \"SFBS\"\n",
      "Reading \"SFE\"\n",
      "Reading \"SFET\"\n",
      "Reading \"SFHY\"\n",
      "Reading \"SFIG\"\n",
      "Reading \"SFIX\"\n",
      "Reading \"SFL\"\n",
      "Reading \"SFM\"\n",
      "Reading \"SFNC\"\n",
      "Reading \"SFT\"\n",
      "Reading \"SFTW\"\n",
      "Reading \"SFTW.U\"\n",
      "Reading \"SFUN\"\n",
      "Reading \"SFY\"\n",
      "Reading \"SFYF\"\n",
      "Reading \"SFYX\"\n"
     ]
    },
    {
     "name": "stderr",
     "output_type": "stream",
     "text": [
      "sleep 3 seconds and retrying https://data.alpaca.markets/v1/bars/day 3 more time(s)...\n"
     ]
    },
    {
     "name": "stdout",
     "output_type": "stream",
     "text": [
      "Reading \"SGA\"\n",
      "Reading \"SGAM\"\n",
      "Reading \"SGAMU\"\n",
      "Reading \"SGBX\"\n",
      "Reading \"SGC\"\n",
      "Reading \"SGDJ\"\n",
      "Reading \"SGEN\"\n",
      "Reading \"SGFY\"\n",
      "Reading \"SGG\"\n",
      "Reading \"SGH\"\n",
      "Reading \"SGLB\"\n",
      "Reading \"SGMS\"\n",
      "Reading \"SGOC\"\n",
      "Reading \"SGOL\"\n",
      "Reading \"SGOV\"\n",
      "Reading \"SGRP\"\n",
      "Reading \"SGU\"\n",
      "Reading \"SH\"\n",
      "Reading \"SHAC\"\n",
      "Reading \"SHACU\"\n",
      "Reading \"SHAG\"\n",
      "Reading \"RGS\"\n",
      "Reading \"SHE\"\n",
      "Reading \"SHEN\"\n",
      "Reading \"SHI\"\n",
      "Reading \"SHIP\"\n",
      "Reading \"SHLD\"\n",
      "Reading \"SHM\"\n",
      "Reading \"SHO\"\n",
      "Reading \"SHOO\"\n",
      "Reading \"SHOP\"\n",
      "Reading \"SHSP\"\n",
      "Reading \"SHV\"\n",
      "Reading \"SHYD\"\n",
      "Reading \"SHYF\"\n",
      "Reading \"SHYL\"\n",
      "Reading \"SI\"\n"
     ]
    },
    {
     "name": "stderr",
     "output_type": "stream",
     "text": [
      "sleep 3 seconds and retrying https://data.alpaca.markets/v1/bars/day 3 more time(s)...\n"
     ]
    },
    {
     "name": "stdout",
     "output_type": "stream",
     "text": [
      "Reading \"SIBN\"\n",
      "Reading \"SIEB\"\n",
      "Reading \"SIEN\"\n",
      "Reading \"SIF\"\n",
      "Reading \"SIFY\"\n",
      "Reading \"SIG\"\n",
      "Reading \"SIGA\"\n",
      "Reading \"SII\"\n",
      "Reading \"SIL\"\n",
      "Reading \"SILC\"\n",
      "Reading \"SILJ\"\n",
      "Reading \"SILK\"\n",
      "Reading \"SILV\"\n",
      "Reading \"SIMS\"\n",
      "Reading \"SINO\"\n",
      "Reading \"SINT\"\n",
      "Reading \"SIOX\"\n",
      "Reading \"SIRI\"\n"
     ]
    },
    {
     "name": "stderr",
     "output_type": "stream",
     "text": [
      "sleep 3 seconds and retrying https://data.alpaca.markets/v1/bars/day 3 more time(s)...\n"
     ]
    },
    {
     "name": "stdout",
     "output_type": "stream",
     "text": [
      "Reading \"SITC\"\n",
      "Reading \"SITM\"\n",
      "Reading \"SIVB\"\n",
      "Reading \"SIVBP\"\n",
      "Reading \"SIVR\"\n",
      "Reading \"SIX\"\n",
      "Reading \"SIXH\"\n",
      "Reading \"SIXL\"\n",
      "Reading \"SIXS\"\n",
      "Reading \"SIZE\"\n",
      "Reading \"SJ\"\n",
      "Reading \"SJB\"\n",
      "Reading \"SJIJ\"\n",
      "Reading \"SJIV\"\n"
     ]
    },
    {
     "name": "stderr",
     "output_type": "stream",
     "text": [
      "sleep 3 seconds and retrying https://data.alpaca.markets/v1/bars/day 3 more time(s)...\n"
     ]
    },
    {
     "name": "stdout",
     "output_type": "stream",
     "text": [
      "Reading \"SJNK\"\n",
      "Reading \"SJR\"\n",
      "Reading \"SJW\"\n",
      "Reading \"SKF\"\n",
      "Reading \"SKIN\"\n",
      "Reading \"SKLZ\"\n",
      "Reading \"SKM\"\n",
      "Reading \"SKOR\"\n",
      "Reading \"SKT\"\n",
      "Reading \"SKY\"\n",
      "Reading \"SKYT\"\n",
      "Reading \"SKYU\"\n",
      "Reading \"SKYW\"\n",
      "Reading \"SKYY\"\n",
      "Reading \"SLAB\"\n"
     ]
    },
    {
     "name": "stderr",
     "output_type": "stream",
     "text": [
      "sleep 3 seconds and retrying https://data.alpaca.markets/v1/bars/day 3 more time(s)...\n"
     ]
    },
    {
     "name": "stdout",
     "output_type": "stream",
     "text": [
      "Reading \"SLAC.U\"\n",
      "Reading \"SLAM\"\n",
      "Reading \"SLAMU\"\n",
      "Reading \"SLB\"\n",
      "Reading \"SLCA\"\n",
      "Reading \"SLCR\"\n",
      "Reading \"SLCRU\"\n",
      "Reading \"SLCT\"\n",
      "Reading \"SLDB\"\n",
      "Reading \"SLF\"\n",
      "Reading \"SLGG\"\n",
      "Reading \"SLGL\"\n"
     ]
    },
    {
     "name": "stderr",
     "output_type": "stream",
     "text": [
      "sleep 3 seconds and retrying https://data.alpaca.markets/v1/bars/day 3 more time(s)...\n"
     ]
    },
    {
     "name": "stdout",
     "output_type": "stream",
     "text": [
      "Reading \"SLGN\"\n",
      "Reading \"SLM\"\n",
      "Reading \"SLMBP\"\n",
      "Reading \"SLN\"\n",
      "Reading \"SLNG\"\n",
      "Reading \"SLNO\"\n",
      "Reading \"SLP\"\n",
      "Reading \"SLQD\"\n",
      "Reading \"SLQT\"\n",
      "Reading \"SLRC\"\n",
      "Reading \"SLS\"\n",
      "Reading \"SLT\"\n",
      "Reading \"SLVO\"\n",
      "Reading \"SLVP\"\n",
      "Reading \"SLX\"\n",
      "Reading \"SLY\"\n",
      "Reading \"SLYG\"\n",
      "Reading \"SLYV\"\n",
      "Reading \"SMAR\"\n",
      "Reading \"SMB\"\n",
      "Reading \"SMBC\"\n",
      "Reading \"SMBK\"\n",
      "Reading \"SMCI\"\n",
      "Reading \"SMCP\"\n",
      "Reading \"SMDD\"\n",
      "Reading \"SMDV\"\n",
      "Reading \"SMDY\"\n",
      "Reading \"SMED\"\n",
      "Reading \"SMFG\"\n",
      "Reading \"SMG\"\n",
      "Reading \"SMH\"\n",
      "Reading \"SMHB\"\n",
      "Reading \"SMHI\"\n",
      "Reading \"SMID\"\n",
      "Reading \"SMIN\"\n",
      "Reading \"SMIT\"\n",
      "Reading \"SMLE\"\n",
      "Reading \"SMLF\"\n",
      "Reading \"SMLP\"\n",
      "Reading \"SMLV\"\n",
      "Reading \"SMMD\"\n",
      "Reading \"SMMF\"\n",
      "Reading \"SMMT\"\n",
      "Reading \"SMMV\"\n",
      "Reading \"SMN\"\n",
      "Reading \"SMOG\"\n",
      "Reading \"SMP\"\n"
     ]
    },
    {
     "name": "stderr",
     "output_type": "stream",
     "text": [
      "sleep 3 seconds and retrying https://data.alpaca.markets/v1/bars/day 3 more time(s)...\n"
     ]
    },
    {
     "name": "stdout",
     "output_type": "stream",
     "text": [
      "Reading \"SMPL\"\n",
      "Reading \"SMSI\"\n",
      "Reading \"SMTC\"\n",
      "Reading \"SMTI\"\n",
      "Reading \"SMTS\"\n",
      "Reading \"SNA\"\n",
      "Reading \"SNAP\"\n",
      "Reading \"SNBR\"\n",
      "Reading \"SNCR\"\n",
      "Reading \"SNCY\"\n",
      "Reading \"SNDL\"\n",
      "Reading \"SNDR\"\n",
      "Reading \"SNDX\"\n",
      "Reading \"SNES\"\n"
     ]
    },
    {
     "name": "stderr",
     "output_type": "stream",
     "text": [
      "sleep 3 seconds and retrying https://data.alpaca.markets/v1/bars/day 3 more time(s)...\n"
     ]
    },
    {
     "name": "stdout",
     "output_type": "stream",
     "text": [
      "Reading \"SNFCA\"\n",
      "Reading \"SNGX\"\n",
      "Reading \"SNII\"\n",
      "Reading \"SNII.U\"\n",
      "Reading \"SNLN\"\n",
      "Reading \"SNMP\"\n",
      "Reading \"SNN\"\n",
      "Reading \"SNOA\"\n",
      "Reading \"SNOW\"\n",
      "Reading \"SNPE\"\n",
      "Reading \"SNPR\"\n",
      "Reading \"SNPR.U\"\n",
      "Reading \"SNPS\"\n",
      "Reading \"SNR\"\n"
     ]
    },
    {
     "name": "stderr",
     "output_type": "stream",
     "text": [
      "sleep 3 seconds and retrying https://data.alpaca.markets/v1/bars/day 3 more time(s)...\n"
     ]
    },
    {
     "name": "stdout",
     "output_type": "stream",
     "text": [
      "Reading \"SNRH\"\n",
      "Reading \"SNSE\"\n",
      "Reading \"SNSR\"\n",
      "Reading \"SNUG\"\n",
      "Reading \"SNV\"\n",
      "Reading \"SNX\"\n",
      "Reading \"SO\"\n",
      "Reading \"SOAC\"\n",
      "Reading \"SOAC.U\"\n",
      "Reading \"SOCL\"\n",
      "Reading \"SOGO\"\n",
      "Reading \"SOHOB\"\n"
     ]
    },
    {
     "name": "stderr",
     "output_type": "stream",
     "text": [
      "sleep 3 seconds and retrying https://data.alpaca.markets/v1/bars/day 3 more time(s)...\n"
     ]
    },
    {
     "name": "stdout",
     "output_type": "stream",
     "text": [
      "Reading \"SOHON\"\n",
      "Reading \"SOHOO\"\n",
      "Reading \"SOI\"\n",
      "Reading \"SOJB\"\n",
      "Reading \"SOJD\"\n",
      "Reading \"SOJE\"\n",
      "Reading \"SOL\"\n",
      "Reading \"SOLO\"\n",
      "Reading \"SOLY\"\n",
      "Reading \"SONM\"\n",
      "Reading \"SONO\"\n",
      "Reading \"SONY\"\n",
      "Reading \"SOR\"\n"
     ]
    },
    {
     "name": "stderr",
     "output_type": "stream",
     "text": [
      "sleep 3 seconds and retrying https://data.alpaca.markets/v1/bars/day 3 more time(s)...\n"
     ]
    },
    {
     "name": "stdout",
     "output_type": "stream",
     "text": [
      "Reading \"SOYB\"\n",
      "Reading \"SP\"\n",
      "Reading \"SPAB\"\n",
      "Reading \"SPAK\"\n",
      "Reading \"SPAQ.U\"\n",
      "Reading \"SPB\"\n",
      "Reading \"SPBO\"\n",
      "Reading \"SPCB\"\n",
      "Reading \"SPCE\"\n",
      "Reading \"SPCX\"\n",
      "Reading \"SPD\"\n",
      "Reading \"SPDN\"\n",
      "Reading \"SPDV\"\n",
      "Reading \"SPDW\"\n",
      "Reading \"SPE\"\n",
      "Reading \"SPEM\"\n"
     ]
    },
    {
     "name": "stderr",
     "output_type": "stream",
     "text": [
      "sleep 3 seconds and retrying https://data.alpaca.markets/v1/bars/day 3 more time(s)...\n"
     ]
    },
    {
     "name": "stdout",
     "output_type": "stream",
     "text": [
      "Reading \"SPEU\"\n",
      "Reading \"SPFI\"\n",
      "Reading \"SPFR\"\n",
      "Reading \"SPFR.U\"\n",
      "Reading \"SPG\"\n",
      "Reading \"NHTC\"\n",
      "Reading \"SPGM\"\n",
      "Reading \"SPGP\"\n",
      "Reading \"SPGS\"\n",
      "Reading \"SPGS.U\"\n",
      "Reading \"SPH\"\n",
      "Reading \"SPHB\"\n",
      "Reading \"SPHD\"\n"
     ]
    },
    {
     "name": "stderr",
     "output_type": "stream",
     "text": [
      "sleep 3 seconds and retrying https://data.alpaca.markets/v1/bars/day 3 more time(s)...\n"
     ]
    },
    {
     "name": "stdout",
     "output_type": "stream",
     "text": [
      "Reading \"SPHQ\"\n",
      "Reading \"SPHY\"\n",
      "Reading \"SPI\"\n",
      "Reading \"SPIB\"\n",
      "Reading \"SPIP\"\n",
      "Reading \"SPKBU\"\n",
      "Reading \"SPKE\"\n",
      "Reading \"SPKEP\"\n",
      "Reading \"SPLB\"\n",
      "Reading \"SPLG\"\n",
      "Reading \"SPLK\"\n",
      "Reading \"SPLP\"\n",
      "Reading \"SPLV\"\n",
      "Reading \"SPMB\"\n",
      "Reading \"SPMD\"\n",
      "Reading \"SPMO\"\n",
      "Reading \"SPMV\"\n"
     ]
    },
    {
     "name": "stderr",
     "output_type": "stream",
     "text": [
      "sleep 3 seconds and retrying https://data.alpaca.markets/v1/bars/day 3 more time(s)...\n"
     ]
    },
    {
     "name": "stdout",
     "output_type": "stream",
     "text": [
      "Reading \"SPNE\"\n",
      "Reading \"SPNS\"\n",
      "Reading \"SPNT\"\n",
      "Reading \"SPNV\"\n",
      "Reading \"SPNV.U\"\n",
      "Reading \"SPOK\"\n",
      "Reading \"SPOT\"\n",
      "Reading \"SPPI\"\n",
      "Reading \"SPPP\"\n",
      "Reading \"SPQQ\"\n",
      "Reading \"SPR\"\n"
     ]
    },
    {
     "name": "stderr",
     "output_type": "stream",
     "text": [
      "sleep 3 seconds and retrying https://data.alpaca.markets/v1/bars/day 3 more time(s)...\n"
     ]
    },
    {
     "name": "stdout",
     "output_type": "stream",
     "text": [
      "Reading \"SPRB\"\n",
      "Reading \"SPRE\"\n",
      "Reading \"SPRO\"\n",
      "Reading \"SPRQ.U\"\n",
      "Reading \"SPRT\"\n",
      "Reading \"SPSB\"\n",
      "Reading \"SPSC\"\n",
      "Reading \"SPSK\"\n",
      "Reading \"SPSM\"\n",
      "Reading \"SPT\"\n",
      "Reading \"SPTK\"\n",
      "Reading \"SPTKU\"\n",
      "Reading \"SPTL\"\n",
      "Reading \"SPTM\"\n",
      "Reading \"SPTN\"\n",
      "Reading \"SPTS\"\n",
      "Reading \"SPUC\"\n",
      "Reading \"SPUS\"\n",
      "Reading \"SPUU\"\n",
      "Reading \"SPVM\"\n",
      "Reading \"SPVU\"\n",
      "Reading \"SPWH\"\n",
      "Reading \"SPWR\"\n",
      "Reading \"SPXB\"\n",
      "Reading \"SPXE\"\n",
      "Reading \"SPXL\"\n",
      "Reading \"SPXN\"\n",
      "Reading \"SPXS\"\n",
      "Reading \"SPXT\"\n",
      "Reading \"SPXU\"\n",
      "Reading \"SPXV\"\n",
      "Reading \"SPXX\"\n",
      "Reading \"SPXZ\"\n",
      "Reading \"SPYC\"\n",
      "Reading \"SPYD\"\n",
      "Reading \"SPYG\"\n",
      "Reading \"SPYV\"\n",
      "Reading \"SPYX\"\n",
      "Reading \"SQ\"\n"
     ]
    },
    {
     "name": "stderr",
     "output_type": "stream",
     "text": [
      "sleep 3 seconds and retrying https://data.alpaca.markets/v1/bars/day 3 more time(s)...\n"
     ]
    },
    {
     "name": "stdout",
     "output_type": "stream",
     "text": [
      "Reading \"SQBG\"\n",
      "Reading \"SQEW\"\n",
      "Reading \"SQFT\"\n",
      "Reading \"SQLV\"\n",
      "Reading \"SQM\"\n",
      "Reading \"SQNS\"\n",
      "Reading \"SQQQ\"\n",
      "Reading \"SQZ\"\n",
      "Reading \"SRAC\"\n",
      "Reading \"SRACU\"\n",
      "Reading \"SRAX\"\n",
      "Reading \"SRC\"\n",
      "Reading \"SRCE\"\n",
      "Reading \"SRCL\"\n"
     ]
    },
    {
     "name": "stderr",
     "output_type": "stream",
     "text": [
      "sleep 3 seconds and retrying https://data.alpaca.markets/v1/bars/day 3 more time(s)...\n"
     ]
    },
    {
     "name": "stdout",
     "output_type": "stream",
     "text": [
      "Reading \"SRDX\"\n",
      "Reading \"SRE\"\n",
      "Reading \"SREA\"\n",
      "Reading \"SRET\"\n",
      "Reading \"SREV\"\n",
      "Reading \"SRG\"\n",
      "Reading \"SRGA\"\n",
      "Reading \"SRL\"\n",
      "Reading \"SRLN\"\n",
      "Reading \"SRLP\"\n",
      "Reading \"SRNE\"\n",
      "Reading \"SRNG\"\n",
      "Reading \"SRNGU\"\n",
      "Reading \"SRPT\"\n",
      "Reading \"SRRA\"\n"
     ]
    },
    {
     "name": "stderr",
     "output_type": "stream",
     "text": [
      "sleep 3 seconds and retrying https://data.alpaca.markets/v1/bars/day 3 more time(s)...\n"
     ]
    },
    {
     "name": "stdout",
     "output_type": "stream",
     "text": [
      "Reading \"SRRK\"\n",
      "Reading \"SRSA\"\n",
      "Reading \"SRSAU\"\n",
      "Reading \"SRTS\"\n",
      "Reading \"SRTY\"\n",
      "Reading \"SRV\"\n",
      "Reading \"SSAA\"\n",
      "Reading \"SSAAU\"\n",
      "Reading \"SSB\"\n",
      "Reading \"SSD\"\n",
      "Reading \"SSG\"\n",
      "Reading \"SSKN\"\n"
     ]
    },
    {
     "name": "stderr",
     "output_type": "stream",
     "text": [
      "sleep 3 seconds and retrying https://data.alpaca.markets/v1/bars/day 3 more time(s)...\n"
     ]
    },
    {
     "name": "stdout",
     "output_type": "stream",
     "text": [
      "Reading \"SSL\"\n",
      "Reading \"SSLY\"\n",
      "Reading \"SSNC\"\n",
      "Reading \"SSNT\"\n",
      "Reading \"NI\"\n",
      "Reading \"SEE\"\n",
      "Reading \"SSO\"\n",
      "Reading \"SSP\"\n",
      "Reading \"SSPK\"\n",
      "Reading \"SSPKU\"\n",
      "Reading \"SSPY\"\n",
      "Reading \"SSRM\"\n",
      "Reading \"SSSS\"\n",
      "Reading \"SSTI\"\n",
      "Reading \"SSTK\"\n",
      "Reading \"SSUS\"\n",
      "Reading \"SSY\"\n",
      "Reading \"SSYS\"\n",
      "Reading \"ST\"\n"
     ]
    },
    {
     "name": "stderr",
     "output_type": "stream",
     "text": [
      "sleep 3 seconds and retrying https://data.alpaca.markets/v1/bars/day 3 more time(s)...\n"
     ]
    },
    {
     "name": "stdout",
     "output_type": "stream",
     "text": [
      "Reading \"STAA\"\n",
      "Reading \"STAF\"\n",
      "Reading \"STAR\"\n",
      "Reading \"STAY\"\n",
      "Reading \"STBA\"\n",
      "Reading \"STC\"\n",
      "Reading \"STCN\"\n",
      "Reading \"STEM\"\n",
      "Reading \"STEP\"\n",
      "Reading \"STFC\"\n",
      "Reading \"STG\"\n",
      "Reading \"STIC.U\"\n",
      "Reading \"STIM\"\n",
      "Reading \"STIP\"\n",
      "Reading \"STKL\"\n",
      "Reading \"STKS\"\n",
      "Reading \"STL\"\n",
      "Reading \"STLA\"\n",
      "Reading \"STLC\"\n",
      "Reading \"STLD\"\n",
      "Reading \"STLG\"\n",
      "Reading \"STLV\"\n",
      "Reading \"STM\"\n"
     ]
    },
    {
     "name": "stderr",
     "output_type": "stream",
     "text": [
      "sleep 3 seconds and retrying https://data.alpaca.markets/v1/bars/day 3 more time(s)...\n"
     ]
    },
    {
     "name": "stdout",
     "output_type": "stream",
     "text": [
      "Reading \"STMB\"\n",
      "Reading \"STMP\"\n",
      "Reading \"SENS\"\n",
      "Reading \"STN\"\n",
      "Reading \"STNC\"\n",
      "Reading \"STND\"\n",
      "Reading \"STNE\"\n",
      "Reading \"STOK\"\n",
      "Reading \"STON\"\n",
      "Reading \"STOR\"\n",
      "Reading \"STOT\"\n",
      "Reading \"STPC.U\"\n",
      "Reading \"STPZ\"\n",
      "Reading \"STRA\"\n",
      "Reading \"STRE.U\"\n",
      "Reading \"STRL\"\n",
      "Reading \"STRM\"\n",
      "Reading \"STRO\"\n",
      "Reading \"STRRP\"\n",
      "Reading \"STRS\"\n",
      "Reading \"STRT\"\n",
      "Reading \"STSA\"\n",
      "Reading \"STSB\"\n",
      "Reading \"STTK\"\n",
      "Reading \"STWD\"\n",
      "Reading \"STWO\"\n",
      "Reading \"STWOU\"\n",
      "Reading \"STX\"\n"
     ]
    },
    {
     "name": "stderr",
     "output_type": "stream",
     "text": [
      "sleep 3 seconds and retrying https://data.alpaca.markets/v1/bars/day 3 more time(s)...\n"
     ]
    },
    {
     "name": "stdout",
     "output_type": "stream",
     "text": [
      "Reading \"STXB\"\n",
      "Reading \"STZ.B\"\n",
      "Reading \"SU\"\n",
      "Reading \"SUB\"\n",
      "Reading \"SUBZ\"\n",
      "Reading \"SUI\"\n",
      "Reading \"SULR\"\n",
      "Reading \"SUMO\"\n",
      "Reading \"SUMR\"\n",
      "Reading \"SUN\"\n",
      "Reading \"SUNS\"\n",
      "Reading \"SUNW\"\n",
      "Reading \"SUP\"\n",
      "Reading \"SUPV\"\n",
      "Reading \"SURF\"\n",
      "Reading \"SUSA\"\n",
      "Reading \"SUSB\"\n",
      "Reading \"SUSC\"\n",
      "Reading \"SUSL\"\n"
     ]
    },
    {
     "name": "stderr",
     "output_type": "stream",
     "text": [
      "sleep 3 seconds and retrying https://data.alpaca.markets/v1/bars/day 3 more time(s)...\n"
     ]
    },
    {
     "name": "stdout",
     "output_type": "stream",
     "text": [
      "Reading \"SV\"\n",
      "Reading \"SVAC\"\n",
      "Reading \"SVACU\"\n",
      "Reading \"SVAL\"\n",
      "Reading \"SVBI\"\n",
      "Reading \"SVC\"\n",
      "Reading \"SVFAU\"\n",
      "Reading \"SVFB\"\n",
      "Reading \"SVFC\"\n",
      "Reading \"SVM\"\n"
     ]
    },
    {
     "name": "stderr",
     "output_type": "stream",
     "text": [
      "sleep 3 seconds and retrying https://data.alpaca.markets/v1/bars/day 3 more time(s)...\n"
     ]
    },
    {
     "name": "stdout",
     "output_type": "stream",
     "text": [
      "Reading \"SVMK\"\n",
      "Reading \"SVOK\"\n",
      "Reading \"SVOKU\"\n",
      "Reading \"SVRA\"\n",
      "Reading \"SVSVU\"\n",
      "Reading \"SVVC\"\n",
      "Reading \"SVXY\"\n",
      "Reading \"SWAN\"\n",
      "Reading \"SWAV\"\n",
      "Reading \"SWBI\"\n",
      "Reading \"SWBK\"\n",
      "Reading \"SWBK.U\"\n",
      "Reading \"SWCH\"\n",
      "Reading \"SWET\"\n",
      "Reading \"SWETU\"\n",
      "Reading \"SWI\"\n"
     ]
    },
    {
     "name": "stderr",
     "output_type": "stream",
     "text": [
      "sleep 3 seconds and retrying https://data.alpaca.markets/v1/bars/day 3 more time(s)...\n"
     ]
    },
    {
     "name": "stdout",
     "output_type": "stream",
     "text": [
      "Reading \"SWIR\"\n",
      "Reading \"SWK\"\n",
      "Reading \"SWKH\"\n",
      "Reading \"SWKS\"\n",
      "Reading \"SWM\"\n",
      "Reading \"SWN\"\n",
      "Reading \"SWT\"\n",
      "Reading \"SWTX\"\n",
      "Reading \"SWX\"\n",
      "Reading \"SWZ\"\n",
      "Reading \"SXC\"\n",
      "Reading \"SXI\"\n",
      "Reading \"SXTC\"\n",
      "Reading \"SY\"\n",
      "Reading \"SYBT\"\n",
      "Reading \"SYBX\"\n",
      "Reading \"SYF\"\n",
      "Reading \"SYK\"\n",
      "Reading \"SYKE\"\n",
      "Reading \"SYLD\"\n",
      "Reading \"SYN\"\n",
      "Reading \"SYNA\"\n"
     ]
    },
    {
     "name": "stderr",
     "output_type": "stream",
     "text": [
      "sleep 3 seconds and retrying https://data.alpaca.markets/v1/bars/day 3 more time(s)...\n"
     ]
    },
    {
     "name": "stdout",
     "output_type": "stream",
     "text": [
      "Reading \"SYNH\"\n",
      "Reading \"SYNL\"\n",
      "Reading \"SYPR\"\n",
      "Reading \"SYRS\"\n",
      "Reading \"SYTA\"\n",
      "Reading \"SYUS\"\n",
      "Reading \"SYY\"\n",
      "Reading \"SZC\"\n",
      "Reading \"SZK\"\n",
      "Reading \"SZNE\"\n",
      "Reading \"T\"\n",
      "Reading \"TAAG\"\n",
      "Reading \"TAC\"\n"
     ]
    },
    {
     "name": "stderr",
     "output_type": "stream",
     "text": [
      "sleep 3 seconds and retrying https://data.alpaca.markets/v1/bars/day 3 more time(s)...\n"
     ]
    },
    {
     "name": "stdout",
     "output_type": "stream",
     "text": [
      "Reading \"TACA\"\n",
      "Reading \"TACA.U\"\n",
      "Reading \"TACE\"\n",
      "Reading \"TACO\"\n",
      "Reading \"TACT\"\n",
      "Reading \"TADS\"\n",
      "Reading \"TAEQ\"\n",
      "Reading \"TAGS\"\n",
      "Reading \"TAIL\"\n",
      "Reading \"TAIT\"\n",
      "Reading \"TAK\"\n",
      "Reading \"TAL\"\n",
      "Reading \"TALO\"\n",
      "Reading \"TALS\"\n",
      "Reading \"TAN\"\n",
      "Reading \"TANH\"\n",
      "Reading \"TANNI\"\n",
      "Reading \"TANNL\"\n",
      "Reading \"TANNZ\"\n",
      "Reading \"TAOP\"\n",
      "Reading \"TAP\"\n",
      "Reading \"TAP.A\"\n",
      "Reading \"TARA\"\n",
      "Reading \"TARO\"\n",
      "Reading \"TARS\"\n",
      "Reading \"TAST\"\n",
      "Reading \"TATT\"\n"
     ]
    },
    {
     "name": "stderr",
     "output_type": "stream",
     "text": [
      "sleep 3 seconds and retrying https://data.alpaca.markets/v1/bars/day 3 more time(s)...\n"
     ]
    },
    {
     "name": "stdout",
     "output_type": "stream",
     "text": [
      "Reading \"TAXF\"\n",
      "Reading \"TAYD\"\n",
      "Reading \"TBA\"\n",
      "Reading \"TBB\"\n",
      "Reading \"TBBK\"\n",
      "Reading \"TBC\"\n",
      "Reading \"TBCP\"\n",
      "Reading \"TBCPU\"\n",
      "Reading \"TBF\"\n",
      "Reading \"TBI\"\n",
      "Reading \"TBIO\"\n",
      "Reading \"TBJL\"\n",
      "Reading \"TBK\"\n",
      "Reading \"TBKCP\"\n",
      "Reading \"TBLT\"\n",
      "Reading \"TBNK\"\n",
      "Reading \"TBPH\"\n",
      "Reading \"TBSAU\"\n",
      "Reading \"TBX\"\n",
      "Reading \"TC\"\n",
      "Reading \"TCAC\"\n",
      "Reading \"TCBI\"\n",
      "Reading \"TCBIL\"\n",
      "Reading \"TCBIO\"\n",
      "Reading \"TCBIP\"\n",
      "Reading \"TCBK\"\n",
      "Reading \"TCF\"\n"
     ]
    },
    {
     "name": "stderr",
     "output_type": "stream",
     "text": [
      "sleep 3 seconds and retrying https://data.alpaca.markets/v1/bars/day 3 more time(s)...\n"
     ]
    },
    {
     "name": "stdout",
     "output_type": "stream",
     "text": [
      "Reading \"TCFC\"\n",
      "Reading \"TCFCP\"\n",
      "Reading \"TCHP\"\n",
      "Reading \"SRI\"\n",
      "Reading \"TCI\"\n",
      "Reading \"TCMD\"\n",
      "Reading \"TCON\"\n",
      "Reading \"TCPC\"\n",
      "Reading \"TCRR\"\n",
      "Reading \"TCTL\"\n",
      "Reading \"TCVA\"\n",
      "Reading \"TCX\"\n",
      "Reading \"TD\"\n",
      "Reading \"TDA\"\n"
     ]
    },
    {
     "name": "stderr",
     "output_type": "stream",
     "text": [
      "sleep 3 seconds and retrying https://data.alpaca.markets/v1/bars/day 3 more time(s)...\n"
     ]
    },
    {
     "name": "stdout",
     "output_type": "stream",
     "text": [
      "Reading \"TDAC\"\n",
      "Reading \"TDACU\"\n",
      "Reading \"TDC\"\n",
      "Reading \"TDE\"\n",
      "Reading \"TDF\"\n",
      "Reading \"TDG\"\n",
      "Reading \"TDI\"\n",
      "Reading \"TDIV\"\n",
      "Reading \"TDJ\"\n",
      "Reading \"TDS\"\n",
      "Reading \"TDSA\"\n",
      "Reading \"TDSB\"\n",
      "Reading \"TDSC\"\n",
      "Reading \"TDSE\"\n",
      "Reading \"TDTF\"\n"
     ]
    },
    {
     "name": "stderr",
     "output_type": "stream",
     "text": [
      "sleep 3 seconds and retrying https://data.alpaca.markets/v1/bars/day 3 more time(s)...\n"
     ]
    },
    {
     "name": "stdout",
     "output_type": "stream",
     "text": [
      "Reading \"TDTT\"\n",
      "Reading \"TDUP\"\n",
      "Reading \"TDV\"\n",
      "Reading \"TDVG\"\n",
      "Reading \"TDW\"\n",
      "Reading \"TDY\"\n",
      "Reading \"TEAF\"\n",
      "Reading \"TEAM\"\n",
      "Reading \"TECB\"\n",
      "Reading \"TECH\"\n",
      "Reading \"TECK\"\n",
      "Reading \"TECL\"\n"
     ]
    },
    {
     "name": "stderr",
     "output_type": "stream",
     "text": [
      "sleep 3 seconds and retrying https://data.alpaca.markets/v1/bars/day 3 more time(s)...\n"
     ]
    },
    {
     "name": "stdout",
     "output_type": "stream",
     "text": [
      "Reading \"TECS\"\n",
      "Reading \"TECTP\"\n",
      "Reading \"TEDU\"\n",
      "Reading \"TEF\"\n",
      "Reading \"TEGS\"\n",
      "Reading \"TEI\"\n",
      "Reading \"TEKK\"\n",
      "Reading \"TEKKU\"\n",
      "Reading \"TEL\"\n",
      "Reading \"TELA\"\n",
      "Reading \"TELL\"\n"
     ]
    },
    {
     "name": "stderr",
     "output_type": "stream",
     "text": [
      "sleep 3 seconds and retrying https://data.alpaca.markets/v1/bars/day 3 more time(s)...\n"
     ]
    },
    {
     "name": "stdout",
     "output_type": "stream",
     "text": [
      "Reading \"TEN\"\n",
      "Reading \"TENB\"\n",
      "Reading \"TENX\"\n",
      "Reading \"TEQI\"\n",
      "Reading \"TER\"\n",
      "Reading \"TERM\"\n",
      "Reading \"TERN\"\n",
      "Reading \"TESS\"\n",
      "Reading \"TETCU\"\n",
      "Reading \"TEVA\"\n",
      "Reading \"TEX\"\n",
      "Reading \"TFC\"\n",
      "Reading \"TFFP\"\n",
      "Reading \"TFI\"\n",
      "Reading \"TFII\"\n",
      "Reading \"TFIV\"\n",
      "Reading \"TFJL\"\n"
     ]
    },
    {
     "name": "stderr",
     "output_type": "stream",
     "text": [
      "sleep 3 seconds and retrying https://data.alpaca.markets/v1/bars/day 3 more time(s)...\n"
     ]
    },
    {
     "name": "stdout",
     "output_type": "stream",
     "text": [
      "Reading \"TFLO\"\n",
      "Reading \"TFLT\"\n",
      "Reading \"TFSA\"\n",
      "Reading \"TFSL\"\n",
      "Reading \"TFX\"\n",
      "Reading \"TG\"\n",
      "Reading \"TGA\"\n",
      "Reading \"TGB\"\n",
      "Reading \"TGH\"\n",
      "Reading \"TGI\"\n"
     ]
    },
    {
     "name": "stderr",
     "output_type": "stream",
     "text": [
      "sleep 3 seconds and retrying https://data.alpaca.markets/v1/bars/day 3 more time(s)...\n"
     ]
    },
    {
     "name": "stdout",
     "output_type": "stream",
     "text": [
      "Reading \"TGIF\"\n",
      "Reading \"TGLS\"\n",
      "Reading \"TGNA\"\n",
      "Reading \"TGP\"\n",
      "Reading \"TGRW\"\n",
      "Reading \"TGS\"\n",
      "Reading \"TGT\"\n",
      "Reading \"TGTX\"\n",
      "Reading \"TH\"\n",
      "Reading \"THBR\"\n",
      "Reading \"THBRU\"\n",
      "Reading \"THC\"\n"
     ]
    },
    {
     "name": "stderr",
     "output_type": "stream",
     "text": [
      "sleep 3 seconds and retrying https://data.alpaca.markets/v1/bars/day 3 more time(s)...\n"
     ]
    },
    {
     "name": "stdout",
     "output_type": "stream",
     "text": [
      "Reading \"THCA\"\n",
      "Reading \"THCAU\"\n",
      "Reading \"THCB\"\n",
      "Reading \"THCBU\"\n",
      "Reading \"THD\"\n",
      "Reading \"THFF\"\n",
      "Reading \"THG\"\n",
      "Reading \"THM\"\n",
      "Reading \"THMA\"\n",
      "Reading \"THMAU\"\n",
      "Reading \"THMO\"\n",
      "Reading \"THO\"\n",
      "Reading \"THQ\"\n",
      "Reading \"THR\"\n",
      "Reading \"THRM\"\n"
     ]
    },
    {
     "name": "stderr",
     "output_type": "stream",
     "text": [
      "sleep 3 seconds and retrying https://data.alpaca.markets/v1/bars/day 3 more time(s)...\n"
     ]
    },
    {
     "name": "stdout",
     "output_type": "stream",
     "text": [
      "Reading \"THRY\"\n",
      "Reading \"THS\"\n",
      "Reading \"THTX\"\n",
      "Reading \"THW\"\n",
      "Reading \"THY\"\n",
      "Reading \"TIG\"\n",
      "Reading \"TIGO\"\n",
      "Reading \"TIGR\"\n",
      "Reading \"TIL\"\n",
      "Reading \"TILE\"\n",
      "Reading \"TILT\"\n",
      "Reading \"TIMB\"\n",
      "Reading \"TINV\"\n",
      "Reading \"SYX\"\n"
     ]
    },
    {
     "name": "stderr",
     "output_type": "stream",
     "text": [
      "sleep 3 seconds and retrying https://data.alpaca.markets/v1/bars/day 3 more time(s)...\n"
     ]
    },
    {
     "name": "stdout",
     "output_type": "stream",
     "text": [
      "Reading \"TINV.U\"\n",
      "Reading \"TIOAU\"\n",
      "Reading \"TIPT\"\n",
      "Reading \"TIPX\"\n",
      "Reading \"TIPZ\"\n",
      "Reading \"TIRX\"\n",
      "Reading \"TISI\"\n",
      "Reading \"TITN\"\n",
      "Reading \"TJX\"\n",
      "Reading \"TKAT\"\n",
      "Reading \"TKR\"\n",
      "Reading \"TLC\"\n",
      "Reading \"TLGA\"\n",
      "Reading \"TLGA.U\"\n",
      "Reading \"TLGT\"\n",
      "Reading \"TLIS\"\n",
      "Reading \"TLK\"\n",
      "Reading \"TLMD\"\n",
      "Reading \"TLND\"\n",
      "Reading \"TLRY\"\n",
      "Reading \"TLS\"\n",
      "Reading \"TLT\"\n",
      "Reading \"TLTD\"\n",
      "Reading \"TLTE\"\n",
      "Reading \"TLYS\"\n",
      "Reading \"TM\"\n",
      "Reading \"TMAC\"\n",
      "Reading \"TMAT\"\n",
      "Reading \"TMBR\"\n",
      "Reading \"TMCI\"\n",
      "Reading \"TMDV\"\n",
      "Reading \"TMDX\"\n"
     ]
    },
    {
     "name": "stderr",
     "output_type": "stream",
     "text": [
      "sleep 3 seconds and retrying https://data.alpaca.markets/v1/bars/day 3 more time(s)...\n"
     ]
    },
    {
     "name": "stdout",
     "output_type": "stream",
     "text": [
      "Reading \"TME\"\n",
      "Reading \"TMHC\"\n",
      "Reading \"TMKR\"\n",
      "Reading \"TMKRU\"\n",
      "Reading \"TMO\"\n",
      "Reading \"TMP\"\n",
      "Reading \"TMPM\"\n",
      "Reading \"TMQ\"\n",
      "Reading \"NICE\"\n",
      "Reading \"TMST\"\n",
      "Reading \"TMTS\"\n",
      "Reading \"TMTSU\"\n",
      "Reading \"TMUS\"\n",
      "Reading \"TMV\"\n",
      "Reading \"TNA\"\n",
      "Reading \"TNC\"\n"
     ]
    },
    {
     "name": "stderr",
     "output_type": "stream",
     "text": [
      "sleep 3 seconds and retrying https://data.alpaca.markets/v1/bars/day 3 more time(s)...\n"
     ]
    },
    {
     "name": "stdout",
     "output_type": "stream",
     "text": [
      "Reading \"TNDM\"\n",
      "Reading \"TNET\"\n",
      "Reading \"TNK\"\n",
      "Reading \"TNL\"\n",
      "Reading \"TNXP\"\n",
      "Reading \"TOK\"\n",
      "Reading \"TOKE\"\n",
      "Reading \"TOL\"\n",
      "Reading \"TOLZ\"\n",
      "Reading \"TOMZ\"\n",
      "Reading \"TOPS\"\n",
      "Reading \"TOT\"\n",
      "Reading \"TOTL\"\n",
      "Reading \"TOUR\"\n"
     ]
    },
    {
     "name": "stderr",
     "output_type": "stream",
     "text": [
      "sleep 3 seconds and retrying https://data.alpaca.markets/v1/bars/day 3 more time(s)...\n"
     ]
    },
    {
     "name": "stdout",
     "output_type": "stream",
     "text": [
      "Reading \"TOWN\"\n",
      "Reading \"TPC\"\n",
      "Reading \"TPCO\"\n",
      "Reading \"TPGS\"\n",
      "Reading \"TPGY\"\n",
      "Reading \"TPGY.U\"\n",
      "Reading \"TPH\"\n",
      "Reading \"TPHD\"\n",
      "Reading \"TPHS\"\n",
      "Reading \"TPIF\"\n",
      "Reading \"TPL\"\n",
      "Reading \"TPLC\"\n",
      "Reading \"TPR\"\n",
      "Reading \"TPTX\"\n",
      "Reading \"TPVG\"\n"
     ]
    },
    {
     "name": "stderr",
     "output_type": "stream",
     "text": [
      "sleep 3 seconds and retrying https://data.alpaca.markets/v1/bars/day 3 more time(s)...\n"
     ]
    },
    {
     "name": "stdout",
     "output_type": "stream",
     "text": [
      "Reading \"TPYP\"\n",
      "Reading \"TPZ\"\n",
      "Reading \"TR\"\n",
      "Reading \"TRCA\"\n",
      "Reading \"TRCA.U\"\n",
      "Reading \"TRCH\"\n",
      "Reading \"TREB.U\"\n",
      "Reading \"TREC\"\n",
      "Reading \"TREE\"\n",
      "Reading \"TREX\"\n",
      "Reading \"TRGP\"\n",
      "Reading \"TRHC\"\n",
      "Reading \"TRI\"\n",
      "Reading \"TRIB\"\n",
      "Reading \"TRIL\"\n"
     ]
    },
    {
     "name": "stderr",
     "output_type": "stream",
     "text": [
      "sleep 3 seconds and retrying https://data.alpaca.markets/v1/bars/day 3 more time(s)...\n"
     ]
    },
    {
     "name": "stdout",
     "output_type": "stream",
     "text": [
      "Reading \"TRIN\"\n",
      "Reading \"TRIP\"\n",
      "Reading \"TRIT\"\n",
      "Reading \"TRKA\"\n",
      "Reading \"TRMB\"\n",
      "Reading \"TRMD\"\n",
      "Reading \"TRMK\"\n",
      "Reading \"TRMT\"\n",
      "Reading \"TRN\"\n",
      "Reading \"TRND\"\n",
      "Reading \"TRNO\"\n",
      "Reading \"TRNS\"\n",
      "Reading \"TROW\"\n",
      "Reading \"TROX\"\n"
     ]
    },
    {
     "name": "stderr",
     "output_type": "stream",
     "text": [
      "sleep 3 seconds and retrying https://data.alpaca.markets/v1/bars/day 3 more time(s)...\n"
     ]
    },
    {
     "name": "stdout",
     "output_type": "stream",
     "text": [
      "Reading \"TRP\"\n",
      "Reading \"TRQ\"\n",
      "Reading \"TRS\"\n",
      "Reading \"TRST\"\n",
      "Reading \"TRT\"\n",
      "Reading \"TRTN\"\n",
      "Reading \"TRTX\"\n",
      "Reading \"TRTY\"\n",
      "Reading \"TRUE\"\n",
      "Reading \"TRUP\"\n",
      "Reading \"TRV\"\n",
      "Reading \"TRVG\"\n",
      "Reading \"TRVI\"\n"
     ]
    },
    {
     "name": "stderr",
     "output_type": "stream",
     "text": [
      "sleep 3 seconds and retrying https://data.alpaca.markets/v1/bars/day 3 more time(s)...\n"
     ]
    },
    {
     "name": "stdout",
     "output_type": "stream",
     "text": [
      "Reading \"TRVN\"\n",
      "Reading \"TRX\"\n",
      "Reading \"TSBK\"\n",
      "Reading \"TSC\"\n",
      "Reading \"TSCAP\"\n",
      "Reading \"TSCBP\"\n",
      "Reading \"TSCO\"\n",
      "Reading \"TSE\"\n",
      "Reading \"TSEM\"\n",
      "Reading \"TSHA\"\n",
      "Reading \"TSI\"\n"
     ]
    },
    {
     "name": "stderr",
     "output_type": "stream",
     "text": [
      "sleep 3 seconds and retrying https://data.alpaca.markets/v1/bars/day 3 more time(s)...\n"
     ]
    },
    {
     "name": "stdout",
     "output_type": "stream",
     "text": [
      "Reading \"TSIA\"\n",
      "Reading \"TSIAU\"\n",
      "Reading \"TSIB\"\n",
      "Reading \"TSIBU\"\n",
      "Reading \"TSJA\"\n",
      "Reading \"TSLX\"\n",
      "Reading \"TSM\"\n",
      "Reading \"TSN\"\n",
      "Reading \"TSOC\"\n",
      "Reading \"TSP\"\n",
      "Reading \"TSPQ\"\n",
      "Reading \"TSPQ.U\"\n",
      "Reading \"TSQ\"\n",
      "Reading \"TSRI\"\n",
      "Reading \"TT\"\n"
     ]
    },
    {
     "name": "stderr",
     "output_type": "stream",
     "text": [
      "sleep 3 seconds and retrying https://data.alpaca.markets/v1/bars/day 3 more time(s)...\n"
     ]
    },
    {
     "name": "stdout",
     "output_type": "stream",
     "text": [
      "Reading \"TTAC\"\n",
      "Reading \"TTC\"\n",
      "Reading \"TTCF\"\n",
      "Reading \"TTD\"\n",
      "Reading \"TTEC\"\n",
      "Reading \"TTEK\"\n",
      "Reading \"TTGT\"\n",
      "Reading \"TTM\"\n",
      "Reading \"TTMI\"\n",
      "Reading \"TTNP\"\n",
      "Reading \"TTOO\"\n",
      "Reading \"TTP\"\n",
      "Reading \"TTWO\"\n",
      "Reading \"TU\"\n"
     ]
    },
    {
     "name": "stderr",
     "output_type": "stream",
     "text": [
      "sleep 3 seconds and retrying https://data.alpaca.markets/v1/bars/day 3 more time(s)...\n"
     ]
    },
    {
     "name": "stdout",
     "output_type": "stream",
     "text": [
      "Reading \"TUFN\"\n",
      "Reading \"TUGCU\"\n",
      "Reading \"TUP\"\n",
      "Reading \"TUR\"\n",
      "Reading \"TURN\"\n",
      "Reading \"TUSA\"\n",
      "Reading \"TUSK\"\n",
      "Reading \"TUYA\"\n",
      "Reading \"TV\"\n",
      "Reading \"TVAC\"\n",
      "Reading \"TVACU\"\n",
      "Reading \"TVC\"\n",
      "Reading \"TVE\"\n"
     ]
    },
    {
     "name": "stderr",
     "output_type": "stream",
     "text": [
      "sleep 3 seconds and retrying https://data.alpaca.markets/v1/bars/day 3 more time(s)...\n"
     ]
    },
    {
     "name": "stdout",
     "output_type": "stream",
     "text": [
      "Reading \"TVTX\"\n",
      "Reading \"TVTY\"\n",
      "Reading \"TW\"\n",
      "Reading \"TWCT\"\n",
      "Reading \"TWCTU\"\n",
      "Reading \"TWI\"\n",
      "Reading \"TWIN\"\n",
      "Reading \"TWIO\"\n",
      "Reading \"TWLO\"\n",
      "Reading \"TWLVU\"\n",
      "Reading \"TWM\"\n",
      "Reading \"TWN\"\n",
      "Reading \"TWND\"\n",
      "Reading \"TWND.U\"\n",
      "Reading \"TWNI\"\n",
      "Reading \"TWNI.U\"\n",
      "Reading \"TWNK\"\n",
      "Reading \"TWNT\"\n",
      "Reading \"TWNT.U\"\n",
      "Reading \"TWO\"\n",
      "Reading \"TWOU\"\n",
      "Reading \"TWST\"\n",
      "Reading \"TX\"\n",
      "Reading \"TXG\"\n",
      "Reading \"TXMD\"\n",
      "Reading \"TXN\"\n",
      "Reading \"TXRH\"\n",
      "Reading \"TXT\"\n",
      "Reading \"TY\"\n",
      "Reading \"TYD\"\n",
      "Reading \"TYG\"\n",
      "Reading \"TYHT\"\n",
      "Reading \"TYME\"\n",
      "Reading \"TYO\"\n",
      "Reading \"TZA\"\n",
      "Reading \"TZOO\"\n",
      "Reading \"TZPS\"\n",
      "Reading \"TZPSU\"\n",
      "Reading \"U\"\n",
      "Reading \"UA\"\n",
      "Reading \"UAA\"\n",
      "Reading \"UAE\"\n",
      "Reading \"UAL\"\n",
      "Reading \"UAMY\"\n",
      "Reading \"UAN\"\n",
      "Reading \"UAPR\"\n",
      "Reading \"UAUG\"\n",
      "Reading \"UAVS\"\n",
      "Reading \"UBCP\"\n",
      "Reading \"UBER\"\n",
      "Reading \"UBFO\"\n",
      "Reading \"UBOH\"\n",
      "Reading \"UBOT\"\n",
      "Reading \"UBP\"\n",
      "Reading \"UBR\"\n"
     ]
    },
    {
     "name": "stderr",
     "output_type": "stream",
     "text": [
      "sleep 3 seconds and retrying https://data.alpaca.markets/v1/bars/day 3 more time(s)...\n"
     ]
    },
    {
     "name": "stdout",
     "output_type": "stream",
     "text": [
      "Reading \"UBS\"\n",
      "Reading \"UBSI\"\n",
      "Reading \"UBX\"\n",
      "Reading \"UCBI\"\n",
      "Reading \"UCBIO\"\n",
      "Reading \"UCC\"\n",
      "Reading \"UCIB\"\n",
      "Reading \"UCL\"\n",
      "Reading \"UCO\"\n",
      "Reading \"UCTT\"\n",
      "Reading \"UCYB\"\n",
      "Reading \"UDEC\"\n",
      "Reading \"UDN\"\n",
      "Reading \"UDOW\"\n",
      "Reading \"UDR\"\n",
      "Reading \"UEC\"\n",
      "Reading \"UEIC\"\n",
      "Reading \"UEPS\"\n",
      "Reading \"UEVM\"\n",
      "Reading \"UFAB\"\n",
      "Reading \"UFCS\"\n",
      "Reading \"UFI\"\n",
      "Reading \"UFO\"\n",
      "Reading \"UFPI\"\n",
      "Reading \"UFPT\"\n",
      "Reading \"UFS\"\n",
      "Reading \"UG\"\n",
      "Reading \"UGCE\"\n",
      "Reading \"UGE\"\n",
      "Reading \"UGI\"\n",
      "Reading \"UGL\"\n",
      "Reading \"UHAL\"\n",
      "Reading \"UHS\"\n",
      "Reading \"UHT\"\n",
      "Reading \"UI\"\n",
      "Reading \"UIHC\"\n",
      "Reading \"UITB\"\n",
      "Reading \"UJAN\"\n",
      "Reading \"UJB\"\n",
      "Reading \"UJUL\"\n"
     ]
    },
    {
     "name": "stderr",
     "output_type": "stream",
     "text": [
      "sleep 3 seconds and retrying https://data.alpaca.markets/v1/bars/day 3 more time(s)...\n"
     ]
    },
    {
     "name": "stdout",
     "output_type": "stream",
     "text": [
      "Reading \"UJUN\"\n",
      "Reading \"UK\"\n",
      "Reading \"ULBI\"\n",
      "Reading \"ULCC\"\n",
      "Reading \"ULE\"\n",
      "Reading \"ULH\"\n",
      "Reading \"ULST\"\n",
      "Reading \"ULTA\"\n",
      "Reading \"ULVM\"\n",
      "Reading \"UMAR\"\n",
      "Reading \"UMAY\"\n",
      "Reading \"UMBF\"\n",
      "Reading \"UMDD\"\n"
     ]
    },
    {
     "name": "stderr",
     "output_type": "stream",
     "text": [
      "sleep 3 seconds and retrying https://data.alpaca.markets/v1/bars/day 3 more time(s)...\n"
     ]
    },
    {
     "name": "stdout",
     "output_type": "stream",
     "text": [
      "Reading \"UMI\"\n",
      "Reading \"UMPQ\"\n",
      "Reading \"UNAM\"\n",
      "Reading \"UNB\"\n",
      "Reading \"UNF\"\n",
      "Reading \"UNFI\"\n",
      "Reading \"UNG\"\n",
      "Reading \"UNL\"\n",
      "Reading \"UNM\"\n",
      "Reading \"UNMA\"\n",
      "Reading \"UNOV\"\n",
      "Reading \"UNP\"\n",
      "Reading \"UNTY\"\n",
      "Reading \"UONE\"\n"
     ]
    },
    {
     "name": "stderr",
     "output_type": "stream",
     "text": [
      "sleep 3 seconds and retrying https://data.alpaca.markets/v1/bars/day 3 more time(s)...\n"
     ]
    },
    {
     "name": "stdout",
     "output_type": "stream",
     "text": [
      "Reading \"UPC\"\n",
      "Reading \"UPLD\"\n",
      "Reading \"UPRO\"\n",
      "Reading \"UPST\"\n",
      "Reading \"UPV\"\n",
      "Reading \"UPWK\"\n",
      "Reading \"URA\"\n",
      "Reading \"URBN\"\n",
      "Reading \"URE\"\n",
      "Reading \"URG\"\n"
     ]
    },
    {
     "name": "stderr",
     "output_type": "stream",
     "text": [
      "sleep 3 seconds and retrying https://data.alpaca.markets/v1/bars/day 3 more time(s)...\n"
     ]
    },
    {
     "name": "stdout",
     "output_type": "stream",
     "text": [
      "Reading \"URGN\"\n",
      "Reading \"URI\"\n",
      "Reading \"URNM\"\n",
      "Reading \"UROY\"\n",
      "Reading \"URTH\"\n",
      "Reading \"URTY\"\n",
      "Reading \"USA\"\n",
      "Reading \"USAC\"\n",
      "Reading \"USAI\"\n",
      "Reading \"USAK\"\n",
      "Reading \"USAP\"\n",
      "Reading \"USAS\"\n",
      "Reading \"USAU\"\n",
      "Reading \"USB\"\n",
      "Reading \"USCR\"\n",
      "Reading \"USD\"\n",
      "Reading \"USDP\"\n"
     ]
    },
    {
     "name": "stderr",
     "output_type": "stream",
     "text": [
      "sleep 3 seconds and retrying https://data.alpaca.markets/v1/bars/day 3 more time(s)...\n"
     ]
    },
    {
     "name": "stdout",
     "output_type": "stream",
     "text": [
      "Reading \"USDU\"\n",
      "Reading \"USEG\"\n",
      "Reading \"USEP\"\n",
      "Reading \"USEQ\"\n",
      "Reading \"USFD\"\n",
      "Reading \"USFR\"\n",
      "Reading \"USHY\"\n",
      "Reading \"USI\"\n",
      "Reading \"USIG\"\n",
      "Reading \"USIO\"\n",
      "Reading \"USL\"\n",
      "Reading \"USLB\"\n",
      "Reading \"USLM\"\n",
      "Reading \"USM\"\n"
     ]
    },
    {
     "name": "stderr",
     "output_type": "stream",
     "text": [
      "sleep 3 seconds and retrying https://data.alpaca.markets/v1/bars/day 3 more time(s)...\n"
     ]
    },
    {
     "name": "stdout",
     "output_type": "stream",
     "text": [
      "Reading \"USMC\"\n",
      "Reading \"USMF\"\n",
      "Reading \"USML\"\n",
      "Reading \"USMV\"\n",
      "Reading \"USNA\"\n",
      "Reading \"USO\"\n",
      "Reading \"USOI\"\n",
      "Reading \"USPH\"\n",
      "Reading \"USRT\"\n",
      "Reading \"USSG\"\n",
      "Reading \"UST\"\n",
      "Reading \"USTB\"\n",
      "Reading \"USVM\"\n"
     ]
    },
    {
     "name": "stderr",
     "output_type": "stream",
     "text": [
      "sleep 3 seconds and retrying https://data.alpaca.markets/v1/bars/day 3 more time(s)...\n"
     ]
    },
    {
     "name": "stdout",
     "output_type": "stream",
     "text": [
      "Reading \"USWS\"\n",
      "Reading \"USX\"\n",
      "Reading \"USXF\"\n",
      "Reading \"UTES\"\n",
      "Reading \"UTF\"\n",
      "Reading \"UTG\"\n",
      "Reading \"UTHR\"\n",
      "Reading \"UTI\"\n",
      "Reading \"UTL\"\n",
      "Reading \"UTMD\"\n",
      "Reading \"UTME\"\n",
      "Reading \"UTRN\"\n",
      "Reading \"UTSI\"\n"
     ]
    },
    {
     "name": "stderr",
     "output_type": "stream",
     "text": [
      "sleep 3 seconds and retrying https://data.alpaca.markets/v1/bars/day 3 more time(s)...\n"
     ]
    },
    {
     "name": "stdout",
     "output_type": "stream",
     "text": [
      "Reading \"UTSL\"\n",
      "Reading \"UTZ\"\n",
      "Reading \"UUP\"\n",
      "Reading \"UUU\"\n",
      "Reading \"UVE\"\n",
      "Reading \"UVSP\"\n",
      "Reading \"UVV\"\n",
      "Reading \"UVXY\"\n",
      "Reading \"UWM\"\n",
      "Reading \"UWMC\"\n",
      "Reading \"UXI\"\n",
      "Reading \"UYG\"\n"
     ]
    },
    {
     "name": "stderr",
     "output_type": "stream",
     "text": [
      "sleep 3 seconds and retrying https://data.alpaca.markets/v1/bars/day 3 more time(s)...\n"
     ]
    },
    {
     "name": "stdout",
     "output_type": "stream",
     "text": [
      "Reading \"UYM\"\n",
      "Reading \"UZA\"\n",
      "Reading \"UZB\"\n",
      "Reading \"UZC\"\n",
      "Reading \"UZD\"\n",
      "Reading \"UZE\"\n",
      "Reading \"V\"\n",
      "Reading \"VABK\"\n",
      "Reading \"VABS\"\n",
      "Reading \"VAC\"\n",
      "Reading \"VACC\"\n",
      "Reading \"VACQ\"\n",
      "Reading \"VACQU\"\n"
     ]
    },
    {
     "name": "stderr",
     "output_type": "stream",
     "text": [
      "sleep 3 seconds and retrying https://data.alpaca.markets/v1/bars/day 3 more time(s)...\n"
     ]
    },
    {
     "name": "stdout",
     "output_type": "stream",
     "text": [
      "Reading \"VALE\"\n",
      "Reading \"VALN\"\n",
      "Reading \"VALQ\"\n",
      "Reading \"VALT\"\n",
      "Reading \"VALU\"\n",
      "Reading \"VAMO\"\n",
      "Reading \"VAPO\"\n",
      "Reading \"VAQC\"\n",
      "Reading \"VAW\"\n",
      "Reading \"VB\"\n",
      "Reading \"VBFC\"\n",
      "Reading \"VBIV\"\n",
      "Reading \"VBLT\"\n"
     ]
    },
    {
     "name": "stderr",
     "output_type": "stream",
     "text": [
      "sleep 3 seconds and retrying https://data.alpaca.markets/v1/bars/day 3 more time(s)...\n"
     ]
    },
    {
     "name": "stdout",
     "output_type": "stream",
     "text": [
      "Reading \"VBND\"\n",
      "Reading \"VBR\"\n",
      "Reading \"VBTX\"\n",
      "Reading \"VC\"\n",
      "Reading \"VCAR\"\n",
      "Reading \"VCEB\"\n",
      "Reading \"VCEL\"\n",
      "Reading \"VCF\"\n",
      "Reading \"VCIF\"\n",
      "Reading \"VCKA\"\n",
      "Reading \"VCKAU\"\n",
      "Reading \"VCLO\"\n",
      "Reading \"VCLT\"\n",
      "Reading \"VCNX\"\n"
     ]
    },
    {
     "name": "stderr",
     "output_type": "stream",
     "text": [
      "sleep 3 seconds and retrying https://data.alpaca.markets/v1/bars/day 3 more time(s)...\n"
     ]
    },
    {
     "name": "stdout",
     "output_type": "stream",
     "text": [
      "Reading \"VCRA\"\n",
      "Reading \"VCSH\"\n",
      "Reading \"VCTR\"\n",
      "Reading \"VCV\"\n",
      "Reading \"VCVC\"\n",
      "Reading \"VCVCU\"\n",
      "Reading \"VDC\"\n",
      "Reading \"VDE\"\n",
      "Reading \"VEA\"\n",
      "Reading \"VEC\"\n",
      "Reading \"VECO\"\n",
      "Reading \"VECT\"\n",
      "Reading \"VEDL\"\n",
      "Reading \"VEGA\"\n"
     ]
    },
    {
     "name": "stderr",
     "output_type": "stream",
     "text": [
      "sleep 3 seconds and retrying https://data.alpaca.markets/v1/bars/day 3 more time(s)...\n"
     ]
    },
    {
     "name": "stdout",
     "output_type": "stream",
     "text": [
      "Reading \"VEGI\"\n",
      "Reading \"VEGN\"\n",
      "Reading \"VEI\"\n",
      "Reading \"VEL\"\n",
      "Reading \"VELO\"\n",
      "Reading \"VELOU\"\n",
      "Reading \"VENA\"\n",
      "Reading \"VENAR\"\n",
      "Reading \"VENAU\"\n",
      "Reading \"VEON\"\n",
      "Reading \"VER\"\n",
      "Reading \"VERI\"\n"
     ]
    },
    {
     "name": "stderr",
     "output_type": "stream",
     "text": [
      "sleep 3 seconds and retrying https://data.alpaca.markets/v1/bars/day 3 more time(s)...\n"
     ]
    },
    {
     "name": "stdout",
     "output_type": "stream",
     "text": [
      "Reading \"VERO\"\n",
      "Reading \"VERU\"\n",
      "Reading \"VERX\"\n",
      "Reading \"VERY\"\n",
      "Reading \"VET\"\n",
      "Reading \"VETS\"\n",
      "Reading \"VEU\"\n",
      "Reading \"VFC\"\n",
      "Reading \"VFF\"\n",
      "Reading \"VFIN\"\n",
      "Reading \"VFL\"\n",
      "Reading \"VFLQ\"\n",
      "Reading \"VFMF\"\n"
     ]
    },
    {
     "name": "stderr",
     "output_type": "stream",
     "text": [
      "sleep 3 seconds and retrying https://data.alpaca.markets/v1/bars/day 3 more time(s)...\n"
     ]
    },
    {
     "name": "stdout",
     "output_type": "stream",
     "text": [
      "Reading \"VFMV\"\n",
      "Reading \"VFQY\"\n",
      "Reading \"VGAC\"\n",
      "Reading \"IWN\"\n",
      "Reading \"VGAC.U\"\n",
      "Reading \"VGI\"\n",
      "Reading \"VGII.U\"\n",
      "Reading \"VGIT\"\n",
      "Reading \"VGM\"\n",
      "Reading \"VGR\"\n",
      "Reading \"VGSH\"\n",
      "Reading \"VGT\"\n",
      "Reading \"VGZ\"\n",
      "Reading \"VHAQ\"\n"
     ]
    },
    {
     "name": "stderr",
     "output_type": "stream",
     "text": [
      "sleep 3 seconds and retrying https://data.alpaca.markets/v1/bars/day 3 more time(s)...\n"
     ]
    },
    {
     "name": "stdout",
     "output_type": "stream",
     "text": [
      "Reading \"VHAQ.RT\"\n",
      "Reading \"VHAQ.U\"\n",
      "Reading \"VHC\"\n",
      "Reading \"VHI\"\n",
      "Reading \"VHT\"\n",
      "Reading \"VIACA\"\n",
      "Reading \"VIAO\"\n",
      "Reading \"VIAV\"\n",
      "Reading \"VICE\"\n",
      "Reading \"VICI\"\n",
      "Reading \"VIDI\"\n",
      "Reading \"VIEW\"\n",
      "Reading \"VIG\"\n",
      "Reading \"VIGI\"\n"
     ]
    },
    {
     "name": "stderr",
     "output_type": "stream",
     "text": [
      "sleep 3 seconds and retrying https://data.alpaca.markets/v1/bars/day 3 more time(s)...\n"
     ]
    },
    {
     "name": "stdout",
     "output_type": "stream",
     "text": [
      "Reading \"VIH\"\n",
      "Reading \"VIHAU\"\n",
      "Reading \"VIIAU\"\n",
      "Reading \"VINO\"\n",
      "Reading \"VINP\"\n",
      "Reading \"VIOG\"\n",
      "Reading \"VIOO\"\n",
      "Reading \"VIOT\"\n",
      "Reading \"VIOV\"\n",
      "Reading \"VIR\"\n",
      "Reading \"VIRC\"\n",
      "Reading \"VIRI\"\n",
      "Reading \"VIRS\"\n"
     ]
    },
    {
     "name": "stderr",
     "output_type": "stream",
     "text": [
      "sleep 3 seconds and retrying https://data.alpaca.markets/v1/bars/day 3 more time(s)...\n"
     ]
    },
    {
     "name": "stdout",
     "output_type": "stream",
     "text": [
      "Reading \"VIRT\"\n",
      "Reading \"VIRX\"\n",
      "Reading \"VISL\"\n",
      "Reading \"VIST\"\n",
      "Reading \"VITL\"\n",
      "Reading \"VIV\"\n",
      "Reading \"VIVE\"\n",
      "Reading \"VIVO\"\n",
      "Reading \"VIXY\"\n",
      "Reading \"VJET\"\n",
      "Reading \"VKI\"\n",
      "Reading \"VKQ\"\n",
      "Reading \"VKTX\"\n",
      "Reading \"VLDR\"\n",
      "Reading \"VLGEA\"\n",
      "Reading \"VLON\"\n",
      "Reading \"VLRS\"\n",
      "Reading \"VLT\"\n",
      "Reading \"VLU\"\n",
      "Reading \"VLUE\"\n",
      "Reading \"VLY\"\n",
      "Reading \"VLYPO\"\n"
     ]
    },
    {
     "name": "stderr",
     "output_type": "stream",
     "text": [
      "sleep 3 seconds and retrying https://data.alpaca.markets/v1/bars/day 3 more time(s)...\n"
     ]
    },
    {
     "name": "stdout",
     "output_type": "stream",
     "text": [
      "Reading \"VLYPP\"\n",
      "Reading \"VMACU\"\n",
      "Reading \"VMAR\"\n",
      "Reading \"VMBS\"\n",
      "Reading \"VMC\"\n",
      "Reading \"VMD\"\n",
      "Reading \"VMI\"\n",
      "Reading \"VMM\"\n",
      "Reading \"VMOT\"\n",
      "Reading \"VMW\"\n",
      "Reading \"VNCE\"\n",
      "Reading \"VNDA\"\n",
      "Reading \"VNE\"\n",
      "Reading \"UMC\"\n",
      "Reading \"VNET\"\n",
      "Reading \"VNLA\"\n"
     ]
    },
    {
     "name": "stderr",
     "output_type": "stream",
     "text": [
      "sleep 3 seconds and retrying https://data.alpaca.markets/v1/bars/day 3 more time(s)...\n"
     ]
    },
    {
     "name": "stdout",
     "output_type": "stream",
     "text": [
      "Reading \"VNMC\"\n",
      "Reading \"VNOM\"\n",
      "Reading \"VNQI\"\n",
      "Reading \"VNRX\"\n",
      "Reading \"VNSE\"\n",
      "Reading \"VNT\"\n",
      "Reading \"VNTR\"\n",
      "Reading \"VO\"\n",
      "Reading \"VOC\"\n",
      "Reading \"VOD\"\n",
      "Reading \"VOE\"\n",
      "Reading \"VOLT\"\n",
      "Reading \"VONE\"\n",
      "Reading \"VONG\"\n",
      "Reading \"VONV\"\n",
      "Reading \"VOOG\"\n",
      "Reading \"VOOV\"\n"
     ]
    },
    {
     "name": "stderr",
     "output_type": "stream",
     "text": [
      "sleep 3 seconds and retrying https://data.alpaca.markets/v1/bars/day 3 more time(s)...\n"
     ]
    },
    {
     "name": "stdout",
     "output_type": "stream",
     "text": [
      "Reading \"VOR\"\n",
      "Reading \"VOSO\"\n",
      "Reading \"VOSOU\"\n",
      "Reading \"VOT\"\n",
      "Reading \"VOX\"\n",
      "Reading \"VOXX\"\n",
      "Reading \"VOYA\"\n",
      "Reading \"VPC\"\n",
      "Reading \"VPCB\"\n",
      "Reading \"VPCBU\"\n",
      "Reading \"VPCC\"\n",
      "Reading \"VPCC.U\"\n",
      "Reading \"VPG\"\n",
      "Reading \"VPL\"\n"
     ]
    },
    {
     "name": "stderr",
     "output_type": "stream",
     "text": [
      "sleep 3 seconds and retrying https://data.alpaca.markets/v1/bars/day 3 more time(s)...\n"
     ]
    },
    {
     "name": "stdout",
     "output_type": "stream",
     "text": [
      "Reading \"VPN\"\n",
      "Reading \"VPOP\"\n",
      "Reading \"VPV\"\n",
      "Reading \"VRA\"\n",
      "Reading \"VRAI\"\n",
      "Reading \"NICK\"\n",
      "Reading \"NIMC\"\n",
      "Reading \"VRAY\"\n",
      "Reading \"VRCA\"\n",
      "Reading \"VRDN\"\n",
      "Reading \"VREX\"\n",
      "Reading \"VRIG\"\n",
      "Reading \"VRM\"\n",
      "Reading \"VRME\"\n",
      "Reading \"VRNA\"\n",
      "Reading \"VRNS\"\n"
     ]
    },
    {
     "name": "stderr",
     "output_type": "stream",
     "text": [
      "sleep 3 seconds and retrying https://data.alpaca.markets/v1/bars/day 3 more time(s)...\n"
     ]
    },
    {
     "name": "stdout",
     "output_type": "stream",
     "text": [
      "Reading \"VRNT\"\n",
      "Reading \"VRP\"\n",
      "Reading \"VRPX\"\n",
      "Reading \"VRRM\"\n",
      "Reading \"VRS\"\n",
      "Reading \"VRSK\"\n",
      "Reading \"VRSN\"\n",
      "Reading \"VRTS\"\n",
      "Reading \"VRTV\"\n",
      "Reading \"VRTX\"\n",
      "Reading \"VS\"\n",
      "Reading \"VSAT\"\n",
      "Reading \"VSDA\"\n",
      "Reading \"VSEC\"\n"
     ]
    },
    {
     "name": "stderr",
     "output_type": "stream",
     "text": [
      "sleep 3 seconds and retrying https://data.alpaca.markets/v1/bars/day 3 more time(s)...\n"
     ]
    },
    {
     "name": "stdout",
     "output_type": "stream",
     "text": [
      "Reading \"VSGX\"\n",
      "Reading \"VSH\"\n",
      "Reading \"VSL\"\n",
      "Reading \"VSLU\"\n",
      "Reading \"VSMV\"\n",
      "Reading \"VSS\"\n",
      "Reading \"VST\"\n",
      "Reading \"VSTA\"\n",
      "Reading \"VSTM\"\n",
      "Reading \"VSTO\"\n"
     ]
    },
    {
     "name": "stderr",
     "output_type": "stream",
     "text": [
      "sleep 3 seconds and retrying https://data.alpaca.markets/v1/bars/day 3 more time(s)...\n"
     ]
    },
    {
     "name": "stdout",
     "output_type": "stream",
     "text": [
      "Reading \"VT\"\n",
      "Reading \"VTA\"\n",
      "Reading \"VTAQ\"\n",
      "Reading \"VTAQR\"\n",
      "Reading \"VTAQU\"\n",
      "Reading \"VTEB\"\n",
      "Reading \"VTGN\"\n",
      "Reading \"VTHR\"\n",
      "Reading \"VTI\"\n",
      "Reading \"VTIP\"\n",
      "Reading \"VTIQ\"\n",
      "Reading \"VTIQU\"\n",
      "Reading \"VTN\"\n",
      "Reading \"VTNR\"\n"
     ]
    },
    {
     "name": "stderr",
     "output_type": "stream",
     "text": [
      "sleep 3 seconds and retrying https://data.alpaca.markets/v1/bars/day 3 more time(s)...\n"
     ]
    },
    {
     "name": "stdout",
     "output_type": "stream",
     "text": [
      "Reading \"VTOL\"\n",
      "Reading \"VTR\"\n",
      "Reading \"VTRN\"\n",
      "Reading \"VTRS\"\n",
      "Reading \"VTRU\"\n",
      "Reading \"VTSI\"\n",
      "Reading \"VTV\"\n",
      "Reading \"VTVT\"\n",
      "Reading \"VTWG\"\n",
      "Reading \"VTWO\"\n",
      "Reading \"VTWV\"\n",
      "Reading \"VUG\"\n",
      "Reading \"VUSB\"\n",
      "Reading \"VUSE\"\n"
     ]
    },
    {
     "name": "stderr",
     "output_type": "stream",
     "text": [
      "sleep 3 seconds and retrying https://data.alpaca.markets/v1/bars/day 3 more time(s)...\n"
     ]
    },
    {
     "name": "stdout",
     "output_type": "stream",
     "text": [
      "Reading \"VUZI\"\n",
      "Reading \"VV\"\n",
      "Reading \"VVI\"\n",
      "Reading \"VVNT\"\n",
      "Reading \"VVOS\"\n",
      "Reading \"VVPR\"\n",
      "Reading \"VVR\"\n",
      "Reading \"VVV\"\n",
      "Reading \"VWID\"\n",
      "Reading \"VWOB\"\n",
      "Reading \"VWTR\"\n",
      "Reading \"VXF\"\n",
      "Reading \"VXRT\"\n",
      "Reading \"VXUS\"\n",
      "Reading \"VXZ\"\n"
     ]
    },
    {
     "name": "stderr",
     "output_type": "stream",
     "text": [
      "sleep 3 seconds and retrying https://data.alpaca.markets/v1/bars/day 3 more time(s)...\n"
     ]
    },
    {
     "name": "stdout",
     "output_type": "stream",
     "text": [
      "Reading \"VYGG\"\n",
      "Reading \"VYGG.U\"\n",
      "Reading \"VYGR\"\n",
      "Reading \"VYM\"\n",
      "Reading \"NID\"\n",
      "Reading \"NINE\"\n",
      "Reading \"VYMI\"\n",
      "Reading \"KB\"\n",
      "Reading \"VYNE\"\n",
      "Reading \"VYNT\"\n",
      "Reading \"VZ\"\n"
     ]
    },
    {
     "name": "stderr",
     "output_type": "stream",
     "text": [
      "sleep 3 seconds and retrying https://data.alpaca.markets/v1/bars/day 3 more time(s)...\n"
     ]
    },
    {
     "name": "stdout",
     "output_type": "stream",
     "text": [
      "Reading \"VZIO\"\n",
      "Reading \"W\"\n",
      "Reading \"WAB\"\n",
      "Reading \"WABC\"\n",
      "Reading \"WAFD\"\n",
      "Reading \"WAFDP\"\n",
      "Reading \"WAFU\"\n",
      "Reading \"WAL\"\n",
      "Reading \"WALA\"\n",
      "Reading \"WALDU\"\n",
      "Reading \"WANT\"\n",
      "Reading \"WARR\"\n",
      "Reading \"WARR.U\"\n",
      "Reading \"WASH\"\n"
     ]
    },
    {
     "name": "stderr",
     "output_type": "stream",
     "text": [
      "sleep 3 seconds and retrying https://data.alpaca.markets/v1/bars/day 3 more time(s)...\n"
     ]
    },
    {
     "name": "stdout",
     "output_type": "stream",
     "text": [
      "Reading \"WAT\"\n",
      "Reading \"WATT\"\n",
      "Reading \"WB\"\n",
      "Reading \"WBA\"\n",
      "Reading \"WBIE\"\n",
      "Reading \"WBIF\"\n",
      "Reading \"WBIG\"\n",
      "Reading \"WBII\"\n",
      "Reading \"WBIN\"\n",
      "Reading \"WBIT\"\n",
      "Reading \"WBIY\"\n"
     ]
    },
    {
     "name": "stderr",
     "output_type": "stream",
     "text": [
      "sleep 3 seconds and retrying https://data.alpaca.markets/v1/bars/day 3 more time(s)...\n"
     ]
    },
    {
     "name": "stdout",
     "output_type": "stream",
     "text": [
      "Reading \"WBK\"\n",
      "Reading \"WBND\"\n",
      "Reading \"WBS\"\n",
      "Reading \"WCC\"\n",
      "Reading \"WCLD\"\n",
      "Reading \"WCN\"\n",
      "Reading \"WD\"\n",
      "Reading \"WDFC\"\n",
      "Reading \"WDIV\"\n",
      "Reading \"WEAT\"\n",
      "Reading \"WEBL\"\n",
      "Reading \"WEBS\"\n",
      "Reading \"WEC\"\n",
      "Reading \"WEI\"\n",
      "Reading \"WELL\"\n",
      "Reading \"WERN\"\n",
      "Reading \"WES\"\n"
     ]
    },
    {
     "name": "stderr",
     "output_type": "stream",
     "text": [
      "sleep 3 seconds and retrying https://data.alpaca.markets/v1/bars/day 3 more time(s)...\n"
     ]
    },
    {
     "name": "stdout",
     "output_type": "stream",
     "text": [
      "Reading \"WETF\"\n",
      "Reading \"WEX\"\n",
      "Reading \"WEYS\"\n",
      "Reading \"WF\"\n",
      "Reading \"WFCF\"\n",
      "Reading \"WFG\"\n",
      "Reading \"WFH\"\n",
      "Reading \"WFHY\"\n",
      "Reading \"WFIG\"\n",
      "Reading \"WGLD\"\n",
      "Reading \"WGO\"\n",
      "Reading \"WH\"\n",
      "Reading \"WHD\"\n",
      "Reading \"WHF\"\n",
      "Reading \"WHFBZ\"\n",
      "Reading \"WHG\"\n"
     ]
    },
    {
     "name": "stderr",
     "output_type": "stream",
     "text": [
      "sleep 3 seconds and retrying https://data.alpaca.markets/v1/bars/day 3 more time(s)...\n"
     ]
    },
    {
     "name": "stdout",
     "output_type": "stream",
     "text": [
      "Reading \"WHLM\"\n",
      "Reading \"WHLR\"\n",
      "Reading \"WHLRP\"\n",
      "Reading \"WHR\"\n",
      "Reading \"WIFI\"\n",
      "Reading \"WILC\"\n",
      "Reading \"WIMI\"\n",
      "Reading \"WINC\"\n",
      "Reading \"WINT\"\n",
      "Reading \"WIRE\"\n",
      "Reading \"WISH\"\n"
     ]
    },
    {
     "name": "stderr",
     "output_type": "stream",
     "text": [
      "sleep 3 seconds and retrying https://data.alpaca.markets/v1/bars/day 3 more time(s)...\n"
     ]
    },
    {
     "name": "stdout",
     "output_type": "stream",
     "text": [
      "Reading \"WIT\"\n",
      "Reading \"WIX\"\n",
      "Reading \"WK\"\n",
      "Reading \"WKEY\"\n",
      "Reading \"WKHS\"\n",
      "Reading \"WLDN\"\n",
      "Reading \"WLDR\"\n",
      "Reading \"WLFC\"\n",
      "Reading \"WLK\"\n",
      "Reading \"WLKP\"\n",
      "Reading \"WLL\"\n",
      "Reading \"WLMS\"\n",
      "Reading \"WLTW\"\n"
     ]
    },
    {
     "name": "stderr",
     "output_type": "stream",
     "text": [
      "sleep 3 seconds and retrying https://data.alpaca.markets/v1/bars/day 3 more time(s)...\n"
     ]
    },
    {
     "name": "stdout",
     "output_type": "stream",
     "text": [
      "Reading \"WM\"\n",
      "Reading \"WMB\"\n",
      "Reading \"WMC\"\n",
      "Reading \"WMG\"\n",
      "Reading \"WMK\"\n",
      "Reading \"WMPN\"\n",
      "Reading \"WNEB\"\n",
      "Reading \"WNS\"\n",
      "Reading \"WNW\"\n",
      "Reading \"WOMN\"\n",
      "Reading \"WOOD\"\n"
     ]
    },
    {
     "name": "stderr",
     "output_type": "stream",
     "text": [
      "sleep 3 seconds and retrying https://data.alpaca.markets/v1/bars/day 3 more time(s)...\n"
     ]
    },
    {
     "name": "stdout",
     "output_type": "stream",
     "text": [
      "Reading \"WOOF\"\n",
      "Reading \"WOR\"\n",
      "Reading \"WORK\"\n",
      "Reading \"WORX\"\n",
      "Reading \"WOW\"\n",
      "Reading \"WPC\"\n",
      "Reading \"WPCA\"\n",
      "Reading \"WPCA.U\"\n",
      "Reading \"WPCB\"\n",
      "Reading \"WPCB.U\"\n",
      "Reading \"WPF\"\n",
      "Reading \"WPF.U\"\n",
      "Reading \"WPG\"\n"
     ]
    },
    {
     "name": "stderr",
     "output_type": "stream",
     "text": [
      "sleep 3 seconds and retrying https://data.alpaca.markets/v1/bars/day 3 more time(s)...\n"
     ]
    },
    {
     "name": "stdout",
     "output_type": "stream",
     "text": [
      "Reading \"WPM\"\n",
      "Reading \"VNO\"\n",
      "Reading \"WPP\"\n",
      "Reading \"WPRT\"\n",
      "Reading \"WPS\"\n",
      "Reading \"WRAP\"\n",
      "Reading \"WRB\"\n",
      "Reading \"WRE\"\n",
      "Reading \"WRI\"\n",
      "Reading \"WRK\"\n",
      "Reading \"WRLD\"\n",
      "Reading \"WRN\"\n",
      "Reading \"WSBC\"\n",
      "Reading \"WSBCP\"\n",
      "Reading \"WSBF\"\n"
     ]
    },
    {
     "name": "stderr",
     "output_type": "stream",
     "text": [
      "sleep 3 seconds and retrying https://data.alpaca.markets/v1/bars/day 3 more time(s)...\n"
     ]
    },
    {
     "name": "stdout",
     "output_type": "stream",
     "text": [
      "Reading \"WSC\"\n",
      "Reading \"WSFS\"\n",
      "Reading \"WSO\"\n",
      "Reading \"WSO.B\"\n",
      "Reading \"WSR\"\n",
      "Reading \"WST\"\n",
      "Reading \"WSTG\"\n",
      "Reading \"WTBA\"\n",
      "Reading \"WTER\"\n",
      "Reading \"WTFC\"\n",
      "Reading \"WTFCM\"\n",
      "Reading \"WTFCP\"\n",
      "Reading \"WTI\"\n",
      "Reading \"WTM\"\n"
     ]
    },
    {
     "name": "stderr",
     "output_type": "stream",
     "text": [
      "sleep 3 seconds and retrying https://data.alpaca.markets/v1/bars/day 3 more time(s)...\n"
     ]
    },
    {
     "name": "stdout",
     "output_type": "stream",
     "text": [
      "Reading \"WTMF\"\n",
      "Reading \"WTRE\"\n",
      "Reading \"WTREP\"\n",
      "Reading \"WTRG\"\n",
      "Reading \"WTRH\"\n",
      "Reading \"WTRU\"\n",
      "Reading \"WTS\"\n",
      "Reading \"WTT\"\n",
      "Reading \"WTTR\"\n",
      "Reading \"WU\"\n",
      "Reading \"NIE\"\n",
      "Reading \"WUGI\"\n",
      "Reading \"WVE\"\n",
      "Reading \"WVFC\"\n"
     ]
    },
    {
     "name": "stderr",
     "output_type": "stream",
     "text": [
      "sleep 3 seconds and retrying https://data.alpaca.markets/v1/bars/day 3 more time(s)...\n"
     ]
    },
    {
     "name": "stdout",
     "output_type": "stream",
     "text": [
      "Reading \"WVVI\"\n",
      "Reading \"WVVIP\"\n",
      "Reading \"WW\"\n",
      "Reading \"WWD\"\n",
      "Reading \"WWE\"\n",
      "Reading \"WWJD\"\n",
      "Reading \"WWOW\"\n",
      "Reading \"WWR\"\n",
      "Reading \"WWW\"\n",
      "Reading \"WY\"\n",
      "Reading \"WYNN\"\n",
      "Reading \"WYY\"\n"
     ]
    },
    {
     "name": "stderr",
     "output_type": "stream",
     "text": [
      "sleep 3 seconds and retrying https://data.alpaca.markets/v1/bars/day 3 more time(s)...\n"
     ]
    },
    {
     "name": "stdout",
     "output_type": "stream",
     "text": [
      "Reading \"XAIR\"\n",
      "Reading \"XAR\"\n",
      "Reading \"XBIO\"\n",
      "Reading \"XBIT\"\n",
      "Reading \"XBUY\"\n",
      "Reading \"XCEM\"\n",
      "Reading \"XCUR\"\n",
      "Reading \"XDAP\"\n",
      "Reading \"XDAT\"\n",
      "Reading \"XDIV\"\n",
      "Reading \"XDQQ\"\n",
      "Reading \"XDSQ\"\n",
      "Reading \"XEL\"\n",
      "Reading \"XELA\"\n"
     ]
    },
    {
     "name": "stderr",
     "output_type": "stream",
     "text": [
      "sleep 3 seconds and retrying https://data.alpaca.markets/v1/bars/day 3 more time(s)...\n"
     ]
    },
    {
     "name": "stdout",
     "output_type": "stream",
     "text": [
      "Reading \"XELB\"\n",
      "Reading \"XENE\"\n",
      "Reading \"XENT\"\n",
      "Reading \"XERS\"\n",
      "Reading \"XES\"\n",
      "Reading \"XFLT\"\n",
      "Reading \"XFOR\"\n",
      "Reading \"XGN\"\n",
      "Reading \"XHB\"\n",
      "Reading \"XHE\"\n",
      "Reading \"XHR\"\n",
      "Reading \"XHS\"\n",
      "Reading \"XIN\"\n"
     ]
    },
    {
     "name": "stderr",
     "output_type": "stream",
     "text": [
      "sleep 3 seconds and retrying https://data.alpaca.markets/v1/bars/day 3 more time(s)...\n"
     ]
    },
    {
     "name": "stdout",
     "output_type": "stream",
     "text": [
      "Reading \"XITK\"\n",
      "Reading \"XJH\"\n",
      "Reading \"XJR\"\n",
      "Reading \"XL\"\n",
      "Reading \"XLB\"\n",
      "Reading \"XLC\"\n",
      "Reading \"XLE\"\n",
      "Reading \"XLF\"\n",
      "Reading \"XLG\"\n",
      "Reading \"XLI\"\n",
      "Reading \"XLK\"\n",
      "Reading \"XLNX\"\n",
      "Reading \"XLP\"\n",
      "Reading \"XLRE\"\n",
      "Reading \"XLRN\"\n"
     ]
    },
    {
     "name": "stderr",
     "output_type": "stream",
     "text": [
      "sleep 3 seconds and retrying https://data.alpaca.markets/v1/bars/day 3 more time(s)...\n"
     ]
    },
    {
     "name": "stdout",
     "output_type": "stream",
     "text": [
      "Reading \"XLSR\"\n",
      "Reading \"XLU\"\n",
      "Reading \"XLV\"\n",
      "Reading \"XLY\"\n",
      "Reading \"XM\"\n",
      "Reading \"XME\"\n",
      "Reading \"XMHQ\"\n",
      "Reading \"XMLV\"\n",
      "Reading \"XMMO\"\n",
      "Reading \"XMPT\"\n",
      "Reading \"XMVM\"\n",
      "Reading \"XNCR\"\n",
      "Reading \"XNET\"\n",
      "Reading \"XNTK\"\n",
      "Reading \"XOG\"\n",
      "Reading \"XOM\"\n",
      "Reading \"XOMA\"\n",
      "Reading \"XOMAO\"\n",
      "Reading \"XOMAP\"\n",
      "Reading \"XONE\"\n",
      "Reading \"XOP\"\n"
     ]
    },
    {
     "name": "stderr",
     "output_type": "stream",
     "text": [
      "sleep 3 seconds and retrying https://data.alpaca.markets/v1/bars/day 3 more time(s)...\n"
     ]
    },
    {
     "name": "stdout",
     "output_type": "stream",
     "text": [
      "Reading \"XOUT\"\n",
      "Reading \"XP\"\n",
      "Reading \"XPDI\"\n",
      "Reading \"WBT\"\n",
      "Reading \"XPDIU\"\n",
      "Reading \"XPEL\"\n",
      "Reading \"XPER\"\n",
      "Reading \"XPEV\"\n",
      "Reading \"XPH\"\n",
      "Reading \"XPO\"\n",
      "Reading \"XPOA\"\n",
      "Reading \"XPOA.U\"\n",
      "Reading \"XPP\"\n",
      "Reading \"XRAY\"\n",
      "Reading \"XRLV\"\n"
     ]
    },
    {
     "name": "stderr",
     "output_type": "stream",
     "text": [
      "sleep 3 seconds and retrying https://data.alpaca.markets/v1/bars/day 3 more time(s)...\n"
     ]
    },
    {
     "name": "stdout",
     "output_type": "stream",
     "text": [
      "Reading \"XRT\"\n",
      "Reading \"XRX\"\n",
      "Reading \"XSD\"\n",
      "Reading \"XSHD\"\n",
      "Reading \"XSHQ\"\n",
      "Reading \"XSLV\"\n",
      "Reading \"XSMO\"\n",
      "Reading \"XSOE\"\n",
      "Reading \"XSPA\"\n",
      "Reading \"XSVM\"\n",
      "Reading \"XSW\"\n",
      "Reading \"XT\"\n",
      "Reading \"XTAP\"\n",
      "Reading \"XTL\"\n",
      "Reading \"XTLB\"\n"
     ]
    },
    {
     "name": "stderr",
     "output_type": "stream",
     "text": [
      "sleep 3 seconds and retrying https://data.alpaca.markets/v1/bars/day 3 more time(s)...\n"
     ]
    },
    {
     "name": "stdout",
     "output_type": "stream",
     "text": [
      "Reading \"XTN\"\n",
      "Reading \"XVOL\"\n",
      "Reading \"XVZ\"\n",
      "Reading \"XWEB\"\n",
      "Reading \"XXII\"\n",
      "Reading \"XYF\"\n",
      "Reading \"XYL\"\n",
      "Reading \"XYLD\"\n",
      "Reading \"XYLG\"\n"
     ]
    },
    {
     "name": "stderr",
     "output_type": "stream",
     "text": [
      "sleep 3 seconds and retrying https://data.alpaca.markets/v1/bars/day 3 more time(s)...\n"
     ]
    },
    {
     "name": "stdout",
     "output_type": "stream",
     "text": [
      "Reading \"Y\"\n",
      "Reading \"YAC\"\n",
      "Reading \"YAC.U\"\n",
      "Reading \"YALA\"\n",
      "Reading \"YANG\"\n",
      "Reading \"YCBD\"\n",
      "Reading \"YCL\"\n",
      "Reading \"YCS\"\n",
      "Reading \"YDEC\"\n",
      "Reading \"YELL\"\n",
      "Reading \"YELP\"\n",
      "Reading \"YETI\"\n",
      "Reading \"YEXT\"\n",
      "Reading \"YGMZ\"\n",
      "Reading \"YI\"\n",
      "Reading \"YINN\"\n"
     ]
    },
    {
     "name": "stderr",
     "output_type": "stream",
     "text": [
      "sleep 3 seconds and retrying https://data.alpaca.markets/v1/bars/day 3 more time(s)...\n"
     ]
    },
    {
     "name": "stdout",
     "output_type": "stream",
     "text": [
      "Reading \"YJ\"\n",
      "Reading \"YLD\"\n",
      "Reading \"YLDE\"\n",
      "Reading \"YMAB\"\n",
      "Reading \"YMAR\"\n",
      "Reading \"YMTX\"\n",
      "Reading \"YNDX\"\n",
      "Reading \"YOLO\"\n",
      "Reading \"YORW\"\n",
      "Reading \"YPF\"\n",
      "Reading \"YQ\"\n",
      "Reading \"YRD\"\n",
      "Reading \"YSAC\"\n",
      "Reading \"YSACU\"\n",
      "Reading \"YSG\"\n",
      "Reading \"YTEN\"\n",
      "Reading \"YTRA\"\n",
      "Reading \"YUM\"\n",
      "Reading \"YUMC\"\n",
      "Reading \"YVR\"\n"
     ]
    },
    {
     "name": "stderr",
     "output_type": "stream",
     "text": [
      "sleep 3 seconds and retrying https://data.alpaca.markets/v1/bars/day 3 more time(s)...\n"
     ]
    },
    {
     "name": "stdout",
     "output_type": "stream",
     "text": [
      "Reading \"YXI\"\n",
      "Reading \"YY\"\n",
      "Reading \"YYY\"\n",
      "Reading \"Z\"\n",
      "Reading \"ZBH\"\n",
      "Reading \"ZBRA\"\n",
      "Reading \"ZCMD\"\n",
      "Reading \"ZEAL\"\n",
      "Reading \"ZEN\"\n",
      "Reading \"ZEPP\"\n",
      "Reading \"ZEUS\"\n",
      "Reading \"ZEV\"\n",
      "Reading \"ZG\"\n",
      "Reading \"ZGNX\"\n",
      "Reading \"ZGYH\"\n",
      "Reading \"ZGYHR\"\n",
      "Reading \"ZGYHU\"\n",
      "Reading \"ZH\"\n",
      "Reading \"ZI\"\n"
     ]
    },
    {
     "name": "stderr",
     "output_type": "stream",
     "text": [
      "sleep 3 seconds and retrying https://data.alpaca.markets/v1/bars/day 3 more time(s)...\n"
     ]
    },
    {
     "name": "stdout",
     "output_type": "stream",
     "text": [
      "Reading \"ZIG\"\n",
      "Reading \"ZIM\"\n",
      "Reading \"ZION\"\n",
      "Reading \"ZIONL\"\n",
      "Reading \"ZIONN\"\n",
      "Reading \"ZIONO\"\n",
      "Reading \"ZIONP\"\n",
      "Reading \"ZIOP\"\n",
      "Reading \"ZIXI\"\n",
      "Reading \"ZKIN\"\n",
      "Reading \"ZLAB\"\n",
      "Reading \"ZM\"\n",
      "Reading \"ZNGA\"\n",
      "Reading \"ZNH\"\n",
      "Reading \"ZNTE\"\n",
      "Reading \"ZNTEU\"\n"
     ]
    },
    {
     "name": "stderr",
     "output_type": "stream",
     "text": [
      "sleep 3 seconds and retrying https://data.alpaca.markets/v1/bars/day 3 more time(s)...\n"
     ]
    },
    {
     "name": "stdout",
     "output_type": "stream",
     "text": [
      "Reading \"ZNTL\"\n",
      "Reading \"ZOM\"\n",
      "Reading \"ZROZ\"\n",
      "Reading \"ZS\"\n",
      "Reading \"ZSAN\"\n",
      "Reading \"ZSL\"\n",
      "Reading \"ZTO\"\n",
      "Reading \"ZTR\"\n",
      "Reading \"ZTS\"\n",
      "Reading \"NIFE\"\n",
      "Reading \"ZUMZ\"\n",
      "Reading \"ZUO\"\n",
      "Reading \"ZVO\"\n",
      "Reading \"ZWRK\"\n"
     ]
    },
    {
     "name": "stderr",
     "output_type": "stream",
     "text": [
      "sleep 3 seconds and retrying https://data.alpaca.markets/v1/bars/day 3 more time(s)...\n"
     ]
    },
    {
     "name": "stdout",
     "output_type": "stream",
     "text": [
      "Reading \"ZWRKU\"\n",
      "Reading \"ZY\"\n",
      "Reading \"ZYNE\"\n",
      "Reading \"ZYXI\"\n",
      "Reading \"EBS\"\n",
      "Reading \"BF.B\"\n",
      "Reading \"FNY\"\n",
      "Reading \"AMS\"\n",
      "Reading \"BCYC\"\n",
      "Reading \"MXC\"\n",
      "Reading \"IMTE\"\n"
     ]
    },
    {
     "name": "stderr",
     "output_type": "stream",
     "text": [
      "sleep 3 seconds and retrying https://data.alpaca.markets/v1/bars/day 3 more time(s)...\n"
     ]
    },
    {
     "name": "stdout",
     "output_type": "stream",
     "text": [
      "Reading \"IMAC\"\n",
      "Reading \"SLRX\"\n",
      "Reading \"CLEU\"\n",
      "Reading \"MMLP\"\n",
      "Reading \"AIRT\"\n",
      "Reading \"ADTX\"\n",
      "Reading \"VERB\"\n",
      "Reading \"IHT\"\n",
      "Reading \"LBTYB\"\n",
      "Reading \"NIM\"\n",
      "Reading \"NIQ\"\n",
      "Reading \"LEJU\"\n",
      "Reading \"AVCO\"\n",
      "Reading \"BB\"\n"
     ]
    },
    {
     "name": "stderr",
     "output_type": "stream",
     "text": [
      "sleep 3 seconds and retrying https://data.alpaca.markets/v1/bars/day 3 more time(s)...\n"
     ]
    },
    {
     "name": "stdout",
     "output_type": "stream",
     "text": [
      "Reading \"CTRM\"\n",
      "Reading \"DEO\"\n",
      "Reading \"ENPH\"\n",
      "Reading \"FSLR\"\n",
      "Reading \"HLAL\"\n",
      "Reading \"LOGI\"\n",
      "Reading \"LOW\"\n",
      "Reading \"NIU\"\n",
      "Reading \"NKE\"\n",
      "Reading \"NKTX\"\n",
      "Reading \"NLSN\"\n",
      "Reading \"NMCO\"\n"
     ]
    },
    {
     "name": "stderr",
     "output_type": "stream",
     "text": [
      "sleep 3 seconds and retrying https://data.alpaca.markets/v1/bars/day 3 more time(s)...\n"
     ]
    },
    {
     "name": "stdout",
     "output_type": "stream",
     "text": [
      "Reading \"NMMC\"\n",
      "Reading \"NMTR\"\n",
      "Reading \"NNI\"\n",
      "Reading \"NOA\"\n",
      "Reading \"NOC\"\n",
      "Reading \"NOM\"\n",
      "Reading \"NOVA\"\n",
      "Reading \"NPCT\"\n",
      "Reading \"NQP\"\n",
      "Reading \"NRGD\"\n",
      "Reading \"NRK\"\n",
      "Reading \"NRUC\"\n",
      "Reading \"NSEC\"\n",
      "Reading \"NSP\"\n",
      "Reading \"PRPO\"\n",
      "Reading \"UXIN\"\n"
     ]
    },
    {
     "name": "stderr",
     "output_type": "stream",
     "text": [
      "sleep 3 seconds and retrying https://data.alpaca.markets/v1/bars/day 3 more time(s)...\n"
     ]
    },
    {
     "name": "stdout",
     "output_type": "stream",
     "text": [
      "Reading \"NJAN\"\n",
      "Reading \"NKG\"\n",
      "Reading \"NKX\"\n",
      "Reading \"NLSP\"\n",
      "Reading \"NMFC\"\n",
      "Reading \"NMMCU\"\n",
      "Reading \"NMZ\"\n",
      "Reading \"NNOX\"\n",
      "Reading \"NOAC\"\n",
      "Reading \"NOCT\"\n"
     ]
    },
    {
     "name": "stderr",
     "output_type": "stream",
     "text": [
      "sleep 3 seconds and retrying https://data.alpaca.markets/v1/bars/day 3 more time(s)...\n"
     ]
    },
    {
     "name": "stdout",
     "output_type": "stream",
     "text": [
      "Reading \"NOMD\"\n",
      "Reading \"NOVN\"\n",
      "Reading \"NPK\"\n",
      "Reading \"NR\"\n",
      "Reading \"NRGU\"\n",
      "Reading \"NRO\"\n",
      "Reading \"NRZ\"\n",
      "Reading \"NSH\"\n",
      "Reading \"NSPR\"\n",
      "Reading \"MRIN\"\n",
      "Reading \"NJR\"\n",
      "Reading \"NKLA\"\n",
      "Reading \"NL\"\n",
      "Reading \"NMI\"\n",
      "Reading \"NMR\"\n",
      "Reading \"NNA\"\n"
     ]
    },
    {
     "name": "stderr",
     "output_type": "stream",
     "text": [
      "sleep 3 seconds and retrying https://data.alpaca.markets/v1/bars/day 3 more time(s)...\n"
     ]
    },
    {
     "name": "stdout",
     "output_type": "stream",
     "text": [
      "Reading \"NOACU\"\n",
      "Reading \"NODK\"\n",
      "Reading \"NORW\"\n",
      "Reading \"NOVT\"\n",
      "Reading \"NPO\"\n",
      "Reading \"NRAC\"\n",
      "Reading \"NRGX\"\n",
      "Reading \"NRP\"\n",
      "Reading \"NS\"\n",
      "Reading \"NSH.U\"\n",
      "Reading \"NJUL\"\n",
      "Reading \"NKSH\"\n",
      "Reading \"NLOK\"\n"
     ]
    },
    {
     "name": "stderr",
     "output_type": "stream",
     "text": [
      "sleep 3 seconds and retrying https://data.alpaca.markets/v1/bars/day 3 more time(s)...\n"
     ]
    },
    {
     "name": "stdout",
     "output_type": "stream",
     "text": [
      "Reading \"NLTX\"\n",
      "Reading \"NML\"\n",
      "Reading \"NMS\"\n",
      "Reading \"NNBR\"\n",
      "Reading \"NNVC\"\n",
      "Reading \"NOAH\"\n",
      "Reading \"NOG\"\n",
      "Reading \"NOTV\"\n",
      "Reading \"NP\"\n",
      "Reading \"NPTN\"\n",
      "Reading \"NRACU\"\n",
      "Reading \"NRIM\"\n",
      "Reading \"NRT\"\n",
      "Reading \"NSA\"\n",
      "Reading \"NSIT\"\n"
     ]
    },
    {
     "name": "stderr",
     "output_type": "stream",
     "text": [
      "sleep 3 seconds and retrying https://data.alpaca.markets/v1/bars/day 3 more time(s)...\n"
     ]
    },
    {
     "name": "stdout",
     "output_type": "stream",
     "text": [
      "Reading \"NSS\"\n",
      "Reading \"NSSC\"\n",
      "Reading \"NSTC.U\"\n",
      "Reading \"NSYS\"\n",
      "Reading \"CSAN\"\n",
      "Reading \"NSTB.U\"\n",
      "Reading \"NSTD.U\"\n",
      "Reading \"NTR\"\n",
      "Reading \"NTRSO\"\n",
      "Reading \"HON\"\n"
     ]
    },
    {
     "name": "stderr",
     "output_type": "stream",
     "text": [
      "sleep 3 seconds and retrying https://data.alpaca.markets/v1/bars/day 3 more time(s)...\n"
     ]
    },
    {
     "name": "stdout",
     "output_type": "stream",
     "text": [
      "Reading \"CTAQ\"\n",
      "Reading \"HL\"\n",
      "Reading \"NTCT\"\n",
      "Reading \"EES\"\n",
      "Reading \"NTES\"\n",
      "Reading \"NTIP\"\n",
      "Reading \"OMFL\"\n",
      "Reading \"OMP\"\n",
      "Reading \"ONCT\"\n",
      "Reading \"OMFS\"\n",
      "Reading \"ONCR\"\n",
      "Reading \"ONDS\"\n",
      "Reading \"FLGC\"\n"
     ]
    },
    {
     "name": "stderr",
     "output_type": "stream",
     "text": [
      "sleep 3 seconds and retrying https://data.alpaca.markets/v1/bars/day 3 more time(s)...\n"
     ]
    },
    {
     "name": "stdout",
     "output_type": "stream",
     "text": [
      "Reading \"PRIF-H\"\n",
      "Reading \"SXQG\"\n",
      "Reading \"OPBK\"\n",
      "Reading \"EBAC\"\n",
      "Reading \"OPK\"\n",
      "Reading \"OPRX\"\n",
      "Reading \"GGMC\"\n",
      "Reading \"PFIX\"\n",
      "Reading \"OPT\"\n",
      "Reading \"ORA\"\n",
      "Reading \"ORCL\"\n",
      "Reading \"ORMP\"\n",
      "Reading \"OSBC\"\n",
      "Reading \"OSIS\"\n"
     ]
    },
    {
     "name": "stderr",
     "output_type": "stream",
     "text": [
      "sleep 3 seconds and retrying https://data.alpaca.markets/v1/bars/day 3 more time(s)...\n"
     ]
    },
    {
     "name": "stdout",
     "output_type": "stream",
     "text": [
      "Reading \"OSS\"\n",
      "Reading \"OTEX\"\n",
      "Reading \"OTRA\"\n",
      "Reading \"OVB\"\n",
      "Reading \"OVLH\"\n",
      "Reading \"OXBR\"\n",
      "Reading \"OXM\"\n",
      "Reading \"OYST\"\n",
      "Reading \"PACE\"\n",
      "Reading \"PACXU\"\n",
      "Reading \"PAGS\"\n",
      "Reading \"PAK\"\n"
     ]
    },
    {
     "name": "stderr",
     "output_type": "stream",
     "text": [
      "sleep 3 seconds and retrying https://data.alpaca.markets/v1/bars/day 3 more time(s)...\n"
     ]
    },
    {
     "name": "stdout",
     "output_type": "stream",
     "text": [
      "Reading \"WKLY\"\n",
      "Reading \"PBW\"\n",
      "Reading \"PCEF\"\n",
      "Reading \"PCK\"\n",
      "Reading \"PCQ\"\n",
      "Reading \"PCTI\"\n",
      "Reading \"PCYG\"\n",
      "Reading \"PDCE\"\n",
      "Reading \"PDEX\"\n",
      "Reading \"PDN\"\n",
      "Reading \"PDS\"\n",
      "Reading \"PEBO\"\n",
      "Reading \"PENN\"\n",
      "Reading \"PESI\"\n",
      "Reading \"PEXL\"\n",
      "Reading \"PFC\"\n",
      "Reading \"PFF\"\n",
      "Reading \"PFFV\"\n",
      "Reading \"PCSB\"\n"
     ]
    },
    {
     "name": "stderr",
     "output_type": "stream",
     "text": [
      "sleep 3 seconds and retrying https://data.alpaca.markets/v1/bars/day 3 more time(s)...\n"
     ]
    },
    {
     "name": "stdout",
     "output_type": "stream",
     "text": [
      "Reading \"PCVX\"\n",
      "Reading \"PDFS\"\n",
      "Reading \"PDO\"\n",
      "Reading \"PDSB\"\n",
      "Reading \"PEG\"\n",
      "Reading \"PEO\"\n",
      "Reading \"PETQ\"\n",
      "Reading \"PEY\"\n",
      "Reading \"PFD\"\n",
      "Reading \"PFFA\"\n",
      "Reading \"PFG\"\n",
      "Reading \"PFBI\"\n",
      "Reading \"PFEB\"\n",
      "Reading \"PFFR\"\n",
      "Reading \"PFHD\"\n",
      "Reading \"PFIS\"\n",
      "Reading \"PFMT\"\n",
      "Reading \"PFDR\"\n",
      "Reading \"PHIC\"\n",
      "Reading \"PHR\"\n",
      "Reading \"PLXS\"\n",
      "Reading \"PMAY\"\n",
      "Reading \"PMGM\"\n",
      "Reading \"PMT\"\n"
     ]
    },
    {
     "name": "stderr",
     "output_type": "stream",
     "text": [
      "sleep 3 seconds and retrying https://data.alpaca.markets/v1/bars/day 3 more time(s)...\n"
     ]
    },
    {
     "name": "stdout",
     "output_type": "stream",
     "text": [
      "Reading \"PMX\"\n",
      "Reading \"AMRN\"\n",
      "Reading \"ADT\"\n",
      "Reading \"PMVC\"\n",
      "Reading \"PNC\"\n",
      "Reading \"PNM\"\n",
      "Reading \"PNRG\"\n",
      "Reading \"POAI\"\n",
      "Reading \"POST\"\n",
      "Reading \"POWW\"\n",
      "Reading \"PPG\"\n",
      "Reading \"PPIH\"\n",
      "Reading \"PPT\"\n",
      "Reading \"PQG\"\n"
     ]
    },
    {
     "name": "stderr",
     "output_type": "stream",
     "text": [
      "sleep 3 seconds and retrying https://data.alpaca.markets/v1/bars/day 3 more time(s)...\n"
     ]
    },
    {
     "name": "stdout",
     "output_type": "stream",
     "text": [
      "Reading \"PRA\"\n",
      "Reading \"PRDO\"\n",
      "Reading \"PRG\"\n",
      "Reading \"PRK\"\n",
      "Reading \"PROS\"\n",
      "Reading \"PRPC.U\"\n",
      "Reading \"LGV\"\n",
      "Reading \"PNFPP\"\n",
      "Reading \"PNOV\"\n",
      "Reading \"PNTM.U\"\n",
      "Reading \"POR\"\n",
      "Reading \"POWL\"\n",
      "Reading \"PPBT\"\n",
      "Reading \"PPH\"\n",
      "Reading \"PPR\"\n"
     ]
    },
    {
     "name": "stderr",
     "output_type": "stream",
     "text": [
      "sleep 3 seconds and retrying https://data.alpaca.markets/v1/bars/day 3 more time(s)...\n"
     ]
    },
    {
     "name": "stdout",
     "output_type": "stream",
     "text": [
      "Reading \"PPX\"\n",
      "Reading \"POTX\"\n",
      "Reading \"PPA\"\n",
      "Reading \"PPGH\"\n",
      "Reading \"PPL\"\n",
      "Reading \"PPTA\"\n",
      "Reading \"PQIN\"\n",
      "Reading \"PRAA\"\n",
      "Reading \"PREF\"\n",
      "Reading \"PRGO\"\n",
      "Reading \"PRLD\"\n",
      "Reading \"PROV\"\n"
     ]
    },
    {
     "name": "stderr",
     "output_type": "stream",
     "text": [
      "sleep 3 seconds and retrying https://data.alpaca.markets/v1/bars/day 3 more time(s)...\n"
     ]
    },
    {
     "name": "stdout",
     "output_type": "stream",
     "text": [
      "Reading \"PRPH\"\n",
      "Reading \"PRT\"\n",
      "Reading \"PRTH\"\n",
      "Reading \"PRU\"\n",
      "Reading \"PSACU\"\n",
      "Reading \"ESNT\"\n",
      "Reading \"PSCD\"\n",
      "Reading \"PSCM\"\n",
      "Reading \"PSEC\"\n",
      "Reading \"ACACU\"\n",
      "Reading \"ABR\"\n",
      "Reading \"AOA\"\n",
      "Reading \"B\"\n",
      "Reading \"APM\"\n",
      "Reading \"APPF\"\n",
      "Reading \"ARCB\"\n",
      "Reading \"BIGC\"\n",
      "Reading \"BIO\"\n",
      "Reading \"BIMI\"\n",
      "Reading \"BVXV\"\n",
      "Reading \"CAT\"\n"
     ]
    },
    {
     "name": "stderr",
     "output_type": "stream",
     "text": [
      "sleep 3 seconds and retrying https://data.alpaca.markets/v1/bars/day 3 more time(s)...\n"
     ]
    },
    {
     "name": "stdout",
     "output_type": "stream",
     "text": [
      "Reading \"BYND\"\n",
      "Reading \"BZUN\"\n",
      "Reading \"CABA\"\n",
      "Reading \"CHEK\"\n",
      "Reading \"CHPT\"\n",
      "Reading \"CHRA\"\n",
      "Reading \"CLB\"\n",
      "Reading \"COW\"\n",
      "Reading \"CPK\"\n",
      "Reading \"CPRT\"\n",
      "Reading \"CPSR\"\n",
      "Reading \"CPLP\"\n",
      "Reading \"CRD.A\"\n",
      "Reading \"CYCC\"\n",
      "Reading \"DADA\"\n",
      "Reading \"DAIO\"\n",
      "Reading \"DBLV\"\n",
      "Reading \"DLX\"\n",
      "Reading \"DVD\"\n",
      "Reading \"DNOV\"\n",
      "Reading \"DPZ\"\n",
      "Reading \"EFO\"\n",
      "Reading \"EDD\"\n",
      "Reading \"EDRY\"\n",
      "Reading \"EEMA\"\n",
      "Reading \"EFAD\"\n",
      "Reading \"EQC\"\n",
      "Reading \"ESE\"\n"
     ]
    },
    {
     "name": "stderr",
     "output_type": "stream",
     "text": [
      "sleep 3 seconds and retrying https://data.alpaca.markets/v1/bars/day 3 more time(s)...\n"
     ]
    },
    {
     "name": "stdout",
     "output_type": "stream",
     "text": [
      "Reading \"FBRX\"\n",
      "Reading \"FDX\"\n",
      "Reading \"FLGT\"\n",
      "Reading \"FLLV\"\n",
      "Reading \"FOE\"\n",
      "Reading \"FMBH\"\n",
      "Reading \"FTAG\"\n",
      "Reading \"FTEV.U\"\n",
      "Reading \"FULC\"\n",
      "Reading \"FUSN\"\n",
      "Reading \"GRNV\"\n"
     ]
    },
    {
     "name": "stderr",
     "output_type": "stream",
     "text": [
      "sleep 3 seconds and retrying https://data.alpaca.markets/v1/bars/day 3 more time(s)...\n"
     ]
    },
    {
     "name": "stdout",
     "output_type": "stream",
     "text": [
      "Reading \"HEI\"\n",
      "Reading \"GRNVR\"\n",
      "Reading \"GSAQU\"\n",
      "Reading \"HLGE\"\n",
      "Reading \"HLIO\"\n",
      "Reading \"IACB\"\n",
      "Reading \"ICCH\"\n",
      "Reading \"ILTB\"\n",
      "Reading \"INVZ\"\n",
      "Reading \"IOR\"\n",
      "Reading \"IWB\"\n",
      "Reading \"JCS\"\n",
      "Reading \"JEPI\"\n",
      "Reading \"JDIV\"\n",
      "Reading \"KDMN\"\n"
     ]
    },
    {
     "name": "stderr",
     "output_type": "stream",
     "text": [
      "sleep 3 seconds and retrying https://data.alpaca.markets/v1/bars/day 3 more time(s)...\n"
     ]
    },
    {
     "name": "stdout",
     "output_type": "stream",
     "text": [
      "Reading \"KMED\"\n",
      "Reading \"KREF\"\n",
      "Reading \"LCI\"\n",
      "Reading \"LEAF\"\n",
      "Reading \"LIVE\"\n",
      "Reading \"LKFN\"\n",
      "Reading \"LNC\"\n",
      "Reading \"LNG\"\n",
      "Reading \"LOAN\"\n",
      "Reading \"MACK\"\n",
      "Reading \"MCMJ\"\n",
      "Reading \"MEAR\"\n",
      "Reading \"MLPX\"\n",
      "Reading \"MOS\"\n",
      "Reading \"MPRO\"\n",
      "Reading \"NBHC\"\n",
      "Reading \"NEOG\"\n",
      "Reading \"NGD\"\n",
      "Reading \"PULS\"\n",
      "Reading \"PV.U\"\n",
      "Reading \"PVI\"\n",
      "Reading \"PWC\"\n",
      "Reading \"PXF\"\n",
      "Reading \"PXS\"\n",
      "Reading \"PYR\"\n",
      "Reading \"PZC\"\n",
      "Reading \"PXI\"\n",
      "Reading \"PYN\"\n",
      "Reading \"PYT\"\n",
      "Reading \"PZG\"\n",
      "Reading \"PZT\"\n",
      "Reading \"QAI\"\n",
      "Reading \"QDEF\"\n",
      "Reading \"QPFF\"\n",
      "Reading \"QS\"\n",
      "Reading \"QUAL\"\n",
      "Reading \"QURE\"\n",
      "Reading \"QWLD\"\n",
      "Reading \"RAAX\"\n",
      "Reading \"RADA\"\n",
      "Reading \"RALS\"\n",
      "Reading \"RAVE\"\n",
      "Reading \"RBAC\"\n",
      "Reading \"QMAR\"\n"
     ]
    },
    {
     "name": "stderr",
     "output_type": "stream",
     "text": [
      "sleep 3 seconds and retrying https://data.alpaca.markets/v1/bars/day 3 more time(s)...\n"
     ]
    },
    {
     "name": "stdout",
     "output_type": "stream",
     "text": [
      "Reading \"RCKT\"\n",
      "Reading \"RDS.B\"\n",
      "Reading \"REAL\"\n",
      "Reading \"RUSHB\"\n",
      "Reading \"SCDL\"\n",
      "Reading \"SCHE\"\n",
      "Reading \"SDEI\"\n",
      "Reading \"SCX\"\n"
     ]
    },
    {
     "name": "stderr",
     "output_type": "stream",
     "text": [
      "sleep 3 seconds and retrying https://data.alpaca.markets/v1/bars/day 3 more time(s)...\n"
     ]
    },
    {
     "name": "stdout",
     "output_type": "stream",
     "text": [
      "Reading \"SDAC\"\n",
      "Reading \"SDD\"\n",
      "Reading \"SDH\"\n",
      "Reading \"SDEF\"\n",
      "Reading \"SFST\"\n",
      "Reading \"SJM\"\n",
      "Reading \"SLG\"\n",
      "Reading \"SMMU\"\n",
      "Reading \"SONN\"\n",
      "Reading \"SOXX\"\n",
      "Reading \"SPAQ\"\n",
      "Reading \"SRS\"\n",
      "Reading \"STIC\"\n",
      "Reading \"STK\"\n",
      "Reading \"SPRQ\"\n",
      "Reading \"TDOC\"\n"
     ]
    },
    {
     "name": "stderr",
     "output_type": "stream",
     "text": [
      "sleep 3 seconds and retrying https://data.alpaca.markets/v1/bars/day 3 more time(s)...\n"
     ]
    },
    {
     "name": "stdout",
     "output_type": "stream",
     "text": [
      "Reading \"TBT\"\n",
      "Reading \"TIP\"\n",
      "Reading \"TPAY\"\n",
      "Reading \"TPOR\"\n",
      "Reading \"TPX\"\n",
      "Reading \"TPSC\"\n",
      "Reading \"TYL\"\n",
      "Reading \"UCON\"\n",
      "Reading \"VBK\"\n"
     ]
    },
    {
     "name": "stderr",
     "output_type": "stream",
     "text": [
      "sleep 3 seconds and retrying https://data.alpaca.markets/v1/bars/day 3 more time(s)...\n"
     ]
    },
    {
     "name": "stdout",
     "output_type": "stream",
     "text": [
      "Reading \"WHLRD\"\n",
      "Reading \"WIL\"\n",
      "Reading \"WING\"\n",
      "Reading \"WISA\"\n",
      "Reading \"WIZ\"\n",
      "Reading \"WIA\"\n",
      "Reading \"WINA\"\n",
      "Reading \"WIP\"\n",
      "Reading \"WIW\"\n",
      "Reading \"ACHL\"\n",
      "Reading \"ATNX\"\n",
      "Reading \"ABG\"\n",
      "Reading \"ACSG\"\n",
      "Reading \"AEPPL\"\n",
      "Reading \"AFT\"\n",
      "Reading \"DPW\"\n",
      "Reading \"ACAH\"\n",
      "Reading \"ACGLP\"\n",
      "Reading \"AAON\"\n",
      "Reading \"ABEV\"\n",
      "Reading \"ABNB\"\n",
      "Reading \"ADC\"\n",
      "Reading \"ACRS\"\n",
      "Reading \"AEG\"\n"
     ]
    },
    {
     "name": "stderr",
     "output_type": "stream",
     "text": [
      "sleep 3 seconds and retrying https://data.alpaca.markets/v1/bars/day 3 more time(s)...\n"
     ]
    },
    {
     "name": "stdout",
     "output_type": "stream",
     "text": [
      "Reading \"AFL\"\n",
      "Reading \"AIRR\"\n",
      "Reading \"ARYA\"\n",
      "Reading \"WMT\"\n",
      "Reading \"EFOI\"\n",
      "Reading \"AAC.U\"\n",
      "Reading \"AB\"\n",
      "Reading \"ATNF\"\n",
      "Reading \"AVCT\"\n",
      "Reading \"ADRA\"\n",
      "Reading \"ABCM\"\n",
      "Reading \"ATVI\"\n",
      "Reading \"AVNW\"\n",
      "Reading \"AAN\"\n",
      "Reading \"AVAH\"\n",
      "Reading \"AVAN.U\"\n",
      "Reading \"AVRO\"\n",
      "Reading \"AYLA\"\n",
      "Reading \"AZAO\"\n",
      "Reading \"AZYO\"\n",
      "Reading \"BBAR\"\n",
      "Reading \"BCAB\"\n",
      "Reading \"CCEP\"\n",
      "Reading \"XBI\"\n",
      "Reading \"AXSM\"\n",
      "Reading \"BATL\"\n",
      "Reading \"BBQ\"\n",
      "Reading \"AVGR\"\n",
      "Reading \"AZUL\"\n",
      "Reading \"AZZ\"\n",
      "Reading \"BBCP\"\n",
      "Reading \"AWRE\"\n",
      "Reading \"BAND\"\n",
      "Reading \"BBP\"\n",
      "Reading \"AAWW\"\n",
      "Reading \"AFMD\"\n",
      "Reading \"AGOX\"\n",
      "Reading \"EVT\"\n",
      "Reading \"ZDGE\"\n"
     ]
    },
    {
     "name": "stderr",
     "output_type": "stream",
     "text": [
      "sleep 3 seconds and retrying https://data.alpaca.markets/v1/bars/day 3 more time(s)...\n"
     ]
    },
    {
     "name": "stdout",
     "output_type": "stream",
     "text": [
      "Reading \"BLDE\"\n",
      "Reading \"BSN\"\n",
      "Reading \"GXII\"\n",
      "Reading \"FGBI\"\n",
      "Reading \"FLRU\"\n",
      "Reading \"G\"\n",
      "Reading \"GLDG\"\n",
      "Reading \"GPC\"\n",
      "Reading \"WALD\"\n",
      "Reading \"REVH\"\n",
      "Reading \"BSVN\"\n",
      "Reading \"CBTX\"\n",
      "Reading \"CDNA\"\n",
      "Reading \"DOW\"\n",
      "Reading \"DUDE\"\n"
     ]
    },
    {
     "name": "stderr",
     "output_type": "stream",
     "text": [
      "sleep 3 seconds and retrying https://data.alpaca.markets/v1/bars/day 3 more time(s)...\n"
     ]
    },
    {
     "name": "stdout",
     "output_type": "stream",
     "text": [
      "Reading \"F\"\n",
      "Reading \"LDHA\"\n",
      "Reading \"FMIL\"\n",
      "Reading \"LVRA\"\n",
      "Reading \"BYTS\"\n",
      "Reading \"GLSPT\"\n",
      "Reading \"CSD\"\n",
      "Reading \"AAQC\"\n",
      "Reading \"CRI\"\n",
      "Reading \"DUO\"\n",
      "Reading \"EXFO\"\n"
     ]
    },
    {
     "name": "stderr",
     "output_type": "stream",
     "text": [
      "sleep 3 seconds and retrying https://data.alpaca.markets/v1/bars/day 3 more time(s)...\n"
     ]
    },
    {
     "name": "stdout",
     "output_type": "stream",
     "text": [
      "Reading \"GNRC\"\n",
      "Reading \"HYLB\"\n",
      "Reading \"IMO\"\n",
      "Reading \"LATN\"\n",
      "Reading \"NRG\"\n",
      "Reading \"PBUS\"\n",
      "Reading \"PQSG\"\n",
      "Reading \"RAAS\"\n",
      "Reading \"ACET\"\n",
      "Reading \"ACQRU\"\n",
      "Reading \"ADX\"\n",
      "Reading \"ATHN\"\n",
      "Reading \"EMF\"\n",
      "Reading \"FEX\"\n"
     ]
    },
    {
     "name": "stderr",
     "output_type": "stream",
     "text": [
      "sleep 3 seconds and retrying https://data.alpaca.markets/v1/bars/day 3 more time(s)...\n"
     ]
    },
    {
     "name": "stdout",
     "output_type": "stream",
     "text": [
      "Reading \"GDL\"\n",
      "Reading \"GERN\"\n",
      "Reading \"IIII\"\n",
      "Reading \"RTPY\"\n",
      "Reading \"RCS\"\n",
      "Reading \"RFDI\"\n",
      "Reading \"RHS\"\n",
      "Reading \"RIVE\"\n",
      "Reading \"RMGBU\"\n",
      "Reading \"SBLK\"\n",
      "Reading \"TCS\"\n",
      "Reading \"ANEB\"\n",
      "Reading \"SRVR\"\n",
      "Reading \"TCACU\"\n",
      "Reading \"UGRO\"\n"
     ]
    },
    {
     "name": "stderr",
     "output_type": "stream",
     "text": [
      "sleep 3 seconds and retrying https://data.alpaca.markets/v1/bars/day 3 more time(s)...\n"
     ]
    },
    {
     "name": "stdout",
     "output_type": "stream",
     "text": [
      "Reading \"ACU\"\n",
      "Reading \"ADI\"\n",
      "Reading \"BRIVU\"\n",
      "Reading \"BWMN\"\n",
      "Reading \"TMDI\"\n",
      "Reading \"IPW\"\n",
      "Reading \"AACQ\"\n",
      "Reading \"ADM\"\n"
     ]
    },
    {
     "name": "stderr",
     "output_type": "stream",
     "text": [
      "sleep 3 seconds and retrying https://data.alpaca.markets/v1/bars/day 3 more time(s)...\n"
     ]
    },
    {
     "name": "stdout",
     "output_type": "stream",
     "text": [
      "Reading \"ALV\"\n",
      "Reading \"FVIV\"\n",
      "Reading \"UBA\"\n",
      "Reading \"WDH\"\n",
      "Reading \"BBIG\"\n",
      "Reading \"AAP\"\n",
      "Reading \"ASX\"\n",
      "Reading \"BGSX\"\n",
      "Reading \"KSI\"\n",
      "Reading \"TETC\"\n",
      "Reading \"ADV\"\n",
      "Reading \"AEGN\"\n",
      "Reading \"SVA\"\n"
     ]
    },
    {
     "name": "stderr",
     "output_type": "stream",
     "text": [
      "sleep 3 seconds and retrying https://data.alpaca.markets/v1/bars/day 3 more time(s)...\n"
     ]
    },
    {
     "name": "stdout",
     "output_type": "stream",
     "text": [
      "Reading \"RNAZ\"\n",
      "Reading \"ACBAU\"\n",
      "Reading \"AERI\"\n",
      "Reading \"AEM\"\n",
      "Reading \"MBOX\"\n",
      "Reading \"ACHC\"\n",
      "Reading \"ADS\"\n",
      "Reading \"AEFC\"\n",
      "Reading \"AEYE\"\n",
      "Reading \"SR\"\n",
      "Reading \"AGX\"\n",
      "Reading \"RAIN\"\n",
      "Reading \"SWIM\"\n",
      "Reading \"TWLV\"\n",
      "Reading \"FTAA\"\n",
      "Reading \"AMAO\"\n",
      "Reading \"XBAP\"\n"
     ]
    },
    {
     "name": "stderr",
     "output_type": "stream",
     "text": [
      "sleep 3 seconds and retrying https://data.alpaca.markets/v1/bars/day 3 more time(s)...\n"
     ]
    },
    {
     "name": "stdout",
     "output_type": "stream",
     "text": [
      "Reading \"MPX\"\n",
      "Reading \"TWOA\"\n",
      "Reading \"UPS\"\n",
      "Reading \"VGK\"\n",
      "Reading \"VNQ\"\n",
      "Reading \"LCAA\"\n",
      "Reading \"FRON\"\n",
      "Reading \"VAL\"\n",
      "Reading \"SCAQ\"\n",
      "Reading \"SPKB\"\n",
      "Reading \"MBTC\"\n",
      "Reading \"GTPA\"\n",
      "Reading \"MAYZ\"\n"
     ]
    },
    {
     "name": "stderr",
     "output_type": "stream",
     "text": [
      "sleep 3 seconds and retrying https://data.alpaca.markets/v1/bars/day 3 more time(s)...\n"
     ]
    },
    {
     "name": "stdout",
     "output_type": "stream",
     "text": [
      "Reading \"PTOC\"\n",
      "Reading \"FTPA\"\n",
      "Reading \"MBTCR\"\n",
      "Reading \"GWB\"\n",
      "Reading \"BJ\"\n",
      "Reading \"BJAN\"\n",
      "Reading \"AAT\"\n",
      "Reading \"AAIC\"\n",
      "Reading \"AAMC\"\n",
      "Reading \"ACQR\"\n",
      "Reading \"AACQU\"\n",
      "Reading \"AACG\"\n"
     ]
    },
    {
     "name": "stderr",
     "output_type": "stream",
     "text": [
      "sleep 3 seconds and retrying https://data.alpaca.markets/v1/bars/day 3 more time(s)...\n"
     ]
    },
    {
     "name": "stdout",
     "output_type": "stream",
     "text": [
      "Reading \"AADR\"\n",
      "Reading \"AAL\"\n",
      "Reading \"ABEQ\"\n",
      "Reading \"ABGI\"\n",
      "Reading \"ABT\"\n",
      "Reading \"ACER\"\n",
      "Reading \"ACEV\"\n",
      "Reading \"ACOR\"\n",
      "Reading \"GFF\"\n",
      "Reading \"HCI\"\n",
      "Reading \"PG\"\n",
      "Reading \"BSX\"\n",
      "Reading \"CAJ\"\n"
     ]
    },
    {
     "name": "stderr",
     "output_type": "stream",
     "text": [
      "sleep 3 seconds and retrying https://data.alpaca.markets/v1/bars/day 3 more time(s)...\n"
     ]
    },
    {
     "name": "stdout",
     "output_type": "stream",
     "text": [
      "Reading \"MHO\"\n",
      "Reading \"SMM\"\n",
      "Reading \"STPC\"\n",
      "Reading \"AGGR\"\n",
      "Reading \"AAME\"\n",
      "Reading \"AAXJ\"\n",
      "Reading \"ABBV\"\n",
      "Reading \"ABEO\"\n",
      "Reading \"ACB\"\n",
      "Reading \"ACC\"\n",
      "Reading \"ACEL\"\n"
     ]
    },
    {
     "name": "stderr",
     "output_type": "stream",
     "text": [
      "sleep 3 seconds and retrying https://data.alpaca.markets/v1/bars/day 3 more time(s)...\n"
     ]
    },
    {
     "name": "stdout",
     "output_type": "stream",
     "text": [
      "Reading \"ACES\"\n",
      "Reading \"ACEVU\"\n",
      "Reading \"ACGLO\"\n",
      "Reading \"ABST\"\n",
      "Reading \"ABTX\"\n",
      "Reading \"AC\"\n",
      "Reading \"ACAC\"\n",
      "Reading \"ACII\"\n",
      "Reading \"ACIU\"\n",
      "Reading \"ACKIT\"\n",
      "Reading \"ACLS\"\n",
      "Reading \"ACN\"\n"
     ]
    },
    {
     "name": "stderr",
     "output_type": "stream",
     "text": [
      "sleep 3 seconds and retrying https://data.alpaca.markets/v1/bars/day 3 more time(s)...\n"
     ]
    },
    {
     "name": "stdout",
     "output_type": "stream",
     "text": [
      "Reading \"ACND\"\n",
      "Reading \"ACTV\"\n",
      "Reading \"ADER\"\n",
      "Reading \"ADME\"\n",
      "Reading \"ADMS\"\n",
      "Reading \"ACH\"\n",
      "Reading \"ACND.U\"\n",
      "Reading \"ACP\"\n",
      "Reading \"ACR\"\n",
      "Reading \"ACWV\"\n",
      "Reading \"ADAG\"\n",
      "Reading \"ADBE\"\n",
      "Reading \"ACHV\"\n",
      "Reading \"ACIC\"\n",
      "Reading \"ACRX\"\n",
      "Reading \"ACSI\"\n"
     ]
    },
    {
     "name": "stderr",
     "output_type": "stream",
     "text": [
      "sleep 3 seconds and retrying https://data.alpaca.markets/v1/bars/day 3 more time(s)...\n"
     ]
    },
    {
     "name": "stdout",
     "output_type": "stream",
     "text": [
      "Reading \"ACTC\"\n",
      "Reading \"ACTDU\"\n",
      "Reading \"ADES\"\n",
      "Reading \"ADEX.U\"\n",
      "Reading \"ADIL\"\n",
      "Reading \"ADIV\"\n",
      "Reading \"ADMP\"\n",
      "Reading \"ADN\"\n",
      "Reading \"AG\"\n",
      "Reading \"ACRE\"\n",
      "Reading \"ACTG\"\n",
      "Reading \"AEHR\"\n"
     ]
    },
    {
     "name": "stderr",
     "output_type": "stream",
     "text": [
      "sleep 3 seconds and retrying https://data.alpaca.markets/v1/bars/day 3 more time(s)...\n"
     ]
    },
    {
     "name": "stdout",
     "output_type": "stream",
     "text": [
      "Reading \"AEZS\"\n",
      "Reading \"AFI\"\n",
      "Reading \"AGBAU\"\n",
      "Reading \"AGEN\"\n",
      "Reading \"AGGY\"\n",
      "Reading \"AGM.A\"\n",
      "Reading \"AGO\"\n",
      "Reading \"AHH\"\n",
      "Reading \"AIA\"\n",
      "Reading \"AIEQ\"\n",
      "Reading \"AIG\"\n",
      "Reading \"AEI\"\n",
      "Reading \"AENZ\"\n",
      "Reading \"AEP\"\n"
     ]
    },
    {
     "name": "stderr",
     "output_type": "stream",
     "text": [
      "sleep 3 seconds and retrying https://data.alpaca.markets/v1/bars/day 3 more time(s)...\n"
     ]
    },
    {
     "name": "stdout",
     "output_type": "stream",
     "text": [
      "Reading \"AFIB\"\n",
      "Reading \"AGTC\"\n",
      "Reading \"AGYS\"\n",
      "Reading \"AGZD\"\n",
      "Reading \"AI\"\n",
      "Reading \"AINV\"\n",
      "Reading \"AKO.B\"\n",
      "Reading \"AKRO\"\n",
      "Reading \"AKTX\"\n",
      "Reading \"AAOI\"\n",
      "Reading \"AGRO\"\n",
      "Reading \"AIZN\"\n",
      "Reading \"AJG\"\n"
     ]
    },
    {
     "name": "stderr",
     "output_type": "stream",
     "text": [
      "sleep 3 seconds and retrying https://data.alpaca.markets/v1/bars/day 3 more time(s)...\n"
     ]
    },
    {
     "name": "stdout",
     "output_type": "stream",
     "text": [
      "Reading \"AJX\"\n",
      "Reading \"AKAM\"\n",
      "Reading \"AMPI.U\"\n",
      "Reading \"AMRB\"\n",
      "Reading \"AMTB\"\n",
      "Reading \"AMTR\"\n",
      "Reading \"ANGN\"\n",
      "Reading \"AONE\"\n",
      "Reading \"AOR\"\n",
      "Reading \"AOUT\"\n",
      "Reading \"APA\"\n"
     ]
    },
    {
     "name": "stderr",
     "output_type": "stream",
     "text": [
      "sleep 3 seconds and retrying https://data.alpaca.markets/v1/bars/day 3 more time(s)...\n"
     ]
    },
    {
     "name": "stdout",
     "output_type": "stream",
     "text": [
      "Reading \"APD\"\n",
      "Reading \"APRN\"\n",
      "Reading \"APSG\"\n",
      "Reading \"APT\"\n",
      "Reading \"ANET\"\n",
      "Reading \"ANF\"\n",
      "Reading \"ANY\"\n",
      "Reading \"ANZUU\"\n",
      "Reading \"AOD\"\n",
      "Reading \"ANTE\"\n",
      "Reading \"AOM\"\n",
      "Reading \"AONE.U\"\n",
      "Reading \"APOG\"\n",
      "Reading \"APP\"\n",
      "Reading \"AQMS\"\n",
      "Reading \"ARAY\"\n",
      "Reading \"ARC\"\n",
      "Reading \"ARCE\"\n",
      "Reading \"ARE\"\n",
      "Reading \"ARGO\"\n"
     ]
    },
    {
     "name": "stderr",
     "output_type": "stream",
     "text": [
      "sleep 3 seconds and retrying https://data.alpaca.markets/v1/bars/day 3 more time(s)...\n"
     ]
    },
    {
     "name": "stdout",
     "output_type": "stream",
     "text": [
      "Reading \"ARPO\"\n",
      "Reading \"ARYD\"\n",
      "Reading \"ASAI\"\n",
      "Reading \"ASAQ\"\n",
      "Reading \"ASPCU\"\n",
      "Reading \"ATHN.U\"\n",
      "Reading \"ARKQ\"\n",
      "Reading \"ARKW\"\n",
      "Reading \"ARMR\"\n",
      "Reading \"ARNC\"\n"
     ]
    },
    {
     "name": "stderr",
     "output_type": "stream",
     "text": [
      "sleep 3 seconds and retrying https://data.alpaca.markets/v1/bars/day 3 more time(s)...\n"
     ]
    },
    {
     "name": "stdout",
     "output_type": "stream",
     "text": [
      "Reading \"AROW\"\n",
      "Reading \"ARQT\"\n",
      "Reading \"ARRW\"\n",
      "Reading \"ASET\"\n",
      "Reading \"ASGI\"\n",
      "Reading \"ASLE\"\n",
      "Reading \"ASMB\"\n",
      "Reading \"ASPC\"\n",
      "Reading \"ASPL\"\n",
      "Reading \"ASZ.U\"\n",
      "Reading \"ATA\"\n",
      "Reading \"ATC\"\n",
      "Reading \"ATHA\"\n",
      "Reading \"ATHM\"\n",
      "Reading \"ATHX\"\n",
      "Reading \"ATI\"\n",
      "Reading \"ATMP\"\n",
      "Reading \"ATMR.U\"\n",
      "Reading \"ATNM\"\n",
      "Reading \"ATSG\"\n",
      "Reading \"ATTO\"\n",
      "Reading \"AUSF\"\n",
      "Reading \"AUTO\"\n",
      "Reading \"AUY\"\n",
      "Reading \"AVAN\"\n"
     ]
    },
    {
     "name": "stderr",
     "output_type": "stream",
     "text": [
      "sleep 3 seconds and retrying https://data.alpaca.markets/v1/bars/day 3 more time(s)...\n"
     ]
    },
    {
     "name": "stdout",
     "output_type": "stream",
     "text": [
      "Reading \"AVDR\"\n",
      "Reading \"AVIG\"\n",
      "Reading \"AVUS\"\n",
      "Reading \"AVXL\"\n",
      "Reading \"AVYA\"\n",
      "Reading \"AWF\"\n",
      "Reading \"AXGN\"\n",
      "Reading \"AXLA\"\n",
      "Reading \"AXON\"\n",
      "Reading \"AXR\"\n",
      "Reading \"AXTA\"\n",
      "Reading \"AXU\"\n",
      "Reading \"ATLO\"\n",
      "Reading \"ATRI\"\n",
      "Reading \"ATUS\"\n",
      "Reading \"ATXI\"\n",
      "Reading \"AUB\"\n",
      "Reading \"AUBN\"\n",
      "Reading \"ATRA\"\n",
      "Reading \"ATRO\"\n",
      "Reading \"AUGZ\"\n",
      "Reading \"AURC\"\n",
      "Reading \"AUS.U\"\n",
      "Reading \"AVB\"\n",
      "Reading \"AVDE\"\n",
      "Reading \"AVGOP\"\n",
      "Reading \"AVTR\"\n",
      "Reading \"AWH\"\n",
      "Reading \"AWP\"\n",
      "Reading \"AWTM\"\n",
      "Reading \"AX\"\n",
      "Reading \"AZEK\"\n",
      "Reading \"AUDC\"\n",
      "Reading \"AUMN\"\n",
      "Reading \"AUPH\"\n",
      "Reading \"AURCU\"\n",
      "Reading \"AVGO\"\n",
      "Reading \"AVLR\"\n",
      "Reading \"AVDV\"\n"
     ]
    },
    {
     "name": "stderr",
     "output_type": "stream",
     "text": [
      "sleep 3 seconds and retrying https://data.alpaca.markets/v1/bars/day 3 more time(s)...\n"
     ]
    },
    {
     "name": "stdout",
     "output_type": "stream",
     "text": [
      "Reading \"AVNS\"\n",
      "Reading \"AVO\"\n",
      "Reading \"AWAY\"\n",
      "Reading \"AWK\"\n",
      "Reading \"AWR\"\n",
      "Reading \"AXNX\"\n",
      "Reading \"AYTU\"\n",
      "Reading \"AZAL\"\n",
      "Reading \"AZBA\"\n",
      "Reading \"AZBL\"\n",
      "Reading \"AZN\"\n",
      "Reading \"AZPN\"\n",
      "Reading \"BAB\"\n",
      "Reading \"BAC\"\n",
      "Reading \"BAK\"\n",
      "Reading \"BALY\"\n",
      "Reading \"BAMH\"\n"
     ]
    },
    {
     "name": "stderr",
     "output_type": "stream",
     "text": [
      "sleep 3 seconds and retrying https://data.alpaca.markets/v1/bars/day 3 more time(s)...\n"
     ]
    },
    {
     "name": "stdout",
     "output_type": "stream",
     "text": [
      "Reading \"BANC\"\n",
      "Reading \"BANF\"\n",
      "Reading \"BANR\"\n",
      "Reading \"ALE\"\n",
      "Reading \"AVK\"\n",
      "Reading \"AVUV\"\n",
      "Reading \"AXDX\"\n",
      "Reading \"AXL\"\n",
      "Reading \"AZRX\"\n",
      "Reading \"BAP\"\n",
      "Reading \"BBUS\"\n",
      "Reading \"AYI\"\n",
      "Reading \"AYRO\"\n",
      "Reading \"AZAA\"\n"
     ]
    },
    {
     "name": "stderr",
     "output_type": "stream",
     "text": [
      "sleep 3 seconds and retrying https://data.alpaca.markets/v1/bars/day 3 more time(s)...\n"
     ]
    },
    {
     "name": "stdout",
     "output_type": "stream",
     "text": [
      "Reading \"BAPR\"\n",
      "Reading \"BBBY\"\n",
      "Reading \"BBIN\"\n",
      "Reading \"BBJP\"\n",
      "Reading \"BBW\"\n",
      "Reading \"BCBP\"\n",
      "Reading \"BCI\"\n",
      "Reading \"BCOV\"\n",
      "Reading \"BBRE\"\n",
      "Reading \"BBY\"\n",
      "Reading \"BCC\"\n",
      "Reading \"BCLI\"\n"
     ]
    },
    {
     "name": "stderr",
     "output_type": "stream",
     "text": [
      "sleep 3 seconds and retrying https://data.alpaca.markets/v1/bars/day 3 more time(s)...\n"
     ]
    },
    {
     "name": "stdout",
     "output_type": "stream",
     "text": [
      "Reading \"BCOW\"\n",
      "Reading \"BCTG\"\n",
      "Reading \"BDCX\"\n",
      "Reading \"BDR\"\n",
      "Reading \"BE\"\n",
      "Reading \"BELFB\"\n",
      "Reading \"BEPH\"\n",
      "Reading \"BFC\"\n",
      "Reading \"BFOR\"\n",
      "Reading \"BGCP\"\n",
      "Reading \"BGR\"\n",
      "Reading \"BGY\"\n",
      "Reading \"BHFAN\"\n",
      "Reading \"BHSEU\"\n",
      "Reading \"BBU\"\n",
      "Reading \"BCAC\"\n",
      "Reading \"BCEI\"\n",
      "Reading \"BCO\"\n",
      "Reading \"BCRX\"\n",
      "Reading \"BCX\"\n",
      "Reading \"BDEC\"\n",
      "Reading \"BDSX\"\n",
      "Reading \"BEDZ\"\n",
      "Reading \"BENER\"\n",
      "Reading \"BETZ\"\n",
      "Reading \"BFIN\"\n"
     ]
    },
    {
     "name": "stderr",
     "output_type": "stream",
     "text": [
      "sleep 3 seconds and retrying https://data.alpaca.markets/v1/bars/day 3 more time(s)...\n"
     ]
    },
    {
     "name": "stdout",
     "output_type": "stream",
     "text": [
      "Reading \"BFTR\"\n",
      "Reading \"BGI\"\n",
      "Reading \"BGSF\"\n",
      "Reading \"BHB\"\n",
      "Reading \"BHK\"\n",
      "Reading \"BHVN\"\n",
      "Reading \"BIGZ\"\n",
      "Reading \"BIO.B\"\n",
      "Reading \"BKHY\"\n",
      "Reading \"BKR\"\n",
      "Reading \"BL\"\n",
      "Reading \"BLDP\"\n",
      "Reading \"BLIN\"\n",
      "Reading \"BLSA\"\n",
      "Reading \"BLUW\"\n",
      "Reading \"BMBL\"\n"
     ]
    },
    {
     "name": "stderr",
     "output_type": "stream",
     "text": [
      "sleep 3 seconds and retrying https://data.alpaca.markets/v1/bars/day 3 more time(s)...\n"
     ]
    },
    {
     "name": "stdout",
     "output_type": "stream",
     "text": [
      "Reading \"BMRC\"\n",
      "Reading \"BNDW\"\n",
      "Reading \"BKSB\"\n",
      "Reading \"BLBD\"\n",
      "Reading \"BLDR\"\n",
      "Reading \"BLKB\"\n",
      "Reading \"BLTS\"\n",
      "Reading \"BLUWU\"\n",
      "Reading \"BME\"\n",
      "Reading \"BMRN\"\n",
      "Reading \"BKTI\"\n",
      "Reading \"BLD\"\n",
      "Reading \"BLHY\"\n",
      "Reading \"BLOK\"\n",
      "Reading \"BLUA.U\"\n",
      "Reading \"BMAR\"\n",
      "Reading \"BMI\"\n",
      "Reading \"BND\"\n",
      "Reading \"BLUA\"\n",
      "Reading \"BLX\"\n",
      "Reading \"BMEZ\"\n",
      "Reading \"BMY\"\n",
      "Reading \"ARRWU\"\n",
      "Reading \"ATR\"\n",
      "Reading \"BLW\"\n"
     ]
    },
    {
     "name": "stderr",
     "output_type": "stream",
     "text": [
      "sleep 3 seconds and retrying https://data.alpaca.markets/v1/bars/day 3 more time(s)...\n"
     ]
    },
    {
     "name": "stdout",
     "output_type": "stream",
     "text": [
      "Reading \"BMED\"\n",
      "Reading \"BMTX\"\n",
      "Reading \"BNDX\"\n",
      "Reading \"BNL\"\n",
      "Reading \"BNTX\"\n",
      "Reading \"BNE\"\n",
      "Reading \"BNO\"\n",
      "Reading \"BNY\"\n",
      "Reading \"BOOM\"\n",
      "Reading \"BNGO\"\n",
      "Reading \"BNS\"\n",
      "Reading \"BOAS.U\"\n",
      "Reading \"BOKF\"\n",
      "Reading \"BOOT\"\n",
      "Reading \"BOTZ\"\n"
     ]
    },
    {
     "name": "stderr",
     "output_type": "stream",
     "text": [
      "sleep 3 seconds and retrying https://data.alpaca.markets/v1/bars/day 3 more time(s)...\n"
     ]
    },
    {
     "name": "stdout",
     "output_type": "stream",
     "text": [
      "Reading \"BPMC\"\n",
      "Reading \"BPTH\"\n",
      "Reading \"BRFS\"\n",
      "Reading \"BNKD\"\n",
      "Reading \"BNSO\"\n",
      "Reading \"BOB\"\n",
      "Reading \"BOKFL\"\n",
      "Reading \"BOUT\"\n",
      "Reading \"BPMP\"\n",
      "Reading \"BPTS\"\n",
      "Reading \"BR\"\n",
      "Reading \"BNKU\"\n",
      "Reading \"BNTC\"\n"
     ]
    },
    {
     "name": "stderr",
     "output_type": "stream",
     "text": [
      "sleep 3 seconds and retrying https://data.alpaca.markets/v1/bars/day 3 more time(s)...\n"
     ]
    },
    {
     "name": "stdout",
     "output_type": "stream",
     "text": [
      "Reading \"CANE\"\n",
      "Reading \"CAPE\"\n",
      "Reading \"CARR\"\n",
      "Reading \"CASH\"\n",
      "Reading \"CATH\"\n",
      "Reading \"CBAH.U\"\n",
      "Reading \"CBH\"\n",
      "Reading \"BP\"\n",
      "Reading \"CATO\"\n",
      "Reading \"CBZ\"\n",
      "Reading \"CHIS\"\n",
      "Reading \"CKPT\"\n",
      "Reading \"CLAS.U\"\n",
      "Reading \"CLDR\"\n"
     ]
    },
    {
     "name": "stderr",
     "output_type": "stream",
     "text": [
      "sleep 3 seconds and retrying https://data.alpaca.markets/v1/bars/day 3 more time(s)...\n"
     ]
    },
    {
     "name": "stdout",
     "output_type": "stream",
     "text": [
      "Reading \"CAE\"\n",
      "Reading \"CLDT\"\n",
      "Reading \"CLGX\"\n",
      "Reading \"CLIM.U\"\n",
      "Reading \"CLNC\"\n",
      "Reading \"CRH\"\n",
      "Reading \"CRL\"\n",
      "Reading \"CRNX\"\n",
      "Reading \"CRSAU\"\n",
      "Reading \"CRTX\"\n",
      "Reading \"CRWD\"\n",
      "Reading \"CTS\"\n",
      "Reading \"CNI\"\n",
      "Reading \"DCO\"\n"
     ]
    },
    {
     "name": "stderr",
     "output_type": "stream",
     "text": [
      "sleep 3 seconds and retrying https://data.alpaca.markets/v1/bars/day 3 more time(s)...\n"
     ]
    },
    {
     "name": "stdout",
     "output_type": "stream",
     "text": [
      "Reading \"DCRCU\"\n",
      "Reading \"DD\"\n",
      "Reading \"DDLS\"\n",
      "Reading \"DCUE\"\n",
      "Reading \"DDIV\"\n",
      "Reading \"DFAE\"\n",
      "Reading \"DFFN\"\n",
      "Reading \"DRV\"\n",
      "Reading \"DSEP\"\n",
      "Reading \"DSL\"\n",
      "Reading \"DSS\"\n",
      "Reading \"DSX\"\n"
     ]
    },
    {
     "name": "stderr",
     "output_type": "stream",
     "text": [
      "sleep 3 seconds and retrying https://data.alpaca.markets/v1/bars/day 3 more time(s)...\n"
     ]
    },
    {
     "name": "stdout",
     "output_type": "stream",
     "text": [
      "Reading \"DTEC\"\n",
      "Reading \"DTOCU\"\n",
      "Reading \"DUG\"\n",
      "Reading \"DXR\"\n",
      "Reading \"EB\"\n",
      "Reading \"DS\"\n",
      "Reading \"EFX\"\n",
      "Reading \"EGIS\"\n",
      "Reading \"EVRG\"\n",
      "Reading \"EQIX\"\n",
      "Reading \"EQRR\"\n",
      "Reading \"FANG\"\n",
      "Reading \"FHN\"\n"
     ]
    },
    {
     "name": "stderr",
     "output_type": "stream",
     "text": [
      "sleep 3 seconds and retrying https://data.alpaca.markets/v1/bars/day 3 more time(s)...\n"
     ]
    },
    {
     "name": "stdout",
     "output_type": "stream",
     "text": [
      "Reading \"FFIV\"\n",
      "Reading \"FNV\"\n",
      "Reading \"FNGS\"\n",
      "Reading \"FLME\"\n",
      "Reading \"FVT\"\n",
      "Reading \"FWRD\"\n",
      "Reading \"GBNY\"\n",
      "Reading \"GBS\"\n",
      "Reading \"GCBC\"\n",
      "Reading \"GCOR\"\n",
      "Reading \"GDEN\"\n"
     ]
    },
    {
     "name": "stderr",
     "output_type": "stream",
     "text": [
      "sleep 3 seconds and retrying https://data.alpaca.markets/v1/bars/day 3 more time(s)...\n"
     ]
    },
    {
     "name": "stdout",
     "output_type": "stream",
     "text": [
      "Reading \"GDRX\"\n",
      "Reading \"GDXU\"\n",
      "Reading \"GECCN\"\n",
      "Reading \"GENC\"\n",
      "Reading \"GEOS\"\n",
      "Reading \"GLOB\"\n",
      "Reading \"GMAB\"\n",
      "Reading \"GMED\"\n",
      "Reading \"GNAC\"\n",
      "Reading \"GNK\"\n",
      "Reading \"GNPK\"\n",
      "Reading \"GNRSU\"\n",
      "Reading \"GNW\"\n"
     ]
    },
    {
     "name": "stderr",
     "output_type": "stream",
     "text": [
      "sleep 3 seconds and retrying https://data.alpaca.markets/v1/bars/day 3 more time(s)...\n"
     ]
    },
    {
     "name": "stdout",
     "output_type": "stream",
     "text": [
      "Reading \"GMTX\"\n",
      "Reading \"GNFT\"\n",
      "Reading \"GNOM\"\n",
      "Reading \"GNRS\"\n",
      "Reading \"GNUS\"\n",
      "Reading \"GOCO\"\n",
      "Reading \"GRTS\"\n",
      "Reading \"GRX\"\n",
      "Reading \"GSBC\"\n",
      "Reading \"GSEVU\"\n",
      "Reading \"GTX\"\n",
      "Reading \"HALL\"\n",
      "Reading \"HJEN\"\n",
      "Reading \"ICBK\"\n",
      "Reading \"ICCC\"\n"
     ]
    },
    {
     "name": "stderr",
     "output_type": "stream",
     "text": [
      "sleep 3 seconds and retrying https://data.alpaca.markets/v1/bars/day 3 more time(s)...\n"
     ]
    },
    {
     "name": "stdout",
     "output_type": "stream",
     "text": [
      "Reading \"ICOW\"\n",
      "Reading \"IDA\"\n",
      "Reading \"IDHD\"\n",
      "Reading \"IDN\"\n",
      "Reading \"IDU\"\n",
      "Reading \"IEA\"\n",
      "Reading \"IEFN\"\n",
      "Reading \"IEO\"\n",
      "Reading \"IMRA\"\n",
      "Reading \"IYR\"\n",
      "Reading \"JAZZ\"\n",
      "Reading \"JBSS\"\n",
      "Reading \"JCO\"\n",
      "Reading \"JD\"\n",
      "Reading \"JEMA\"\n",
      "Reading \"JIGB\"\n",
      "Reading \"JJE\"\n",
      "Reading \"JJSF\"\n"
     ]
    },
    {
     "name": "stderr",
     "output_type": "stream",
     "text": [
      "sleep 3 seconds and retrying https://data.alpaca.markets/v1/bars/day 3 more time(s)...\n"
     ]
    },
    {
     "name": "stdout",
     "output_type": "stream",
     "text": [
      "Reading \"JLS\"\n",
      "Reading \"JMP\"\n",
      "Reading \"JNK\"\n",
      "Reading \"JOBS\"\n",
      "Reading \"JOFFU\"\n",
      "Reading \"JPHY\"\n",
      "Reading \"KJUL\"\n",
      "Reading \"LCUT\"\n",
      "Reading \"LDI\"\n",
      "Reading \"LDRS\"\n",
      "Reading \"LEG\"\n",
      "Reading \"LEGH\"\n",
      "Reading \"LEN.B\"\n"
     ]
    },
    {
     "name": "stderr",
     "output_type": "stream",
     "text": [
      "sleep 3 seconds and retrying https://data.alpaca.markets/v1/bars/day 3 more time(s)...\n"
     ]
    },
    {
     "name": "stdout",
     "output_type": "stream",
     "text": [
      "Reading \"LFEQ\"\n",
      "Reading \"LFT\"\n",
      "Reading \"LFUS\"\n",
      "Reading \"LGIH\"\n",
      "Reading \"LKQ\"\n",
      "Reading \"LTPZ\"\n",
      "Reading \"LTRPA\"\n",
      "Reading \"LXEH\"\n",
      "Reading \"LZB\"\n",
      "Reading \"MAXR\"\n",
      "Reading \"MBAC\"\n",
      "Reading \"MBB\"\n",
      "Reading \"MBINO\"\n",
      "Reading \"MBIO\"\n",
      "Reading \"LW\"\n",
      "Reading \"MDH.U\"\n",
      "Reading \"MDJH\"\n"
     ]
    },
    {
     "name": "stderr",
     "output_type": "stream",
     "text": [
      "sleep 3 seconds and retrying https://data.alpaca.markets/v1/bars/day 3 more time(s)...\n"
     ]
    },
    {
     "name": "stdout",
     "output_type": "stream",
     "text": [
      "Reading \"MIDD\"\n",
      "Reading \"MTG\"\n",
      "Reading \"MO\"\n",
      "Reading \"MVT\"\n",
      "Reading \"MXF\"\n",
      "Reading \"MYI\"\n",
      "Reading \"NAPA\"\n",
      "Reading \"NEV\"\n",
      "Reading \"NEWA\"\n",
      "Reading \"NHI\"\n",
      "Reading \"NULV\"\n",
      "Reading \"NLS\"\n",
      "Reading \"NWN\"\n",
      "Reading \"NWS\"\n",
      "Reading \"NX\"\n",
      "Reading \"NXE\"\n",
      "Reading \"NYCB\"\n",
      "Reading \"OIBR.C\"\n",
      "Reading \"ON\"\n",
      "Reading \"NMRK\"\n"
     ]
    },
    {
     "name": "stderr",
     "output_type": "stream",
     "text": [
      "sleep 3 seconds and retrying https://data.alpaca.markets/v1/bars/day 3 more time(s)...\n"
     ]
    },
    {
     "name": "stdout",
     "output_type": "stream",
     "text": [
      "Reading \"OC\"\n",
      "Reading \"OCCI\"\n",
      "Reading \"OPINL\"\n",
      "Reading \"OPNT\"\n",
      "Reading \"OPP\"\n",
      "Reading \"ORLY\"\n",
      "Reading \"OSTR\"\n",
      "Reading \"PAA\"\n",
      "Reading \"PAB\"\n",
      "Reading \"PACB\"\n",
      "Reading \"PALL\"\n",
      "Reading \"PAMC\"\n",
      "Reading \"PATK\"\n",
      "Reading \"PBFX\"\n",
      "Reading \"PALC\"\n",
      "Reading \"PAQC\"\n",
      "Reading \"PAUG\"\n",
      "Reading \"PAVM\"\n",
      "Reading \"PBHC\"\n",
      "Reading \"PBJ\"\n",
      "Reading \"PBR.A\"\n",
      "Reading \"PBT\"\n",
      "Reading \"PED\"\n",
      "Reading \"PFE\"\n",
      "Reading \"PPD\"\n",
      "Reading \"PLNT\"\n",
      "Reading \"PLTM\"\n",
      "Reading \"POCT\"\n",
      "Reading \"POW\"\n",
      "Reading \"QDYN\"\n",
      "Reading \"QFTA\"\n",
      "Reading \"QIWI\"\n",
      "Reading \"QLTA\"\n",
      "Reading \"QMJ\"\n",
      "Reading \"QQC\"\n",
      "Reading \"QQQM\"\n",
      "Reading \"QRTEB\"\n",
      "Reading \"QTEC\"\n"
     ]
    },
    {
     "name": "stderr",
     "output_type": "stream",
     "text": [
      "sleep 3 seconds and retrying https://data.alpaca.markets/v1/bars/day 3 more time(s)...\n"
     ]
    },
    {
     "name": "stdout",
     "output_type": "stream",
     "text": [
      "Reading \"QMOM\"\n",
      "Reading \"QQEW\"\n",
      "Reading \"QQQE\"\n",
      "Reading \"SCL\"\n",
      "Reading \"RESN\"\n",
      "Reading \"ROMO\"\n",
      "Reading \"ROT\"\n",
      "Reading \"RQI\"\n",
      "Reading \"RS\"\n",
      "Reading \"RSVA\"\n",
      "Reading \"RTM\"\n",
      "Reading \"RUBY\"\n",
      "Reading \"RVI\"\n",
      "Reading \"RVRS\"\n",
      "Reading \"RWLK\"\n",
      "Reading \"RXD\"\n",
      "Reading \"SGDM\"\n",
      "Reading \"SGMO\"\n",
      "Reading \"SGTX\"\n",
      "Reading \"SHC\"\n",
      "Reading \"SHLX\"\n",
      "Reading \"SHY\"\n",
      "Reading \"SID\"\n",
      "Reading \"SIGIP\"\n",
      "Reading \"SIMO\"\n",
      "Reading \"SITE\"\n"
     ]
    },
    {
     "name": "stderr",
     "output_type": "stream",
     "text": [
      "sleep 3 seconds and retrying https://data.alpaca.markets/v1/bars/day 3 more time(s)...\n"
     ]
    },
    {
     "name": "stdout",
     "output_type": "stream",
     "text": [
      "Reading \"SIXA\"\n",
      "Reading \"SJI\"\n",
      "Reading \"SJT\"\n",
      "Reading \"SKX\"\n",
      "Reading \"SLAC\"\n",
      "Reading \"FRW\"\n",
      "Reading \"SGMA\"\n",
      "Reading \"SGRY\"\n",
      "Reading \"SHBI\"\n",
      "Reading \"SHLS\"\n",
      "Reading \"SHW\"\n",
      "Reading \"SIC\"\n",
      "Reading \"SIGI\"\n",
      "Reading \"SIM\"\n"
     ]
    },
    {
     "name": "stderr",
     "output_type": "stream",
     "text": [
      "sleep 3 seconds and retrying https://data.alpaca.markets/v1/bars/day 3 more time(s)...\n"
     ]
    },
    {
     "name": "stdout",
     "output_type": "stream",
     "text": [
      "Reading \"SM\"\n",
      "Reading \"SNEX\"\n",
      "Reading \"SBII\"\n",
      "Reading \"SNP\"\n",
      "Reading \"SNRHU\"\n",
      "Reading \"SNY\"\n",
      "Reading \"SOHO\"\n",
      "Reading \"SOJC\"\n",
      "Reading \"SON\"\n",
      "Reading \"SOXS\"\n",
      "Reading \"FRXB\"\n",
      "Reading \"SOHU\"\n"
     ]
    },
    {
     "name": "stderr",
     "output_type": "stream",
     "text": [
      "sleep 3 seconds and retrying https://data.alpaca.markets/v1/bars/day 3 more time(s)...\n"
     ]
    },
    {
     "name": "stdout",
     "output_type": "stream",
     "text": [
      "Reading \"SOLN\"\n",
      "Reading \"FORH\"\n",
      "Reading \"IACC\"\n",
      "Reading \"SPFF\"\n",
      "Reading \"SRT\"\n",
      "Reading \"CLAA\"\n",
      "Reading \"ISNS\"\n",
      "Reading \"SPTI\"\n",
      "Reading \"DTOC\"\n",
      "Reading \"STAG\"\n",
      "Reading \"STNG\"\n",
      "Reading \"STRR\"\n",
      "Reading \"STT\"\n",
      "Reading \"STZ\"\n"
     ]
    },
    {
     "name": "stderr",
     "output_type": "stream",
     "text": [
      "sleep 3 seconds and retrying https://data.alpaca.markets/v1/bars/day 3 more time(s)...\n"
     ]
    },
    {
     "name": "stdout",
     "output_type": "stream",
     "text": [
      "Reading \"SUM\"\n",
      "Reading \"SUPN\"\n",
      "Reading \"SUZ\"\n",
      "Reading \"SVFA\"\n",
      "Reading \"TCDA\"\n",
      "Reading \"TCOM\"\n",
      "Reading \"TDSD\"\n",
      "Reading \"TEO\"\n",
      "Reading \"THCX\"\n",
      "Reading \"THNQ\"\n",
      "Reading \"TIXT\"\n",
      "Reading \"TKC\"\n",
      "Reading \"TLH\"\n",
      "Reading \"TMAC.U\"\n",
      "Reading \"TMF\"\n",
      "Reading \"TMPMU\"\n",
      "Reading \"TMX\"\n",
      "Reading \"TNP\"\n",
      "Reading \"TPB\"\n",
      "Reading \"TTAI\"\n",
      "Reading \"TTI\"\n",
      "Reading \"TTT\"\n",
      "Reading \"UUUU\"\n",
      "Reading \"UE\"\n",
      "Reading \"UFEB\"\n",
      "Reading \"UGA\"\n",
      "Reading \"UGP\"\n",
      "Reading \"UIS\"\n",
      "Reading \"UL\"\n",
      "Reading \"ULTR\"\n",
      "Reading \"UMH\"\n",
      "Reading \"UNH\"\n",
      "Reading \"UNVR\"\n",
      "Reading \"UNIT\"\n",
      "Reading \"UOCT\"\n",
      "Reading \"UPW\"\n",
      "Reading \"VCIT\"\n",
      "Reading \"VCR\"\n",
      "Reading \"VCYT\"\n",
      "Reading \"VEEV\"\n",
      "Reading \"VFH\"\n",
      "Reading \"VG\"\n",
      "Reading \"VGLT\"\n",
      "Reading \"VIACP\"\n",
      "Reading \"VIAC\"\n",
      "Reading \"VICR\"\n",
      "Reading \"VII\"\n",
      "Reading \"TRU\"\n",
      "Reading \"VINC\"\n",
      "Reading \"VIPS\"\n",
      "Reading \"VIS\"\n",
      "Reading \"VIXM\"\n",
      "Reading \"VLO\"\n"
     ]
    },
    {
     "name": "stderr",
     "output_type": "stream",
     "text": [
      "sleep 3 seconds and retrying https://data.alpaca.markets/v1/bars/day 3 more time(s)...\n"
     ]
    },
    {
     "name": "stdout",
     "output_type": "stream",
     "text": [
      "Reading \"VMAC\"\n",
      "Reading \"VMO\"\n",
      "Reading \"VNM\"\n",
      "Reading \"EWTX\"\n",
      "Reading \"WBIL\"\n",
      "Reading \"WCBR\"\n",
      "Reading \"WEA\"\n",
      "Reading \"WEN\"\n",
      "Reading \"WFC\"\n",
      "Reading \"MOSY\"\n",
      "Reading \"YTPG\"\n",
      "Reading \"ASO\"\n",
      "Reading \"ZYME\"\n",
      "Reading \"VLATU\"\n",
      "Reading \"FYBR\"\n",
      "Reading \"ATFV\"\n",
      "Reading \"ADF.U\"\n",
      "Reading \"AGNCN\"\n",
      "Reading \"ALTM\"\n",
      "Reading \"ALUS.U\"\n",
      "Reading \"AMPH\"\n",
      "Reading \"ACWX\"\n",
      "Reading \"ADCT\"\n",
      "Reading \"AGE\"\n",
      "Reading \"ALRN\"\n",
      "Reading \"ALTR\"\n",
      "Reading \"AMOM\"\n",
      "Reading \"AMRS\"\n",
      "Reading \"ACM\"\n",
      "Reading \"AIR\"\n",
      "Reading \"ALKS\"\n",
      "Reading \"ALNY\"\n",
      "Reading \"AMGN\"\n",
      "Reading \"AMP\"\n",
      "Reading \"ANGI\"\n",
      "Reading \"AYX\"\n",
      "Reading \"BBSA\"\n",
      "Reading \"ACIO\"\n",
      "Reading \"ADRA.U\"\n",
      "Reading \"ALGS\"\n",
      "Reading \"ALL\"\n"
     ]
    },
    {
     "name": "stderr",
     "output_type": "stream",
     "text": [
      "sleep 3 seconds and retrying https://data.alpaca.markets/v1/bars/day 3 more time(s)...\n"
     ]
    },
    {
     "name": "stdout",
     "output_type": "stream",
     "text": [
      "Reading \"AMNA\"\n",
      "Reading \"ANDAR\"\n",
      "Reading \"BBMC\"\n",
      "Reading \"BTEC\"\n",
      "Reading \"CRK\"\n",
      "Reading \"FOA\"\n",
      "Reading \"GGZ\"\n",
      "Reading \"IPOE\"\n",
      "Reading \"LCNB\"\n",
      "Reading \"NMIH\"\n",
      "Reading \"ADOC\"\n",
      "Reading \"AGTI\"\n",
      "Reading \"ALHC\"\n",
      "Reading \"AMBC\"\n",
      "Reading \"AMHCU\"\n"
     ]
    },
    {
     "name": "stderr",
     "output_type": "stream",
     "text": [
      "sleep 3 seconds and retrying https://data.alpaca.markets/v1/bars/day 3 more time(s)...\n"
     ]
    },
    {
     "name": "stdout",
     "output_type": "stream",
     "text": [
      "Reading \"AMZA\"\n",
      "Reading \"BBI\"\n",
      "Reading \"FXD\"\n",
      "Reading \"IPKW\"\n",
      "Reading \"IPVI\"\n",
      "Reading \"LBTYA\"\n",
      "Reading \"NLY\"\n",
      "Reading \"OESX\"\n",
      "Reading \"POLA\"\n",
      "Reading \"RDN\"\n",
      "Reading \"RXRA\"\n",
      "Reading \"RZB\"\n",
      "Reading \"SVT\"\n",
      "Reading \"TPIC\"\n",
      "Reading \"VFMO\"\n",
      "Reading \"ALLT\"\n",
      "Reading \"ALSK\"\n",
      "Reading \"AMKR\"\n",
      "Reading \"AMPY\"\n",
      "Reading \"ANIX\"\n",
      "Reading \"AVA\"\n",
      "Reading \"BIG\"\n",
      "Reading \"DBO\"\n",
      "Reading \"FORE\"\n",
      "Reading \"HRC\"\n",
      "Reading \"KBNT\"\n",
      "Reading \"M\"\n",
      "Reading \"NOW\"\n",
      "Reading \"PBI\"\n"
     ]
    },
    {
     "name": "stderr",
     "output_type": "stream",
     "text": [
      "sleep 3 seconds and retrying https://data.alpaca.markets/v1/bars/day 3 more time(s)...\n"
     ]
    },
    {
     "name": "stdout",
     "output_type": "stream",
     "text": [
      "Reading \"RFM\"\n",
      "Reading \"AMSWA\"\n",
      "Reading \"AOK\"\n",
      "Reading \"MOG.B\"\n",
      "Reading \"AFGE\"\n",
      "Reading \"HIPR\"\n",
      "Reading \"AGNC\"\n",
      "Reading \"ISOS\"\n",
      "Reading \"AON\"\n",
      "Reading \"ARGD\"\n",
      "Reading \"ASAX\"\n",
      "Reading \"ATNI\"\n",
      "Reading \"AVDG\"\n",
      "Reading \"BEDU\"\n",
      "Reading \"BILL\"\n",
      "Reading \"BKLC\"\n",
      "Reading \"BOAS\"\n",
      "Reading \"BPYPP\"\n",
      "Reading \"CBON\"\n",
      "Reading \"CBRE\"\n",
      "Reading \"CELP\"\n",
      "Reading \"CLSD\"\n",
      "Reading \"CNS\"\n",
      "Reading \"COLM\"\n",
      "Reading \"COM\"\n",
      "Reading \"DCP\"\n",
      "Reading \"DHI\"\n"
     ]
    },
    {
     "name": "stderr",
     "output_type": "stream",
     "text": [
      "sleep 3 seconds and retrying https://data.alpaca.markets/v1/bars/day 3 more time(s)...\n"
     ]
    },
    {
     "name": "stdout",
     "output_type": "stream",
     "text": [
      "Reading \"DNMR\"\n",
      "Reading \"DXC\"\n",
      "Reading \"EBF\"\n",
      "Reading \"EJFAU\"\n",
      "Reading \"EMLP\"\n",
      "Reading \"EPSN\"\n",
      "Reading \"EURL\"\n",
      "Reading \"FNGD\"\n",
      "Reading \"GIFI\"\n",
      "Reading \"GLIF\"\n",
      "Reading \"ICLR\"\n",
      "Reading \"GOAC.U\"\n",
      "Reading \"GSAT\"\n",
      "Reading \"IBTA\"\n",
      "Reading \"IMLP\"\n",
      "Reading \"IQM\"\n"
     ]
    },
    {
     "name": "stderr",
     "output_type": "stream",
     "text": [
      "sleep 3 seconds and retrying https://data.alpaca.markets/v1/bars/day 3 more time(s)...\n"
     ]
    },
    {
     "name": "stdout",
     "output_type": "stream",
     "text": [
      "Reading \"JPM\"\n",
      "Reading \"LFTRU\"\n",
      "Reading \"MBWM\"\n",
      "Reading \"MDT\"\n",
      "Reading \"MICT\"\n",
      "Reading \"MNRO\"\n",
      "Reading \"MSA\"\n",
      "Reading \"NCR\"\n",
      "Reading \"NDP\"\n",
      "Reading \"NRBO\"\n",
      "Reading \"NUS\"\n",
      "Reading \"OUT\"\n",
      "Reading \"PBS\"\n",
      "Reading \"PD\"\n"
     ]
    },
    {
     "name": "stderr",
     "output_type": "stream",
     "text": [
      "sleep 3 seconds and retrying https://data.alpaca.markets/v1/bars/day 3 more time(s)...\n"
     ]
    },
    {
     "name": "stdout",
     "output_type": "stream",
     "text": [
      "Reading \"PKX\"\n",
      "Reading \"PSFD\"\n",
      "Reading \"QCLN\"\n",
      "Reading \"QYLG\"\n",
      "Reading \"SCHX\"\n",
      "Reading \"SFB\"\n",
      "Reading \"SHG\"\n",
      "Reading \"SIJ\"\n",
      "Reading \"SND\"\n",
      "Reading \"SSBI\"\n",
      "Reading \"TA\"\n",
      "Reading \"TRC\"\n",
      "Reading \"TREB\"\n",
      "Reading \"TS\"\n",
      "Reading \"UIVM\"\n",
      "Reading \"VFVA\"\n",
      "Reading \"VPU\"\n",
      "Reading \"VTC\"\n",
      "Reading \"WDAY\"\n",
      "Reading \"WDC\"\n",
      "Reading \"WMS\"\n",
      "Reading \"WNC\"\n"
     ]
    },
    {
     "name": "stderr",
     "output_type": "stream",
     "text": [
      "sleep 3 seconds and retrying https://data.alpaca.markets/v1/bars/day 3 more time(s)...\n"
     ]
    },
    {
     "name": "stdout",
     "output_type": "stream",
     "text": [
      "Reading \"WSM\"\n",
      "Reading \"CREG\"\n",
      "Reading \"CSCW\"\n",
      "Reading \"DXYN\"\n",
      "Reading \"XTNT\"\n",
      "Reading \"XVV\"\n",
      "Reading \"BFRA\"\n",
      "Reading \"BLRX\"\n",
      "Reading \"CCNC\"\n",
      "Reading \"CNTB\"\n",
      "Reading \"DSEY\"\n",
      "Reading \"EQS\"\n"
     ]
    },
    {
     "name": "stderr",
     "output_type": "stream",
     "text": [
      "sleep 3 seconds and retrying https://data.alpaca.markets/v1/bars/day 3 more time(s)...\n"
     ]
    },
    {
     "name": "stdout",
     "output_type": "stream",
     "text": [
      "Reading \"EVAX\"\n",
      "Reading \"UONEK\"\n",
      "Reading \"MCADR\"\n",
      "Reading \"BRPM\"\n",
      "Reading \"FSRX\"\n",
      "Reading \"CFVI\"\n",
      "Reading \"ABB\"\n",
      "Reading \"ACCO\"\n",
      "Reading \"AN\"\n",
      "Reading \"BTG\"\n",
      "Reading \"EVR\"\n",
      "Reading \"FCN\"\n",
      "Reading \"FSMD\"\n",
      "Reading \"GPRK\"\n",
      "Reading \"HFRO\"\n"
     ]
    },
    {
     "name": "stderr",
     "output_type": "stream",
     "text": [
      "sleep 3 seconds and retrying https://data.alpaca.markets/v1/bars/day 3 more time(s)...\n"
     ]
    },
    {
     "name": "stdout",
     "output_type": "stream",
     "text": [
      "Reading \"HTUS\"\n",
      "Reading \"IVZ\"\n",
      "Reading \"KT\"\n",
      "Reading \"KZR\"\n",
      "Reading \"LB\"\n",
      "Reading \"MCK\"\n",
      "Reading \"PRFT\"\n",
      "Reading \"QTWO\"\n",
      "Reading \"QUAD\"\n",
      "Reading \"SAFT\"\n",
      "Reading \"STE\"\n",
      "Reading \"STXS\"\n",
      "Reading \"TK\"\n",
      "Reading \"UBT\"\n"
     ]
    },
    {
     "name": "stderr",
     "output_type": "stream",
     "text": [
      "sleep 3 seconds and retrying https://data.alpaca.markets/v1/bars/day 3 more time(s)...\n"
     ]
    },
    {
     "name": "stdout",
     "output_type": "stream",
     "text": [
      "Reading \"VBF\"\n",
      "Reading \"XEC\"\n",
      "Reading \"AAA\"\n",
      "Reading \"AAAU\"\n",
      "Reading \"AEY\"\n",
      "Reading \"AJAX\"\n",
      "Reading \"ATKR\"\n",
      "Reading \"AWI\"\n",
      "Reading \"BAUG\"\n",
      "Reading \"BKU\"\n",
      "Reading \"BMO\"\n",
      "Reading \"LEMB\"\n",
      "Reading \"MOR\"\n"
     ]
    },
    {
     "name": "stderr",
     "output_type": "stream",
     "text": [
      "sleep 3 seconds and retrying https://data.alpaca.markets/v1/bars/day 3 more time(s)...\n"
     ]
    },
    {
     "name": "stdout",
     "output_type": "stream",
     "text": [
      "Reading \"NAK\"\n",
      "Reading \"NERV\"\n",
      "Reading \"OLK\"\n",
      "Reading \"PCGU\"\n",
      "Reading \"PGRW\"\n",
      "Reading \"RGCO\"\n",
      "Reading \"ROST\"\n",
      "Reading \"SHAK\"\n",
      "Reading \"SOS\"\n",
      "Reading \"SXT\"\n",
      "Reading \"TMFC\"\n",
      "Reading \"USCI\"\n",
      "Reading \"VOO\"\n"
     ]
    },
    {
     "name": "stderr",
     "output_type": "stream",
     "text": [
      "sleep 3 seconds and retrying https://data.alpaca.markets/v1/bars/day 3 more time(s)...\n"
     ]
    },
    {
     "name": "stdout",
     "output_type": "stream",
     "text": [
      "Reading \"VRT\"\n",
      "Reading \"XPL\"\n",
      "Reading \"A\"\n",
      "Reading \"AA\"\n",
      "Reading \"ALTA\"\n",
      "Reading \"ALTG\"\n",
      "Reading \"BCDA\"\n",
      "Reading \"BMA\"\n",
      "Reading \"CAAS\"\n",
      "Reading \"COPX\"\n",
      "Reading \"DRD\"\n",
      "Reading \"FTSM\"\n",
      "Reading \"GATX\"\n",
      "Reading \"HEFA\"\n",
      "Reading \"JNJ\"\n",
      "Reading \"KCAPL\"\n"
     ]
    },
    {
     "name": "stderr",
     "output_type": "stream",
     "text": [
      "sleep 3 seconds and retrying https://data.alpaca.markets/v1/bars/day 3 more time(s)...\n"
     ]
    },
    {
     "name": "stdout",
     "output_type": "stream",
     "text": [
      "Reading \"MBIN\"\n",
      "Reading \"MDIA\"\n",
      "Reading \"METC\"\n",
      "Reading \"MFA\"\n",
      "Reading \"NYMX\"\n",
      "Reading \"OFG\"\n",
      "Reading \"PBF\"\n",
      "Reading \"PEBK\"\n",
      "Reading \"RCG\"\n",
      "Reading \"RLI\"\n",
      "Reading \"SHYG\"\n",
      "Reading \"SPGI\"\n",
      "Reading \"SPXC\"\n",
      "Reading \"VWO\"\n",
      "Reading \"FCX\"\n"
     ]
    },
    {
     "name": "stderr",
     "output_type": "stream",
     "text": [
      "sleep 3 seconds and retrying https://data.alpaca.markets/v1/bars/day 3 more time(s)...\n"
     ]
    },
    {
     "name": "stdout",
     "output_type": "stream",
     "text": [
      "Reading \"SLV\"\n",
      "Reading \"DKNG\"\n",
      "Reading \"EEM\"\n",
      "Reading \"GRUB\"\n",
      "Reading \"IWM\"\n",
      "Reading \"MSFT\"\n",
      "Reading \"RIOT\"\n",
      "Reading \"SOXL\"\n",
      "Reading \"SPY\"\n",
      "Reading \"TQQQ\"\n",
      "Reading \"TSLA\"\n",
      "Reading \"VXX\"\n",
      "Reading \"NIO\"\n",
      "Reading \"X\"\n",
      "Reading \"INTC\"\n"
     ]
    },
    {
     "name": "stderr",
     "output_type": "stream",
     "text": [
      "sleep 3 seconds and retrying https://data.alpaca.markets/v1/bars/day 3 more time(s)...\n"
     ]
    },
    {
     "name": "stdout",
     "output_type": "stream",
     "text": [
      "Reading \"QQQ\"\n",
      "Reading \"TWTR\"\n",
      "Reading \"ARKK\"\n",
      "Reading \"AAPL\"\n",
      "Reading \"AMD\"\n"
     ]
    }
   ],
   "source": [
    "folder = '1000day_US/'\n",
    "for i in range(len(active_assets)):\n",
    "    exchange = active_assets[i].exchange\n",
    "    stock_symbol = active_assets[i].symbol\n",
    "    print(f'Reading \"{stock_symbol}\"')\n",
    "    barset = api.get_barset(stock_symbol, 'day', limit = 1000)\n",
    "    stock_barset = barset._raw\n",
    "    with open(folder+stock_symbol+'.json', 'w', encoding ='utf8') as json_file:\n",
    "        json.dump(stock_barset, json_file, ensure_ascii = False)"
   ]
  },
  {
   "cell_type": "code",
   "execution_count": 5,
   "metadata": {},
   "outputs": [
    {
     "data": {
      "text/plain": [
       "{'AAC': [Bar({'c': 9.87, 'h': 9.95, 'l': 9.52, 'o': 9.95, 't': 1616644800, 'v': 109885}),\n",
       "  Bar({'c': 9.96, 'h': 9.96, 'l': 9.75, 'o': 9.9, 't': 1616731200, 'v': 151330}),\n",
       "  Bar({'c': 9.78, 'h': 9.9022, 'l': 9.5, 'o': 10.45, 't': 1616990400, 'v': 53427}),\n",
       "  Bar({'c': 9.83, 'h': 9.85, 'l': 9.8, 'o': 9.8, 't': 1617076800, 'v': 51131}),\n",
       "  Bar({'c': 9.9, 'h': 9.9, 'l': 9.75, 'o': 9.75, 't': 1617163200, 'v': 78422}),\n",
       "  Bar({'c': 9.77, 'h': 9.98, 'l': 9.74, 'o': 9.98, 't': 1617249600, 'v': 150952}),\n",
       "  Bar({'c': 9.84, 'h': 9.88, 'l': 9.81, 'o': 9.82, 't': 1617595200, 'v': 198206}),\n",
       "  Bar({'c': 9.85, 'h': 9.87, 'l': 9.8, 'o': 9.86, 't': 1617681600, 'v': 241232}),\n",
       "  Bar({'c': 9.81, 'h': 9.87, 'l': 9.77, 'o': 9.87, 't': 1617768000, 'v': 246669}),\n",
       "  Bar({'c': 9.9, 'h': 9.92, 'l': 9.81, 'o': 9.83, 't': 1617854400, 'v': 59177}),\n",
       "  Bar({'c': 9.8752, 'h': 9.8888, 'l': 9.84, 'o': 9.8659, 't': 1617940800, 'v': 17549}),\n",
       "  Bar({'c': 9.95, 'h': 9.95, 'l': 9.88, 'o': 9.88, 't': 1618200000, 'v': 19291}),\n",
       "  Bar({'c': 9.9, 'h': 9.99, 'l': 9.9, 'o': 9.97, 't': 1618286400, 'v': 125567}),\n",
       "  Bar({'c': 9.9, 'h': 9.93, 'l': 9.89, 'o': 9.91, 't': 1618372800, 'v': 457192}),\n",
       "  Bar({'c': 9.8675, 'h': 9.92, 'l': 9.82, 'o': 9.9, 't': 1618459200, 'v': 250061}),\n",
       "  Bar({'c': 9.845, 'h': 9.91, 'l': 9.845, 'o': 9.91, 't': 1618545600, 'v': 27097}),\n",
       "  Bar({'c': 9.84, 'h': 9.865, 'l': 9.8, 'o': 9.85, 't': 1618804800, 'v': 436722}),\n",
       "  Bar({'c': 9.81, 'h': 10, 'l': 9.74, 'o': 10, 't': 1618891200, 'v': 161590}),\n",
       "  Bar({'c': 9.8, 'h': 9.81, 'l': 9.77, 'o': 9.8, 't': 1618977600, 'v': 340371}),\n",
       "  Bar({'c': 9.8, 'h': 9.82, 'l': 9.78, 'o': 9.78, 't': 1619064000, 'v': 67863}),\n",
       "  Bar({'c': 9.81, 'h': 9.81, 'l': 9.79, 'o': 9.8, 't': 1619150400, 'v': 194636}),\n",
       "  Bar({'c': 9.8, 'h': 9.86, 'l': 9.78, 'o': 9.79, 't': 1619409600, 'v': 85024}),\n",
       "  Bar({'c': 9.8, 'h': 9.8694, 'l': 9.7911, 'o': 9.8395, 't': 1619496000, 'v': 108667}),\n",
       "  Bar({'c': 9.81, 'h': 9.84, 'l': 9.79, 'o': 9.84, 't': 1619582400, 'v': 139151}),\n",
       "  Bar({'c': 9.82, 'h': 9.86, 'l': 9.8045, 'o': 9.81, 't': 1619668800, 'v': 57951}),\n",
       "  Bar({'c': 9.82, 'h': 9.87, 'l': 9.75, 'o': 9.81, 't': 1619755200, 'v': 849654}),\n",
       "  Bar({'c': 9.82, 'h': 9.87, 'l': 9.8, 'o': 9.87, 't': 1620014400, 'v': 2198393}),\n",
       "  Bar({'c': 9.82, 'h': 9.8494, 'l': 9.81, 'o': 9.83, 't': 1620100800, 'v': 404948}),\n",
       "  Bar({'c': 9.83, 'h': 9.85, 'l': 9.82, 'o': 9.83, 't': 1620187200, 'v': 61301}),\n",
       "  Bar({'c': 9.85, 'h': 9.86, 'l': 9.8, 'o': 9.82, 't': 1620273600, 'v': 339426}),\n",
       "  Bar({'c': 9.825, 'h': 9.86, 'l': 9.8, 'o': 9.81, 't': 1620360000, 'v': 95255}),\n",
       "  Bar({'c': 9.85, 'h': 9.88, 'l': 9.82, 'o': 9.88, 't': 1620619200, 'v': 67242}),\n",
       "  Bar({'c': 9.84, 'h': 9.86, 'l': 9.78, 'o': 9.81, 't': 1620705600, 'v': 592166})]}"
      ]
     },
     "execution_count": 5,
     "metadata": {},
     "output_type": "execute_result"
    }
   ],
   "source": [
    "barset\n"
   ]
  },
  {
   "cell_type": "code",
   "execution_count": 7,
   "metadata": {},
   "outputs": [
    {
     "data": {
      "text/plain": [
       "{'AAC': [{'t': 1616644800,\n",
       "   'o': 9.95,\n",
       "   'h': 9.95,\n",
       "   'l': 9.52,\n",
       "   'c': 9.87,\n",
       "   'v': 109885},\n",
       "  {'t': 1616731200, 'o': 9.9, 'h': 9.96, 'l': 9.75, 'c': 9.96, 'v': 151330},\n",
       "  {'t': 1616990400, 'o': 10.45, 'h': 9.9022, 'l': 9.5, 'c': 9.78, 'v': 53427},\n",
       "  {'t': 1617076800, 'o': 9.8, 'h': 9.85, 'l': 9.8, 'c': 9.83, 'v': 51131},\n",
       "  {'t': 1617163200, 'o': 9.75, 'h': 9.9, 'l': 9.75, 'c': 9.9, 'v': 78422},\n",
       "  {'t': 1617249600, 'o': 9.98, 'h': 9.98, 'l': 9.74, 'c': 9.77, 'v': 150952},\n",
       "  {'t': 1617595200, 'o': 9.82, 'h': 9.88, 'l': 9.81, 'c': 9.84, 'v': 198206},\n",
       "  {'t': 1617681600, 'o': 9.86, 'h': 9.87, 'l': 9.8, 'c': 9.85, 'v': 241232},\n",
       "  {'t': 1617768000, 'o': 9.87, 'h': 9.87, 'l': 9.77, 'c': 9.81, 'v': 246669},\n",
       "  {'t': 1617854400, 'o': 9.83, 'h': 9.92, 'l': 9.81, 'c': 9.9, 'v': 59177},\n",
       "  {'t': 1617940800,\n",
       "   'o': 9.8659,\n",
       "   'h': 9.8888,\n",
       "   'l': 9.84,\n",
       "   'c': 9.8752,\n",
       "   'v': 17549},\n",
       "  {'t': 1618200000, 'o': 9.88, 'h': 9.95, 'l': 9.88, 'c': 9.95, 'v': 19291},\n",
       "  {'t': 1618286400, 'o': 9.97, 'h': 9.99, 'l': 9.9, 'c': 9.9, 'v': 125567},\n",
       "  {'t': 1618372800, 'o': 9.91, 'h': 9.93, 'l': 9.89, 'c': 9.9, 'v': 457192},\n",
       "  {'t': 1618459200, 'o': 9.9, 'h': 9.92, 'l': 9.82, 'c': 9.8675, 'v': 250061},\n",
       "  {'t': 1618545600, 'o': 9.91, 'h': 9.91, 'l': 9.845, 'c': 9.845, 'v': 27097},\n",
       "  {'t': 1618804800, 'o': 9.85, 'h': 9.865, 'l': 9.8, 'c': 9.84, 'v': 436722},\n",
       "  {'t': 1618891200, 'o': 10, 'h': 10, 'l': 9.74, 'c': 9.81, 'v': 161590},\n",
       "  {'t': 1618977600, 'o': 9.8, 'h': 9.81, 'l': 9.77, 'c': 9.8, 'v': 340371},\n",
       "  {'t': 1619064000, 'o': 9.78, 'h': 9.82, 'l': 9.78, 'c': 9.8, 'v': 67863},\n",
       "  {'t': 1619150400, 'o': 9.8, 'h': 9.81, 'l': 9.79, 'c': 9.81, 'v': 194636},\n",
       "  {'t': 1619409600, 'o': 9.79, 'h': 9.86, 'l': 9.78, 'c': 9.8, 'v': 85024},\n",
       "  {'t': 1619496000,\n",
       "   'o': 9.8395,\n",
       "   'h': 9.8694,\n",
       "   'l': 9.7911,\n",
       "   'c': 9.8,\n",
       "   'v': 108667},\n",
       "  {'t': 1619582400, 'o': 9.84, 'h': 9.84, 'l': 9.79, 'c': 9.81, 'v': 139151},\n",
       "  {'t': 1619668800, 'o': 9.81, 'h': 9.86, 'l': 9.8045, 'c': 9.82, 'v': 57951},\n",
       "  {'t': 1619755200, 'o': 9.81, 'h': 9.87, 'l': 9.75, 'c': 9.82, 'v': 849654},\n",
       "  {'t': 1620014400, 'o': 9.87, 'h': 9.87, 'l': 9.8, 'c': 9.82, 'v': 2198393},\n",
       "  {'t': 1620100800, 'o': 9.83, 'h': 9.8494, 'l': 9.81, 'c': 9.82, 'v': 404948},\n",
       "  {'t': 1620187200, 'o': 9.83, 'h': 9.85, 'l': 9.82, 'c': 9.83, 'v': 61301},\n",
       "  {'t': 1620273600, 'o': 9.82, 'h': 9.86, 'l': 9.8, 'c': 9.85, 'v': 339426},\n",
       "  {'t': 1620360000, 'o': 9.81, 'h': 9.86, 'l': 9.8, 'c': 9.825, 'v': 95255},\n",
       "  {'t': 1620619200, 'o': 9.88, 'h': 9.88, 'l': 9.82, 'c': 9.85, 'v': 67242},\n",
       "  {'t': 1620705600, 'o': 9.81, 'h': 9.86, 'l': 9.78, 'c': 9.84, 'v': 592166}]}"
      ]
     },
     "execution_count": 7,
     "metadata": {},
     "output_type": "execute_result"
    }
   ],
   "source": [
    "stock_barset"
   ]
  },
  {
   "cell_type": "code",
   "execution_count": null,
   "metadata": {},
   "outputs": [],
   "source": []
  }
 ],
 "metadata": {
  "kernelspec": {
   "display_name": "Python 3",
   "language": "python",
   "name": "python3"
  },
  "language_info": {
   "codemirror_mode": {
    "name": "ipython",
    "version": 3
   },
   "file_extension": ".py",
   "mimetype": "text/x-python",
   "name": "python",
   "nbconvert_exporter": "python",
   "pygments_lexer": "ipython3",
   "version": "3.7.5"
  }
 },
 "nbformat": 4,
 "nbformat_minor": 2
}
